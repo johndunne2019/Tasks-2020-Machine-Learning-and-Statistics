{
 "cells": [
  {
   "cell_type": "markdown",
   "metadata": {},
   "source": [
    "# Tasks\n",
    "\n",
    "**These are my solutions to the Tasks assessment in the Machine Learning and Statistics module at GMIT 2020.\n",
    "The author is John Dunne G00273895 (G00273895@gmit.ie).**\n",
    "\n",
    "***"
   ]
  },
  {
   "cell_type": "markdown",
   "metadata": {},
   "source": [
    "## Task 1 - Calculate the square root of 2 \n",
    "\n",
    "1. October 5th, 2020: Write a Python function called sqrt2 that calculates and\n",
    "prints to the screen the square root of 2 to 100 decimal places.Your code should\n",
    "not depend on any module from the standard library or otherwise. You should\n",
    "research the task first and include references and a description of your algorithm.\n",
    "\n",
    "******"
   ]
  },
  {
   "cell_type": "markdown",
   "metadata": {},
   "source": [
    "### My plan to complete this task\n",
    "\n",
    "I will break the task into smaller tasks:\n",
    "\n",
    "1. Research how the square root is calculated without the use of any imported modules.\n",
    "2. Implement a function that calculates the square root of 2 in this jupyter notebook.\n",
    "3. Carry out testing to check the implemented function returns the correct result.\n",
    "4. Have the result outputted in the format requested - 100 decimal places.\n",
    "5. Compile a list of references used to complete the task.\n",
    "\n",
    "**In order to do this I have broken task 1 into 5 sections**\n",
    "\n",
    "* 1.1 - My Research. \n",
    "* 1.2 - Write a function that calculates the square root of 2.\n",
    "* 1.3 - Test the function.\n",
    "* 1.4 - Output to the requested format - 100 decimal places. \n",
    "* 1.5 - List the references."
   ]
  },
  {
   "cell_type": "markdown",
   "metadata": {},
   "source": [
    "### 1.1 My Research\n",
    "\n",
    "*In this section I will outline the research I conducted into how to calculate the square root of 2 without using any modules from the Python standard library*"
   ]
  },
  {
   "cell_type": "markdown",
   "metadata": {},
   "source": [
    "Every number has two square roots, a negative and non-negative square root. The principal (non-negative) square root of most numbers is an irrational number. As a result of this, the decimal expansion of a square root can only be calculated to a precision [1]. In this task, I have been asked to calculate the square root of 2 to 100 decimal places so I think this point is noteworthy.\n",
    "\n",
    "In the lecture video on the square root of 2 [2], this was discussed where I learnt that the square root of 2 is an irrational number, meaning it cannot be expressed as an integer divided by another integer. Rational numbers are numbers than can be stored as one integer over another integer.\n",
    "\n",
    "An iterative approach to finding the square root of a number involves finding a suitable starting value followed by refinement until a termination criteria is met [1]. In plainer terms, to find the square root of a number 2, I would need to start with a suitable starting value and refine until we come to the closest approximation for the square root. The closer the starting value is to the square root, the less iterations will be required to come to the result. This starting value also known as the seed value should be a positive number between 1 and the value that we are trying to calculate the square root of. In my case, this would be a value between 1 and 2 as I am tasked with finding the square root of 2. The reason we have to start with a value in this range is that the square root of any number must fall into this range between 1 and that number.\n",
    "\n",
    "\n",
    "\n",
    "After some research I have found out that Newton's method is a suitable method that is commonly used to calculate the square root of a number."
   ]
  },
  {
   "cell_type": "markdown",
   "metadata": {},
   "source": [
    "#### Newtown-Raphson method to calculate square root"
   ]
  },
  {
   "cell_type": "markdown",
   "metadata": {},
   "source": [
    "The Newton-Raphson method or Newton's method is a root finding algorithm that uses an iterative approach to finding the square root of a number, producing better approximations for the square root at each iteration [3].\n",
    "\n",
    "A set of steps is is repeated over until we are satisified with the result or the method fails [6].\n",
    "\n",
    "Newton's method is a root finding method that uses linear approximation [4]. The algortihms starts with a guess and computes a sequence of improved guesses [7]. The algorithm is quite old dating back to Babylonian times. \n",
    "\n",
    "**Starting guess/ Seed**\n",
    "\n",
    "As I mentioned in the previous section, most iterative approaches to calculating the square root of a number require a starting value or seed and this is requred when using Newton's method.\n",
    "\n",
    "I found a  blog post [3] that outlines the steps involved when Newton's method is employed to calculate square root:\n",
    "\n",
    "* A starting value is assigned, which is a reasonable guess for the square root of the number.\n",
    "* This reasonable guess is added to the number we are looking to find the square root of, divided by the reasonable guess and divided by 2.\n",
    "\n",
    "This is displayed as a function on the blog post below where Xi is the reasonable guess:\n",
    "\n",
    "$$ x_i = (x_i + n/x_i) /2 $$\n",
    "\n",
    "I have included a real example here where we are trying to calculate the square root of 2 and 1 is the reasonable guess or starting value:\n",
    "\n",
    "$$ 1 = (1 + 2/1) /2 $$\n",
    "\n",
    "* Step 2 is continued until the most precise approximation of the square root is reached.\n",
    "* We are left with the closest approximation for the square root.\n",
    "\n",
    "With Newton's method a starting value slightly larger than the root will converge faster than a starting value slightly smaller than the root [1].\n",
    "\n",
    "**Example convergence**\n",
    "\n",
    "I found a paper that explains nicely the way Newton's method computes the square root of 2 [7]. In this case the starting guess is 1. The number of accurate digits at each iteration is highlighted in bold below:\n",
    "\n",
    "* **1**\n",
    "* **1**.5\n",
    "* **1.41**66666666666666666666666666666666666666666666666666666666675\n",
    "* **1.41421**56862745098039215686274509803921568627450980392156862745\n",
    "* **1.41421356237**46899106262955788901349101165596221157440445849057\n",
    "* **1.41421356237309504880168**96235025302436149819257761974284982890\n",
    "* **1.41421356237309504880168872420969807856967187537**72340015610125\n",
    "* **1.4142135623730950488016887242096980785696718753769480731766796**\n",
    "\n",
    "The number of accurate digits approximately doubles on each iteration [7]. \n"
   ]
  },
  {
   "cell_type": "markdown",
   "metadata": {},
   "source": [
    "### 1.2 Write a function that calculates the square root of 2 \n",
    "\n",
    "*In this section I will write a Python function called sqrt2 that calculates and prints to the screen the square root of 2 to 100 decimal places. The code should not depend on any module from the standard library or otherwise.*"
   ]
  },
  {
   "cell_type": "markdown",
   "metadata": {},
   "source": [
    "The below code example is included in the blog post on Newton's method [3]."
   ]
  },
  {
   "cell_type": "code",
   "execution_count": 1,
   "metadata": {},
   "outputs": [],
   "source": [
    "def mySqrt(x):\n",
    "\n",
    "    r = x\n",
    "    precision = 10 ** (-10)\n",
    "    \n",
    "    while abs(x - r * r) > precision:\n",
    "        r = (r + x / r) / 2\n",
    "        \n",
    "    return r"
   ]
  },
  {
   "cell_type": "markdown",
   "metadata": {},
   "source": [
    "I have spent some time examining the above code and I have included below my understanding of how the code works.\n",
    "\n",
    "My understanding of the above code is a while loop is used to iterate until we find the most precise match for the square root of x. The variable r is introduced and set to equal to x at the start of the function and taken as the starting value or guess of starting square root. I am thinking this is one thing I could change when I write the code myself as I have already learnt a good starting value is between 1 and the number we want to calculate the square root of. Therefore, setting the starting value to be equal to the value x here might not be the best starting value to use.\n",
    "\n",
    "The precision has been set and the loop will continue until this precision is met. The abs statment returns the absolute value of the calculation and checks if it is greater than the precision value. Whilst this condition is true the loop continues to run the function that I already highlighted in the previous section:\n",
    "\n",
    "$$ x_i = (x_i + n/x_i) /2 $$\n",
    "\n",
    "In this case:\n",
    "\n",
    "$$ r = (r + x / r) / 2 $$\n",
    "\n",
    "When the precision condition is met the loop terminates and the closest approximation to the square root is output.\n",
    "\n",
    "I will now try to implement this solution by writing a square root function myself."
   ]
  },
  {
   "cell_type": "markdown",
   "metadata": {},
   "source": [
    "#### My function to calculate square root of 2\n",
    "\n",
    "I did some testing to find a good seed value and eventually decided to hard code a seed value in my function. I added a counter to the function to count how many iterations of the while loop would execute before we arrived to the closest approximation for the square root of 2. I found that there wasnt a huge difference in the number of iterations required. I have recorded below a sample set of results that I noted:\n",
    "\n",
    "* Seed value 1 - 4 iterations\n",
    "* Seed value 2 - 4 iterations\n",
    "* Seed value 1.9 - 4 iterations\n",
    "* Seed value 1.45 - 3 iterations\n",
    "* Seed value 1.35 - 3 iterations \n",
    "\n",
    "In general, I draw the conclusion here that the closer the starting value is to the actual square root the faster the function executed. This is expected from the research that I conducted. I have commented out the print statments that I used for testing purposes in my function below.\n",
    "\n",
    "During testing, I added a print statement to the function for testing purposes to see the new value of s calculated at each iteration. I wanted to see the function working towards finding the closest approximation for the square root of 2 at each iteration. I have included the example print outs for a seed value of 1.35 below:\n",
    "\n",
    "* At iteration 1 the value of s was 1.4157407407407407\n",
    "* At iteration 2 the value of s was 1.414214386066904\n",
    "* At iteration 3 the value of s was 1.414213562373335\n",
    "* Square root calculated: 1.414213562373335\n",
    "\n",
    "You can remove the # in the function below when running if you would like the above statements to be printed out when running the function."
   ]
  },
  {
   "cell_type": "code",
   "execution_count": 2,
   "metadata": {},
   "outputs": [],
   "source": [
    "# Code originally adapted from [3] with my own changes made and comments added\n",
    "\n",
    "def sqrt2(x=2):\n",
    "    \"\"\"\n",
    "    A function to calculate the square root of 2. Function named as per assessment specification.\n",
    "    I have set the default value of the function to be 2 as I am only tasked in finding the square root of 2. \n",
    "    \n",
    "    I want the starting value/seed to somewhere between 1 and 2. I tested different starting values.\n",
    "    This should be a better starting value than in the code example in the blog post above.\n",
    "    \"\"\"\n",
    "    s = 1.35   \n",
    "    # starting value/seed set here, I ran tests on different seed values and decided to hard code this one\n",
    "    precision = 10 ** (-10)\n",
    "    # precision is defined here, same as in the code example in blog post\n",
    "    count = 0\n",
    "    # I have added a counter to see how many iterations it takes to get the result, printed out for testing\n",
    "    while abs(x - s * s) > precision:\n",
    "        s = (s + x / s) / 2\n",
    "        # while the absolute value of 2 minus the seed squared is greater than the precision required the loop continues\n",
    "        # the calculation I explained in the previous section is repeated at each iteration\n",
    "        count += 1\n",
    "        # counter incremented at each iteration\n",
    "        # commented out my print statements for testing below\n",
    "        #print(f\"At iteration {count} the value of s was {s}\")\n",
    "        # print out to see function working towards solution at each iteration\n",
    "        \n",
    "    #print(f\"Square root calculated in {count} iterations\")\n",
    "    # I added a print statement to print out how many iterations we needed, commented out\n",
    "    return s\n",
    "    #print(format(s, '.100f')) \n",
    "    # the value for the closest approximation of square root will be returned to the caller\n",
    "    "
   ]
  },
  {
   "cell_type": "markdown",
   "metadata": {},
   "source": [
    "#### Calling the function"
   ]
  },
  {
   "cell_type": "code",
   "execution_count": 3,
   "metadata": {},
   "outputs": [
    {
     "name": "stdout",
     "output_type": "stream",
     "text": [
      "The square root of 2 to 100 decimal places is calculated as:\n",
      "1.4142135623733349536479408925515599548816680908203125000000000000000000000000000000000000000000000000\n"
     ]
    }
   ],
   "source": [
    "result = sqrt2() # variable result set equal to the function sqrt2 called \n",
    "print(\"The square root of 2 to 100 decimal places is calculated as:\")\n",
    "print(format(result, '.100f')) #modified to print to 100 decimal places after research\n",
    "# format(result, '.100f')   #print out for testing\n",
    "#print('%.100f' % result)  #another way to display to 100 decimal places"
   ]
  },
  {
   "cell_type": "markdown",
   "metadata": {},
   "source": [
    "### 1.3 Test the function\n",
    "\n",
    "*In this section I should test is the function implemented above accurate.*"
   ]
  },
  {
   "cell_type": "markdown",
   "metadata": {},
   "source": [
    "#### Testing Accuracy\n",
    "I can test how accurate the square root returned by the function is with the below calculation:"
   ]
  },
  {
   "cell_type": "code",
   "execution_count": 4,
   "metadata": {},
   "outputs": [
    {
     "data": {
      "text/plain": [
       "2.0000000000006786"
      ]
     },
     "execution_count": 4,
     "metadata": {},
     "output_type": "execute_result"
    }
   ],
   "source": [
    "result * result\n",
    "# the result of the sqrt2 function is captured in a variable result\n",
    "# multiplying result by result to see how accurate the answer is"
   ]
  },
  {
   "cell_type": "markdown",
   "metadata": {},
   "source": [
    "The result shows the square root returned by the function is reasonably accurate. I remind myself here that my initial research told me the decimal expansion of a square root can only be calculated to a precision. I am satisifed this function works well and I just now need to figure out how to have the output formatted to 100 decimal places."
   ]
  },
  {
   "cell_type": "markdown",
   "metadata": {},
   "source": [
    "#### Compare result to result calculated by Python math module\n",
    "\n",
    "*In this section I import the math module from Python to test if the result of calculating the square root of 2 is the same as my algorithm.*\n",
    "\n",
    "There is a sqrt function within the math module that can be used to calculate the square root of a given number [8]."
   ]
  },
  {
   "cell_type": "code",
   "execution_count": 5,
   "metadata": {},
   "outputs": [
    {
     "name": "stdout",
     "output_type": "stream",
     "text": [
      "The square root of 2 according to the math module is: 1.4142135623730951\n",
      "And rounded to 100 decimal places:\n"
     ]
    },
    {
     "data": {
      "text/plain": [
       "'1.4142135623730951454746218587388284504413604736328125000000000000000000000000000000000000000000000000'"
      ]
     },
     "execution_count": 5,
     "metadata": {},
     "output_type": "execute_result"
    }
   ],
   "source": [
    "import math                     #math module imported\n",
    "sqr = math.sqrt(2)                # 2 passed in to sqrt function\n",
    "print(\"The square root of 2 according to the math module is:\" ,sqr)   \n",
    "print(\"And rounded to 100 decimal places:\")                                                         \n",
    "format(sqr,'.100f' )             #formt the answer to 100 decimal places"
   ]
  },
  {
   "cell_type": "code",
   "execution_count": 6,
   "metadata": {},
   "outputs": [
    {
     "data": {
      "text/plain": [
       "2.0000000000000004"
      ]
     },
     "execution_count": 6,
     "metadata": {},
     "output_type": "execute_result"
    }
   ],
   "source": [
    "math.sqrt(2) * math.sqrt(2)        #test the accuracy of square root\n",
    "\n",
    "# Example given in Ian Mcloughlin lecture video \"Tasks - getting started\""
   ]
  },
  {
   "cell_type": "markdown",
   "metadata": {},
   "source": [
    "**Testing Conclusion**\n",
    "\n",
    "I conclude here that the math module produces a very similiar result to the function I have implemented to calculate the square root of 2. I refer back to my research on the topic of calculating the square root of 2 that suggests it is not possible to calculate exactly the square root of 2 and that we can only produce an approximation. I conclude that the function I implemented was successful in producing a relatively accurate approximation of the square root of 2."
   ]
  },
  {
   "cell_type": "markdown",
   "metadata": {},
   "source": [
    "### 1.4 Output to requested format - 100 decimal places\n",
    "\n",
    "*In this section I need to figure out how to have the output of the function displayed to 100 decimal places.*"
   ]
  },
  {
   "cell_type": "markdown",
   "metadata": {},
   "source": [
    "I conducted some research and found a tutorial that explains how to format the number of decimal places displayed in a floating point number in Python [11]. There is a format function in Python that takes in a floating ppint number and displays it in output as a string to a given number of decimal places. I have returned to where I called my sqrt2 function above and added the format function to my print statement which successfully displayed the output to 100 decimal places.\n",
    "\n",
    "I noticed that when this is done that there are a sequence of zero's at the end of the number printed to 100 decimal places.\n",
    "\n",
    "**Why is that??**\n",
    "\n",
    "I conducted some research and found that floating point numbers are represented in computer hardware as base 2 or binary fractions. I found a detailed explanation of this in the Python documentations pages [12]. According to the Python documentation, most decimal fractions cannot be represented exactly as binary fractions. As a consequence the decimal floating point numbers we enter are only approximated by the binary floating point numbers actually stored on the computer. \n",
    "\n",
    "**Accuracy to 53 bits**\n",
    "\n",
    "Acccording to the documentation most machines today approximate floats to 53 bits using a binary fraction. Many users are unaware of this becaue of the way values are displayed. Python only prints an approximation of the true decimal value of the binary approximation stored by the machine [12]. I was unaware of this and this is a learning for me from completing this assignment.\n"
   ]
  },
  {
   "cell_type": "markdown",
   "metadata": {},
   "source": [
    "#### Increasing the accuracy of decimal representation in Python"
   ]
  },
  {
   "cell_type": "markdown",
   "metadata": {},
   "source": [
    "While researching having the output of my function printed to 100 decimal places I found a StackOverFlow post [9] that shows to use the Decimal module within Python to increase the accuracy of the decimal representation. I am not permitted to import any modules or libraries in order to fulfill this task but I thought it would be worthy of a mention as I found it interesting. I have included the code below:"
   ]
  },
  {
   "cell_type": "code",
   "execution_count": 7,
   "metadata": {},
   "outputs": [
    {
     "name": "stdout",
     "output_type": "stream",
     "text": [
      "The square root of 2 made accurate to 100 decimal places using the imported Decimal library is:\n"
     ]
    },
    {
     "data": {
      "text/plain": [
       "Decimal('1.414213562373095048801688724209698078569671875376948073176679737990732478462107038850387534327641573')"
      ]
     },
     "execution_count": 7,
     "metadata": {},
     "output_type": "execute_result"
    }
   ],
   "source": [
    "# code from stackoverflow post on increasing the accuracy of decimal numbers in Python [8]\n",
    "from decimal import *\n",
    "getcontext().prec = 100\n",
    "print(\"The square root of 2 made accurate to 100 decimal places using the imported Decimal library is:\")\n",
    "Decimal(2).sqrt()"
   ]
  },
  {
   "cell_type": "markdown",
   "metadata": {},
   "source": [
    "Further information on the Decimal module can be found at the Python Standard Library documentation [10]."
   ]
  },
  {
   "cell_type": "markdown",
   "metadata": {},
   "source": [
    "### Task 1 - Conclusion & Learnings \n",
    "\n",
    "*I have listed below some of the concluding points and some of the learnings I have taken from this task.*"
   ]
  },
  {
   "cell_type": "markdown",
   "metadata": {},
   "source": [
    "* The square root of 2 is irrational. The decimal expansion of the square root of 2 cannot be calculated to a precision. \n",
    "* Newton's method can be used to calculate an approximation for the square root of 2.\n",
    "* Newton's method works by starting at an assigned starting value (seed) and iterating over a set of steps until the closest approximation is reached.\n",
    "* I implemented Newton's method in this notebook to calculate the square root of 2. \n",
    "* I tested the accuracy of the result by comparing to the result returned by the sqrt function in the Python math module. \n",
    "* I researched how to have the the output displayed to 100 decimal places.\n",
    "* After displaying the output to 100 decimal places I noticed all the zero's at the end and did some further investigation.\n",
    "* I learnt that floating point numbers are represented in computer hardware as base 2 or binary fractions. Python approximates decimal expansion to 53 bits as a result of this.\n",
    "* Through my research I learnt the Decimal module in Python is one way that the accuracy of decimal representation can be increased. I included a section on this in the notebook."
   ]
  },
  {
   "cell_type": "markdown",
   "metadata": {},
   "source": [
    "### 1.5 - Task 1 - References"
   ]
  },
  {
   "cell_type": "markdown",
   "metadata": {},
   "source": [
    "[1] Wikipedia; Methods of Computing square roots; https://en.wikipedia.org/wiki/Methods_of_computing_square_roots\n",
    "\n",
    "[2] Learonline@GMIT; The square root of 2; https://learnonline.gmit.ie/mod/url/view.php?id=92021\n",
    "\n",
    "[3] Medium.com; How to Calculate the Square Root of a Number? — Newton-Raphson Method; https://medium.com/@surajregmi/how-to-calculate-the-square-root-of-a-number-newton-raphson-method-f8007714f64\n",
    "\n",
    "[4] Mathematical Python; Newton's Method; https://www.math.ubc.ca/~pwalls/math-python/roots-optimization/newton/\n",
    "\n",
    "[5] Wikipedia; Newton's method; https://en.wikipedia.org/wiki/Newton%27s_method\n",
    "\n",
    "[6] Computing Skillset; Newton's method explained; https://computingskillset.com/solving-equations/the-newton-raphson-method-explained-details-pictures-python-code/\n",
    "\n",
    "[7] math.mit; Square roots via Newton's Method; https://math.mit.edu/~stevenj/18.335/newton-sqrt.pdf\n",
    "\n",
    "[8]Python math documentation: https://docs.python.org/3/library/math.html\n",
    "\n",
    "[9]Stackoverflow; How can I show an irrational number to 100 decimal places in Python?; https://stackoverflow.com/questions/4733173/how-can-i-show-an-irrational-number-to-100-decimal-places-in-python?noredirect=1&lq=1\n",
    "\n",
    "[10] Python Decimal Library; Python - How to increase the accuracy of decimals; https://docs.python.org/3/library/decimal.html\n",
    "\n",
    "[11] Hands on Python Tutorial; 1.14 Decimals, Floats and floating point arithmetic; http://anh.cs.luc.edu/python/hands-on/3.1/handsonHtml/float.html\n",
    "\n",
    "[12] Python documentation; 15. Floating point artithmetic: Issues and limitations; https://docs.python.org/3/tutorial/floatingpoint.html\n",
    "\n",
    "**mathjax and markdown references:**\n",
    "\n",
    "* mathjax; documentation pages; http://docs.mathjax.org/en/latest/\n",
    "\n",
    "* Github; Mastering Markdown; https://guides.github.com/features/mastering-markdown/"
   ]
  },
  {
   "cell_type": "markdown",
   "metadata": {},
   "source": [
    "***"
   ]
  },
  {
   "cell_type": "markdown",
   "metadata": {},
   "source": [
    "## Task 2 - Chi-squared test for Independence "
   ]
  },
  {
   "cell_type": "markdown",
   "metadata": {},
   "source": [
    "2. November 2nd, 2020: The Chi-squared test for independence is a statistical\n",
    "hypothesis test like a t-test. It is used to analyse whether two categorical variables\n",
    "are independent. The Wikipedia article gives the table below as an example [4],\n",
    "stating the Chi-squared value based on it is approximately 24.6. Use scipy.stats\n",
    "to verify this value and calculate the associated p value. You should include a short\n",
    "note with references justifying your analysis in a markdown cell."
   ]
  },
  {
   "cell_type": "markdown",
   "metadata": {},
   "source": [
    "### 2.1 Introduction\n",
    "\n",
    "The task has been assigned and I have been given a link to the Wikipedia page on Chi-squared tests [1] as a starting point. The result of an analysis of the table has been given to me  with a Chi-squared value of 24.6.\n",
    "\n",
    "**Plan to complete task**\n",
    "\n",
    "* Provide some background information on this contigency table of data\n",
    "* Research how a Chi-squared test is done using scipy.stats \n",
    "* Conduct a Chi-squared test on this table of data using scipy.stats in this notebook\n",
    "* Verify the Chi-squared value provided of 24.6 is the same result that I get\n",
    "* Calculate the p value \n",
    "* Analyse the result \n",
    "* Compile a list of references \n",
    "\n",
    "I have inserted an image of the table below from the Wikipedia page [1] using the IPython.display image class that I read about in a blog post [2]."
   ]
  },
  {
   "cell_type": "code",
   "execution_count": 8,
   "metadata": {},
   "outputs": [
    {
     "data": {
      "image/png": "[encoded data removed]",
      "text/plain": [
       "<IPython.core.display.Image object>"
      ]
     },
     "execution_count": 8,
     "metadata": {
      "image/png": {
       "height": 300,
       "width": 600
      }
     },
     "output_type": "execute_result"
    }
   ],
   "source": [
    "# Import the Ipython.display image class as per blog post [2]\n",
    "from IPython.display import Image\n",
    "\n",
    "# Image loaded from img folder in this repository\n",
    "Image(filename = \"img/Chi-squared.PNG\", width = 600, height = 300)"
   ]
  },
  {
   "cell_type": "markdown",
   "metadata": {},
   "source": [
    "### 2.2 Research\n",
    "\n",
    "#### Contingency table explained\n",
    "\n",
    "In the case of this task I have been provided a contingency table of data. A contingency table is a type of table in a matrix that displays the frequency distribution of variables. They provide a picture of the interrelation between two variables [5].\n",
    "\n",
    "In the example contingeny table shown above [1] that I will work with in this task there are four neighbourhoods - A, B, C and D in a city with a population of 1,000,000 people. A random sample of 650 residents is taken and their occupation has been recorded into 3 categories - white collar, blue collar and no collar.\n",
    "\n",
    "There are 2 categorical variables in this data set:\n",
    "\n",
    "* neighbourhood\n",
    "* occupation\n",
    "\n",
    "The null hypothesis is that each person's neighbourhood is independent of their occupation.\n",
    "\n",
    "**Null hypothesis**\n",
    "\n",
    "In inferential statistics the null hypothesis is a general statement or default position that there is no difference between two measured phenomena or that two samples derive from the same general population [3]. In the case of the contingency table of data in this task the null hypothesis is that categorical variables neighbourhood and occupation are independent of each other.\n",
    "\n",
    "**Null hypothesis and alternative hypothesis**\n",
    "\n",
    "I found a blog post that explains this in further detail in relation to the Chi-square test [12]:\n",
    "\n",
    "Like any statistical hypothesis test, the Chi-square test has both a null hypothesis and an alternative hypothesis.\n",
    "\n",
    "Null hypothesis: There are no relationships between the categorical variables. If you know the value of one variable, it does not help you predict the value of another variable.\n",
    "\n",
    "Alternative hypothesis: There are relationships between the categorical variables. Knowing the value of one variable does help you predict the value of another variable.\n",
    "\n",
    "\n",
    "#### What is a Chi-squared test?\n",
    "\n",
    "I have been tasked with verifying using Scipy.stats that the Chi-squared value of this contingency table of data is approximately 24.6 and also to calculate the associated p-value.\n",
    "\n",
    "The Pearson's chi-squared statistical hypothesis is an example of a test for independence between categorical variables [6].\n",
    "\n",
    "Pearson's chi-squared test is used to determine whether there is a statistically signifigant difference between the expected frequencies and the observed frequencies in one or more categories of a contingency table [1]. In other words, do the values of one categorical variable depend on the values of another categorical variable.\n",
    "\n",
    "The Chi-square test of independence works by comparing the distribution that you observe to the distribution that you expect if there is no relationship between the categorical variables. In the Chi-square context, the word “expected” is equivalent to what you’d expect if the null hypothesis is true. If your observed distribution is sufficiently different than the expected distribution (no relationship), you can reject the null hypothesis and infer that the variables are related [12].\n",
    "\n",
    "In the case of this task, is there a difference between the frequency of occupations recorded per neighbourhood in the contingency table of data compared to what you would expect to see based on the null hypothesis that each person's neighbourhood is indepedent of their occupation?\n",
    "\n",
    "**Chi-Squared test in summary**\n",
    "\n",
    "* Categorical variables can be summarised using a contingency table. \n",
    "* The chi-squared test is a test of independence between categorical variables in a contingency table.\n",
    "* The variables are considered independent if the observed and expected frequencies are similiar.\n",
    "* A chi-squared test can be used in this case to determine whether or not there is a relationship between the neighbourhood a person lives in and their occupation, or in other words do we accept or reject the null hypothesis."
   ]
  },
  {
   "cell_type": "markdown",
   "metadata": {},
   "source": [
    "### 2.3 Chi-squared test in Python\n",
    "\n",
    "As part of this task I have to research how a Chi-squared test is conducted in Python using scipy.stats and verify that the Chi-squared value for the contingency table in this task is approximately 24.6 as well as calculating the p-value.\n",
    "\n",
    "Scipy.stats is a Python module that contains a function called chi2_contigency [7] that can be used to conduct a chi-squared test for indpendence in Python.\n",
    "\n",
    "This function computes the chi-square statistic and p-value for the hypothesis test of independence of the observed frequencies in the contingency table observed [7].\n",
    "\n",
    "The function takes an array as input representing the contingency table for the two categorical variables. It returns the calculated statistic and p-value for interpretation as well as the calculated degrees of freedom and table of expected frequencies [6].\n",
    "\n",
    "#### According to the scipy.stats.chi2_contigency documentation [7] the following are return values from a Chi-square test in scipy.stats:\n",
    "\n",
    "**chi2 : float**\n",
    "\n",
    "The Chi-squared value or test statistic represented as a floating point number.\n",
    "\n",
    "**p : float**\n",
    "\n",
    "The p-value represented as a floating point number.\n",
    "\n",
    "The p-value is a measure of the probability that categorical variables are independent of each other. \n",
    "\n",
    "**dof : int**\n",
    "\n",
    "Degrees of freedom represented as an integer.\n",
    "\n",
    "Degrees of freedom is calculated as (# of rows -1 x # of columns -1)[11]\n",
    "\n",
    "**expected : ndarray (same shape as observed)**\n",
    "\n",
    "An array containing the expected frequencies based on the marginal sums of the table.\n",
    "\n",
    "That is in other words the distribution we would expect to see if the null hypothesis is true and there is in fact no relationship between categorical variables."
   ]
  },
  {
   "cell_type": "markdown",
   "metadata": {},
   "source": [
    "#### Implement scipy.stats.chi2_contingency test on the contingency table in this task\n",
    "\n",
    "I read various references when researching how to conduct the Chi-squared test, in the end I used a combination of the example shown in the scipy.stats documentation page [7] and an example on the GeeksforGeeks website [10] to produce the below code.\n",
    "\n",
    "* I imported numpy and created a 3 x 4 array containing the data in the contingency table. \n",
    "* Each sub array represents white collar, blue collar and no collar and each sub arrays has 4 values for the number of persons from each neighbourhood in each occupation category.\n",
    "* I imported the chi2_contingency function from scipy.stats in order to run the function on the numpy array that I created.\n",
    "* I printed out the return values from the chi2_contingency function in a nice format."
   ]
  },
  {
   "cell_type": "code",
   "execution_count": 9,
   "metadata": {},
   "outputs": [
    {
     "name": "stdout",
     "output_type": "stream",
     "text": [
      "Exact Chi-square value: 24.5712028585826\n",
      "\n",
      "Chi-squared value rounded to 1 decimal place: 24.6\n",
      "\n",
      "p-value: 0.0004098425861096696\n",
      "\n",
      "Degrees of freedom: 6\n",
      "\n",
      "The expected frequencies based on marginal sums of the table:\n",
      " \n",
      "[[ 80.53846154  80.53846154 107.38461538  80.53846154]\n",
      " [ 34.84615385  34.84615385  46.46153846  34.84615385]\n",
      " [ 34.61538462  34.61538462  46.15384615  34.61538462]]\n"
     ]
    }
   ],
   "source": [
    "# Adapted from examples in [7] and [10]\n",
    "# import numpy in order to create a numpy array of the data in my contingency table \n",
    "import numpy as np\n",
    "# import the chi2_contingency function from scipy stats\n",
    "from scipy.stats import chi2_contingency  \n",
    "# create a 3 x 4 numpy array, the 4 neighourhood values are contained inside 3 arrays for collar type\n",
    "data = np.array([[90, 60, 104, 95], [30, 50, 51, 20], [30, 40, 45, 35]])\n",
    "# call the chi2_contingency function on the array of data\n",
    "stat, p, dof, expected = chi2_contingency(data) \n",
    "# print the return values \n",
    "print(f\"Exact Chi-square value: {stat}\\n\")\n",
    "print(f\"Chi-squared value rounded to 1 decimal place: {stat:.1f}\\n\")\n",
    "print(f\"p-value: {p}\\n\")\n",
    "print(f\"Degrees of freedom: {dof}\\n\")\n",
    "\n",
    "print(\"The expected frequencies based on marginal sums of the table:\\n \")\n",
    "print(expected)"
   ]
  },
  {
   "cell_type": "markdown",
   "metadata": {},
   "source": [
    "#### Chi-squared value\n",
    "\n",
    "The Chi-squared value returned is 24.6 so I have successfully verified the value provided in the task specification. Next I have to look in more detail at the p-value.\n",
    "\n",
    "#### Degrees of freedom\n",
    "\n",
    "The degrees of freedom is calculated as (# of rows -1 x # of columns -1)[11]\n",
    "\n",
    "In the the case of the contingency table in this task there are 3 rows and 4 columns of data. \n",
    "\n",
    "( 3 rows -1) = 2  (4 columns -1) = 3\n",
    "\n",
    "3* 2 = 6\n",
    "\n",
    "The dof returned from the Chi-squared test was 6.\n",
    "\n",
    "#### Expected \n",
    "\n",
    "The distribution that would be expected if there was no relationship between the categorical variables neighbourhood and occupation. \n",
    "\n",
    "#### p-value\n",
    "\n",
    "The p-value returned was 0.0004098425861096696. I will look at this in further detail now as it was specifically mentioned in the task specification.\n",
    "\n"
   ]
  },
  {
   "cell_type": "markdown",
   "metadata": {},
   "source": [
    "### 2.4 What is p-value and how do I interpret it?\n",
    "\n",
    "The Chi-squared test returns a p-value (probability value) which is a measure of the probability that categorical variables are independent.\n",
    "\n",
    "I have included below extracts from two references which explain how to interpret the p-value calculated by the Chi-squared test. \n",
    "\n",
    "**Machine learning mastery [6]**\n",
    "\n",
    "In terms of a p-value and a chosen significance level (alpha), the test can be interpreted as follows:\n",
    "\n",
    "**If p-value <= alpha:**\n",
    "significant result, reject null hypothesis (H0), dependent.\n",
    "\n",
    "**If p-value > alpha:**\n",
    "not significant result, fail to reject null hypothesis (H0), independent.\n",
    "\n",
    "**Statistics Solutions [11]**\n",
    "\n",
    "To make a conclusion about the hypothesis with 95% confidence, the p-value of the Chi-Square statistic should be less than .05 (which is the alpha level associated with a 95% confidence level). \n",
    "\n",
    "Is the p-value less than .05?  If so, we can conclude that the variables are not independent of each other and that there is a statistical relationship between the categorical variables.\n",
    "\n",
    "**Interpreting the p-value for the contingency table in this task**\n",
    "\n",
    "In this case the p-value returned by scipy.stats was 0.0004098425861096696 which is less than .05 and so based on my research I have to conclude there is a statistical relationship between the categorical variables neighbourhood and occupation. As detailed above in this case the p-value is < the alpha value and so the null hypothesis is rejected and the variables are said to be dependent on one another.\n",
    "\n",
    "It is important to note the alpha does not have to be .05 and a different alpha value can be used. From my research it appears .05 is a widely used value for alpha. \n"
   ]
  },
  {
   "cell_type": "markdown",
   "metadata": {},
   "source": [
    "### Task 2 Conclusion & Learnings\n",
    "\n",
    "* I researched what a Chi-squared test is and how to conduct a Chi-squared test using scipy.stats in Python. \n",
    "* I verified using scipy.stats that the Chi-squared value is approximately 24.6 for the given contingency table in this task.\n",
    "* The p-value returned by scipy.stats was 0.0004098425861096696.\n",
    "* The p-value returned is less than the aplha .05 and so I conclude that their is a relationship between the categorical variables neighbourhood and occupation. \n",
    "* Therefore in the case of this contingency table the null hypothesis that the variables are independent of each other is rejected and the alternative hypothesis that there is a relationship between the variables is accepted."
   ]
  },
  {
   "cell_type": "markdown",
   "metadata": {},
   "source": [
    "### Task 2 - References \n",
    "\n",
    "[1] Wikipedia; Chi-Squared test; https://en.wikipedia.org/w/index.php?title=Chi-squared_test&oldid=983024096\n",
    "\n",
    "[2] Towards data science; Inserting and Resizing Images in IPython Notebook (Python and R) — One Zero Blog; https://towardsdatascience.com/adding-image-files-inside-an-ipython-notebook-python-and-r-2ba089a658b8\n",
    "\n",
    "[3] Wikipedia; Null hypothesis; https://en.wikipedia.org/wiki/Null_hypothesis\n",
    "\n",
    "[4] Wikipedia; Chi-squared distribution; https://en.wikipedia.org/wiki/Chi-squared_distribution\n",
    "\n",
    "[5] Wikipedia; Contingency tables; https://en.wikipedia.org/wiki/Contingency_table\n",
    "\n",
    "[6] Machine learning mastery; A gentle introduction to the chi-squared test for machine learning; https://machinelearningmastery.com/chi-squared-test-for-machine-learning/\n",
    "\n",
    "[7] Scipy.org; scipy.stats.chi2_contingency; https://docs.scipy.org/doc/scipy/reference/generated/scipy.stats.chi2_contingency.html\n",
    "\n",
    "[8] Medium; Handling The Chi Square in Statistics with Python; https://medium.com/@nhan.tran/the-chi-square-statistic-p3-programming-with-python-87eb079f36af\n",
    "\n",
    "[9] Medium; How to Calculate Critical Values for Statistical Hypothesis Testing with Python; https://machinelearningmastery.com/critical-values-for-statistical-hypothesis-testing/\n",
    "\n",
    "[10] GeeksforGeeks; Python – Pearson’s Chi-Square Test; https://www.geeksforgeeks.org/python-pearsons-chi-square-test/\n",
    "\n",
    "[11] Statistic Solutions; Using Chi-Square Statistic in Research; https://www.statisticssolutions.com/using-chi-square-statistic-in-research/\n",
    "\n",
    "[12] Statistics by Jim; Chi-Square Test of Independence and an Example; https://statisticsbyjim.com/hypothesis-testing/chi-square-test-independence-example/#:~:text=For%20a%20Chi%2Dsquare%20test,exists%20between%20the%20categorical%20variables\n",
    "\n",
    "[13] dummies; What a p-Value Tells You about Statistical Data; https://www.dummies.com/education/math/statistics/what-a-p-value-tells-you-about-statistical-data/"
   ]
  },
  {
   "cell_type": "markdown",
   "metadata": {},
   "source": [
    "***"
   ]
  },
  {
   "cell_type": "markdown",
   "metadata": {},
   "source": [
    "## Task 3 - STDEV.P and STDEV.S Standard Deviation calculations in Excel"
   ]
  },
  {
   "cell_type": "markdown",
   "metadata": {},
   "source": [
    "3. November 16th, 2020: The standard deviation of an array of numbers x is\n",
    "calculated using numpy as np.sqrt(np.sum((x - np.mean(x))**2)/len(x)) .\n",
    "However, Microsoft Excel has two different versions of the standard deviation\n",
    "calculation, STDEV.P and STDEV.S . The STDEV.P function performs the above\n",
    "calculation but in the STDEV.S calculation the division is by len(x)-1 rather\n",
    "than len(x) . Research these Excel functions, writing a note in a Markdown cell\n",
    "about the difference between them. Then use numpy to perform a simulation\n",
    "demonstrating that the STDEV.S calculation is a better estimate for the standard\n",
    "deviation of a population when performed on a sample. Note that part of this task\n",
    "is to figure out the terminology in the previous sentence."
   ]
  },
  {
   "cell_type": "markdown",
   "metadata": {},
   "source": [
    "### 3.1 Introduction\n",
    "\n",
    "Having read the task description I have drafted the below plan to complete the task. \n",
    "\n",
    "#### Plan to complete task\n",
    "* Research the excel functions STDEV.P and STDEV.S and capture research in this notebook.\n",
    "* Write an explanantion about the differences between them.\n",
    "* Use numpy to perform a simulation demonstrating that STDEV.S is a better estimation for the standard deviation of a population when performed on a sample.\n",
    "* Capture the research from the above point in markdown in this notebook. \n",
    "* Compile a list of references.\n"
   ]
  },
  {
   "cell_type": "markdown",
   "metadata": {},
   "source": [
    "### 3.2 What are STDEV.P and STDEV.S?"
   ]
  },
  {
   "cell_type": "markdown",
   "metadata": {},
   "source": [
    "STDEV.P and STDEV.S are two functions in Microsoft Excel that are used to calculate the standard deviation of a population. From my research I have learnt that where historically there was just one standard deviation function in Excel called STDEV, today there are now two functions - STDEV.P and STDEV.S - P for Population and S for Sample.\n",
    "\n",
    "**Standard Deviation**\n",
    "\n",
    "Standard deviation is a number that tells you how far numbers are from their mean [4].\n",
    "\n",
    "Standard deviation: the average distance between each value and the mean. this tells you if the data is clustered around the mean or scattered, and therefore allows you to assess if the reliability of mean as a good/bad representation of the entire sample [13].\n",
    "\n",
    "A low measure of Standard Deviation indicates that the data are less spread out, whereas a high value of Standard Deviation shows that the data in a set are spread apart from their mean average values [10].\n",
    "\n",
    "In a normal distribution (bell-curve):\n",
    "\n",
    "* 68% of all individuals lie within +/- 1 standard deviation of the mean\n",
    "* 95% of all individuals lie within +/- 2 standard deviations of the mean\n",
    "* 99% of all individuals lie within +/- 3 standard deviations of the mean\n",
    "\n",
    "The Image below shows an example of a bell shaped curve with 99% of data within 3 standard deviations of the mean [13]."
   ]
  },
  {
   "cell_type": "code",
   "execution_count": 10,
   "metadata": {},
   "outputs": [
    {
     "data": {
      "image/png": "[encoded data removed]",
      "text/plain": [
       "<IPython.core.display.Image object>"
      ]
     },
     "execution_count": 10,
     "metadata": {
      "image/png": {
       "height": 400,
       "width": 800
      }
     },
     "output_type": "execute_result"
    }
   ],
   "source": [
    "# Image sourced from [13]\n",
    "Image(filename = \"img/standarddeviation.PNG\", width = 800, height = 400)"
   ]
  },
  {
   "cell_type": "markdown",
   "metadata": {},
   "source": [
    "### 3.3 Difference between STDEV.P and STDEV.S"
   ]
  },
  {
   "cell_type": "markdown",
   "metadata": {},
   "source": [
    "According to Microsoft Support [1] [2] STDEV.S calculates the standard deviation based on a sample of a population whereas STDEV.P calculates standard deviation based on the entire population.\n",
    "\n",
    "**STDEV.S**\n",
    "\n",
    "* Estimates standard deviation based on a sample (ignores logical values and text in the sample).\n",
    "\n",
    "* The standard deviation is a measure of how widely values are dispersed from the average value (the mean).\n",
    "\n",
    "**STDEV.P**\n",
    "\n",
    "* Calculates standard deviation based on the entire population given as arguments (ignores logical values and text).\n",
    "\n",
    "* The standard deviation is a measure of how widely values are dispersed from the average value (the mean).\n",
    "\n",
    "This difference is described further in the remarks section of the STDEV.S Microsoft support page [1]:\n",
    "\n",
    "* STDEV.S assumes that its arguments are a sample of the population. If your data represents the entire population, then compute the standard deviation using STDEV.P.\n",
    "\n",
    "* The standard deviation is calculated using the \"n-1\" method.\n",
    "\n",
    "In the remarks section of the STDEV.P Microsoft support page [2]:\n",
    "\n",
    "* STDEV.P assumes that its arguments are the entire population. If your data represents a sample of the population, then compute the standard deviation using STDEV.\n",
    "\n",
    "* The standard deviation is calculated using the \"n\" method.\n",
    "\n",
    "So as alluded to in the task description STDEV.P calculates the standard deviation by taking the len(x) of an array whereas STDEV.S calculates the standard deviation using len(x-1).\n",
    "\n",
    "I found a good Youtube video that explains the difference between STDEV.P and STDEV.S using an example [3]. \n",
    "\n",
    "* The tutor explains that STDEV.P can be used to calculate the standard deviation when we have all the data available and the P can be thought of as \"Population\".\n",
    "\n",
    "* STDEV.S can be used to calculate the standard deviation when we dont have access to all the data, and the S can be thought of as \"Sample\".\n",
    "\n",
    "* A demonstration is shown where STDEV.P is used to calculate the standard deviation of the full population of a data source and STDEV.S is used to calculate the standard deviation of a sample of the population.\n"
   ]
  },
  {
   "cell_type": "markdown",
   "metadata": {},
   "source": [
    "#### Population and Sample\n",
    "\n",
    "What is the difference between population and sample standard deviation?\n",
    "\n",
    "I found the below explanation:\n",
    "\n",
    "Usually, we are interested in the standard deviation of a population. However, as we are often presented with data from a sample only, we can estimate the population standard deviation from a sample standard deviation. These two standard deviations - sample and population standard deviations - are calculated differently. In statistics, we are usually presented with having to calculate sample standard deviations [15].\n",
    "\n",
    "I also found a comparison between the sample and population:\n",
    "\n",
    "* The population standard deviation is a parameter, which is a fixed value calculated from every individual in the population.\n",
    "* A sample standard deviation is a statistic. This means that it is calculated from only some of the individuals in a population. Since the sample standard deviation depends upon the sample, it has greater variability [16].\n",
    "\n",
    "#### When to use sample or population standard deviation?\n",
    "\n",
    "I found an article that has some example scenarios listed [15], I have included 2 below:\n",
    "\n",
    "Q. A teacher sets an exam for their pupils. The teacher wants to summarize the results the pupils attained as a mean and standard deviation. Which standard deviation should be used?\n",
    "\n",
    "A. Population standard deviation. Why? Because the teacher is only interested in this class of pupils' scores and nobody else.\n",
    "\n",
    "Q. A researcher has recruited males aged 45 to 65 years old for an exercise training study to investigate risk markers for heart disease (e.g., cholesterol). Which standard deviation would most likely be used?\n",
    "\n",
    "A. Sample standard deviation. Although not explicitly stated, a researcher investigating health related issues will not simply be concerned with just the participants of their study; they will want to show how their sample results can be generalised to the whole population (in this case, males aged 45 to 65 years old). Hence, the use of the sample standard deviation."
   ]
  },
  {
   "cell_type": "markdown",
   "metadata": {},
   "source": [
    "#### Example using STDEV.P AND STDEV.S\n",
    "\n",
    "I found a good explanation of the difference between STDEV.P and STDEV.S using a real example [4].\n",
    "\n",
    "STDEV.P can be used to calculate the standard deviation based on the entire population. The formula that is used is shown below where N is the number of values in the population. [4]."
   ]
  },
  {
   "cell_type": "code",
   "execution_count": 11,
   "metadata": {},
   "outputs": [
    {
     "data": {
      "image/png": "[encoded data removed]",
      "text/plain": [
       "<IPython.core.display.Image object>"
      ]
     },
     "execution_count": 11,
     "metadata": {
      "image/png": {
       "height": 400,
       "width": 800
      }
     },
     "output_type": "execute_result"
    }
   ],
   "source": [
    "# display the image from [4]\n",
    "Image(filename = \"img/STDEVP.PNG\", width = 800, height = 400)"
   ]
  },
  {
   "cell_type": "markdown",
   "metadata": {},
   "source": [
    "\n",
    "σ = population standard deviation\n",
    "\n",
    "N = size of the population\n",
    "\n",
    "xi = each value from the population\n",
    "\n",
    "µ = population mean\n",
    "\n",
    "\n",
    "The steps listed on this website that are performed by Excel when doing the STDEV.P calculation are:\n",
    "* Calculate the mean of the entire population\n",
    "* For each number calculate the distance from the mean\n",
    "* For each number square this distance\n",
    "* Sum these values\n",
    "* Divide by N (number of values in the population)\n",
    "* Take the square root which is the standard deviation\n",
    "\n",
    "In contrast STDEV.S is used to calculate the standard deviation when only a sample of the population is available. In this instance N-1 is used instead of N."
   ]
  },
  {
   "cell_type": "code",
   "execution_count": 12,
   "metadata": {},
   "outputs": [
    {
     "data": {
      "image/png": "[encoded data removed]",
      "text/plain": [
       "<IPython.core.display.Image object>"
      ]
     },
     "execution_count": 12,
     "metadata": {
      "image/png": {
       "height": 400,
       "width": 800
      }
     },
     "output_type": "execute_result"
    }
   ],
   "source": [
    "#display the image from [4]\n",
    "Image(filename = \"img/STDEVS.PNG\", width = 800, height = 400)"
   ]
  },
  {
   "cell_type": "markdown",
   "metadata": {},
   "source": [
    "s = sample standard deviation\n",
    "\n",
    "N = size of the sample\n",
    "\n",
    "xi = each value from the sample\n",
    "\n",
    "µ = sample mean"
   ]
  },
  {
   "cell_type": "markdown",
   "metadata": {},
   "source": [
    "#### Why n-1 for a sample standard deviation?\n",
    "\n",
    "Why do we divide by n - 1 instead of by n when we estimate the standard deviation based on a sample?\n",
    "\n",
    "Bessel's correction states that dividing by n-1 instead of by n gives a better estimation of the standard deviation [4]. \n",
    "\n",
    "When you have an entire population and calculate any parameter (like the population variance or population standard deviation), your results will be accurate. That’s because you have all the data about your population. However, when you work with a sample, you’ve only got a small fraction of the population to work with. Therefore, your answers aren’t going to be as accurate as those you would have got, if you had the entire set of data to work with. Bessel’s correction (i.e. subtracting 1 from your sample size) corrects this bias. In other words, you’ll usually get a more accurate answer if you use n-1 instead of n [17].\n",
    "\n",
    "#### One degree of freedom\n",
    "\n",
    "When we compute sample standard deviation we divide by N- 1 instead of only using N as we do when we compute population standard deviation. The reason for this is that in statistics in order to get an unbiased estimator for population standard deviation when calculating it from the sample we should be using (N-1). This is called one degree of freedom, we subtract 1 in order to get an unbiased estimator [9]."
   ]
  },
  {
   "cell_type": "markdown",
   "metadata": {},
   "source": [
    "### 3.4 numpy simulation of a population and sampling from the population\n",
    "\n",
    "*In this section I should use numpy to perform a simulation demonstrating that STDEV.S is a better estimation for the standard deviation of a population when performed on a sample.*\n",
    "\n",
    "Part of the assignment brief is to figure out the terminology of the above sentence. My interpretation of the sentence is that I should perform some tests using STDEV.S to estimate the standard deviation of a full population based on a sample generated from the population. I should then analyse the results to see is STDEV.S is a good estimation for standard deviation of a population when performed on a sample.\n",
    "\n",
    "I think in this case I need to:\n",
    "* Simulate some data for a full population using numpy.\n",
    "* Calculate the standard deviation of the entire population using STDEV.P.\n",
    "* Generate some samples from the population.\n",
    "* Use the STDEV.S calculation to estimate the standard deviation of the population based on the samples.\n",
    "* Use the STDEV.P calculation to estimate the standard deviation of the population based on the samples for comparison purposes.\n",
    "* Analyse the results."
   ]
  },
  {
   "cell_type": "markdown",
   "metadata": {},
   "source": [
    "#### Simulate an array of data with numpy.random.normal\n",
    "\n",
    "numpy.random.normal draws samples from the normal distribution [5]. I have simulated data using numpy.random.normal for a project in a previous module and so I am familiar with using numpy to simulate some data.\n",
    "\n",
    "A normal distribution often described as a bell curve distributon because of the shape, often occurs naturally within statistics. One example would be in measuring height of a group of people there would tend to be a central tendency of data with the majority of data gathering around this point.\n",
    "\n",
    "numpy.random.normal takes 3 arguments [5]:\n",
    "\n",
    "* loc : float or array_like of floats - the Mean of the distribution.\n",
    "* scale : float or array_like of floats - the Standard deviation of the distribution or in simple terms the width of the distribution.\n",
    "* size : int or tuple of ints, optional - the size of the distribution"
   ]
  },
  {
   "cell_type": "markdown",
   "metadata": {},
   "source": [
    "#### Simulate the data"
   ]
  },
  {
   "cell_type": "code",
   "execution_count": 13,
   "metadata": {},
   "outputs": [
    {
     "data": {
      "text/plain": [
       "array([ 9.81156471,  8.59976322, 10.36929907,  8.11438753,  9.04409994,\n",
       "       11.87685789,  8.80690097, 11.28678468,  9.54254422,  9.33732867,\n",
       "        9.87728008, 11.02747062,  9.44084975, 10.19674842, 11.49302492,\n",
       "        8.81396695, 10.01524978,  8.65788181,  9.47573973,  9.52189077,\n",
       "        9.32448127,  9.26389871, 11.64866941, 10.52588639,  9.31165402,\n",
       "       10.30613192, 11.02124033, 11.93022614, 11.88545075, 11.33464298,\n",
       "       10.5407936 , 10.87898964, 11.85878285,  9.43429102,  9.18505698,\n",
       "       11.65409382, 10.41554871,  9.64445314,  9.73943731, 11.7145581 ,\n",
       "       12.59918014, 10.03475977,  9.9304215 ,  8.5048254 ,  8.84545597,\n",
       "       11.13859128, 10.55950088,  9.29447997,  8.22263331,  9.48334585,\n",
       "        8.7458775 ,  9.01183633, 10.76531321, 10.13204344, 11.78080468,\n",
       "        9.70806668, 10.67938883, 12.03520314,  8.72037113,  9.21711485,\n",
       "       10.43268856, 11.00188773, 10.78971793, 11.52209   ,  8.88002511,\n",
       "       10.28394835, 10.34365307, 10.71054442,  9.82038951,  8.53308228,\n",
       "       10.22928911, 10.57530753,  8.83577709, 10.11422671,  9.08640958,\n",
       "        9.93757384, 10.66281442,  9.45463031,  8.36522057,  7.80942846,\n",
       "       10.49088392, 10.50177169, 11.08523646,  9.67718166, 11.9077633 ,\n",
       "        9.79423442, 10.85208628, 10.58515997, 10.46248463,  9.06495599,\n",
       "        9.70260772, 10.16167046, 10.22916771, 11.10657408, 10.21775039,\n",
       "       10.73548408,  9.68557623,  9.19614409,  9.87008958,  9.85536354,\n",
       "        8.90842355, 11.11501577, 10.48896736,  8.33648225, 10.63104301,\n",
       "        9.46863697,  9.21218362,  9.69189237,  8.2317217 ,  9.69996834,\n",
       "       10.98546691,  9.54253733,  9.75545595,  9.98147015, 10.91933771,\n",
       "        8.84211561,  9.16439452,  9.2826295 ,  9.81905737, 10.05377005,\n",
       "        9.92382836, 11.60385936,  8.91204894,  8.34200799, 10.00624662,\n",
       "       10.76623588, 10.39271819, 11.67013209, 10.83713574,  9.45992755,\n",
       "        7.22458304,  8.80569091, 11.58958125, 10.80206953, 10.55376683,\n",
       "        9.22371373,  9.85903788,  9.74759217, 10.28425949,  9.92513821,\n",
       "        9.75179073,  8.77489427, 11.26078656, 10.18528679,  9.91839514,\n",
       "        9.10603199, 10.15369557,  8.88153105, 11.16479906, 10.55046849,\n",
       "        9.01867002, 10.38051187,  8.79624461,  8.79357286, 10.95729525,\n",
       "        8.82792314, 11.88470781, 10.2969449 , 11.65842333,  8.67376666,\n",
       "        8.12196799, 12.56498717, 10.74154145,  9.22385745, 10.18570959,\n",
       "        9.16863164, 10.81997243,  9.52643853, 10.74278559, 10.51380241,\n",
       "       11.69377084,  8.93512209, 10.67373149, 10.81149873,  8.60210544,\n",
       "       10.1445232 , 11.05540856, 10.83151406,  8.28559529,  8.80710602,\n",
       "       10.68730385,  9.17261047, 10.79573366,  9.84522572,  9.74519381,\n",
       "        9.82196937,  9.52563299, 10.60804789,  9.6457453 , 10.59178387,\n",
       "       11.26025454,  9.74066105, 11.25712027,  8.73030607,  9.81823342,\n",
       "        9.81446377,  9.47554761,  9.38349004, 10.61994943, 10.06300872,\n",
       "        9.77892693, 11.130741  ,  8.09249655,  9.61852834,  9.41855134,\n",
       "        8.98030562,  9.58797371,  8.68747444, 10.7196924 ,  8.45195754,\n",
       "       10.46705055,  8.94199826,  9.17171878, 11.97514124, 10.06995026,\n",
       "        9.8452037 , 11.30834052,  8.79912591,  9.81574199, 10.0524313 ,\n",
       "        8.92209329, 10.08605722,  9.43432857,  9.9917029 ,  9.08722951,\n",
       "       10.35073572,  9.16429163, 10.5339406 ,  8.31302389,  9.60866694,\n",
       "        9.55248507,  9.27708212, 11.58664911,  9.07756909, 10.65512032,\n",
       "        9.90998051,  9.26388226,  8.09424575,  9.11794567, 10.36590562,\n",
       "        8.19675658, 11.0195669 ,  9.65410554,  8.01183605,  8.93776726,\n",
       "        9.81264029, 10.77185652, 10.5555372 , 10.21078225,  8.58941501,\n",
       "       11.24268857,  8.87304699,  9.36931358,  9.55520123,  9.62647988,\n",
       "        9.95429629,  9.80367085,  9.36191549, 12.58584615,  9.16872436,\n",
       "       10.70454643,  9.00994867, 10.35814172,  9.87144765, 10.7719977 ,\n",
       "       10.66784955, 10.55255643, 10.54854257,  9.43695069,  7.64316184,\n",
       "       10.33890757, 10.81001363,  9.26827001, 10.65849419, 10.55257367,\n",
       "        9.05710658,  7.5719364 ,  9.604593  , 10.09356952, 10.00670067,\n",
       "        9.87404643, 10.31404566, 10.28651735, 10.28605656,  9.62723271,\n",
       "        8.19908479,  9.92278403,  7.37290764, 11.36596901, 10.12716566,\n",
       "        9.05542204,  9.85929187, 10.19255282,  9.80073988,  8.70067002,\n",
       "       10.46890657,  9.65228197,  9.47757144,  9.70004876, 10.65021427,\n",
       "        8.62703583, 10.13946727, 10.65515909, 10.38038156,  8.97058701,\n",
       "        9.51658829,  9.173858  , 10.07322198, 11.12482575, 10.22003067,\n",
       "        9.99860386, 10.11021363,  8.98544738,  8.9085815 ,  8.94461416,\n",
       "       11.64926488, 10.34796339,  9.5657265 ,  9.52132826, 10.53380513,\n",
       "        9.97234355,  9.01176506,  9.59462874, 10.27631441, 10.02005876,\n",
       "       13.34642372,  9.26098097, 11.42721352, 10.66559263,  9.70128038,\n",
       "       10.94855405, 11.27345248,  9.20291322, 10.06963995,  9.73386373,\n",
       "        9.30923834,  9.56944485,  9.25497047, 10.78830414, 10.0538518 ,\n",
       "        9.42729341, 10.18272162,  9.65678827, 10.41194661, 11.28646492,\n",
       "       10.27541794,  9.75382269, 10.95589874,  9.57210113, 10.30269974,\n",
       "       10.5539761 ,  9.06416645,  8.73571238,  8.95555586, 10.57469211,\n",
       "        9.43280383,  9.67516637,  7.95269964, 10.27818167,  9.87987199,\n",
       "       10.4385954 , 10.65705606,  9.96037164,  9.55133146, 10.77286438,\n",
       "       11.97847586,  8.34315717, 10.00391178,  9.6527252 ,  7.75023051,\n",
       "       10.01618378, 10.80991544, 10.78730006,  9.18351748, 10.26155214,\n",
       "        8.39714574,  9.42426671,  8.32973375, 11.04864823,  9.19412049,\n",
       "        8.60155583, 10.32419242,  8.60217513,  9.95868256, 10.6212599 ,\n",
       "       10.72013092, 11.37079926, 12.90590473,  7.91928329,  8.47884126,\n",
       "       10.05958419,  8.94272818,  8.26886754,  9.55147562,  9.25525877,\n",
       "       10.75398754,  9.57310795, 10.22320515,  9.60206777, 10.37231955,\n",
       "        9.5037084 ,  8.24923731,  9.18893249, 10.33334918, 11.49718113,\n",
       "        9.41118483, 10.66752781, 10.10522696,  8.98047106,  9.34069026,\n",
       "       10.10151374, 11.41780155, 11.18897095,  9.77631171, 10.51074663,\n",
       "        9.45013083,  9.69270985, 11.09525237, 10.96939789, 10.50061522,\n",
       "        8.88311293,  9.62710575,  9.91387943, 10.70105094,  9.55050711,\n",
       "       10.48932234,  9.14602677, 10.2981252 ,  8.93934582, 10.23837698,\n",
       "        9.59671118,  8.60503089, 11.07973698, 11.05818969,  7.68117609,\n",
       "        9.55762945, 11.10295843, 10.22578723, 10.39666089, 10.65291479,\n",
       "       10.26948952,  8.78137956, 10.37648549, 11.39999482, 10.04569211,\n",
       "       11.57695278, 10.59402303,  9.89526412,  9.56032428, 10.32812647,\n",
       "       10.47769631,  9.5019303 ,  9.97726373, 10.45817434, 10.87995794,\n",
       "       10.73447161,  9.80192153, 10.39098771, 10.61684984, 10.84590569,\n",
       "       10.31941526,  8.91873918, 11.09588715,  6.11037435, 10.60670481,\n",
       "        8.32205095, 10.57388178, 10.5711583 , 10.06499977,  8.79925487,\n",
       "        8.70095506,  8.55584225,  9.85422856, 11.42622964,  8.86854769,\n",
       "        9.27590755, 10.17665959, 10.35691455,  9.12710303,  9.57815879,\n",
       "        9.70142088,  9.27483635, 10.36042707,  9.2473182 ,  9.79623112,\n",
       "       10.18879068,  9.76347958,  9.27684031,  9.89400093,  9.8021708 ,\n",
       "       10.31333362,  8.62995646, 11.03136382, 10.00798245, 12.00172941,\n",
       "       10.39754521,  9.95582358, 10.04174504, 11.36741302,  9.45368505,\n",
       "       10.85714792, 10.74330237,  8.8513018 , 11.00232477,  9.56964873,\n",
       "       10.28049789, 10.4808545 ,  9.15251443,  8.75478003,  9.7678445 ,\n",
       "       10.7510099 ,  9.84498964, 11.59107172,  8.91833735,  9.66542421,\n",
       "       10.40520825,  8.44007538, 10.71512581, 10.02176078, 10.95550892,\n",
       "        8.95902355, 10.11295772,  7.63159312,  8.75833068,  9.19322971,\n",
       "        9.70429048, 11.06494895, 10.97643931,  9.98523186,  9.26436281,\n",
       "        8.45276159, 10.06135284, 10.47884401,  9.651969  ,  9.05318034,\n",
       "        9.04357675,  9.52924301, 10.43932525, 10.0520598 ,  8.78862021,\n",
       "       10.24654971,  9.66066358,  9.33743093,  8.77400291,  9.83479419,\n",
       "        8.34390548,  9.36211911,  9.6428676 ,  9.49138563,  9.4371634 ,\n",
       "       10.33854748,  9.46650041, 10.59350369, 10.21933511,  9.59557839,\n",
       "       11.11718866, 11.51420891,  9.80252633,  9.80364456, 11.19140537,\n",
       "       10.12934387,  9.69131447, 10.221107  , 10.72822607, 10.5151335 ,\n",
       "       10.56658034,  9.47758568,  9.98786665,  9.07887547, 12.26167833,\n",
       "       10.66185025, 10.03777784, 11.14581872,  9.92612942,  8.50255374,\n",
       "        9.207021  ,  9.99441075, 10.29227274, 10.14893467,  9.69429277,\n",
       "       10.09138554, 10.29257572,  9.02048767, 11.48244688, 10.30927742,\n",
       "       10.68203208, 11.57263056,  9.01218332,  9.29943694,  7.78024119,\n",
       "       10.7504656 , 10.232232  , 10.98873158, 10.56549292, 10.82072173,\n",
       "       10.90467636, 11.33420359,  9.32354018,  9.97649381,  9.26054657,\n",
       "       10.88351082,  9.50263206, 12.19907736,  8.8391592 , 10.05122863,\n",
       "       12.11770553, 10.92736433, 10.52401741,  9.43708828,  9.94522726,\n",
       "        9.27317291,  8.64430985, 10.03422729, 12.1026133 , 10.45376458,\n",
       "       10.64289189, 11.04958619,  9.00392729,  8.71479837,  9.71933585,\n",
       "       10.37855586, 10.39886788, 11.02393011,  9.64950978,  9.92538294,\n",
       "       10.79193773,  9.54532095,  9.81006955,  9.74495749,  8.99539302,\n",
       "        9.14167355, 11.94780141, 10.57491537, 11.63410222,  9.61791636,\n",
       "        9.65442321,  9.38594173, 11.29533063,  9.54720986, 11.01627678,\n",
       "        9.11431383, 10.77173161,  9.40664533,  9.48748946, 10.78400106,\n",
       "       12.54288981,  9.75244373, 10.52819121,  9.93955841, 11.86832397,\n",
       "        9.72206848, 10.83487336, 10.10913502,  8.43413967,  9.56694351,\n",
       "        9.76087249, 10.60411026, 10.16256418, 10.30703961, 10.84183759,\n",
       "        9.399444  , 10.02854891,  9.98423392, 10.30273288, 10.24068798,\n",
       "        9.21031   ,  9.10841206, 10.79029854,  9.13390208,  8.96621997,\n",
       "        9.94199424, 11.36843348, 10.28573438, 10.58021589, 10.55192264,\n",
       "       10.62582991,  9.48694144, 10.96962936, 10.26873454, 10.06191532,\n",
       "        8.89407045,  8.88404655, 10.01031221, 10.52046979,  9.67093071,\n",
       "       10.00675251,  9.6615954 ,  8.70031395,  9.55766309,  9.28712276,\n",
       "       10.75896774,  9.04100513,  8.15274489,  9.52568265, 10.14719862,\n",
       "       11.1014063 , 11.03979307, 10.1386178 , 10.1395446 , 10.81148229,\n",
       "       11.94708942, 10.93540363,  8.83265705, 10.0963203 , 11.00802146,\n",
       "        9.55512846, 10.20255479,  9.72758474, 10.94660012,  8.21407703,\n",
       "       10.68282099,  9.73522324,  9.43238112,  9.24915034,  9.95992309,\n",
       "       11.19267909, 10.22096587,  9.32445637, 10.26828286, 10.1450419 ,\n",
       "       10.34330133,  8.79208629,  9.54266355, 10.5515018 ,  9.96479781,\n",
       "       11.54015254,  9.4180426 ,  9.86531147,  9.16527412, 10.4525351 ,\n",
       "        7.63366207, 11.52925286, 11.22803419, 10.81897347,  9.88715192,\n",
       "       10.36546919,  8.97199942,  8.0338803 , 10.10934133, 10.36994314,\n",
       "       11.49469847, 10.80877104,  9.46535389, 10.92465091,  9.41759716,\n",
       "       12.13502118, 10.53146504,  9.75893153,  7.73495523, 11.4559709 ,\n",
       "       10.1507867 ,  8.55160061,  8.53316157, 10.64454992,  9.84858162,\n",
       "        9.10914285,  7.96123935,  9.87259228,  9.62584157,  8.44938653,\n",
       "        9.64617976,  9.10133536, 11.30034555, 10.14303231, 10.05691327,\n",
       "        9.06793638, 10.56147331,  9.89718322,  9.97527274, 10.47503957,\n",
       "        8.1583275 ,  9.82904737, 10.21456707,  8.94779348,  8.83442743,\n",
       "        9.49117681,  8.44323143,  8.34467326, 11.0196763 ,  9.82483748,\n",
       "        8.54368869,  9.33114474, 11.35622582,  9.88921025,  9.58014165,\n",
       "        9.78927614, 10.77730296,  9.79947191, 10.3921422 ,  9.34374193,\n",
       "        9.23312037,  9.57365739,  9.87568117, 10.78444333, 10.59661502,\n",
       "       10.78691153, 10.81648909,  9.7450277 ,  9.22282648, 10.2835427 ,\n",
       "       11.69729846,  9.51082619, 12.55488242, 11.33322827, 10.23166216,\n",
       "        9.95613733, 10.32712686, 11.00351305,  8.6505498 , 12.36299354,\n",
       "        9.71609641,  9.23148109, 10.48550178, 10.98401842, 10.44286807,\n",
       "        9.90741545, 10.13985532,  9.73227187, 10.22408551,  9.21075075,\n",
       "       10.18718919, 11.21670116, 10.2382877 , 10.18447457, 12.01815488,\n",
       "       10.39854191, 10.31883153,  9.64334158,  9.50217494,  9.96833757,\n",
       "       10.09975136,  8.88764701, 11.50031772, 11.63001001, 10.96862632,\n",
       "       10.08092657,  9.11698048, 10.41944096, 11.80810411, 10.67963737,\n",
       "       11.03596179, 11.09657737, 10.68836231, 11.27058454,  9.13312753,\n",
       "       10.15021838,  9.68153193, 10.26383082,  8.07073627, 10.40087277,\n",
       "       10.92282771, 10.2138786 , 10.47820177,  9.82672859, 10.26556869,\n",
       "        9.86280165,  9.9252723 , 11.03782388,  8.71543469, 11.41245613,\n",
       "        9.4235054 ,  8.9330053 , 10.41838351, 10.42726496,  9.01396704,\n",
       "       11.20433522, 11.05310632, 10.13100698,  8.64251379,  9.82030254,\n",
       "       10.01847851,  9.39910379,  8.67864236,  8.90302612,  9.94900174,\n",
       "       10.91642714, 10.91856143,  8.71502364, 10.0110025 , 11.70530505,\n",
       "        9.54167848,  9.75885083, 10.36456111, 10.54822099, 10.17009763,\n",
       "       10.21878724, 10.5941203 , 10.88098532, 10.21912945, 10.04623165,\n",
       "       10.78801726,  9.26754137,  8.64619105, 10.22063849, 11.26299108,\n",
       "       10.35664435,  9.91148488,  9.44501993,  9.53743302, 10.01295643,\n",
       "        9.79766036, 13.16756937, 11.5189663 ,  8.70835414, 10.71170675,\n",
       "       11.68045235,  9.38594534,  9.92805711, 11.3669755 , 10.45249313,\n",
       "       10.46476507,  9.83645029, 11.13947165,  9.75546555,  9.41347129,\n",
       "       10.02144068,  8.38103592,  8.9431301 ,  8.83675297, 11.4902605 ,\n",
       "       10.76134643, 10.8308686 , 10.37083733,  9.92262655, 12.1178502 ,\n",
       "        9.84917827, 11.09008433, 11.57936484,  9.96928701,  9.65104998,\n",
       "       10.78451125, 10.14347772,  9.5739603 ,  9.33900306,  9.09031458,\n",
       "        8.4713772 , 10.38802099, 10.23862976, 10.79703139, 11.63280804,\n",
       "        8.93679363,  9.00812852, 10.43917593, 10.41435977,  9.8296213 ,\n",
       "       10.85370113, 10.54811691, 10.14774407,  9.11720824, 10.49205903,\n",
       "       11.05601781,  9.66744773, 10.25530767,  9.29451377, 11.59220066,\n",
       "       10.56655981,  9.55580974,  9.68919735,  9.73712501,  7.99554895,\n",
       "       10.6404152 , 10.88590439, 10.18778403,  9.91813526,  9.57514952,\n",
       "       10.41468602, 10.62963041, 10.19684263,  8.90250902, 11.09656324,\n",
       "        9.9558615 ,  9.43703936, 10.44882021, 11.46771048,  9.40542818,\n",
       "       10.45121774,  9.84707643, 11.38608655, 11.13687052, 10.93168168,\n",
       "       11.15589742, 10.29202259, 11.84884266, 12.24039559,  9.82137277,\n",
       "        9.71148309, 11.32550604, 12.86301582, 11.44693297,  9.47162905,\n",
       "        7.98815871, 10.31458679, 11.57783755, 12.00880621,  9.12169172,\n",
       "       10.03267582,  8.10966772,  8.25667971, 10.16608628, 10.56893544])"
      ]
     },
     "execution_count": 13,
     "metadata": {},
     "output_type": "execute_result"
    }
   ],
   "source": [
    "# set the mean, standard deviation and size of population\n",
    "mean = 10\n",
    "stddev = 1 \n",
    "# N = 100\n",
    "N = 1000\n",
    "# simulate the data with numpy.random.normal\n",
    "# numpy already imported in task 2 \n",
    "population = np.random.normal(mean, stddev, N)\n",
    "# display the population \n",
    "population"
   ]
  },
  {
   "cell_type": "code",
   "execution_count": 14,
   "metadata": {},
   "outputs": [
    {
     "data": {
      "text/plain": [
       "1000"
      ]
     },
     "execution_count": 14,
     "metadata": {},
     "output_type": "execute_result"
    }
   ],
   "source": [
    "# check the size of the population\n",
    "len(population)"
   ]
  },
  {
   "cell_type": "markdown",
   "metadata": {},
   "source": [
    "#### Plot the data"
   ]
  },
  {
   "cell_type": "code",
   "execution_count": 15,
   "metadata": {},
   "outputs": [
    {
     "data": {
      "image/png": "[encoded data removed]",
      "text/plain": [
       "<Figure size 1440x720 with 1 Axes>"
      ]
     },
     "metadata": {
      "needs_background": "light"
     },
     "output_type": "display_data"
    }
   ],
   "source": [
    "# import matplotlib.pyplot\n",
    "import matplotlib.pyplot as plt\n",
    "\n",
    "# rc params to customize plot appearance: https://matplotlib.org/tutorials/introductory/customizing.html\n",
    "plt.rcParams['figure.figsize'] = (20, 10)\n",
    "plt.rcParams['lines.linewidth'] = 2.5\n",
    "\n",
    "# plot a histogram of the data\n",
    "plt.hist(population)\n",
    "# add title and axis labels \n",
    "plt.title('Plot of simulated population', fontsize =20)\n",
    "plt.xlabel('Spread of values from the mean', fontsize = 16)\n",
    "plt.ylabel('Number of data points', fontsize = 16)\n",
    "# add a grid and display the plot\n",
    "plt.grid()\n",
    "plt.show()"
   ]
  },
  {
   "cell_type": "markdown",
   "metadata": {},
   "source": [
    "#### Calculate the standard deviation using numpy\n",
    "\n",
    "*I already know the standard deviation as I set it when simulating the data but I want to see what the STDEV.P and STDEV.S formulas return for standard deviation on the full population.*\n",
    "\n",
    "As detailed in the task specification \n",
    " \n",
    "STDEV.P is calculated by numpy using the formula:\n",
    "\n",
    "np.sqrt(np.sum((x - np.mean(x))**2)/len(x))"
   ]
  },
  {
   "cell_type": "code",
   "execution_count": 16,
   "metadata": {},
   "outputs": [
    {
     "data": {
      "text/plain": [
       "0.9572890280837493"
      ]
     },
     "execution_count": 16,
     "metadata": {},
     "output_type": "execute_result"
    }
   ],
   "source": [
    "# STDEV.P formula to calculate standard deviation\n",
    "np.sqrt(np.sum((population - np.mean(population))**2)/len(population))"
   ]
  },
  {
   "cell_type": "markdown",
   "metadata": {},
   "source": [
    "STDEV.S is calculated by numpy using the formula:\n",
    " \n",
    "np.sqrt(np.sum((x - np.mean(x))**2)/len(x)-1)\n",
    "\n",
    "I have realised that I am missing a set of parenthesis in the above formula and it should be:\n",
    "\n",
    "np.sqrt(np.sum((x - np.mean(x))**2)/(len(x)-1))\n",
    "\n",
    "The results were inaccuarte before this fix."
   ]
  },
  {
   "cell_type": "code",
   "execution_count": 17,
   "metadata": {},
   "outputs": [],
   "source": [
    "# STDEV.S formula to calculate standard deviation\n",
    "#np.sqrt(np.sum((population - np.mean(population))**2)/len(population)-1)\n",
    "# I realised I had to wrap the len(population)-1 in an extra set of parenthesis"
   ]
  },
  {
   "cell_type": "code",
   "execution_count": 18,
   "metadata": {},
   "outputs": [
    {
     "data": {
      "text/plain": [
       "0.9577680318805916"
      ]
     },
     "execution_count": 18,
     "metadata": {},
     "output_type": "execute_result"
    }
   ],
   "source": [
    "# STDEV.S formula to calculate standard deviation\n",
    "np.sqrt(np.sum((population - np.mean(population))**2)/(len(population)-1))"
   ]
  },
  {
   "cell_type": "markdown",
   "metadata": {},
   "source": [
    "**Which is more accurate?**\n",
    "\n",
    "*I will use numpy.std to calculate the standard deviation of the randomly generated array of data*"
   ]
  },
  {
   "cell_type": "code",
   "execution_count": 19,
   "metadata": {},
   "outputs": [
    {
     "data": {
      "text/plain": [
       "0.9572890280837493"
      ]
     },
     "execution_count": 19,
     "metadata": {},
     "output_type": "execute_result"
    }
   ],
   "source": [
    "# calculate the standard deviation with built in numpy std function\n",
    "np.std(population)"
   ]
  },
  {
   "cell_type": "markdown",
   "metadata": {},
   "source": [
    "I read that numpy can calulate the standard deviation with one degree of freedom added [9]. This gives the same result as the STDEV.S calculation. "
   ]
  },
  {
   "cell_type": "code",
   "execution_count": 20,
   "metadata": {},
   "outputs": [
    {
     "data": {
      "text/plain": [
       "0.9577680318805916"
      ]
     },
     "execution_count": 20,
     "metadata": {},
     "output_type": "execute_result"
    }
   ],
   "source": [
    "# calculate the standard deviation with built in numpy std with one degree of freedom added \n",
    "np.std(population, ddof = 1)"
   ]
  },
  {
   "cell_type": "markdown",
   "metadata": {},
   "source": [
    "When calculating standard deviation of full population of data STDEV.P is more accurate than STDEV.S\n",
    "\n",
    "I have verified the statement from the Micrososft support pages [1]:\n",
    "\n",
    "STDEV.S assumes that its arguments are a sample of the population. If your data represents the entire population, then compute the standard deviation using STDEV.P."
   ]
  },
  {
   "cell_type": "markdown",
   "metadata": {},
   "source": [
    "#### Generate samples of the population and use STDEV.P and STDEV.S to calculate standard deviation\n",
    "\n",
    "I will use numpy.random.choice to choose random values from my full population of 1000 to create samples of different sizes [18]. numpy.random.choice generates a random sample from a given one dimensional array.\n",
    "\n",
    "I will then use the STDEV.S and STDEV.P calculations to estimate the standard deviation of the population based on each sample size and see what the results show."
   ]
  },
  {
   "cell_type": "code",
   "execution_count": 21,
   "metadata": {},
   "outputs": [],
   "source": [
    "# commented out, more efficient to generate different sample sizes in a loop\n",
    "\n",
    "# numpy.random.choice to generate samples from the full population of 100 [18]\n",
    "#sample5 = np.random.choice(population, size=5)\n",
    "#sample10 = np.random.choice(population, size=10)\n",
    "#sample20 = np.random.choice(population, size=20)\n",
    "#sample30 = np.random.choice(population, size=30)\n",
    "#sample40 = np.random.choice(population, size=40)\n",
    "#sample50 = np.random.choice(population, size=50)\n",
    "#sample60 = np.random.choice(population, size=60)\n",
    "#sample80 = np.random.choice(population, size=80)"
   ]
  },
  {
   "cell_type": "markdown",
   "metadata": {},
   "source": [
    "#### Steps Involved\n",
    "\n",
    "* I have created an array of sample sizes and looped through the array each time generating an array of the sample size using numpy.random.choice. The replace argument has been set to true so the same values can be selected for different sample sizes.\n",
    "* On each iteration of the loop I have calculated the standard deviation using STDEV.P and STDEV.S calculations and appended the results to an empty array.\n",
    "* I have added the standard deviation of the full population as calculated by STDEV.P to an array at each iteration, solely for the purpose of comparison to the result of STDEV.P and STDEV.S for each sample size.\n",
    "* I have compared the STDEV.P and STDEV.S estimates for standard deviation based on samples to the actual population standard deviation calculated using STDEV.P for comparison purposes.\n",
    "* I have created a pandas dataframe and added the results for each sample size to the dataframe for ease of viewing and comparison."
   ]
  },
  {
   "cell_type": "code",
   "execution_count": 22,
   "metadata": {},
   "outputs": [],
   "source": [
    "# create an array of sample sizes \n",
    "#sample_sizes = [5, 10, 15, 20, 25, 40, 50, 60, 75, 80, 90]\n",
    "sample_sizes = [50, 100, 150, 200, 250, 400, 500, 600, 750, 800, 900]\n",
    "\n",
    "# create an empty array to append the results to\n",
    "# pop will contain the STDEV.P calculation for each sample size \n",
    "pop = []\n",
    "# samp will contain the STDEV.S calculation for each sample size\n",
    "samp = []\n",
    "# pop_stddev will contain the standard deviation of the entire population for each sample size, for comparison purposes\n",
    "pop_stddev = []\n",
    "# append the difference between the actual population standard deviation and the STDEV.P estimate\n",
    "P_difference = []\n",
    "# append the difference between the actual population standard deviation and the STDEV.S estimate\n",
    "S_difference = []\n",
    "\n",
    "\n",
    "# loop through the sample sizes \n",
    "for s in sample_sizes:\n",
    "    # for each sample size numpy.random.choice will generate a random sample from population of that size\n",
    "    sample = np.random.choice(population, size = s, replace = True)\n",
    "    # calculate the standard deviation using the STDEV.P formula\n",
    "    P = np.sqrt(np.sum((sample - np.mean(sample))**2)/len(sample))\n",
    "    # calculate the standard deviation using the STDEV.S formula\n",
    "    S = np.sqrt(np.sum((sample - np.mean(sample))**2)/(len(sample)-1))\n",
    "    # This is the standard deviation of the entire population generated by the STDEV.P calculation\n",
    "    total = np.sqrt(np.sum((population - np.mean(population))**2)/len(population))\n",
    "    # calculate the difference between the standard deviation of population and STDEV.P estimate based on sample\n",
    "    P_diff = abs(total - P)\n",
    "    # calculate the difference between the standard deviation of population and STDEV.S estimate based on sample\n",
    "    S_diff = abs(total - S)\n",
    "    # append the results for the STDEV.P and STDEV.S calculations to the empty arrays created earlier \n",
    "    pop.append(P)\n",
    "    samp.append(S)\n",
    "    # append the actual standard deviation of the full population to the array created earlier\n",
    "    pop_stddev.append(total)\n",
    "    # append the difference between the actual population standard deviation and the STDEV.P and STDEV.S estimates\n",
    "    P_difference.append(P_diff)\n",
    "    S_difference.append(S_diff)"
   ]
  },
  {
   "cell_type": "code",
   "execution_count": 23,
   "metadata": {},
   "outputs": [
    {
     "data": {
      "text/plain": [
       "[0.8917964106095101,\n",
       " 0.8762612653877607,\n",
       " 0.8982412825361337,\n",
       " 0.9822831648299549,\n",
       " 0.9204620726489032,\n",
       " 0.8813917092228221,\n",
       " 0.9877050188134336,\n",
       " 0.9427343587801946,\n",
       " 0.9727064533826849,\n",
       " 0.9170903940765405,\n",
       " 0.9337782407859978]"
      ]
     },
     "execution_count": 23,
     "metadata": {},
     "output_type": "execute_result"
    }
   ],
   "source": [
    "# display the STDEV.P standard deviation calculated \n",
    "pop"
   ]
  },
  {
   "cell_type": "code",
   "execution_count": 24,
   "metadata": {},
   "outputs": [
    {
     "data": {
      "text/plain": [
       "[0.9008504133997248,\n",
       " 0.8806757077615877,\n",
       " 0.9012504744912089,\n",
       " 0.9847481201857657,\n",
       " 0.9223085380405435,\n",
       " 0.882495518934275,\n",
       " 0.9886942078633668,\n",
       " 0.9435209541267036,\n",
       " 0.9733555735439405,\n",
       " 0.9176641134908516,\n",
       " 0.9342974391807363]"
      ]
     },
     "execution_count": 24,
     "metadata": {},
     "output_type": "execute_result"
    }
   ],
   "source": [
    "# display the STDEV.S standard deviation calculated \n",
    "samp"
   ]
  },
  {
   "cell_type": "code",
   "execution_count": 25,
   "metadata": {},
   "outputs": [
    {
     "data": {
      "text/plain": [
       "[0.9572890280837493,\n",
       " 0.9572890280837493,\n",
       " 0.9572890280837493,\n",
       " 0.9572890280837493,\n",
       " 0.9572890280837493,\n",
       " 0.9572890280837493,\n",
       " 0.9572890280837493,\n",
       " 0.9572890280837493,\n",
       " 0.9572890280837493,\n",
       " 0.9572890280837493,\n",
       " 0.9572890280837493]"
      ]
     },
     "execution_count": 25,
     "metadata": {},
     "output_type": "execute_result"
    }
   ],
   "source": [
    "# display the standard deviation of the full population calculated using the STDEV.P calculation\n",
    "pop_stddev"
   ]
  },
  {
   "cell_type": "code",
   "execution_count": 26,
   "metadata": {},
   "outputs": [
    {
     "data": {
      "text/plain": [
       "[0.06549261747423918,\n",
       " 0.08102776269598855,\n",
       " 0.059047745547615604,\n",
       " 0.024994136746205653,\n",
       " 0.03682695543484604,\n",
       " 0.07589731886092721,\n",
       " 0.030415990729684372,\n",
       " 0.014554669303554646,\n",
       " 0.015417425298935639,\n",
       " 0.0401986340072088,\n",
       " 0.023510787297751468]"
      ]
     },
     "execution_count": 26,
     "metadata": {},
     "output_type": "execute_result"
    }
   ],
   "source": [
    "# difference between STDEV.P of sample and STDEV.P of full population\n",
    "P_difference"
   ]
  },
  {
   "cell_type": "code",
   "execution_count": 27,
   "metadata": {},
   "outputs": [
    {
     "data": {
      "text/plain": [
       "[0.056438614684024446,\n",
       " 0.07661332032216162,\n",
       " 0.0560385535925404,\n",
       " 0.02745909210201647,\n",
       " 0.0349804900432058,\n",
       " 0.07479350914947425,\n",
       " 0.03140517977961754,\n",
       " 0.013768073957045712,\n",
       " 0.01606654546019126,\n",
       " 0.03962491459289763,\n",
       " 0.022991588903013005]"
      ]
     },
     "execution_count": 27,
     "metadata": {},
     "output_type": "execute_result"
    }
   ],
   "source": [
    "# difference between STDEV.S sample and STDEV.P of full population\n",
    "S_difference"
   ]
  },
  {
   "cell_type": "markdown",
   "metadata": {},
   "source": [
    "#### Display the results in a pandas dataframe"
   ]
  },
  {
   "cell_type": "code",
   "execution_count": 28,
   "metadata": {},
   "outputs": [
    {
     "data": {
      "text/html": [
       "<div>\n",
       "<style scoped>\n",
       "    .dataframe tbody tr th:only-of-type {\n",
       "        vertical-align: middle;\n",
       "    }\n",
       "\n",
       "    .dataframe tbody tr th {\n",
       "        vertical-align: top;\n",
       "    }\n",
       "\n",
       "    .dataframe thead th {\n",
       "        text-align: right;\n",
       "    }\n",
       "</style>\n",
       "<table border=\"1\" class=\"dataframe\">\n",
       "  <thead>\n",
       "    <tr style=\"text-align: right;\">\n",
       "      <th>Sample Size</th>\n",
       "      <th>50</th>\n",
       "      <th>100</th>\n",
       "      <th>150</th>\n",
       "      <th>200</th>\n",
       "      <th>250</th>\n",
       "      <th>400</th>\n",
       "      <th>500</th>\n",
       "      <th>600</th>\n",
       "      <th>750</th>\n",
       "      <th>800</th>\n",
       "      <th>900</th>\n",
       "    </tr>\n",
       "  </thead>\n",
       "  <tbody>\n",
       "    <tr>\n",
       "      <th>STDEV.P Sample</th>\n",
       "      <td>0.891796</td>\n",
       "      <td>0.876261</td>\n",
       "      <td>0.898241</td>\n",
       "      <td>0.982283</td>\n",
       "      <td>0.920462</td>\n",
       "      <td>0.881392</td>\n",
       "      <td>0.987705</td>\n",
       "      <td>0.942734</td>\n",
       "      <td>0.972706</td>\n",
       "      <td>0.917090</td>\n",
       "      <td>0.933778</td>\n",
       "    </tr>\n",
       "    <tr>\n",
       "      <th>STDEV.S Sample</th>\n",
       "      <td>0.900850</td>\n",
       "      <td>0.880676</td>\n",
       "      <td>0.901250</td>\n",
       "      <td>0.984748</td>\n",
       "      <td>0.922309</td>\n",
       "      <td>0.882496</td>\n",
       "      <td>0.988694</td>\n",
       "      <td>0.943521</td>\n",
       "      <td>0.973356</td>\n",
       "      <td>0.917664</td>\n",
       "      <td>0.934297</td>\n",
       "    </tr>\n",
       "    <tr>\n",
       "      <th>STDEV.P Population</th>\n",
       "      <td>0.957289</td>\n",
       "      <td>0.957289</td>\n",
       "      <td>0.957289</td>\n",
       "      <td>0.957289</td>\n",
       "      <td>0.957289</td>\n",
       "      <td>0.957289</td>\n",
       "      <td>0.957289</td>\n",
       "      <td>0.957289</td>\n",
       "      <td>0.957289</td>\n",
       "      <td>0.957289</td>\n",
       "      <td>0.957289</td>\n",
       "    </tr>\n",
       "    <tr>\n",
       "      <th>STDEV.P difference</th>\n",
       "      <td>0.065493</td>\n",
       "      <td>0.081028</td>\n",
       "      <td>0.059048</td>\n",
       "      <td>0.024994</td>\n",
       "      <td>0.036827</td>\n",
       "      <td>0.075897</td>\n",
       "      <td>0.030416</td>\n",
       "      <td>0.014555</td>\n",
       "      <td>0.015417</td>\n",
       "      <td>0.040199</td>\n",
       "      <td>0.023511</td>\n",
       "    </tr>\n",
       "    <tr>\n",
       "      <th>STDEV.S difference</th>\n",
       "      <td>0.056439</td>\n",
       "      <td>0.076613</td>\n",
       "      <td>0.056039</td>\n",
       "      <td>0.027459</td>\n",
       "      <td>0.034980</td>\n",
       "      <td>0.074794</td>\n",
       "      <td>0.031405</td>\n",
       "      <td>0.013768</td>\n",
       "      <td>0.016067</td>\n",
       "      <td>0.039625</td>\n",
       "      <td>0.022992</td>\n",
       "    </tr>\n",
       "  </tbody>\n",
       "</table>\n",
       "</div>"
      ],
      "text/plain": [
       "Sample Size              50        100       150       200       250  \\\n",
       "STDEV.P Sample      0.891796  0.876261  0.898241  0.982283  0.920462   \n",
       "STDEV.S Sample      0.900850  0.880676  0.901250  0.984748  0.922309   \n",
       "STDEV.P Population  0.957289  0.957289  0.957289  0.957289  0.957289   \n",
       "STDEV.P difference  0.065493  0.081028  0.059048  0.024994  0.036827   \n",
       "STDEV.S difference  0.056439  0.076613  0.056039  0.027459  0.034980   \n",
       "\n",
       "Sample Size              400       500       600       750       800       900  \n",
       "STDEV.P Sample      0.881392  0.987705  0.942734  0.972706  0.917090  0.933778  \n",
       "STDEV.S Sample      0.882496  0.988694  0.943521  0.973356  0.917664  0.934297  \n",
       "STDEV.P Population  0.957289  0.957289  0.957289  0.957289  0.957289  0.957289  \n",
       "STDEV.P difference  0.075897  0.030416  0.014555  0.015417  0.040199  0.023511  \n",
       "STDEV.S difference  0.074794  0.031405  0.013768  0.016067  0.039625  0.022992  "
      ]
     },
     "execution_count": 28,
     "metadata": {},
     "output_type": "execute_result"
    }
   ],
   "source": [
    "# import pandas\n",
    "import pandas as pd\n",
    "# create a pandas dataframe\n",
    "df = pd.DataFrame()\n",
    "# create a column of data called Sample size and populate with the array of sample sizes \n",
    "df['Sample Size'] = sample_sizes\n",
    "# create a column of data for the STDEV.P calculation and populate with the data in the pop array\n",
    "df['STDEV.P Sample'] = pop\n",
    "# create a column of data for the STDEV.S calculation and populate with the data in the samp array\n",
    "df['STDEV.S Sample'] = samp\n",
    "# add the actual standard deviation of the population to the dataframe\n",
    "df['STDEV.P Population'] = pop_stddev\n",
    "# the difference between standard deviation of the population and STDEV.P estimate based on sample\n",
    "df['STDEV.P difference'] = P_difference\n",
    "# the difference between standard deviation of the population and STDEV.S estimate based on sample\n",
    "df['STDEV.S difference'] = S_difference\n",
    "\n",
    "# set the index in place as Sample Size \n",
    "df.set_index('Sample Size', inplace=True)\n",
    "# transpose the dataframe, flip the columns and rows, looks better this way\n",
    "df.T"
   ]
  },
  {
   "cell_type": "code",
   "execution_count": 29,
   "metadata": {},
   "outputs": [
    {
     "data": {
      "text/plain": [
       "0.45017988258618813"
      ]
     },
     "execution_count": 29,
     "metadata": {},
     "output_type": "execute_result"
    }
   ],
   "source": [
    "# sum the total of the differenece between STDEV.P population and STDEV.S sample for each sample size \n",
    "sum(S_difference)"
   ]
  },
  {
   "cell_type": "code",
   "execution_count": 30,
   "metadata": {},
   "outputs": [
    {
     "data": {
      "text/plain": [
       "0.46738404339695716"
      ]
     },
     "execution_count": 30,
     "metadata": {},
     "output_type": "execute_result"
    }
   ],
   "source": [
    "# sum the total of the differenece between STDEV.P population and STDEV.P sample for each sample size \n",
    "sum(P_difference)"
   ]
  },
  {
   "cell_type": "markdown",
   "metadata": {},
   "source": [
    "#### Plot the data\n",
    "\n",
    "I have added a plot showing the STDEV.P and STDEV.S calculations for each sample size and the standard deviation of the full population as calculated by STDEV.P below."
   ]
  },
  {
   "cell_type": "code",
   "execution_count": 31,
   "metadata": {},
   "outputs": [
    {
     "data": {
      "image/png": "[encoded data removed]",
      "text/plain": [
       "<Figure size 1440x720 with 1 Axes>"
      ]
     },
     "metadata": {
      "needs_background": "light"
     },
     "output_type": "display_data"
    }
   ],
   "source": [
    "# customise with rcparams \n",
    "plt.rcParams['figure.figsize'] = (20, 10)\n",
    "plt.rcParams['lines.linewidth'] = 2.5\n",
    "\n",
    "# add the data to be plotted \n",
    "# label added for legend\n",
    "plt.plot(df['STDEV.P Sample'], marker = 'o', markersize = 14, label = 'STDEV.P sample')\n",
    "plt.plot(df['STDEV.S Sample'], marker = 'x', markersize = 14, label = 'STDEV.S sample')\n",
    "plt.plot(df['STDEV.P Population'], label = 'Population Std Dev')\n",
    "# add labels for the x and y axis and a plot title\n",
    "plt.title(\"STDEV.P and STDEV.S estimate of standard deviation based on samples\", fontsize = 18)\n",
    "plt.xlabel(\"Sample Size\", fontsize = 16)\n",
    "plt.ylabel(\"Standard Deviation\", fontsize = 16)\n",
    "# add a legend and grid to the plot\n",
    "plt.legend()\n",
    "plt.grid()"
   ]
  },
  {
   "cell_type": "markdown",
   "metadata": {},
   "source": [
    "### Task 3 Conclusion & Learnings\n",
    "\n"
   ]
  },
  {
   "cell_type": "markdown",
   "metadata": {},
   "source": [
    "* STDEV.P can be used to calculate standard deviation when we have all the data points in a population.\n",
    "* STDEV.S can be used to to estimate the standard deviation of a full population when we have only a sample of the data points of a full population.\n",
    "* STDEV.S has one degree of freedom built into the calculation which is said to produce a more accurate estimate for the standard deviation of a population when only a sample of the data is available.\n",
    "* numpy can be used to calculate the standard deviation in the same way as STDEV.P and the same way as STDEV.S with one degree of freedom allowed.\n",
    "* I simulated a full population of 1,000 data points using numpy.random.normal with a mean of 10 and a standard deviation of 1. I used STDEV.P to calculate the standard deviation of the population.\n",
    "* I then used numpy.random.choice to generate samples of different sizes from the full population.\n",
    "* For each sample size I calculated an estimation of the standard deviation of the full population based on that sample of data using both the STDEV.P and STDEV.S calculations.\n",
    "* I also subtracted the difference between the STDEV.P calculation based on the full population and the STDEV.P and STDEV.S calculations based on each sample size and summed the difference.\n",
    "* The result of my experiment was that STDEV.S produced a slightly more accurate result over all the sample sizes that I generated.\n",
    "* I cannot say for sure whether STDEV.S is a more accurate estimate for the standard deviation when performed on a sample.\n",
    "* I can say with a reasonably high degree of confidence that when estimating the standard deviation of a population based on a sample of the population that the bigger the sample is the more accurate the standard deviation calculated based on that sample will be.\n",
    "* This is evident in the plot of the STDEV.P and STDEV.S estimations based on my samples above.\n",
    "* The two smallest sample sizes have the estimates which are the furthest from the actual standard deviation of the population.\n",
    "* I could also say there may be some element of luck involved too in the sampling of data from the population too as some of the smaller samples have closer estimations for standard deviation than some of the larger samples.\n",
    "* I found the topic interesting and I could continue to research but due to time constraints I have this leave it here."
   ]
  },
  {
   "cell_type": "markdown",
   "metadata": {},
   "source": [
    "### Task 3 References "
   ]
  },
  {
   "cell_type": "markdown",
   "metadata": {},
   "source": [
    "[1] Microsoft support; STDEV.S; https://support.microsoft.com/en-us/office/stdev-s-function-7d69cf97-0c1f-4acf-be27-f3e83904cc23#:~:text=Remarks-,STDEV.,P.\n",
    "\n",
    "[2] Microsoft support; STDEV.P; https://support.microsoft.com/en-us/office/stdev-p-function-6e917c05-31a0-496f-ade7-4f4e7462f285\n",
    "\n",
    "[3] Youtube; =StDev.S And =StDev.P (What Is The Difference?) | How To Use Excel; https://www.youtube.com/watch?v=NdIVwuwfMIg\n",
    "\n",
    "[4] Excel-easy; Standard Deviation; https://www.excel-easy.com/examples/standard-deviation.html\n",
    "\n",
    "[5] SciPy.org; numpy.random.normal; https://docs.scipy.org/doc/numpy-1.16.0/reference/generated/numpy.random.normal.html#numpy.random.normal\n",
    "\n",
    "[6] numpy; numpy.std; https://numpy.org/devdocs/reference/generated/numpy.std.html\n",
    "\n",
    "[7] ExcelTip; How To Use Excel STDEV.P Function; https://www.exceltip.com/statistical-formulas/how-to-use-excel-stdev-p-function.html\n",
    "\n",
    "[8] ExcelTip; How to use the STDEV.S function in Excel; https://www.exceltip.com/statistical-formulas/how-to-use-stdev-s-function-in-excel.html\n",
    "\n",
    "[9] Towards data science; Why computing standard deviation in pandas and NumPy yields different results?; https://towardsdatascience.com/why-computing-standard-deviation-in-pandas-and-numpy-yields-different-results-5b475e02d112\n",
    "\n",
    "[10] GeeksforGekks;stdev() method in Python statistics module; https://www.geeksforgeeks.org/python-statistics-stdev/#:~:text=Statistics%20module%20in%20Python%20provides,rather%20than%20an%20entire%20population.\n",
    "\n",
    "[11]  matplotlib; matplotlib.pyplot documentation; https://matplotlib.org/3.2.1/api/_as_gen/matplotlib.pyplot.plot.html#matplotlib.pyplot.plot\n",
    "\n",
    "[12] matplotlib; Customizing Matplotlib with style sheets and rcParams; https://matplotlib.org/tutorials/introductory/customizing.html\n",
    "\n",
    "[13] IB Geography; standard deviation; https://sites.google.com/site/geographyfais/fieldwork/6-data-analysis/statistical-tools/basic-statistical-tools/7-standard-deviation\n",
    "\n",
    "[14] Khan Academy; Calculating standard deviation step by step; https://www.khanacademy.org/math/statistics-probability/summarizing-quantitative-data/variance-standard-deviation-population/a/calculating-standard-deviation-step-by-step\n",
    "\n",
    "[15] Laerd Statistics; Standard Deviation; https://statistics.laerd.com/statistical-guides/measures-of-spread-standard-deviation.php\n",
    "\n",
    "[16] Thought Co.; population vs sample standard deviations; https://www.thoughtco.com/population-vs-sample-standard-deviations-3126372\n",
    "\n",
    "[17] Statistics how to; Bessel's Correction; https://www.statisticshowto.com/bessels-correction/\n",
    "\n",
    "[18] Scipy.Org; numpy.random.choice; https://docs.scipy.org/doc//numpy-1.10.4/reference/generated/numpy.random.choice.html\n",
    "\n",
    "[19] pandas; pandas.DataFrame; https://pandas.pydata.org/pandas-docs/stable/reference/api/pandas.DataFrame.html\n",
    "\n",
    "[20] pandas; pandas.DataFrame.set_index; https://pandas.pydata.org/pandas-docs/stable/reference/api/pandas.DataFrame.set_index.html\n",
    "\n",
    "[21] pandas; pandas.DataFrame.transpose; https://pandas.pydata.org/pandas-docs/stable/reference/api/pandas.DataFrame.transpose.html\n",
    "\n",
    "[22] StackOverflow;How do I find the difference between two values without knowing which is larger?; https://stackoverflow.com/questions/13602170/how-do-i-find-the-difference-between-two-values-without-knowing-which-is-larger\n",
    "\n"
   ]
  },
  {
   "cell_type": "markdown",
   "metadata": {},
   "source": [
    "***"
   ]
  },
  {
   "cell_type": "markdown",
   "metadata": {},
   "source": [
    "## Task 4 "
   ]
  },
  {
   "cell_type": "markdown",
   "metadata": {},
   "source": [
    "4. November 30th, 2020: Use scikit-learn to apply k-means clustering to\n",
    "Fisher’s famous Iris data set. You will easily obtain a copy of the data set online. Explain in a Markdown cell how your code works and how accurate it might\n",
    "be, and then explain how your model could be used to make predictions of species\n",
    "of iris.\n"
   ]
  },
  {
   "cell_type": "markdown",
   "metadata": {},
   "source": [
    "### 4.1 Introduction\n",
    "\n",
    "#### Plan to complete this task\n",
    "\n",
    "* Obtain a copy of the Fisher's Iris data set online.\n",
    "* Include the data set in this notebook and give a brief introduction to the data set and data contained within it.\n",
    "* Use scikit-learn to apply k-means clustering to the Iris data set.\n",
    "* Explain how the code works in a markdown cell.\n",
    "* How accurate is the code?\n",
    "* Explain how the model could be used to make predictions of species of iris."
   ]
  },
  {
   "cell_type": "markdown",
   "metadata": {},
   "source": [
    "### 4.2 Introduction to Fisher's Iris data set\n",
    "\n",
    "The Fisher's Iris data set is a multivariate data set that was introduced by Ronald Fisher in 1936 in his paper - \"The use of multiple measurements in taxonomic problems\". The data set is also referred to as the Edgar Anderson data set as it was Edgar Anderson who collected the data.\n",
    "\n",
    "\"It is sometimes called Anderson’s Iris data set because Edgar Anderson collected the data to quantify themorphologic variation of Iris ﬂowers of three related species.\" [1]. \n",
    "\n",
    "#### Contents of the Fisher's Iris Data Set\n",
    "\n",
    "There are 150 rows of data in the data set in total, each representing a species of Iris flower. There are 3 species in total with 50 rows of data on each species.\n",
    "\n",
    "* Iris Setosa\n",
    "* Iris Versicolor\n",
    "* Iris Virginica\n",
    "\n",
    "\"The data set contains 3 classes of 50 instances each, where each class refers to a type of iris plant. One class is linearly separable from the other 2; the latter are NOT linearly separable from each other\" [2].\n",
    "\n",
    "Detailed below are the contents of each column of data in the data set:\n",
    "\n",
    "* Column 1 contains sepal length in cm\n",
    "* Column 2 contains sepal width in cm\n",
    "* Column 3 contains petal length in cm\n",
    "* Column 4 contains petal width in cm\n",
    "* Column 5 contains the name of the species of Iris flower\n",
    "\n",
    "\n",
    "I have saved a csv file containing the Iris data set in my repository and used pandas.read_csv to read in the data set and display in a pandas dataframe [3]."
   ]
  },
  {
   "cell_type": "code",
   "execution_count": 32,
   "metadata": {},
   "outputs": [
    {
     "data": {
      "text/html": [
       "<div>\n",
       "<style scoped>\n",
       "    .dataframe tbody tr th:only-of-type {\n",
       "        vertical-align: middle;\n",
       "    }\n",
       "\n",
       "    .dataframe tbody tr th {\n",
       "        vertical-align: top;\n",
       "    }\n",
       "\n",
       "    .dataframe thead th {\n",
       "        text-align: right;\n",
       "    }\n",
       "</style>\n",
       "<table border=\"1\" class=\"dataframe\">\n",
       "  <thead>\n",
       "    <tr style=\"text-align: right;\">\n",
       "      <th></th>\n",
       "      <th>sepal_length</th>\n",
       "      <th>sepal_width</th>\n",
       "      <th>petal_length</th>\n",
       "      <th>petal_width</th>\n",
       "      <th>species</th>\n",
       "    </tr>\n",
       "  </thead>\n",
       "  <tbody>\n",
       "    <tr>\n",
       "      <th>0</th>\n",
       "      <td>5.1</td>\n",
       "      <td>3.5</td>\n",
       "      <td>1.4</td>\n",
       "      <td>0.2</td>\n",
       "      <td>setosa</td>\n",
       "    </tr>\n",
       "    <tr>\n",
       "      <th>1</th>\n",
       "      <td>4.9</td>\n",
       "      <td>3.0</td>\n",
       "      <td>1.4</td>\n",
       "      <td>0.2</td>\n",
       "      <td>setosa</td>\n",
       "    </tr>\n",
       "    <tr>\n",
       "      <th>2</th>\n",
       "      <td>4.7</td>\n",
       "      <td>3.2</td>\n",
       "      <td>1.3</td>\n",
       "      <td>0.2</td>\n",
       "      <td>setosa</td>\n",
       "    </tr>\n",
       "    <tr>\n",
       "      <th>3</th>\n",
       "      <td>4.6</td>\n",
       "      <td>3.1</td>\n",
       "      <td>1.5</td>\n",
       "      <td>0.2</td>\n",
       "      <td>setosa</td>\n",
       "    </tr>\n",
       "    <tr>\n",
       "      <th>4</th>\n",
       "      <td>5.0</td>\n",
       "      <td>3.6</td>\n",
       "      <td>1.4</td>\n",
       "      <td>0.2</td>\n",
       "      <td>setosa</td>\n",
       "    </tr>\n",
       "    <tr>\n",
       "      <th>...</th>\n",
       "      <td>...</td>\n",
       "      <td>...</td>\n",
       "      <td>...</td>\n",
       "      <td>...</td>\n",
       "      <td>...</td>\n",
       "    </tr>\n",
       "    <tr>\n",
       "      <th>145</th>\n",
       "      <td>6.7</td>\n",
       "      <td>3.0</td>\n",
       "      <td>5.2</td>\n",
       "      <td>2.3</td>\n",
       "      <td>virginica</td>\n",
       "    </tr>\n",
       "    <tr>\n",
       "      <th>146</th>\n",
       "      <td>6.3</td>\n",
       "      <td>2.5</td>\n",
       "      <td>5.0</td>\n",
       "      <td>1.9</td>\n",
       "      <td>virginica</td>\n",
       "    </tr>\n",
       "    <tr>\n",
       "      <th>147</th>\n",
       "      <td>6.5</td>\n",
       "      <td>3.0</td>\n",
       "      <td>5.2</td>\n",
       "      <td>2.0</td>\n",
       "      <td>virginica</td>\n",
       "    </tr>\n",
       "    <tr>\n",
       "      <th>148</th>\n",
       "      <td>6.2</td>\n",
       "      <td>3.4</td>\n",
       "      <td>5.4</td>\n",
       "      <td>2.3</td>\n",
       "      <td>virginica</td>\n",
       "    </tr>\n",
       "    <tr>\n",
       "      <th>149</th>\n",
       "      <td>5.9</td>\n",
       "      <td>3.0</td>\n",
       "      <td>5.1</td>\n",
       "      <td>1.8</td>\n",
       "      <td>virginica</td>\n",
       "    </tr>\n",
       "  </tbody>\n",
       "</table>\n",
       "<p>150 rows × 5 columns</p>\n",
       "</div>"
      ],
      "text/plain": [
       "     sepal_length  sepal_width  petal_length  petal_width    species\n",
       "0             5.1          3.5           1.4          0.2     setosa\n",
       "1             4.9          3.0           1.4          0.2     setosa\n",
       "2             4.7          3.2           1.3          0.2     setosa\n",
       "3             4.6          3.1           1.5          0.2     setosa\n",
       "4             5.0          3.6           1.4          0.2     setosa\n",
       "..            ...          ...           ...          ...        ...\n",
       "145           6.7          3.0           5.2          2.3  virginica\n",
       "146           6.3          2.5           5.0          1.9  virginica\n",
       "147           6.5          3.0           5.2          2.0  virginica\n",
       "148           6.2          3.4           5.4          2.3  virginica\n",
       "149           5.9          3.0           5.1          1.8  virginica\n",
       "\n",
       "[150 rows x 5 columns]"
      ]
     },
     "execution_count": 32,
     "metadata": {},
     "output_type": "execute_result"
    }
   ],
   "source": [
    "iris_df = pd.read_csv(\"Fishers_Iris_data_set.csv\")\n",
    "iris_df"
   ]
  },
  {
   "cell_type": "markdown",
   "metadata": {},
   "source": [
    "pandas.Dataframe.shape returns a tuple representing the dimensionality of the dataframe [4].\n",
    "\n",
    "In this case there are 150 rows and 5 columns of data in the Iris data set."
   ]
  },
  {
   "cell_type": "code",
   "execution_count": 33,
   "metadata": {},
   "outputs": [
    {
     "data": {
      "text/plain": [
       "(150, 5)"
      ]
     },
     "execution_count": 33,
     "metadata": {},
     "output_type": "execute_result"
    }
   ],
   "source": [
    "iris_df.shape"
   ]
  },
  {
   "cell_type": "markdown",
   "metadata": {},
   "source": [
    "pandas.Dataframe.describe return some descriptive statistics about a dataframe [5].\n",
    "\n",
    "Output of pandas.dataframe.describe() explained:\n",
    "\n",
    "* count = total number of rows of data in the data set.\n",
    "* mean = the central tendency of the data.\n",
    "* std = standard deviation which is a measurement of the variance of each data point relative to the mean.\n",
    "* min = the smallest figure collected in each column of data.\n",
    "* 25% = the 25th percentile - meaning 25% of the total count of measurements collected fall below this measurement.\n",
    "* 50% = the 50th or median percentile meaning this is the central collected in each column, half of the data collected falls below this measurement and half is above this measurement.\n",
    "* 75% = the 75th percentile - meaning 75% of the total count of measurements collected fall below this measurement and 25% are above this measurement.\n",
    "* max = the largest measurement collected kin each column of data."
   ]
  },
  {
   "cell_type": "code",
   "execution_count": 34,
   "metadata": {},
   "outputs": [
    {
     "data": {
      "text/html": [
       "<div>\n",
       "<style scoped>\n",
       "    .dataframe tbody tr th:only-of-type {\n",
       "        vertical-align: middle;\n",
       "    }\n",
       "\n",
       "    .dataframe tbody tr th {\n",
       "        vertical-align: top;\n",
       "    }\n",
       "\n",
       "    .dataframe thead th {\n",
       "        text-align: right;\n",
       "    }\n",
       "</style>\n",
       "<table border=\"1\" class=\"dataframe\">\n",
       "  <thead>\n",
       "    <tr style=\"text-align: right;\">\n",
       "      <th></th>\n",
       "      <th>sepal_length</th>\n",
       "      <th>sepal_width</th>\n",
       "      <th>petal_length</th>\n",
       "      <th>petal_width</th>\n",
       "    </tr>\n",
       "  </thead>\n",
       "  <tbody>\n",
       "    <tr>\n",
       "      <th>count</th>\n",
       "      <td>150.000000</td>\n",
       "      <td>150.000000</td>\n",
       "      <td>150.000000</td>\n",
       "      <td>150.000000</td>\n",
       "    </tr>\n",
       "    <tr>\n",
       "      <th>mean</th>\n",
       "      <td>5.843333</td>\n",
       "      <td>3.054000</td>\n",
       "      <td>3.758667</td>\n",
       "      <td>1.198667</td>\n",
       "    </tr>\n",
       "    <tr>\n",
       "      <th>std</th>\n",
       "      <td>0.828066</td>\n",
       "      <td>0.433594</td>\n",
       "      <td>1.764420</td>\n",
       "      <td>0.763161</td>\n",
       "    </tr>\n",
       "    <tr>\n",
       "      <th>min</th>\n",
       "      <td>4.300000</td>\n",
       "      <td>2.000000</td>\n",
       "      <td>1.000000</td>\n",
       "      <td>0.100000</td>\n",
       "    </tr>\n",
       "    <tr>\n",
       "      <th>25%</th>\n",
       "      <td>5.100000</td>\n",
       "      <td>2.800000</td>\n",
       "      <td>1.600000</td>\n",
       "      <td>0.300000</td>\n",
       "    </tr>\n",
       "    <tr>\n",
       "      <th>50%</th>\n",
       "      <td>5.800000</td>\n",
       "      <td>3.000000</td>\n",
       "      <td>4.350000</td>\n",
       "      <td>1.300000</td>\n",
       "    </tr>\n",
       "    <tr>\n",
       "      <th>75%</th>\n",
       "      <td>6.400000</td>\n",
       "      <td>3.300000</td>\n",
       "      <td>5.100000</td>\n",
       "      <td>1.800000</td>\n",
       "    </tr>\n",
       "    <tr>\n",
       "      <th>max</th>\n",
       "      <td>7.900000</td>\n",
       "      <td>4.400000</td>\n",
       "      <td>6.900000</td>\n",
       "      <td>2.500000</td>\n",
       "    </tr>\n",
       "  </tbody>\n",
       "</table>\n",
       "</div>"
      ],
      "text/plain": [
       "       sepal_length  sepal_width  petal_length  petal_width\n",
       "count    150.000000   150.000000    150.000000   150.000000\n",
       "mean       5.843333     3.054000      3.758667     1.198667\n",
       "std        0.828066     0.433594      1.764420     0.763161\n",
       "min        4.300000     2.000000      1.000000     0.100000\n",
       "25%        5.100000     2.800000      1.600000     0.300000\n",
       "50%        5.800000     3.000000      4.350000     1.300000\n",
       "75%        6.400000     3.300000      5.100000     1.800000\n",
       "max        7.900000     4.400000      6.900000     2.500000"
      ]
     },
     "execution_count": 34,
     "metadata": {},
     "output_type": "execute_result"
    }
   ],
   "source": [
    "iris_df.describe()"
   ]
  },
  {
   "cell_type": "markdown",
   "metadata": {},
   "source": [
    "Now that I know a little about the data contained in the Iris data set I can move on to looking at scikit-learn and k-means."
   ]
  },
  {
   "cell_type": "markdown",
   "metadata": {},
   "source": [
    "### 4.3 Use scikit-learn to apply k-means clustering to the Iris data set\n",
    "\n"
   ]
  },
  {
   "cell_type": "markdown",
   "metadata": {},
   "source": [
    "I found a blog post that gives a good introduction to scikit-learn k-means clustering [8].\n",
    "\n",
    "Clustering is an unsupervised learning method that allows us to group set of objects based on similar characteristics. In general, it can help you find meaningful structure among your data, group similar data together and discover underlying patterns.\n",
    "One of the most common clustering methods is K-means algorithm. The goal of this algorithm is to partition the data into set such that the total sum of squared distances from each point to the mean point of the cluster is minimized [8].\n",
    "\n",
    "#### Supervised vs Unsupervised machine learning and clustering\n",
    "\n",
    "I found an explanation of the difference between supervised and unsupervised maching learning [10].\n",
    "\n",
    "Supervised Learning is the machine learning task of learning a function that maps an input to an output based on example input-output pairs. It infers a function from labeled training data consisting of a set of training examples.\n",
    "\n",
    "\n",
    "Unsupervised Learning is a type of machine learning that looks for previously undetected patterns in a data set with no pre-existing labels and with a minimum of human supervision.\n",
    "\n",
    "Cluster Analysis or Clustering is the task of grouping a set of objects in such a way that objects in the same group (called a cluster) are more similar (in some sense) to each other than to those in other groups (clusters).\n",
    "\n",
    "#### k-means clustering\n",
    "\n",
    "The most common and simplest clustering algorithm out there is the K-Means clustering. This algorithms involve you telling the algorithms how many possible cluster (or K) there are in the dataset. The algorithm then iteratively moves the k-centers and selects the datapoints that are closest to that centroid in the cluster [11].\n",
    "\n",
    "\n",
    "K means works through the following iterative process [8]:\n",
    "\n",
    "1. Pick a value for k (the number of clusters to create)\n",
    "2. Initialize k ‘centroids’ (starting points) in your data\n",
    "3. Create your clusters. Assign each point to the nearest centroid.\n",
    "4. Make your clusters better. Move each centroid to the center of its cluster.\n",
    "5. Repeat steps 3–4 until your centroids converge.\n",
    "\n",
    "K-means is often referred to as Lloyd’s algorithm. In basic terms, the algorithm has three steps. The first step chooses the initial centroids, with the most basic method being to choose  samples from the dataset . After initialization, K-means consists of looping between the two other steps. The first step assigns each sample to its nearest centroid. The second step creates new centroids by taking the mean value of all of the samples assigned to each previous centroid. The difference between the old and the new centroids are computed and the algorithm repeats these last two steps until this value is less than a threshold. In other words, it repeats until the centroids do not move significantly [12].\n",
    "\n",
    "\n",
    "#### Seaborn to visualise the Iris data set\n",
    "seaborn.pairplot is a plot that plots pairwaise relationships in a data set [6].\n",
    "\n",
    "I have plotted the Iris data set below to have a better look at the distribution/clustering of data for each species for sepal lenght, sepal wdith, petal lenght and petal width.\n",
    "\n",
    "The hue parameter can be added to specify which data should be mapped with different colours. In the plot below I have set the hue to plot each of the three specied of Iris flower in a different colour."
   ]
  },
  {
   "cell_type": "code",
   "execution_count": 35,
   "metadata": {},
   "outputs": [
    {
     "data": {
      "text/plain": [
       "<seaborn.axisgrid.PairGrid at 0x18ea8a9c8e0>"
      ]
     },
     "execution_count": 35,
     "metadata": {},
     "output_type": "execute_result"
    },
    {
     "data": {
      "image/png": "[encoded data removed]",
      "text/plain": [
       "<Figure size 804.75x720 with 20 Axes>"
      ]
     },
     "metadata": {
      "needs_background": "light"
     },
     "output_type": "display_data"
    }
   ],
   "source": [
    "import seaborn as sns\n",
    "sns.pairplot(iris_df, hue = 'species')"
   ]
  },
  {
   "cell_type": "markdown",
   "metadata": {},
   "source": [
    "#### Finding the optimal number of clusters\n",
    "\n",
    "The k-means clustering algorithm takes a paramter n_clusters which is the number of clusters to form. From my research on the topic I have found out that the elbow method is used to find the optimal number of clusters. \n",
    "\n",
    "One obvious question that may come to mind is the methodology for picking the K value. This is done using an elbow curve, where the x-axis is the K-value and the y axis is some objective function. A common objective function is the average distance between the datapoints and the nearest centroid. The best number for K is the “elbow” or kinked region. After this point, it is generally established that adding more clusters will not add significant value to your analysis [11].\n",
    "\n",
    "From the scikit-learn documentation [7]\n",
    "\n",
    "**n_clustersint, default=8**\n",
    "\n",
    "The number of clusters to form as well as the number of centroids to generate.\n",
    "\n",
    "In the case of the Iris data set the optimum number of clusters should be 3 as there are 3 species of Iris  flower in the data set. The pairplot above shows the clustering of data by the 3 species for sepal and petal lenght and width. "
   ]
  },
  {
   "cell_type": "markdown",
   "metadata": {},
   "source": [
    "#### Import required packages"
   ]
  },
  {
   "cell_type": "code",
   "execution_count": 48,
   "metadata": {},
   "outputs": [],
   "source": [
    "# Machine learning scikit learn clustering \n",
    "import sklearn.cluster as skcl\n",
    "# the iris data set can be loaded from skicit learn datasets\n",
    "from sklearn import datasets"
   ]
  },
  {
   "cell_type": "markdown",
   "metadata": {},
   "source": [
    "#### Load the Iris data set from scikit-learn\n",
    "\n",
    "I have found out now that the Iris data set can be loaded from scikit-learn datasets. "
   ]
  },
  {
   "cell_type": "code",
   "execution_count": 49,
   "metadata": {},
   "outputs": [],
   "source": [
    "# load the iris data set from scikit-learn datasets\n",
    "iris = datasets.load_iris()"
   ]
  },
  {
   "cell_type": "markdown",
   "metadata": {},
   "source": [
    "#### Perform kmeans fitting on the data set\n",
    "\n"
   ]
  },
  {
   "cell_type": "code",
   "execution_count": 50,
   "metadata": {},
   "outputs": [],
   "source": [
    "# variable X is set to be the the data set\n",
    "X = iris.data\n",
    "# vraiable y is set to be the target\n",
    "y = iris.target\n",
    "\n",
    "# fit the kmeans to the data set. Set number of clusters to be 3\n",
    "kmeans = skcl.KMeans(n_clusters=3).fit(X)\n",
    "# print out X to verify\n",
    "#X"
   ]
  },
  {
   "cell_type": "code",
   "execution_count": null,
   "metadata": {},
   "outputs": [],
   "source": []
  },
  {
   "cell_type": "markdown",
   "metadata": {},
   "source": [
    "#### See the labels of the points"
   ]
  },
  {
   "cell_type": "code",
   "execution_count": 51,
   "metadata": {},
   "outputs": [
    {
     "data": {
      "text/plain": [
       "array([1, 1, 1, 1, 1, 1, 1, 1, 1, 1, 1, 1, 1, 1, 1, 1, 1, 1, 1, 1, 1, 1,\n",
       "       1, 1, 1, 1, 1, 1, 1, 1, 1, 1, 1, 1, 1, 1, 1, 1, 1, 1, 1, 1, 1, 1,\n",
       "       1, 1, 1, 1, 1, 1, 0, 0, 2, 0, 0, 0, 0, 0, 0, 0, 0, 0, 0, 0, 0, 0,\n",
       "       0, 0, 0, 0, 0, 0, 0, 0, 0, 0, 0, 2, 0, 0, 0, 0, 0, 0, 0, 0, 0, 0,\n",
       "       0, 0, 0, 0, 0, 0, 0, 0, 0, 0, 0, 0, 2, 0, 2, 2, 2, 2, 0, 2, 2, 2,\n",
       "       2, 2, 2, 0, 0, 2, 2, 2, 2, 0, 2, 0, 2, 0, 2, 2, 0, 0, 2, 2, 2, 2,\n",
       "       2, 0, 2, 2, 2, 2, 0, 2, 2, 2, 0, 2, 2, 2, 0, 2, 2, 0])"
      ]
     },
     "execution_count": 51,
     "metadata": {},
     "output_type": "execute_result"
    }
   ],
   "source": [
    "# See the labels of the points \n",
    "kmeans.labels_"
   ]
  },
  {
   "cell_type": "markdown",
   "metadata": {},
   "source": [
    "#### See the centroids"
   ]
  },
  {
   "cell_type": "code",
   "execution_count": 52,
   "metadata": {},
   "outputs": [
    {
     "data": {
      "text/plain": [
       "array([[5.9016129 , 2.7483871 , 4.39354839, 1.43387097],\n",
       "       [5.006     , 3.428     , 1.462     , 0.246     ],\n",
       "       [6.85      , 3.07368421, 5.74210526, 2.07105263]])"
      ]
     },
     "execution_count": 52,
     "metadata": {},
     "output_type": "execute_result"
    }
   ],
   "source": [
    "kmeans.cluster_centers_"
   ]
  },
  {
   "cell_type": "code",
   "execution_count": null,
   "metadata": {},
   "outputs": [],
   "source": []
  },
  {
   "cell_type": "markdown",
   "metadata": {},
   "source": [
    "### Task 4 Conclusion & Learnings "
   ]
  },
  {
   "cell_type": "markdown",
   "metadata": {},
   "source": [
    "### Task 4 References \n",
    "\n",
    "[1] Academia; Report on Edgar Anderson's iris data set; https://www.academia.edu/13069408/Report_on_Edgar_Anderson_s_Iris_Data_Analysis\n",
    "\n",
    "[2] UCI Machine Learning Repository; Iris data set; http://archive.ics.uci.edu/ml/datasets/iris\n",
    "\n",
    "[3] pandas, pandas.read_csv; https://pandas.pydata.org/pandas-docs/stable/reference/api/pandas.read_csv.html\n",
    "\n",
    "[4] pandas; pandas.Dataframe.shape; https://pandas.pydata.org/pandas-docs/stable/reference/api/pandas.DataFrame.shape.html\n",
    "\n",
    "[5] pandas; pandas.Dataframe.describe; https://pandas.pydata.org/pandas-docs/stable/reference/api/pandas.DataFrame.describe.html\n",
    "\n",
    "[6] seaborn; seaborn pairplot; https://seaborn.pydata.org/generated/seaborn.pairplot.html\n",
    "\n",
    "[7] scikit learn; sklearn.cluster.KMeans; https://scikit-learn.org/stable/modules/generated/sklearn.cluster.KMeans.html\n",
    "\n",
    "[8] Medium; PREDICTING IRIS FLOWER SPECIES WITH K-MEANS CLUSTERING IN PYTHON;  https://medium.com/@belen.sanchez27/predicting-iris-flower-species-with-k-means-clustering-in-python-f6e46806aaee\n",
    "\n",
    "[9] Youtube Dragonfly Statistics; Scikit Learn - KMeans Clustering Analysis with the Iris Data Set;  https://www.youtube.com/watch?v=asW8tp1qiFQ\n",
    "\n",
    "[10] Medium; Cluster Analysis With Iris Data Set;  https://medium.com/swlh/cluster-analysis-with-iris-data-set-a7c4dd5f5d0\n",
    "\n",
    "[11] Towardsdatascience; Clustering based unsupervised learning; https://towardsdatascience.com/clustering-based-unsupervised-learning-8d705298ae51\n",
    "\n",
    "[12] scikit learn; 2.3 Clustering; https://scikit-learn.org/stable/modules/clustering.html#clustering"
   ]
  },
  {
   "cell_type": "markdown",
   "metadata": {},
   "source": [
    "### End \n",
    "********"
   ]
  }
 ],
 "metadata": {
  "kernelspec": {
   "display_name": "Python 3",
   "language": "python",
   "name": "python3"
  },
  "language_info": {
   "codemirror_mode": {
    "name": "ipython",
    "version": 3
   },
   "file_extension": ".py",
   "mimetype": "text/x-python",
   "name": "python",
   "nbconvert_exporter": "python",
   "pygments_lexer": "ipython3",
   "version": "3.8.3"
  }
 },
 "nbformat": 4,
 "nbformat_minor": 4
}
