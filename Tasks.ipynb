{
 "cells": [
  {
   "cell_type": "markdown",
   "metadata": {},
   "source": [
    "# Tasks\n",
    "\n",
    "**These are my solutions to the Tasks assessment in the Machine Learning and Statistics module at GMIT 2020.\n",
    "The author is John Dunne G00273895 (G00273895@gmit.ie).**\n",
    "\n",
    "***"
   ]
  },
  {
   "cell_type": "markdown",
   "metadata": {},
   "source": [
    "## Task 1 - Calculate the square root of 2 \n",
    "\n",
    "1. October 5th, 2020: Write a Python function called sqrt2 that calculates and\n",
    "prints to the screen the square root of 2 to 100 decimal places.Your code should\n",
    "not depend on any module from the standard library or otherwise. You should\n",
    "research the task first and include references and a description of your algorithm.\n",
    "\n",
    "******"
   ]
  },
  {
   "cell_type": "markdown",
   "metadata": {},
   "source": [
    "### My plan to complete this task\n",
    "\n",
    "I will break the task into smaller tasks:\n",
    "\n",
    "1. Research how the square root is calculated without the use of any imported modules.\n",
    "2. Implement a function that calculates the square root of 2 in this jupyter notebook.\n",
    "3. Carry out testing to check the implemented function returns the correct result.\n",
    "4. Have the result outputted in the format requested - 100 decimal places.\n",
    "5. Compile a list of references used to complete the task.\n",
    "\n",
    "**In order to do this I have broken task 1 into 5 sections**\n",
    "\n",
    "* 1.1 - My Research. \n",
    "* 1.2 - Write a function that calculates the square root of 2.\n",
    "* 1.3 - Test the function.\n",
    "* 1.4 - Output to the requested format - 100 decimal places. \n",
    "* 1.5 - List the references."
   ]
  },
  {
   "cell_type": "markdown",
   "metadata": {},
   "source": [
    "### 1.1 My Research\n",
    "\n",
    "*In this section I will outline the research I conducted into how to calculate the square root of 2 without using any modules from the Python standard library*"
   ]
  },
  {
   "cell_type": "markdown",
   "metadata": {},
   "source": [
    "Every number has two square roots, a negative and non-negative square root. The principal (non-negative) square root of most numbers is an irrational number. As a result of this, the decimal expansion of a square root can only be calculated to a precision [1]. In this task, I have been asked to calculate the square root of 2 to 100 decimal places so I think this point is noteworthy.\n",
    "\n",
    "In the lecture video on the square root of 2 [2], this was discussed where I learnt that the square root of 2 is an irrational number, meaning it cannot be expressed as an integer divided by another integer. Rational numbers are numbers than can be stored as one integer over another integer.\n",
    "\n",
    "An iterative approach to finding the square root of a number involves finding a suitable starting value followed by refinement until a termination criteria is met [1]. In plainer terms, to find the square root of a number 2, I would need to start with a suitable starting value and refine until we come to the closest approximation for the square root. The closer the starting value is to the square root, the less iterations will be required to come to the result. This starting value also known as the seed value should be a positive number between 1 and the value that we are trying to calculate the square root of. In my case, this would be a value between 1 and 2 as I am tasked with finding the square root of 2. The reason we have to start with a value in this range is that the square root of any number must fall into this range between 1 and that number.\n",
    "\n",
    "\n",
    "\n",
    "After some research I have found out that Newton's method is a suitable method that is commonly used to calculate the square root of a number."
   ]
  },
  {
   "cell_type": "markdown",
   "metadata": {},
   "source": [
    "#### Newtown-Raphson method to calculate square root"
   ]
  },
  {
   "cell_type": "markdown",
   "metadata": {},
   "source": [
    "The Newton-Raphson method or Newton's method is a root finding algorithm that uses an iterative approach to finding the square root of a number, producing better approximations for the square root at each iteration [3].\n",
    "\n",
    "A set of steps is is repeated over until we are satisified with the result or the method fails [6].\n",
    "\n",
    "Newton's method is a root finding method that uses linear approximation [4]. The algortihms starts with a guess and computes a sequence of improved guesses [7]. The algorithm is quite old dating back to Babylonian times. \n",
    "\n",
    "**Starting guess/ Seed**\n",
    "\n",
    "As I mentioned in the previous section, most iterative approaches to calculating the square root of a number require a starting value or seed and this is requred when using Newton's method.\n",
    "\n",
    "I found a  blog post [3] that outlines the steps involved when Newton's method is employed to calculate square root:\n",
    "\n",
    "* A starting value is assigned, which is a reasonable guess for the square root of the number.\n",
    "* This reasonable guess is added to the number we are looking to find the square root of, divided by the reasonable guess and divided by 2.\n",
    "\n",
    "This is displayed as a function on the blog post below where Xi is the reasonable guess:\n",
    "\n",
    "$$ x_i = (x_i + n/x_i) /2 $$\n",
    "\n",
    "I have included a real example here where we are trying to calculate the square root of 2 and 1 is the reasonable guess or starting value:\n",
    "\n",
    "$$ 1 = (1 + 2/1) /2 $$\n",
    "\n",
    "* Step 2 is continued until the most precise approximation of the square root is reached.\n",
    "* We are left with the closest approximation for the square root.\n",
    "\n",
    "With Newton's method a starting value slightly larger than the root will converge faster than a starting value slightly smaller than the root [1].\n",
    "\n",
    "**Example convergence**\n",
    "\n",
    "I found a paper that explains nicely the way Newton's method computes the square root of 2 [7]. In this case the starting guess is 1. The number of accurate digits at each iteration is highlighted in bold below:\n",
    "\n",
    "* **1**\n",
    "* **1**.5\n",
    "* **1.41**66666666666666666666666666666666666666666666666666666666675\n",
    "* **1.41421**56862745098039215686274509803921568627450980392156862745\n",
    "* **1.41421356237**46899106262955788901349101165596221157440445849057\n",
    "* **1.41421356237309504880168**96235025302436149819257761974284982890\n",
    "* **1.41421356237309504880168872420969807856967187537**72340015610125\n",
    "* **1.4142135623730950488016887242096980785696718753769480731766796**\n",
    "\n",
    "The number of accurate digits approximately doubles on each iteration [7]. \n"
   ]
  },
  {
   "cell_type": "markdown",
   "metadata": {},
   "source": [
    "### 1.2 Write a function that calculates the square root of 2 \n",
    "\n",
    "*In this section I will write a Python function called sqrt2 that calculates and prints to the screen the square root of 2 to 100 decimal places. The code should not depend on any module from the standard library or otherwise.*"
   ]
  },
  {
   "cell_type": "markdown",
   "metadata": {},
   "source": [
    "The below code example is included in the blog post on Newton's method [3]."
   ]
  },
  {
   "cell_type": "code",
   "execution_count": 1,
   "metadata": {},
   "outputs": [],
   "source": [
    "def mySqrt(x):\n",
    "\n",
    "    r = x\n",
    "    precision = 10 ** (-10)\n",
    "    \n",
    "    while abs(x - r * r) > precision:\n",
    "        r = (r + x / r) / 2\n",
    "        \n",
    "    return r"
   ]
  },
  {
   "cell_type": "markdown",
   "metadata": {},
   "source": [
    "I have spent some time examining the above code and I have included below my understanding of how the code works.\n",
    "\n",
    "My understanding of the above code is a while loop is used to iterate until we find the most precise match for the square root of x. The variable r is introduced and set to equal to x at the start of the function and taken as the starting value or guess of starting square root. I am thinking this is one thing I could change when I write the code myself as I have already learnt a good starting value is between 1 and the number we want to calculate the square root of. Therefore, setting the starting value to be equal to the value x here might not be the best starting value to use.\n",
    "\n",
    "The precision has been set and the loop will continue until this precision is met. The abs statment returns the absolute value of the calculation and checks if it is greater than the precision value. Whilst this condition is true the loop continues to run the function that I already highlighted in the previous section:\n",
    "\n",
    "$$ x_i = (x_i + n/x_i) /2 $$\n",
    "\n",
    "In this case:\n",
    "\n",
    "$$ r = (r + x / r) / 2 $$\n",
    "\n",
    "When the precision condition is met the loop terminates and the closest approximation to the square root is output.\n",
    "\n",
    "I will now try to implement this solution by writing a square root function myself."
   ]
  },
  {
   "cell_type": "markdown",
   "metadata": {},
   "source": [
    "#### My function to calculate square root of 2\n",
    "\n",
    "I did some testing to find a good seed value and eventually decided to hard code a seed value in my function. I added a counter to the function to count how many iterations of the while loop would execute before we arrived to the closest approximation for the square root of 2. I found that there wasnt a huge difference in the number of iterations required. I have recorded below a sample set of results that I noted:\n",
    "\n",
    "* Seed value 1 - 4 iterations\n",
    "* Seed value 2 - 4 iterations\n",
    "* Seed value 1.9 - 4 iterations\n",
    "* Seed value 1.45 - 3 iterations\n",
    "* Seed value 1.35 - 3 iterations \n",
    "\n",
    "In general, I draw the conclusion here that the closer the starting value is to the actual square root the faster the function executed. This is expected from the research that I conducted. I have commented out the print statments that I used for testing purposes in my function below.\n",
    "\n",
    "During testing, I added a print statement to the function for testing purposes to see the new value of s calculated at each iteration. I wanted to see the function working towards finding the closest approximation for the square root of 2 at each iteration. I have included the example print outs for a seed value of 1.35 below:\n",
    "\n",
    "* At iteration 1 the value of s was 1.4157407407407407\n",
    "* At iteration 2 the value of s was 1.414214386066904\n",
    "* At iteration 3 the value of s was 1.414213562373335\n",
    "* Square root calculated: 1.414213562373335\n",
    "\n",
    "You can remove the # in the function below when running if you would like the above statements to be printed out when running the function."
   ]
  },
  {
   "cell_type": "code",
   "execution_count": 2,
   "metadata": {},
   "outputs": [],
   "source": [
    "# Code originally adapted from [3] with my own changes made and comments added\n",
    "\n",
    "def sqrt2(x=2):\n",
    "    \"\"\"\n",
    "    A function to calculate the square root of 2. Function named as per assessment specification.\n",
    "    I have set the default value of the function to be 2 as I am only tasked in finding the square root of 2. \n",
    "    \n",
    "    I want the starting value/seed to somewhere between 1 and 2. I tested different starting values.\n",
    "    This should be a better starting value than in the code example in the blog post above.\n",
    "    \"\"\"\n",
    "    s = 1.35   \n",
    "    # starting value/seed set here, I ran tests on different seed values and decided to hard code this one\n",
    "    precision = 10 ** (-10)\n",
    "    # precision is defined here, same as in the code example in blog post\n",
    "    count = 0\n",
    "    # I have added a counter to see how many iterations it takes to get the result, printed out for testing\n",
    "    while abs(x - s * s) > precision:\n",
    "        s = (s + x / s) / 2\n",
    "        # while the absolute value of 2 minus the seed squared is greater than the precision required the loop continues\n",
    "        # the calculation I explained in the previous section is repeated at each iteration\n",
    "        count += 1\n",
    "        # counter incremented at each iteration\n",
    "        # commented out my print statements for testing below\n",
    "        #print(f\"At iteration {count} the value of s was {s}\")\n",
    "        # print out to see function working towards solution at each iteration\n",
    "        \n",
    "    #print(f\"Square root calculated in {count} iterations\")\n",
    "    # I added a print statement to print out how many iterations we needed, commented out\n",
    "    return s\n",
    "    #print(format(s, '.100f')) \n",
    "    # the value for the closest approximation of square root will be returned to the caller\n",
    "    "
   ]
  },
  {
   "cell_type": "markdown",
   "metadata": {},
   "source": [
    "#### Calling the function"
   ]
  },
  {
   "cell_type": "code",
   "execution_count": 3,
   "metadata": {},
   "outputs": [
    {
     "name": "stdout",
     "output_type": "stream",
     "text": [
      "The square root of 2 to 100 decimal places is calculated as:\n",
      "1.4142135623733349536479408925515599548816680908203125000000000000000000000000000000000000000000000000\n"
     ]
    }
   ],
   "source": [
    "result = sqrt2() # variable result set equal to the function sqrt2 called \n",
    "print(\"The square root of 2 to 100 decimal places is calculated as:\")\n",
    "print(format(result, '.100f')) #modified to print to 100 decimal places after research\n",
    "# format(result, '.100f')   #print out for testing\n",
    "#print('%.100f' % result)  #another way to display to 100 decimal places"
   ]
  },
  {
   "cell_type": "markdown",
   "metadata": {},
   "source": [
    "### 1.3 Test the function\n",
    "\n",
    "*In this section I should test is the function implemented above accurate.*"
   ]
  },
  {
   "cell_type": "markdown",
   "metadata": {},
   "source": [
    "#### Testing Accuracy\n",
    "I can test how accurate the square root returned by the function is with the below calculation:"
   ]
  },
  {
   "cell_type": "code",
   "execution_count": 4,
   "metadata": {},
   "outputs": [
    {
     "data": {
      "text/plain": [
       "2.0000000000006786"
      ]
     },
     "execution_count": 4,
     "metadata": {},
     "output_type": "execute_result"
    }
   ],
   "source": [
    "result * result\n",
    "# the result of the sqrt2 function is captured in a variable result\n",
    "# multiplying result by result to see how accurate the answer is"
   ]
  },
  {
   "cell_type": "markdown",
   "metadata": {},
   "source": [
    "The result shows the square root returned by the function is reasonably accurate. I remind myself here that my initial research told me the decimal expansion of a square root can only be calculated to a precision. I am satisifed this function works well and I just now need to figure out how to have the output formatted to 100 decimal places."
   ]
  },
  {
   "cell_type": "markdown",
   "metadata": {},
   "source": [
    "#### Compare result to result calculated by Python math module\n",
    "\n",
    "*In this section I import the math module from Python to test if the result of calculating the square root of 2 is the same as my algorithm.*\n",
    "\n",
    "There is a sqrt function within the math module that can be used to calculate the square root of a given number [8]."
   ]
  },
  {
   "cell_type": "code",
   "execution_count": 5,
   "metadata": {},
   "outputs": [
    {
     "name": "stdout",
     "output_type": "stream",
     "text": [
      "The square root of 2 according to the math module is: 1.4142135623730951\n",
      "And rounded to 100 decimal places:\n"
     ]
    },
    {
     "data": {
      "text/plain": [
       "'1.4142135623730951454746218587388284504413604736328125000000000000000000000000000000000000000000000000'"
      ]
     },
     "execution_count": 5,
     "metadata": {},
     "output_type": "execute_result"
    }
   ],
   "source": [
    "import math                     #math module imported\n",
    "sqr = math.sqrt(2)                # 2 passed in to sqrt function\n",
    "print(\"The square root of 2 according to the math module is:\" ,sqr)   \n",
    "print(\"And rounded to 100 decimal places:\")                                                         \n",
    "format(sqr,'.100f' )             #formt the answer to 100 decimal places"
   ]
  },
  {
   "cell_type": "code",
   "execution_count": 6,
   "metadata": {},
   "outputs": [
    {
     "data": {
      "text/plain": [
       "2.0000000000000004"
      ]
     },
     "execution_count": 6,
     "metadata": {},
     "output_type": "execute_result"
    }
   ],
   "source": [
    "math.sqrt(2) * math.sqrt(2)        #test the accuracy of square root\n",
    "\n",
    "# Example given in Ian Mcloughlin lecture video \"Tasks - getting started\""
   ]
  },
  {
   "cell_type": "markdown",
   "metadata": {},
   "source": [
    "**Testing Conclusion**\n",
    "\n",
    "I conclude here that the math module produces a very similiar result to the function I have implemented to calculate the square root of 2. I refer back to my research on the topic of calculating the square root of 2 that suggests it is not possible to calculate exactly the square root of 2 and that we can only produce an approximation. I conclude that the function I implemented was successful in producing a relatively accurate approximation of the square root of 2."
   ]
  },
  {
   "cell_type": "markdown",
   "metadata": {},
   "source": [
    "### 1.4 Output to requested format - 100 decimal places\n",
    "\n",
    "*In this section I need to figure out how to have the output of the function displayed to 100 decimal places.*"
   ]
  },
  {
   "cell_type": "markdown",
   "metadata": {},
   "source": [
    "I conducted some research and found a tutorial that explains how to format the number of decimal places displayed in a floating point number in Python [11]. There is a format function in Python that takes in a floating ppint number and displays it in output as a string to a given number of decimal places. I have returned to where I called my sqrt2 function above and added the format function to my print statement which successfully displayed the output to 100 decimal places.\n",
    "\n",
    "I noticed that when this is done that there are a sequence of zero's at the end of the number printed to 100 decimal places.\n",
    "\n",
    "**Why is that??**\n",
    "\n",
    "I conducted some research and found that floating point numbers are represented in computer hardware as base 2 or binary fractions. I found a detailed explanation of this in the Python documentations pages [12]. According to the Python documentation, most decimal fractions cannot be represented exactly as binary fractions. As a consequence the decimal floating point numbers we enter are only approximated by the binary floating point numbers actually stored on the computer. \n",
    "\n",
    "**Accuracy to 53 bits**\n",
    "\n",
    "Acccording to the documentation most machines today approximate floats to 53 bits using a binary fraction. Many users are unaware of this becaue of the way values are displayed. Python only prints an approximation of the true decimal value of the binary approximation stored by the machine [12]. I was unaware of this and this is a learning for me from completing this assignment.\n"
   ]
  },
  {
   "cell_type": "markdown",
   "metadata": {},
   "source": [
    "#### Increasing the accuracy of decimal representation in Python"
   ]
  },
  {
   "cell_type": "markdown",
   "metadata": {},
   "source": [
    "While researching having the output of my function printed to 100 decimal places I found a StackOverFlow post [9] that shows to use the Decimal module within Python to increase the accuracy of the decimal representation. I am not permitted to import any modules or libraries in order to fulfill this task but I thought it would be worthy of a mention as I found it interesting. I have included the code below:"
   ]
  },
  {
   "cell_type": "code",
   "execution_count": 7,
   "metadata": {},
   "outputs": [
    {
     "name": "stdout",
     "output_type": "stream",
     "text": [
      "The square root of 2 made accurate to 100 decimal places using the imported Decimal library is:\n"
     ]
    },
    {
     "data": {
      "text/plain": [
       "Decimal('1.414213562373095048801688724209698078569671875376948073176679737990732478462107038850387534327641573')"
      ]
     },
     "execution_count": 7,
     "metadata": {},
     "output_type": "execute_result"
    }
   ],
   "source": [
    "# code from stackoverflow post on increasing the accuracy of decimal numbers in Python [8]\n",
    "from decimal import *\n",
    "getcontext().prec = 100\n",
    "print(\"The square root of 2 made accurate to 100 decimal places using the imported Decimal library is:\")\n",
    "Decimal(2).sqrt()"
   ]
  },
  {
   "cell_type": "markdown",
   "metadata": {},
   "source": [
    "Further information on the Decimal module can be found at the Python Standard Library documentation [10]."
   ]
  },
  {
   "cell_type": "markdown",
   "metadata": {},
   "source": [
    "### Task 1 - Conclusion & Learnings \n",
    "\n",
    "*I have listed below some of the concluding points and some of the learnings I have taken from this task.*"
   ]
  },
  {
   "cell_type": "markdown",
   "metadata": {},
   "source": [
    "* The square root of 2 is irrational. The decimal expansion of the square root of 2 cannot be calculated to a precision. \n",
    "* Newton's method can be used to calculate an approximation for the square root of 2.\n",
    "* Newton's method works by starting at an assigned starting value (seed) and iterating over a set of steps until the closest approximation is reached.\n",
    "* I implemented Newton's method in this notebook to calculate the square root of 2. \n",
    "* I tested the accuracy of the result by comparing to the result returned by the sqrt function in the Python math module. \n",
    "* I researched how to have the the output displayed to 100 decimal places.\n",
    "* After displaying the output to 100 decimal places I noticed all the zero's at the end and did some further investigation.\n",
    "* I learnt that floating point numbers are represented in computer hardware as base 2 or binary fractions. Python approximates decimal expansion to 53 bits as a result of this.\n",
    "* Through my research I learnt the Decimal module in Python is one way that the accuracy of decimal representation can be increased. I included a section on this in the notebook."
   ]
  },
  {
   "cell_type": "markdown",
   "metadata": {},
   "source": [
    "### 1.5 - Task 1 - References"
   ]
  },
  {
   "cell_type": "markdown",
   "metadata": {},
   "source": [
    "[1] Wikipedia; Methods of Computing square roots; https://en.wikipedia.org/wiki/Methods_of_computing_square_roots\n",
    "\n",
    "[2] Learonline@GMIT; The square root of 2; https://learnonline.gmit.ie/mod/url/view.php?id=92021\n",
    "\n",
    "[3] Medium.com; How to Calculate the Square Root of a Number? — Newton-Raphson Method; https://medium.com/@surajregmi/how-to-calculate-the-square-root-of-a-number-newton-raphson-method-f8007714f64\n",
    "\n",
    "[4] Mathematical Python; Newton's Method; https://www.math.ubc.ca/~pwalls/math-python/roots-optimization/newton/\n",
    "\n",
    "[5] Wikipedia; Newton's method; https://en.wikipedia.org/wiki/Newton%27s_method\n",
    "\n",
    "[6] Computing Skillset; Newton's method explained; https://computingskillset.com/solving-equations/the-newton-raphson-method-explained-details-pictures-python-code/\n",
    "\n",
    "[7] math.mit; Square roots via Newton's Method; https://math.mit.edu/~stevenj/18.335/newton-sqrt.pdf\n",
    "\n",
    "[8]Python math documentation: https://docs.python.org/3/library/math.html\n",
    "\n",
    "[9]Stackoverflow; How can I show an irrational number to 100 decimal places in Python?; https://stackoverflow.com/questions/4733173/how-can-i-show-an-irrational-number-to-100-decimal-places-in-python?noredirect=1&lq=1\n",
    "\n",
    "[10] Python Decimal Library; Python - How to increase the accuracy of decimals; https://docs.python.org/3/library/decimal.html\n",
    "\n",
    "[11] Hands on Python Tutorial; 1.14 Decimals, Floats and floating point arithmetic; http://anh.cs.luc.edu/python/hands-on/3.1/handsonHtml/float.html\n",
    "\n",
    "[12] Python documentation; 15. Floating point artithmetic: Issues and limitations; https://docs.python.org/3/tutorial/floatingpoint.html\n",
    "\n",
    "**mathjax and markdown references:**\n",
    "\n",
    "* mathjax; documentation pages; http://docs.mathjax.org/en/latest/\n",
    "\n",
    "* Github; Mastering Markdown; https://guides.github.com/features/mastering-markdown/"
   ]
  },
  {
   "cell_type": "markdown",
   "metadata": {},
   "source": [
    "***"
   ]
  },
  {
   "cell_type": "markdown",
   "metadata": {},
   "source": [
    "## Task 2 - Chi-squared test for Independence "
   ]
  },
  {
   "cell_type": "markdown",
   "metadata": {},
   "source": [
    "2. November 2nd, 2020: The Chi-squared test for independence is a statistical\n",
    "hypothesis test like a t-test. It is used to analyse whether two categorical variables\n",
    "are independent. The Wikipedia article gives the table below as an example [4],\n",
    "stating the Chi-squared value based on it is approximately 24.6. Use scipy.stats\n",
    "to verify this value and calculate the associated p value. You should include a short\n",
    "note with references justifying your analysis in a markdown cell."
   ]
  },
  {
   "cell_type": "markdown",
   "metadata": {},
   "source": [
    "### 2.1 Introduction\n",
    "\n",
    "The task has been assigned and I have been given a link to the Wikipedia page on Chi-squared tests [1] as a starting point. The result of an analysis of the table has been given to me  with a Chi-squared value of 24.6.\n",
    "\n",
    "**Plan to complete task**\n",
    "\n",
    "* Provide some background information on this contigency table of data\n",
    "* Research how a Chi-squared test is done using scipy.stats \n",
    "* Conduct a Chi-squared test on this table of data using scipy.stats in this notebook\n",
    "* Verify the Chi-squared value provided of 24.6 is the same result that I get\n",
    "* Calculate the p value \n",
    "* Analyse the result \n",
    "* Compile a list of references \n",
    "\n",
    "I have inserted an image of the table below from the Wikipedia page [1] using the IPython.display image class that I read about in a blog post [2]."
   ]
  },
  {
   "cell_type": "code",
   "execution_count": 8,
   "metadata": {},
   "outputs": [
    {
     "data": {
      "image/png": "[encoded data removed]",
      "text/plain": [
       "<IPython.core.display.Image object>"
      ]
     },
     "execution_count": 8,
     "metadata": {
      "image/png": {
       "height": 300,
       "width": 600
      }
     },
     "output_type": "execute_result"
    }
   ],
   "source": [
    "# Import the Ipython.display image class as per blog post [2]\n",
    "from IPython.display import Image\n",
    "\n",
    "# Image loaded from img folder in this repository\n",
    "Image(filename = \"img/Chi-squared.PNG\", width = 600, height = 300)"
   ]
  },
  {
   "cell_type": "markdown",
   "metadata": {},
   "source": [
    "### 2.2 Research\n",
    "\n",
    "#### Contingency table explained\n",
    "\n",
    "In the case of this task I have been provided a contingency table of data. A contingency table is a type of table in a matrix that displays the frequency distribution of variables. They provide a picture of the interrelation between two variables [5].\n",
    "\n",
    "In the example contingeny table shown above [1] that I will work with in this task there are four neighbourhoods - A, B, C and D in a city with a population of 1,000,000 people. A random sample of 650 residents is taken and their occupation has been recorded into 3 categories - white collar, blue collar and no collar.\n",
    "\n",
    "There are 2 categorical variables in this data set:\n",
    "\n",
    "* neighbourhood\n",
    "* occupation\n",
    "\n",
    "The null hypothesis is that each person's neighbourhood is independent of their occupation.\n",
    "\n",
    "**Null hypothesis**\n",
    "\n",
    "In inferential statistics the null hypothesis is a general statement or default position that there is no difference between two measured phenomena or that two samples derive from the same general population [3]. In the case of the contingency table of data in this task the null hypothesis is that categorical variables neighbourhood and occupation are independent of each other.\n",
    "\n",
    "**Null hypothesis and alternative hypothesis**\n",
    "\n",
    "I found a blog post that explains this in further detail in relation to the Chi-square test [12]:\n",
    "\n",
    "Like any statistical hypothesis test, the Chi-square test has both a null hypothesis and an alternative hypothesis.\n",
    "\n",
    "Null hypothesis: There are no relationships between the categorical variables. If you know the value of one variable, it does not help you predict the value of another variable.\n",
    "\n",
    "Alternative hypothesis: There are relationships between the categorical variables. Knowing the value of one variable does help you predict the value of another variable.\n",
    "\n",
    "\n",
    "#### What is a Chi-squared test?\n",
    "\n",
    "I have been tasked with verifying using Scipy.stats that the Chi-squared value of this contingency table of data is approximately 24.6 and also to calculate the associated p-value.\n",
    "\n",
    "The Pearson's chi-squared statistical hypothesis is an example of a test for independence between categorical variables [6].\n",
    "\n",
    "Pearson's chi-squared test is used to determine whether there is a statistically signifigant difference between the expected frequencies and the observed frequencies in one or more categories of a contingency table [1]. In other words, do the values of one categorical variable depend on the values of another categorical variable.\n",
    "\n",
    "The Chi-square test of independence works by comparing the distribution that you observe to the distribution that you expect if there is no relationship between the categorical variables. In the Chi-square context, the word “expected” is equivalent to what you’d expect if the null hypothesis is true. If your observed distribution is sufficiently different than the expected distribution (no relationship), you can reject the null hypothesis and infer that the variables are related [12].\n",
    "\n",
    "In the case of this task, is there a difference between the frequency of occupations recorded per neighbourhood in the contingency table of data compared to what you would expect to see based on the null hypothesis that each person's neighbourhood is indepedent of their occupation?\n",
    "\n",
    "**Chi-Squared test in summary**\n",
    "\n",
    "* Categorical variables can be summarised using a contingency table. \n",
    "* The chi-squared test is a test of independence between categorical variables in a contingency table.\n",
    "* The variables are considered independent if the observed and expected frequencies are similiar.\n",
    "* A chi-squared test can be used in this case to determine whether or not there is a relationship between the neighbourhood a person lives in and their occupation, or in other words do we accept or reject the null hypothesis."
   ]
  },
  {
   "cell_type": "markdown",
   "metadata": {},
   "source": [
    "### 2.3 Chi-squared test in Python\n",
    "\n",
    "As part of this task I have to research how a Chi-squared test is conducted in Python using scipy.stats and verify that the Chi-squared value for the contingency table in this task is approximately 24.6 as well as calculating the p-value.\n",
    "\n",
    "Scipy.stats is a Python module that contains a function called chi2_contigency [7] that can be used to conduct a chi-squared test for indpendence in Python.\n",
    "\n",
    "This function computes the chi-square statistic and p-value for the hypothesis test of independence of the observed frequencies in the contingency table observed [7].\n",
    "\n",
    "The function takes an array as input representing the contingency table for the two categorical variables. It returns the calculated statistic and p-value for interpretation as well as the calculated degrees of freedom and table of expected frequencies [6].\n",
    "\n",
    "#### According to the scipy.stats.chi2_contigency documentation [7] the following are return values from a Chi-square test in scipy.stats:\n",
    "\n",
    "**chi2 : float**\n",
    "\n",
    "The Chi-squared value or test statistic represented as a floating point number.\n",
    "\n",
    "**p : float**\n",
    "\n",
    "The p-value represented as a floating point number.\n",
    "\n",
    "The p-value is a measure of the probability that categorical variables are independent of each other. \n",
    "\n",
    "**dof : int**\n",
    "\n",
    "Degrees of freedom represented as an integer.\n",
    "\n",
    "Degrees of freedom is calculated as (# of rows -1 x # of columns -1)[11]\n",
    "\n",
    "**expected : ndarray (same shape as observed)**\n",
    "\n",
    "An array containing the expected frequencies based on the marginal sums of the table.\n",
    "\n",
    "That is in other words the distribution we would expect to see if the null hypothesis is true and there is in fact no relationship between categorical variables."
   ]
  },
  {
   "cell_type": "markdown",
   "metadata": {},
   "source": [
    "#### Implement scipy.stats.chi2_contingency test on the contingency table in this task\n",
    "\n",
    "I read various references when researching how to conduct the Chi-squared test, in the end I used a combination of the example shown in the scipy.stats documentation page [7] and an example on the GeeksforGeeks website [10] to produce the below code.\n",
    "\n",
    "* I imported numpy and created a 3 x 4 array containing the data in the contingency table. \n",
    "* Each sub array represents white collar, blue collar and no collar and each sub arrays has 4 values for the number of persons from each neighbourhood in each occupation category.\n",
    "* I imported the chi2_contingency function from scipy.stats in order to run the function on the numpy array that I created.\n",
    "* I printed out the return values from the chi2_contingency function in a nice format."
   ]
  },
  {
   "cell_type": "code",
   "execution_count": 9,
   "metadata": {},
   "outputs": [
    {
     "name": "stdout",
     "output_type": "stream",
     "text": [
      "Exact Chi-square value: 24.5712028585826\n",
      "\n",
      "Chi-squared value rounded to 1 decimal place: 24.6\n",
      "\n",
      "p-value: 0.0004098425861096696\n",
      "\n",
      "Degrees of freedom: 6\n",
      "\n",
      "The expected frequencies based on marginal sums of the table:\n",
      " \n",
      "[[ 80.53846154  80.53846154 107.38461538  80.53846154]\n",
      " [ 34.84615385  34.84615385  46.46153846  34.84615385]\n",
      " [ 34.61538462  34.61538462  46.15384615  34.61538462]]\n"
     ]
    }
   ],
   "source": [
    "# Adapted from examples in [7] and [10]\n",
    "# import numpy in order to create a numpy array of the data in my contingency table \n",
    "import numpy as np\n",
    "# import the chi2_contingency function from scipy stats\n",
    "from scipy.stats import chi2_contingency  \n",
    "# create a 3 x 4 numpy array, the 4 neighourhood values are contained inside 3 arrays for collar type\n",
    "data = np.array([[90, 60, 104, 95], [30, 50, 51, 20], [30, 40, 45, 35]])\n",
    "# call the chi2_contingency function on the array of data\n",
    "stat, p, dof, expected = chi2_contingency(data) \n",
    "# print the return values \n",
    "print(f\"Exact Chi-square value: {stat}\\n\")\n",
    "print(f\"Chi-squared value rounded to 1 decimal place: {stat:.1f}\\n\")\n",
    "print(f\"p-value: {p}\\n\")\n",
    "print(f\"Degrees of freedom: {dof}\\n\")\n",
    "\n",
    "print(\"The expected frequencies based on marginal sums of the table:\\n \")\n",
    "print(expected)"
   ]
  },
  {
   "cell_type": "markdown",
   "metadata": {},
   "source": [
    "#### Chi-squared value\n",
    "\n",
    "The Chi-squared value returned is 24.6 so I have successfully verified the value provided in the task specification. Next I have to look in more detail at the p-value.\n",
    "\n",
    "#### Degrees of freedom\n",
    "\n",
    "The degrees of freedom is calculated as (# of rows -1 x # of columns -1)[11]\n",
    "\n",
    "In the the case of the contingency table in this task there are 3 rows and 4 columns of data. \n",
    "\n",
    "( 3 rows -1) = 2  (4 columns -1) = 3\n",
    "\n",
    "3* 2 = 6\n",
    "\n",
    "The dof returned from the Chi-squared test was 6.\n",
    "\n",
    "#### Expected \n",
    "\n",
    "The distribution that would be expected if there was no relationship between the categorical variables neighbourhood and occupation. \n",
    "\n",
    "#### p-value\n",
    "\n",
    "The p-value returned was 0.0004098425861096696. I will look at this in further detail now as it was specifically mentioned in the task specification.\n",
    "\n"
   ]
  },
  {
   "cell_type": "markdown",
   "metadata": {},
   "source": [
    "### 2.4 What is p-value and how do I interpret it?\n",
    "\n",
    "The Chi-squared test returns a p-value (probability value) which is a measure of the probability that categorical variables are independent.\n",
    "\n",
    "I have included below extracts from two references which explain how to interpret the p-value calculated by the Chi-squared test. \n",
    "\n",
    "**Machine learning mastery [6]**\n",
    "\n",
    "In terms of a p-value and a chosen significance level (alpha), the test can be interpreted as follows:\n",
    "\n",
    "**If p-value <= alpha:**\n",
    "significant result, reject null hypothesis (H0), dependent.\n",
    "\n",
    "**If p-value > alpha:**\n",
    "not significant result, fail to reject null hypothesis (H0), independent.\n",
    "\n",
    "**Statistics Solutions [11]**\n",
    "\n",
    "To make a conclusion about the hypothesis with 95% confidence, the p-value of the Chi-Square statistic should be less than .05 (which is the alpha level associated with a 95% confidence level). \n",
    "\n",
    "Is the p-value less than .05?  If so, we can conclude that the variables are not independent of each other and that there is a statistical relationship between the categorical variables.\n",
    "\n",
    "**Interpreting the p-value for the contingency table in this task**\n",
    "\n",
    "In this case the p-value returned by scipy.stats was 0.0004098425861096696 which is less than .05 and so based on my research I have to conclude there is a statistical relationship between the categorical variables neighbourhood and occupation. As detailed above in this case the p-value is < the alpha value and so the null hypothesis is rejected and the variables are said to be dependent on one another.\n",
    "\n",
    "It is important to note the alpha does not have to be .05 and a different alpha value can be used. From my research it appears .05 is a widely used value for alpha. \n"
   ]
  },
  {
   "cell_type": "markdown",
   "metadata": {},
   "source": [
    "### Task 2 Conclusion & Learnings\n",
    "\n",
    "* I researched what a Chi-squared test is and how to conduct a Chi-squared test using scipy.stats in Python. \n",
    "* I verified using scipy.stats that the Chi-squared value is approximately 24.6 for the given contingency table in this task.\n",
    "* The p-value returned by scipy.stats was 0.0004098425861096696.\n",
    "* The p-value returned is less than the aplha .05 and so I conclude that their is a relationship between the categorical variables neighbourhood and occupation. \n",
    "* Therefore in the case of this contingency table the null hypothesis that the variables are independent of each other is rejected and the alternative hypothesis that there is a relationship between the variables is accepted."
   ]
  },
  {
   "cell_type": "markdown",
   "metadata": {},
   "source": [
    "### Task 2 - References \n",
    "\n",
    "[1] Wikipedia; Chi-Squared test; https://en.wikipedia.org/w/index.php?title=Chi-squared_test&oldid=983024096\n",
    "\n",
    "[2] Towards data science; Inserting and Resizing Images in IPython Notebook (Python and R) — One Zero Blog; https://towardsdatascience.com/adding-image-files-inside-an-ipython-notebook-python-and-r-2ba089a658b8\n",
    "\n",
    "[3] Wikipedia; Null hypothesis; https://en.wikipedia.org/wiki/Null_hypothesis\n",
    "\n",
    "[4] Wikipedia; Chi-squared distribution; https://en.wikipedia.org/wiki/Chi-squared_distribution\n",
    "\n",
    "[5] Wikipedia; Contingency tables; https://en.wikipedia.org/wiki/Contingency_table\n",
    "\n",
    "[6] Machine learning mastery; A gentle introduction to the chi-squared test for machine learning; https://machinelearningmastery.com/chi-squared-test-for-machine-learning/\n",
    "\n",
    "[7] Scipy.org; scipy.stats.chi2_contingency; https://docs.scipy.org/doc/scipy/reference/generated/scipy.stats.chi2_contingency.html\n",
    "\n",
    "[8] Medium; Handling The Chi Square in Statistics with Python; https://medium.com/@nhan.tran/the-chi-square-statistic-p3-programming-with-python-87eb079f36af\n",
    "\n",
    "[9] Medium; How to Calculate Critical Values for Statistical Hypothesis Testing with Python; https://machinelearningmastery.com/critical-values-for-statistical-hypothesis-testing/\n",
    "\n",
    "[10] GeeksforGeeks; Python – Pearson’s Chi-Square Test; https://www.geeksforgeeks.org/python-pearsons-chi-square-test/\n",
    "\n",
    "[11] Statistic Solutions; Using Chi-Square Statistic in Research; https://www.statisticssolutions.com/using-chi-square-statistic-in-research/\n",
    "\n",
    "[12] Statistics by Jim; Chi-Square Test of Independence and an Example; https://statisticsbyjim.com/hypothesis-testing/chi-square-test-independence-example/#:~:text=For%20a%20Chi%2Dsquare%20test,exists%20between%20the%20categorical%20variables\n",
    "\n",
    "[13] dummies; What a p-Value Tells You about Statistical Data; https://www.dummies.com/education/math/statistics/what-a-p-value-tells-you-about-statistical-data/"
   ]
  },
  {
   "cell_type": "markdown",
   "metadata": {},
   "source": [
    "***"
   ]
  },
  {
   "cell_type": "markdown",
   "metadata": {},
   "source": [
    "## Task 3 - STDEV.P and STDEV.S Standard Deviation calculations in Excel"
   ]
  },
  {
   "cell_type": "markdown",
   "metadata": {},
   "source": [
    "3. November 16th, 2020: The standard deviation of an array of numbers x is\n",
    "calculated using numpy as np.sqrt(np.sum((x - np.mean(x))**2)/len(x)) .\n",
    "However, Microsoft Excel has two different versions of the standard deviation\n",
    "calculation, STDEV.P and STDEV.S . The STDEV.P function performs the above\n",
    "calculation but in the STDEV.S calculation the division is by len(x)-1 rather\n",
    "than len(x) . Research these Excel functions, writing a note in a Markdown cell\n",
    "about the difference between them. Then use numpy to perform a simulation\n",
    "demonstrating that the STDEV.S calculation is a better estimate for the standard\n",
    "deviation of a population when performed on a sample. Note that part of this task\n",
    "is to figure out the terminology in the previous sentence."
   ]
  },
  {
   "cell_type": "markdown",
   "metadata": {},
   "source": [
    "### 3.1 Introduction\n",
    "\n",
    "Having read the task description I have drafted the below plan to complete the task. \n",
    "\n",
    "#### Plan to complete task\n",
    "* Research the excel functions STDEV.P and STDEV.S and capture research in this notebook.\n",
    "* Write an explanantion about the differences between them.\n",
    "* Use numpy to perform a simulation demonstrating that STDEV.S is a better estimation for the standard deviation of a population when performed on a sample.\n",
    "* Capture the research from the above point in markdown in this notebook. \n",
    "* Compile a list of references.\n"
   ]
  },
  {
   "cell_type": "markdown",
   "metadata": {},
   "source": [
    "### 3.2 What are STDEV.P and STDEV.S?"
   ]
  },
  {
   "cell_type": "markdown",
   "metadata": {},
   "source": [
    "STDEV.P and STDEV.S are two functions in Microsoft Excel that are used to calculate the standard deviation of a population. From my research I have learnt that where historically there was just one standard deviation function in Excel called STDEV, today there are now two functions - STDEV.P and STDEV.S - P for Population and S for Sample.\n",
    "\n",
    "**Standard Deviation**\n",
    "\n",
    "Standard deviation is a number that tells you how far numbers are from their mean [4].\n",
    "\n",
    "Standard deviation: the average distance between each value and the mean. this tells you if the data is clustered around the mean or scattered, and therefore allows you to assess if the reliability of mean as a good/bad representation of the entire sample [13].\n",
    "\n",
    "A low measure of Standard Deviation indicates that the data are less spread out, whereas a high value of Standard Deviation shows that the data in a set are spread apart from their mean average values [10].\n",
    "\n",
    "In a normal distribution (bell-curve):\n",
    "\n",
    "* 68% of all individuals lie within +/- 1 standard deviation of the mean\n",
    "* 95% of all individuals lie within +/- 2 standard deviations of the mean\n",
    "* 99% of all individuals lie within +/- 3 standard deviations of the mean\n",
    "\n",
    "The Image below shows an example of a bell shaped curve with 99% of data within 3 standard deviations of the mean [13]."
   ]
  },
  {
   "cell_type": "code",
   "execution_count": 10,
   "metadata": {},
   "outputs": [
    {
     "data": {
      "image/png": "[encoded data removed]",
      "text/plain": [
       "<IPython.core.display.Image object>"
      ]
     },
     "execution_count": 10,
     "metadata": {
      "image/png": {
       "height": 400,
       "width": 800
      }
     },
     "output_type": "execute_result"
    }
   ],
   "source": [
    "# Image sourced from [13]\n",
    "Image(filename = \"img/standarddeviation.PNG\", width = 800, height = 400)"
   ]
  },
  {
   "cell_type": "markdown",
   "metadata": {},
   "source": [
    "### 3.3 Difference between STDEV.P and STDEV.S"
   ]
  },
  {
   "cell_type": "markdown",
   "metadata": {},
   "source": [
    "According to Microsoft Support [1] [2] STDEV.S calculates the standard deviation based on a sample of a population whereas STDEV.P calculates standard deviation based on the entire population.\n",
    "\n",
    "**STDEV.S**\n",
    "\n",
    "* Estimates standard deviation based on a sample (ignores logical values and text in the sample).\n",
    "\n",
    "* The standard deviation is a measure of how widely values are dispersed from the average value (the mean).\n",
    "\n",
    "**STDEV.P**\n",
    "\n",
    "* Calculates standard deviation based on the entire population given as arguments (ignores logical values and text).\n",
    "\n",
    "* The standard deviation is a measure of how widely values are dispersed from the average value (the mean).\n",
    "\n",
    "This difference is described further in the remarks section of the STDEV.S Microsoft support page [1]:\n",
    "\n",
    "* STDEV.S assumes that its arguments are a sample of the population. If your data represents the entire population, then compute the standard deviation using STDEV.P.\n",
    "\n",
    "* The standard deviation is calculated using the \"n-1\" method.\n",
    "\n",
    "In the remarks section of the STDEV.P Microsoft support page [2]:\n",
    "\n",
    "* STDEV.P assumes that its arguments are the entire population. If your data represents a sample of the population, then compute the standard deviation using STDEV.\n",
    "\n",
    "* The standard deviation is calculated using the \"n\" method.\n",
    "\n",
    "So as alluded to in the task description STDEV.P calculates the standard deviation by taking the len(x) of an array whereas STDEV.S calculates the standard deviation using len(x-1).\n",
    "\n",
    "I found a good Youtube video that explains the difference between STDEV.P and STDEV.S using an example [3]. \n",
    "\n",
    "* The tutor explains that STDEV.P can be used to calculate the standard deviation when we have all the data available and the P can be thought of as \"Population\".\n",
    "\n",
    "* STDEV.S can be used to calculate the standard deviation when we dont have access to all the data, and the S can be thought of as \"Sample\".\n",
    "\n",
    "* A demonstration is shown where STDEV.P is used to calculate the standard deviation of the full population of a data source and STDEV.S is used to calculate the standard deviation of a sample of the population.\n"
   ]
  },
  {
   "cell_type": "markdown",
   "metadata": {},
   "source": [
    "#### Population and Sample\n",
    "\n",
    "What is the difference between population and sample standard deviation?\n",
    "\n",
    "I found the below explanation:\n",
    "\n",
    "Usually, we are interested in the standard deviation of a population. However, as we are often presented with data from a sample only, we can estimate the population standard deviation from a sample standard deviation. These two standard deviations - sample and population standard deviations - are calculated differently. In statistics, we are usually presented with having to calculate sample standard deviations [15].\n",
    "\n",
    "I also found a comparison between the sample and population:\n",
    "\n",
    "* The population standard deviation is a parameter, which is a fixed value calculated from every individual in the population.\n",
    "* A sample standard deviation is a statistic. This means that it is calculated from only some of the individuals in a population. Since the sample standard deviation depends upon the sample, it has greater variability [16].\n",
    "\n",
    "#### When to use sample or population standard deviation?\n",
    "\n",
    "I found an article that has some example scenarios listed [15], I have included 2 below:\n",
    "\n",
    "Q. A teacher sets an exam for their pupils. The teacher wants to summarize the results the pupils attained as a mean and standard deviation. Which standard deviation should be used?\n",
    "\n",
    "A. Population standard deviation. Why? Because the teacher is only interested in this class of pupils' scores and nobody else.\n",
    "\n",
    "Q. A researcher has recruited males aged 45 to 65 years old for an exercise training study to investigate risk markers for heart disease (e.g., cholesterol). Which standard deviation would most likely be used?\n",
    "\n",
    "A. Sample standard deviation. Although not explicitly stated, a researcher investigating health related issues will not simply be concerned with just the participants of their study; they will want to show how their sample results can be generalised to the whole population (in this case, males aged 45 to 65 years old). Hence, the use of the sample standard deviation."
   ]
  },
  {
   "cell_type": "markdown",
   "metadata": {},
   "source": [
    "#### Example using STDEV.P AND STDEV.S\n",
    "\n",
    "I found a good explanation of the difference between STDEV.P and STDEV.S using a real example [4].\n",
    "\n",
    "STDEV.P can be used to calculate the standard deviation based on the entire population. The formula that is used is shown below where N is the number of values in the population. [4]."
   ]
  },
  {
   "cell_type": "code",
   "execution_count": 11,
   "metadata": {},
   "outputs": [
    {
     "data": {
      "image/png": "[encoded data removed]",
      "text/plain": [
       "<IPython.core.display.Image object>"
      ]
     },
     "execution_count": 11,
     "metadata": {
      "image/png": {
       "height": 400,
       "width": 800
      }
     },
     "output_type": "execute_result"
    }
   ],
   "source": [
    "# display the image from [4]\n",
    "Image(filename = \"img/STDEVP.PNG\", width = 800, height = 400)"
   ]
  },
  {
   "cell_type": "markdown",
   "metadata": {},
   "source": [
    "\n",
    "σ = population standard deviation\n",
    "\n",
    "N = size of the population\n",
    "\n",
    "xi = each value from the population\n",
    "\n",
    "µ = population mean\n",
    "\n",
    "\n",
    "The steps listed on this website that are performed by Excel when doing the STDEV.P calculation are:\n",
    "* Calculate the mean of the entire population\n",
    "* For each number calculate the distance from the mean\n",
    "* For each number square this distance\n",
    "* Sum these values\n",
    "* Divide by N (number of values in the population)\n",
    "* Take the square root which is the standard deviation\n",
    "\n",
    "In contrast STDEV.S is used to calculate the standard deviation when only a sample of the population is available. In this instance N-1 is used instead of N."
   ]
  },
  {
   "cell_type": "code",
   "execution_count": 12,
   "metadata": {},
   "outputs": [
    {
     "data": {
      "image/png": "[encoded data removed]",
      "text/plain": [
       "<IPython.core.display.Image object>"
      ]
     },
     "execution_count": 12,
     "metadata": {
      "image/png": {
       "height": 400,
       "width": 800
      }
     },
     "output_type": "execute_result"
    }
   ],
   "source": [
    "#display the image from [4]\n",
    "Image(filename = \"img/STDEVS.PNG\", width = 800, height = 400)"
   ]
  },
  {
   "cell_type": "markdown",
   "metadata": {},
   "source": [
    "s = sample standard deviation\n",
    "\n",
    "N = size of the sample\n",
    "\n",
    "xi = each value from the sample\n",
    "\n",
    "µ = sample mean"
   ]
  },
  {
   "cell_type": "markdown",
   "metadata": {},
   "source": [
    "#### Why n-1 for a sample standard deviation?\n",
    "\n",
    "Why do we divide by n - 1 instead of by n when we estimate the standard deviation based on a sample?\n",
    "\n",
    "Bessel's correction states that dividing by n-1 instead of by n gives a better estimation of the standard deviation [4]. \n",
    "\n",
    "When you have an entire population and calculate any parameter (like the population variance or population standard deviation), your results will be accurate. That’s because you have all the data about your population. However, when you work with a sample, you’ve only got a small fraction of the population to work with. Therefore, your answers aren’t going to be as accurate as those you would have got, if you had the entire set of data to work with. Bessel’s correction (i.e. subtracting 1 from your sample size) corrects this bias. In other words, you’ll usually get a more accurate answer if you use n-1 instead of n [17].\n",
    "\n",
    "#### One degree of freedom\n",
    "\n",
    "When we compute sample standard deviation we divide by N- 1 instead of only using N as we do when we compute population standard deviation. The reason for this is that in statistics in order to get an unbiased estimator for population standard deviation when calculating it from the sample we should be using (N-1). This is called one degree of freedom, we subtract 1 in order to get an unbiased estimator [9]."
   ]
  },
  {
   "cell_type": "markdown",
   "metadata": {},
   "source": [
    "### 3.4 numpy \n",
    "\n",
    "*In this section I should use numpy to perform a simulation demonstrating that STDEV.S is a better estimation for the standard deviation of a population when performed on a sample.*\n",
    "\n",
    "Part of the assignment brief is to figure out the terminology of the above sentence. My interpretation of the sentence is that I should perform some tests using STDEV.S to estimate the standard deviation of a full population based on a sample generated from the population. I should then analyse the results to see is STDEV.S is a good estimation for standard deviation of a population when performed on a sample.\n",
    "\n",
    "I think in this case I need to:\n",
    "* Simulate some data for a full population using numpy.\n",
    "* Calculate the standard deviation of the entire population.\n",
    "* Generate some samples from the population.\n",
    "* Use the STDEV.S calculation to estimate the standard deviation of the population based on the samples.\n",
    "* Analyse the results."
   ]
  },
  {
   "cell_type": "markdown",
   "metadata": {},
   "source": [
    "#### Simulate an array of data with numpy.random.normal\n",
    "\n",
    "numpy.random.normal draws samples from the normal distribution [5]. I have simulated data using numpy.random.normal for a project in a previous module and so I am familiar with using numpy to simulate some data.\n",
    "\n",
    "A normal distribution often described as a bell curve distributon because of the shape, often occurs naturally within statistics. One example would be in measuring height of a group of people there would tend to be a central tendency of data with the majority of data gathering around this point.\n",
    "\n",
    "numpy.random.normal takes 3 arguments [5]:\n",
    "\n",
    "* loc : float or array_like of floats - the Mean of the distribution.\n",
    "* scale : float or array_like of floats - the Standard deviation of the distribution or in simple terms the width of the distribution.\n",
    "* size : int or tuple of ints, optional - the size of the distribution"
   ]
  },
  {
   "cell_type": "markdown",
   "metadata": {},
   "source": [
    "#### Simulate the data"
   ]
  },
  {
   "cell_type": "code",
   "execution_count": 13,
   "metadata": {},
   "outputs": [
    {
     "data": {
      "text/plain": [
       "array([41.76428912, 29.38672239, 32.93669679, 27.65894548, 34.0357073 ,\n",
       "       33.06611584, 29.99572999, 30.19519872, 31.70896419, 32.18242648,\n",
       "       34.17364779, 39.4720947 , 29.05340941, 32.37530722, 37.69959331,\n",
       "       27.93147285, 27.21579049, 29.05342439, 34.29464437, 31.74639022,\n",
       "       32.39108909, 41.25410931, 36.47532775, 36.55497054, 26.29819374,\n",
       "       27.11501518, 26.24258701, 29.66164019, 31.28641508, 33.40420795,\n",
       "       30.59148824, 33.96143392, 38.22845831, 33.24013669, 31.77298273,\n",
       "       36.07357706, 33.05825025, 34.86791717, 24.38101373, 23.43822417,\n",
       "       27.3323896 , 35.59833254, 29.64448369, 28.10497144, 33.77210709,\n",
       "       28.69959248, 37.12447806, 29.01389832, 32.12023802, 34.56355771,\n",
       "       32.11814572, 32.3729485 , 33.07906461, 31.92678836, 33.76796679,\n",
       "       26.61871593, 32.5411    , 32.86459918, 34.53241763, 35.62113773,\n",
       "       23.60882002, 28.91478795, 28.55469482, 39.9289399 , 39.69339048,\n",
       "       38.5354386 , 33.00302167, 25.63330744, 29.53551679, 35.38103556,\n",
       "       37.12084752, 34.81749115, 35.05123479, 27.37004268, 28.53536242,\n",
       "       33.49902614, 33.36829532, 34.54151483, 33.09232964, 26.89355822,\n",
       "       30.00423632, 33.12528696, 28.96253881, 36.23010616, 31.21892387,\n",
       "       33.95227315, 36.0481493 , 25.53177256, 32.15213645, 34.52263577,\n",
       "       32.00993556, 31.27420186, 29.46161909, 33.36241308, 32.18464134,\n",
       "       31.30425503, 34.27666437, 30.67456598, 30.86431886, 39.29340861,\n",
       "       28.94908074, 33.02745471, 38.51142619, 29.80401502, 25.18782485,\n",
       "       34.94759268, 32.26704571, 31.67811985, 45.02455511, 33.83468688,\n",
       "       36.40894437, 30.43811548, 33.24093726, 33.11191467, 27.83844722,\n",
       "       31.38579785, 25.47247492, 26.07738951, 22.79238173, 41.26311851,\n",
       "       23.22521616, 26.40706498, 32.02810128, 34.38695812, 34.88731934,\n",
       "       28.91329903, 24.05867137, 25.26065994, 27.8621288 , 36.04496414,\n",
       "       31.23969176, 29.78226766, 38.32315011, 25.41878588, 25.90942709,\n",
       "       30.67490809, 31.05120506, 24.75079665, 35.72895669, 36.69566023,\n",
       "       31.34054314, 33.77180544, 30.26540629, 38.68711333, 33.5430234 ,\n",
       "       22.3218378 , 30.9113526 , 37.59118506, 29.24932576, 38.18232527,\n",
       "       35.09322232, 34.14271562, 31.02803757, 24.19809043, 26.60603561,\n",
       "       32.82756507, 29.04071305, 24.99372138, 24.46655534, 26.10328476,\n",
       "       28.86711141, 39.60404496, 31.34213136, 25.75470609, 30.50536207,\n",
       "       32.549124  , 30.24713461, 28.31446994, 32.31690255, 29.25726141,\n",
       "       33.00029935, 27.96750003, 30.21929024, 30.51160265, 27.03575578,\n",
       "       21.08980223, 36.49247144, 29.30665382, 24.92937661, 35.37556506,\n",
       "       32.11569337, 30.20283178, 34.68718987, 30.88969395, 38.11214167,\n",
       "       32.00664963, 30.09191184, 29.37253063, 41.16417978, 28.67078998,\n",
       "       35.0773622 , 28.37114353, 36.66341768, 40.87509256, 32.37641877,\n",
       "       36.23090531, 33.92136604, 27.57034544, 33.43102611, 38.48797156,\n",
       "       36.54725781, 31.52378913, 26.50210357, 26.61732808, 39.66160309,\n",
       "       33.73974276, 31.20103409, 28.2968324 , 32.12736914, 31.96940309,\n",
       "       22.47799288, 28.8587157 , 31.97718705, 38.19558572, 37.46476445,\n",
       "       32.71445695, 32.38467053, 26.66161784, 28.71179805, 32.60116456,\n",
       "       30.75532919, 26.54918668, 40.37844298, 29.22398686, 26.73965389,\n",
       "       31.61801924, 35.93357826, 32.72995622, 27.73725982, 30.41845789,\n",
       "       37.49180149, 35.38086144, 32.99935818, 25.07483556, 35.64623439,\n",
       "       31.32608279, 34.17743814, 32.02252749, 37.67776162, 34.75403042,\n",
       "       34.38022253, 30.63278828, 35.00101382, 29.61369231, 24.34631532,\n",
       "       37.39824735, 35.51046736, 26.79682569, 32.73251844, 33.37415096,\n",
       "       30.46687894, 34.69222684, 37.90041306, 32.49188434, 35.08760597,\n",
       "       31.84442693, 30.38287802, 38.64653059, 29.7579675 , 32.89899533,\n",
       "       30.81900537, 34.78600436, 35.48804905, 28.11285449, 32.88781085,\n",
       "       34.60561242, 27.57762698, 31.62239485, 27.24443668, 33.36575287,\n",
       "       34.72249006, 30.84552082, 24.86521952, 34.49648447, 32.27332587,\n",
       "       36.3187266 , 30.92178728, 29.09103181, 30.20214666, 32.18711142,\n",
       "       29.53505293, 27.65310752, 29.59650512, 28.26728696, 30.20030288,\n",
       "       28.89592436, 30.94219879, 29.86355165, 41.66211684, 34.44491593,\n",
       "       34.68152493, 30.55399627, 36.65009171, 31.20587768, 39.48111935,\n",
       "       30.10385768, 31.6744386 , 34.83973891, 31.73170993, 29.36732463,\n",
       "       34.46283334, 25.44026042, 34.41363732, 28.56958928, 27.00610198,\n",
       "       37.1753525 , 30.6741749 , 34.19363086, 30.43337695, 30.50717725,\n",
       "       33.96601936, 28.84735076, 35.72972655, 33.91038754, 37.22419992,\n",
       "       31.54812448, 29.45173647, 33.20235177, 36.95448128, 25.83219389,\n",
       "       38.83776846, 32.45703613, 33.94107902, 36.13555623, 32.15185212,\n",
       "       37.16879611, 31.84841181, 34.01484445, 27.36584596, 24.77107594,\n",
       "       34.0131193 , 30.92742914, 40.87273054, 31.0544688 , 32.32523357,\n",
       "       33.12733578, 38.76905439, 32.84319958, 24.20451763, 31.05982102,\n",
       "       22.13878266, 34.79322004, 30.24096782, 36.1522961 , 33.88435902,\n",
       "       33.61570232, 33.44825462, 30.029263  , 34.90718767, 31.64771263,\n",
       "       29.70980719, 35.45401977, 36.4539237 , 36.97529817, 31.27655882,\n",
       "       33.86008954, 30.88313982, 24.2126056 , 26.67277493, 29.51561755,\n",
       "       35.09428246, 40.23711377, 37.51636284, 33.95885037, 32.31252658,\n",
       "       34.59732956, 30.53502826, 32.02770197, 32.9961445 , 30.64744111,\n",
       "       28.50529736, 34.2241197 , 29.93163354, 33.88264501, 31.36029104,\n",
       "       31.13214217, 34.24571842, 29.6947263 , 31.55086225, 29.43049186,\n",
       "       38.73604353, 38.19118615, 32.8560268 , 26.29019011, 32.94818987,\n",
       "       32.30247154, 31.6167244 , 24.09705226, 35.25838555, 35.07121534,\n",
       "       34.85960669, 30.13943122, 32.82060238, 34.75810261, 37.16772442,\n",
       "       33.01579933, 31.63557615, 40.05668376, 41.12049226, 36.85090707,\n",
       "       27.49834237, 24.20408814, 33.09607149, 29.73829004, 27.83425367,\n",
       "       29.87902106, 32.95947319, 37.96100592, 35.97202278, 37.65311938,\n",
       "       24.72011931, 33.31590668, 32.92858749, 41.8127403 , 24.94336003,\n",
       "       31.51182454, 32.20261272, 29.46847106, 28.64613367, 33.98496383,\n",
       "       35.49567089, 28.94471309, 28.96546011, 27.27033914, 35.96649451,\n",
       "       22.05236774, 35.09794158, 29.70751678, 34.19734614, 25.38755623,\n",
       "       29.667143  , 25.9906556 , 29.05197057, 31.21305157, 33.20250131,\n",
       "       30.7371032 , 33.59842782, 26.115007  , 35.68593142, 32.05052555,\n",
       "       27.90981371, 26.46063519, 28.05519767, 30.56196473, 36.96383386,\n",
       "       33.66050304, 38.05531518, 35.85912847, 33.92468263, 43.01594021,\n",
       "       32.81828215, 32.29639047, 27.02313872, 43.6402258 , 26.03831601,\n",
       "       29.81479942, 31.36015039, 31.96519284, 33.20421804, 33.34799938,\n",
       "       40.12199044, 28.1519577 , 32.25807083, 32.38408973, 26.77115394,\n",
       "       31.14422777, 30.89778259, 36.19303147, 28.39386936, 30.04335433,\n",
       "       29.19742358, 29.09841634, 31.66809786, 31.40467702, 32.06698063,\n",
       "       36.6651017 , 39.8119358 , 30.70687443, 38.70436176, 25.45216107,\n",
       "       39.08905291, 30.62643972, 33.74538378, 32.79033568, 23.77645578,\n",
       "       34.89804261, 37.3690171 , 28.28179763, 38.0468336 , 38.17128551,\n",
       "       27.93704613, 27.88902217, 30.61117604, 30.532725  , 28.30766601,\n",
       "       34.36805786, 28.48868945, 30.97959919, 34.18844155, 22.77379711,\n",
       "       35.03085953, 40.46421266, 28.7614109 , 37.877294  , 34.31256562,\n",
       "       27.77662644, 31.41964607, 27.01916986, 30.98293715, 26.67901929,\n",
       "       40.59687361, 33.22941089, 32.56021315, 31.17838668, 28.73331173,\n",
       "       24.81574716, 32.5447815 , 33.88430761, 28.6506895 , 30.60929843,\n",
       "       32.01489104, 35.59447053, 24.70419325, 29.03976366, 34.38628051,\n",
       "       31.15349289, 35.5612124 , 35.4895736 , 33.05183658, 39.33075432,\n",
       "       29.79358273, 35.32047983, 32.34083547, 39.78591302, 36.04021636,\n",
       "       39.17272893, 36.55271961, 32.68891085, 43.56644541, 32.94772323,\n",
       "       35.68822129, 36.57619289, 33.69285174, 31.53003646, 27.60640441,\n",
       "       28.59877721, 34.21988244, 26.26993736, 33.43370297, 34.48793202,\n",
       "       28.158616  , 34.12464162, 26.54413736, 29.82438643, 32.91582735,\n",
       "       31.10465654, 30.85855681, 32.02427711, 31.3639032 , 33.31265483,\n",
       "       31.29869812, 29.63504851, 38.42189206, 30.86835055, 30.99093114,\n",
       "       33.61483559, 30.6108948 , 37.18841373, 30.71951803, 29.10783067,\n",
       "       35.13803768, 32.12722616, 28.41431897, 30.27835797, 26.22606092,\n",
       "       36.62819033, 27.98539807, 30.52711795, 31.25085975, 29.65824211,\n",
       "       28.1030855 , 30.46923225, 32.38988046, 27.5762275 , 34.72905982,\n",
       "       27.26815597, 32.95841143, 28.89981875, 31.97857385, 42.55311667,\n",
       "       29.39195592, 38.1991065 , 32.88388663, 29.96518238, 29.88619701,\n",
       "       28.76532109, 31.98237351, 33.67648415, 36.13352686, 23.95695683,\n",
       "       31.63624636, 36.24226326, 33.87834432, 21.5796702 , 28.42707203,\n",
       "       28.67464761, 29.35497477, 28.18859166, 29.01451885, 32.04599885,\n",
       "       25.84171989, 29.07338108, 36.01708043, 32.06817514, 32.17005482,\n",
       "       35.07271124, 25.56026337, 27.86842467, 23.89402836, 34.30549335,\n",
       "       34.32669872, 33.05361054, 27.13843107, 33.30926887, 31.80396061,\n",
       "       34.25129325, 27.8915038 , 29.01555029, 28.21298172, 21.96851833,\n",
       "       30.83113659, 31.90073951, 35.36527897, 34.71719722, 24.35876765,\n",
       "       36.86393879, 36.08617133, 33.85929112, 31.78831819, 32.54681409,\n",
       "       35.34868698, 30.31679083, 23.6190281 , 37.55472142, 26.05666181,\n",
       "       36.47996008, 25.14374576, 31.60401685, 35.41389108, 35.93316914,\n",
       "       34.78581698, 33.93752051, 32.95554009, 36.99751799, 39.17633506,\n",
       "       31.97686651, 32.40105765, 33.73974347, 28.57908956, 28.24727245,\n",
       "       34.12435164, 37.828139  , 31.97748872, 25.37856497, 28.37112977,\n",
       "       33.66204124, 31.44296903, 27.13590889, 32.86943608, 29.01931395,\n",
       "       24.5696576 , 27.55976189, 31.85679481, 26.61211819, 31.6314682 ,\n",
       "       39.91720003, 25.87142834, 31.14587031, 38.85711977, 28.94279667,\n",
       "       30.81998989, 38.58310776, 29.03932747, 30.24933295, 35.05160147,\n",
       "       31.44130859, 42.3306054 , 26.00085823, 25.667557  , 33.22498941,\n",
       "       35.1883327 , 32.60421601, 33.43805517, 32.68957977, 28.54730591,\n",
       "       35.60483167, 38.89462036, 32.80945552, 37.77547079, 31.48808403,\n",
       "       28.58342354, 30.52653682, 33.49921784, 33.37686418, 34.21641104,\n",
       "       28.86822841, 28.89261863, 35.7254883 , 22.51988787, 33.9219686 ,\n",
       "       32.48615344, 34.520222  , 33.59539004, 33.8321607 , 30.95070354,\n",
       "       28.98276244, 32.44634845, 39.55224201, 38.3215851 , 29.31942523,\n",
       "       30.97512331, 29.94333835, 36.64329007, 37.38559136, 40.15777753,\n",
       "       28.86938906, 38.49729339, 29.41118938, 28.96378502, 28.23399882,\n",
       "       35.49851408, 36.30728268, 43.17357629, 32.27692545, 38.56971124,\n",
       "       27.22852031, 31.65971056, 35.73615418, 31.82273778, 38.30457688,\n",
       "       29.3931919 , 33.79040886, 34.56473368, 32.83503907, 32.9834758 ,\n",
       "       31.24319937, 30.49320846, 30.6187244 , 40.26660372, 34.46657212,\n",
       "       38.44503808, 37.17498811, 32.62834491, 31.77408667, 30.8397449 ,\n",
       "       35.18191141, 28.47465359, 31.09896945, 40.3556416 , 28.69757993,\n",
       "       40.00901016, 37.5073281 , 36.54461998, 30.67881348, 37.30784912,\n",
       "       33.28037365, 38.03009715, 28.08778214, 32.72471548, 31.69227896,\n",
       "       27.73866074, 27.83919014, 35.29746199, 30.07438176, 31.0312068 ,\n",
       "       33.76610369, 38.84683888, 25.478494  , 26.1920729 , 28.61232178,\n",
       "       30.37157971, 26.93828554, 29.77561514, 30.89764715, 31.38036236,\n",
       "       32.48766959, 28.27709203, 35.46813078, 35.88299752, 28.36677601,\n",
       "       38.20468059, 39.59568101, 33.48986184, 32.39477566, 33.46856626,\n",
       "       29.18139878, 26.56201181, 35.15807144, 35.90438471, 29.79755915,\n",
       "       35.40061103, 31.63311737, 40.87549499, 34.60772201, 34.35759889,\n",
       "       29.55391635, 33.92569302, 39.03847797, 28.17012967, 36.35074479,\n",
       "       32.85215387, 34.8639113 , 31.83143798, 29.88852165, 38.33163913,\n",
       "       31.24808116, 34.01784056, 32.16103995, 28.62811947, 33.95905596,\n",
       "       30.68137775, 23.56806011, 39.01117247, 29.86910187, 28.99677688,\n",
       "       33.29705481, 26.56625785, 31.45024261, 32.22057442, 25.00054898,\n",
       "       33.92181251, 25.19223693, 33.68503887, 38.72821347, 28.07682936,\n",
       "       28.97344018, 25.86253581, 36.22857521, 33.36673941, 33.94757882,\n",
       "       29.36087332, 28.83008772, 34.74413832, 27.90542437, 29.53843762,\n",
       "       28.0259964 , 27.91087912, 29.67067934, 37.43258983, 27.33190308,\n",
       "       29.15360218, 32.49487092, 30.22252493, 37.32038778, 28.86864528,\n",
       "       33.51884532, 32.16688877, 32.6877889 , 32.71406273, 25.21360498,\n",
       "       35.03119537, 34.79365897, 29.22863544, 33.65123882, 31.79144676,\n",
       "       29.58227473, 29.95814581, 26.42673671, 25.19068229, 30.95940281,\n",
       "       33.71880558, 29.30282783, 32.97008173, 31.92925915, 32.19010345,\n",
       "       31.70785842, 36.85180288, 31.31254038, 37.77631375, 24.77637542,\n",
       "       31.67031325, 27.99779364, 33.36618753, 33.01222212, 40.20141777,\n",
       "       33.79988291, 32.78474507, 37.51263149, 32.25045584, 32.86365307,\n",
       "       32.92590377, 33.34698432, 25.35676719, 32.56613079, 31.18195322,\n",
       "       27.61734494, 37.56339283, 29.16340875, 31.32559594, 42.97839087,\n",
       "       30.25795035, 36.45255757, 34.76270402, 26.60765419, 30.8174012 ,\n",
       "       32.35453822, 31.97219505, 36.51841828, 25.48011695, 35.5123279 ,\n",
       "       28.09850793, 28.04164858, 28.13837701, 35.53937695, 33.41421358,\n",
       "       35.59350953, 27.13910965, 39.65954102, 33.85199903, 37.00549509,\n",
       "       36.78569214, 29.43531754, 36.80108709, 31.68444974, 24.07128582,\n",
       "       31.69057599, 30.88617793, 31.11269189, 31.42915584, 33.73457307,\n",
       "       37.78378429, 28.87373828, 31.79112276, 21.82629011, 25.06119775,\n",
       "       35.79217118, 37.88217833, 33.99532962, 30.3810279 , 37.38048242,\n",
       "       30.9720515 , 26.49802636, 38.91708192, 31.83787499, 25.25663408,\n",
       "       34.0617797 , 28.63933765, 28.39442881, 30.75854079, 33.08780632,\n",
       "       28.17470833, 28.5854862 , 27.70586234, 39.67970017, 39.96162156,\n",
       "       26.66168939, 35.24494001, 29.73331274, 34.05729322, 29.62049281,\n",
       "       28.81845478, 33.29870369, 31.57658323, 29.83051878, 25.75619877,\n",
       "       36.27557508, 37.76696494, 33.05155432, 30.61146945, 37.2355564 ,\n",
       "       27.2966619 , 36.34422777, 37.36598978, 25.49475553, 33.71961186,\n",
       "       27.04693687, 32.1199362 , 32.39320368, 30.36853816, 29.49971812,\n",
       "       37.96696239, 33.94967161, 28.90619712, 32.39053886, 30.30578237,\n",
       "       37.11180406, 29.81243087, 26.89812836, 34.55482804, 30.61355259,\n",
       "       34.46302515, 32.54406613, 32.90754738, 30.78855909, 37.73213358,\n",
       "       34.25133106, 31.67888341, 28.42612258, 23.88662027, 29.66335237])"
      ]
     },
     "execution_count": 13,
     "metadata": {},
     "output_type": "execute_result"
    }
   ],
   "source": [
    "# set the mean, standard deviation and size of population\n",
    "mean = 32\n",
    "stddev = 4 \n",
    "# N = 100\n",
    "N = 1000\n",
    "# simulate the data with numpy.random.normal\n",
    "# numpy already imported in task 2 \n",
    "population = np.random.normal(mean, stddev, N)\n",
    "population"
   ]
  },
  {
   "cell_type": "code",
   "execution_count": 14,
   "metadata": {},
   "outputs": [
    {
     "data": {
      "text/plain": [
       "1000"
      ]
     },
     "execution_count": 14,
     "metadata": {},
     "output_type": "execute_result"
    }
   ],
   "source": [
    "# check the size of the population\n",
    "len(population)"
   ]
  },
  {
   "cell_type": "markdown",
   "metadata": {},
   "source": [
    "#### Plot the data"
   ]
  },
  {
   "cell_type": "code",
   "execution_count": 15,
   "metadata": {},
   "outputs": [
    {
     "data": {
      "image/png": "[encoded data removed]",
      "text/plain": [
       "<Figure size 1440x720 with 1 Axes>"
      ]
     },
     "metadata": {
      "needs_background": "light"
     },
     "output_type": "display_data"
    }
   ],
   "source": [
    "# import matplotlib.pyplot\n",
    "import matplotlib.pyplot as plt\n",
    "\n",
    "# rc params to customize plot appearance: https://matplotlib.org/tutorials/introductory/customizing.html\n",
    "plt.rcParams['figure.figsize'] = (20, 10)\n",
    "plt.rcParams['lines.linewidth'] = 2.5\n",
    "\n",
    "# plot a histogram of the data\n",
    "plt.hist(population)\n",
    "# add title and axis labels \n",
    "plt.title('Plot of simulated population', fontsize =20)\n",
    "plt.xlabel('Spread of values from the mean', fontsize = 16)\n",
    "plt.ylabel('Number of data points', fontsize = 16)\n",
    "# add a grid and display the plot\n",
    "plt.grid()\n",
    "plt.show()"
   ]
  },
  {
   "cell_type": "markdown",
   "metadata": {},
   "source": [
    "#### Calculate the standard deviation using numpy\n",
    "\n",
    "*I already know the standard deviation as I set it when simulating the data but I want to see what the STDEV.P and STDEV.S formulas return for standard deviation on the full population.*\n",
    "\n",
    "As detailed in the task specification \n",
    " \n",
    "STDEV.P is calculated by numpy using the formula:\n",
    "\n",
    "np.sqrt(np.sum((x - np.mean(x))**2)/len(x))"
   ]
  },
  {
   "cell_type": "code",
   "execution_count": 16,
   "metadata": {},
   "outputs": [
    {
     "data": {
      "text/plain": [
       "4.100302442329156"
      ]
     },
     "execution_count": 16,
     "metadata": {},
     "output_type": "execute_result"
    }
   ],
   "source": [
    "# STDEV.P formula to calculate standard deviation\n",
    "np.sqrt(np.sum((population - np.mean(population))**2)/len(population))"
   ]
  },
  {
   "cell_type": "markdown",
   "metadata": {},
   "source": [
    "STDEV.S is calculated by numpy using the formula:\n",
    " \n",
    "np.sqrt(np.sum((x - np.mean(x))**2)/len(x)-1)\n",
    "\n",
    "I have realised that I am missing a set of parenthesis in the above formula and it should be:\n",
    "\n",
    "np.sqrt(np.sum((x - np.mean(x))**2)/(len(x)-1))\n",
    "\n",
    "The results were inaccuarte before this fix."
   ]
  },
  {
   "cell_type": "code",
   "execution_count": 17,
   "metadata": {},
   "outputs": [],
   "source": [
    "# STDEV.S formula to calculate standard deviation\n",
    "#np.sqrt(np.sum((population - np.mean(population))**2)/len(population)-1)\n",
    "# I realised I had to wrap the len(population)-1 in an extra set of parenthesis"
   ]
  },
  {
   "cell_type": "code",
   "execution_count": 18,
   "metadata": {},
   "outputs": [
    {
     "data": {
      "text/plain": [
       "4.102354132446203"
      ]
     },
     "execution_count": 18,
     "metadata": {},
     "output_type": "execute_result"
    }
   ],
   "source": [
    "# STDEV.S formula to calculate standard deviation\n",
    "np.sqrt(np.sum((population - np.mean(population))**2)/(len(population)-1))"
   ]
  },
  {
   "cell_type": "markdown",
   "metadata": {},
   "source": [
    "**Which is more accurate?**\n",
    "\n",
    "*I will use numpy.std to calculate the standard deviation of the randomly generated array of data*"
   ]
  },
  {
   "cell_type": "code",
   "execution_count": 19,
   "metadata": {},
   "outputs": [
    {
     "data": {
      "text/plain": [
       "4.100302442329156"
      ]
     },
     "execution_count": 19,
     "metadata": {},
     "output_type": "execute_result"
    }
   ],
   "source": [
    "# calculate the standard deviation with built in numpy std function\n",
    "np.std(population)"
   ]
  },
  {
   "cell_type": "markdown",
   "metadata": {},
   "source": [
    "I read that numpy can calulate the standard deviation with one degree of freedom added [9]. This gives the same result as the STDEV.S calculation. "
   ]
  },
  {
   "cell_type": "code",
   "execution_count": 20,
   "metadata": {},
   "outputs": [
    {
     "data": {
      "text/plain": [
       "4.102354132446203"
      ]
     },
     "execution_count": 20,
     "metadata": {},
     "output_type": "execute_result"
    }
   ],
   "source": [
    "# calculate the standard deviation with built in numpy std with one degree of freedom added \n",
    "np.std(population, ddof = 1)"
   ]
  },
  {
   "cell_type": "markdown",
   "metadata": {},
   "source": [
    "When calculating standard deviation of full population of data STDEV.P is more accurate than STDEV.S\n",
    "\n",
    "I have verified the statement from the Micrososft support pages [1]:\n",
    "\n",
    "STDEV.S assumes that its arguments are a sample of the population. If your data represents the entire population, then compute the standard deviation using STDEV.P."
   ]
  },
  {
   "cell_type": "markdown",
   "metadata": {},
   "source": [
    "#### Generate samples of the population and use STDEV.P and STDEV.S to calculate standard deviation\n",
    "\n",
    "I will use numpy.random.choice to choose random values from my full population of 100 to create samples of different sizes [18]. numpy.random.choice generates a random sample from a given one dimensional array.\n",
    "\n",
    "I will then use the STDEV.S and STDEV.P calculations to estimate the standard deviation of the population based on each sample size and see what the results show."
   ]
  },
  {
   "cell_type": "code",
   "execution_count": 21,
   "metadata": {},
   "outputs": [],
   "source": [
    "# commented out, more efficient to generate different sample sizes in a loop\n",
    "\n",
    "# numpy.random.choice to generate samples from the full population of 100 [18]\n",
    "#sample5 = np.random.choice(population, size=5)\n",
    "#sample10 = np.random.choice(population, size=10)\n",
    "#sample20 = np.random.choice(population, size=20)\n",
    "#sample30 = np.random.choice(population, size=30)\n",
    "#sample40 = np.random.choice(population, size=40)\n",
    "#sample50 = np.random.choice(population, size=50)\n",
    "#sample60 = np.random.choice(population, size=60)\n",
    "#sample80 = np.random.choice(population, size=80)"
   ]
  },
  {
   "cell_type": "markdown",
   "metadata": {},
   "source": [
    "#### Steps Involved\n",
    "\n",
    "* I have created an array of sample sizes and looped through the array each time generating an array of the sample size using numpy.random.choice. The replace argument has been set to true so the same values can be selected for different sample sizes.\n",
    "* On each iteration of the loop I have calculated the standard deviation using STDEV.P and STDEV.S calculations and appended the results to an empty array.\n",
    "* I have added the standard deviation of the full population to an array at each iteration, solely for the purpose of comparison to the result of STDEV.P and STDEV.S for each sample size.\n",
    "* I have created a pandas dataframe and added the results for each sample size to the dataframe for ease of viewing and comparison."
   ]
  },
  {
   "cell_type": "code",
   "execution_count": 22,
   "metadata": {},
   "outputs": [],
   "source": [
    "# create an array of sample sizes \n",
    "#sample_sizes = [5, 10, 15, 20, 25, 40, 50, 60, 75, 80, 90]\n",
    "sample_sizes = [50, 100, 150, 200, 250, 400, 500, 600, 750, 800, 900]\n",
    "\n",
    "# create an empty array to append the results to\n",
    "# pop will contain the STDEV.P calculation for each sample size \n",
    "pop = []\n",
    "# samp will contain the STDEV.S calculation for each sample size\n",
    "samp = []\n",
    "# pop_stddev will contain the standard deviation of the entire population for each sample size, for comparison purposes\n",
    "pop_stddev = []\n",
    "# append the difference between the actual population standard deviation and the STDEV.P estimate\n",
    "P_difference = []\n",
    "# append the difference between the actual population standard deviation and the STDEV.S estimate\n",
    "S_difference = []\n",
    "\n",
    "\n",
    "# loop through the sample sizes \n",
    "for s in sample_sizes:\n",
    "    # for each sample size numpy.random.choice will generate a random sample from population of that size\n",
    "    sample = np.random.choice(population, size = s, replace = True)\n",
    "    # calculate the standard deviation using the STDEV.P formula\n",
    "    P = np.sqrt(np.sum((sample - np.mean(sample))**2)/len(sample))\n",
    "    # calculate the standard deviation using the STDEV.S formula\n",
    "    S = np.sqrt(np.sum((sample - np.mean(sample))**2)/(len(sample)-1))\n",
    "    # This is the standard deviation of the entire population generated by the STDEV.P calculation\n",
    "    total = np.sqrt(np.sum((population - np.mean(population))**2)/len(population))\n",
    "    # calculate the difference between the standard deviation of population and STDEV.P estimate based on sample\n",
    "    P_diff = abs(total - P)\n",
    "    # calculate the difference between the standard deviation of population and STDEV.S estimate based on sample\n",
    "    S_diff = abs(total - S)\n",
    "    # append the results for the STDEV.P and STDEV.S calculations to the empty arrays created earlier \n",
    "    pop.append(P)\n",
    "    samp.append(S)\n",
    "    # append the atcual standard deviation of the full population to the array created earlier\n",
    "    pop_stddev.append(total)\n",
    "    # append the difference between the actual population standard deviation and the STDEV.P and STDEV.S estimates\n",
    "    P_difference.append(P_diff)\n",
    "    S_difference.append(S_diff)"
   ]
  },
  {
   "cell_type": "code",
   "execution_count": 23,
   "metadata": {},
   "outputs": [
    {
     "data": {
      "text/plain": [
       "[4.644846707014364,\n",
       " 4.721750928752245,\n",
       " 4.5176599350887985,\n",
       " 4.223765342150244,\n",
       " 3.9476442191704075,\n",
       " 4.132138516043312,\n",
       " 4.0414499481758615,\n",
       " 4.1943561710087565,\n",
       " 4.031825159895448,\n",
       " 3.992943911432912,\n",
       " 4.20423705967019]"
      ]
     },
     "execution_count": 23,
     "metadata": {},
     "output_type": "execute_result"
    }
   ],
   "source": [
    "# display the STDEV.P standard deviation calculated \n",
    "pop"
   ]
  },
  {
   "cell_type": "code",
   "execution_count": 24,
   "metadata": {},
   "outputs": [
    {
     "data": {
      "text/plain": [
       "[4.692003720145516,\n",
       " 4.745538237631312,\n",
       " 4.532794516628017,\n",
       " 4.234364519021635,\n",
       " 3.955563272704281,\n",
       " 4.137313394108707,\n",
       " 4.0454974704202975,\n",
       " 4.197855843016028,\n",
       " 4.034515734208844,\n",
       " 3.9954418434328987,\n",
       " 4.20657469513559]"
      ]
     },
     "execution_count": 24,
     "metadata": {},
     "output_type": "execute_result"
    }
   ],
   "source": [
    "# display the STDEV.S standard deviation calculated \n",
    "samp"
   ]
  },
  {
   "cell_type": "code",
   "execution_count": 25,
   "metadata": {},
   "outputs": [
    {
     "data": {
      "text/plain": [
       "[4.100302442329156,\n",
       " 4.100302442329156,\n",
       " 4.100302442329156,\n",
       " 4.100302442329156,\n",
       " 4.100302442329156,\n",
       " 4.100302442329156,\n",
       " 4.100302442329156,\n",
       " 4.100302442329156,\n",
       " 4.100302442329156,\n",
       " 4.100302442329156,\n",
       " 4.100302442329156]"
      ]
     },
     "execution_count": 25,
     "metadata": {},
     "output_type": "execute_result"
    }
   ],
   "source": [
    "# display the standard deviation of the full population calculated using the STDEV.P calculation\n",
    "pop_stddev"
   ]
  },
  {
   "cell_type": "code",
   "execution_count": 26,
   "metadata": {},
   "outputs": [
    {
     "data": {
      "text/plain": [
       "[0.5445442646852081,\n",
       " 0.6214484864230894,\n",
       " 0.41735749275964285,\n",
       " 0.12346289982108871,\n",
       " 0.1526582231587481,\n",
       " 0.031836073714156754,\n",
       " 0.05885249415329419,\n",
       " 0.09405372867960082,\n",
       " 0.06847728243370721,\n",
       " 0.10735853089624348,\n",
       " 0.10393461734103404]"
      ]
     },
     "execution_count": 26,
     "metadata": {},
     "output_type": "execute_result"
    }
   ],
   "source": [
    "P_difference"
   ]
  },
  {
   "cell_type": "code",
   "execution_count": 27,
   "metadata": {},
   "outputs": [
    {
     "data": {
      "text/plain": [
       "[0.5917012778163606,\n",
       " 0.6452357953021561,\n",
       " 0.43249207429886116,\n",
       " 0.13406207669247916,\n",
       " 0.14473916962487454,\n",
       " 0.037010951779551604,\n",
       " 0.054804971908858136,\n",
       " 0.09755340068687257,\n",
       " 0.06578670812031184,\n",
       " 0.10486059889625698,\n",
       " 0.10627225280643415]"
      ]
     },
     "execution_count": 27,
     "metadata": {},
     "output_type": "execute_result"
    }
   ],
   "source": [
    "S_difference"
   ]
  },
  {
   "cell_type": "markdown",
   "metadata": {},
   "source": [
    "#### Display the results in a pandas dataframe"
   ]
  },
  {
   "cell_type": "code",
   "execution_count": 28,
   "metadata": {},
   "outputs": [
    {
     "data": {
      "text/html": [
       "<div>\n",
       "<style scoped>\n",
       "    .dataframe tbody tr th:only-of-type {\n",
       "        vertical-align: middle;\n",
       "    }\n",
       "\n",
       "    .dataframe tbody tr th {\n",
       "        vertical-align: top;\n",
       "    }\n",
       "\n",
       "    .dataframe thead th {\n",
       "        text-align: right;\n",
       "    }\n",
       "</style>\n",
       "<table border=\"1\" class=\"dataframe\">\n",
       "  <thead>\n",
       "    <tr style=\"text-align: right;\">\n",
       "      <th>Sample Size</th>\n",
       "      <th>50</th>\n",
       "      <th>100</th>\n",
       "      <th>150</th>\n",
       "      <th>200</th>\n",
       "      <th>250</th>\n",
       "      <th>400</th>\n",
       "      <th>500</th>\n",
       "      <th>600</th>\n",
       "      <th>750</th>\n",
       "      <th>800</th>\n",
       "      <th>900</th>\n",
       "    </tr>\n",
       "  </thead>\n",
       "  <tbody>\n",
       "    <tr>\n",
       "      <th>STDEV.P Sample</th>\n",
       "      <td>4.644847</td>\n",
       "      <td>4.721751</td>\n",
       "      <td>4.517660</td>\n",
       "      <td>4.223765</td>\n",
       "      <td>3.947644</td>\n",
       "      <td>4.132139</td>\n",
       "      <td>4.041450</td>\n",
       "      <td>4.194356</td>\n",
       "      <td>4.031825</td>\n",
       "      <td>3.992944</td>\n",
       "      <td>4.204237</td>\n",
       "    </tr>\n",
       "    <tr>\n",
       "      <th>STDEV.S Sample</th>\n",
       "      <td>4.692004</td>\n",
       "      <td>4.745538</td>\n",
       "      <td>4.532795</td>\n",
       "      <td>4.234365</td>\n",
       "      <td>3.955563</td>\n",
       "      <td>4.137313</td>\n",
       "      <td>4.045497</td>\n",
       "      <td>4.197856</td>\n",
       "      <td>4.034516</td>\n",
       "      <td>3.995442</td>\n",
       "      <td>4.206575</td>\n",
       "    </tr>\n",
       "    <tr>\n",
       "      <th>STDEV.P Population</th>\n",
       "      <td>4.100302</td>\n",
       "      <td>4.100302</td>\n",
       "      <td>4.100302</td>\n",
       "      <td>4.100302</td>\n",
       "      <td>4.100302</td>\n",
       "      <td>4.100302</td>\n",
       "      <td>4.100302</td>\n",
       "      <td>4.100302</td>\n",
       "      <td>4.100302</td>\n",
       "      <td>4.100302</td>\n",
       "      <td>4.100302</td>\n",
       "    </tr>\n",
       "    <tr>\n",
       "      <th>STDEV.P difference</th>\n",
       "      <td>0.544544</td>\n",
       "      <td>0.621448</td>\n",
       "      <td>0.417357</td>\n",
       "      <td>0.123463</td>\n",
       "      <td>0.152658</td>\n",
       "      <td>0.031836</td>\n",
       "      <td>0.058852</td>\n",
       "      <td>0.094054</td>\n",
       "      <td>0.068477</td>\n",
       "      <td>0.107359</td>\n",
       "      <td>0.103935</td>\n",
       "    </tr>\n",
       "    <tr>\n",
       "      <th>STDEV.S difference</th>\n",
       "      <td>0.591701</td>\n",
       "      <td>0.645236</td>\n",
       "      <td>0.432492</td>\n",
       "      <td>0.134062</td>\n",
       "      <td>0.144739</td>\n",
       "      <td>0.037011</td>\n",
       "      <td>0.054805</td>\n",
       "      <td>0.097553</td>\n",
       "      <td>0.065787</td>\n",
       "      <td>0.104861</td>\n",
       "      <td>0.106272</td>\n",
       "    </tr>\n",
       "  </tbody>\n",
       "</table>\n",
       "</div>"
      ],
      "text/plain": [
       "Sample Size              50        100       150       200       250  \\\n",
       "STDEV.P Sample      4.644847  4.721751  4.517660  4.223765  3.947644   \n",
       "STDEV.S Sample      4.692004  4.745538  4.532795  4.234365  3.955563   \n",
       "STDEV.P Population  4.100302  4.100302  4.100302  4.100302  4.100302   \n",
       "STDEV.P difference  0.544544  0.621448  0.417357  0.123463  0.152658   \n",
       "STDEV.S difference  0.591701  0.645236  0.432492  0.134062  0.144739   \n",
       "\n",
       "Sample Size              400       500       600       750       800       900  \n",
       "STDEV.P Sample      4.132139  4.041450  4.194356  4.031825  3.992944  4.204237  \n",
       "STDEV.S Sample      4.137313  4.045497  4.197856  4.034516  3.995442  4.206575  \n",
       "STDEV.P Population  4.100302  4.100302  4.100302  4.100302  4.100302  4.100302  \n",
       "STDEV.P difference  0.031836  0.058852  0.094054  0.068477  0.107359  0.103935  \n",
       "STDEV.S difference  0.037011  0.054805  0.097553  0.065787  0.104861  0.106272  "
      ]
     },
     "execution_count": 28,
     "metadata": {},
     "output_type": "execute_result"
    }
   ],
   "source": [
    "# import pandas\n",
    "import pandas as pd\n",
    "# create a pandas dataframe\n",
    "df = pd.DataFrame()\n",
    "# create a row of data called Sample size and populate with the array of sample sizes \n",
    "df['Sample Size'] = sample_sizes\n",
    "# create a row of data for the STDEV.P calculation and populate with the data in the pop array\n",
    "df['STDEV.P Sample'] = pop\n",
    "# create a row of data for the STDEV.S calculation and populate with the data in the samp array\n",
    "df['STDEV.S Sample'] = samp\n",
    "# add the actual standard deviation of the population to the dataframe\n",
    "df['STDEV.P Population'] = pop_stddev\n",
    "# the difference between standard deviation of the population and STDEV.P estimate based on sample\n",
    "df['STDEV.P difference'] = P_difference\n",
    "# the difference between standard deviation of the population and STDEV.S estimate based on sample\n",
    "df['STDEV.S difference'] = S_difference\n",
    "\n",
    "# set the index in place as Sample Size \n",
    "df.set_index('Sample Size', inplace=True)\n",
    "# transpose the dataframe, flip the columns and rows, looks better this way\n",
    "df.T"
   ]
  },
  {
   "cell_type": "code",
   "execution_count": 29,
   "metadata": {},
   "outputs": [
    {
     "data": {
      "text/plain": [
       "2.414519277933017"
      ]
     },
     "execution_count": 29,
     "metadata": {},
     "output_type": "execute_result"
    }
   ],
   "source": [
    "sum(S_difference)"
   ]
  },
  {
   "cell_type": "code",
   "execution_count": 30,
   "metadata": {},
   "outputs": [
    {
     "data": {
      "text/plain": [
       "2.3239840940658136"
      ]
     },
     "execution_count": 30,
     "metadata": {},
     "output_type": "execute_result"
    }
   ],
   "source": [
    "sum(P_difference)"
   ]
  },
  {
   "cell_type": "markdown",
   "metadata": {},
   "source": [
    "#### Plot the data"
   ]
  },
  {
   "cell_type": "code",
   "execution_count": 31,
   "metadata": {},
   "outputs": [
    {
     "data": {
      "image/png": "[encoded data removed]",
      "text/plain": [
       "<Figure size 1440x720 with 1 Axes>"
      ]
     },
     "metadata": {
      "needs_background": "light"
     },
     "output_type": "display_data"
    }
   ],
   "source": [
    "plt.rcParams['figure.figsize'] = (20, 10)\n",
    "plt.rcParams['lines.linewidth'] = 2.5\n",
    "\n",
    "plt.plot(df['STDEV.P Sample'], marker = 'o', markersize = 14, label = 'STDEV.P sample')\n",
    "plt.plot(df['STDEV.S Sample'], marker = 'x', markersize = 14, label = 'STDEV.S sample')\n",
    "plt.plot(df['STDEV.P Population'], label = 'Population Std Dev')\n",
    "plt.title(\"STDEV.P and STDEV.S estimate of standard deviation based on samples\", fontsize = 18)\n",
    "plt.xlabel(\"Sample Size\", fontsize = 16)\n",
    "plt.ylabel(\"Standard Deviation\", fontsize = 16)\n",
    "plt.legend()\n",
    "plt.grid()"
   ]
  },
  {
   "cell_type": "markdown",
   "metadata": {},
   "source": [
    "#### Analysis of the results "
   ]
  },
  {
   "cell_type": "code",
   "execution_count": null,
   "metadata": {},
   "outputs": [],
   "source": []
  },
  {
   "cell_type": "markdown",
   "metadata": {},
   "source": [
    "distribution of data can affect accuracy of sample?\n",
    "size of sample definitely seems to have an affect"
   ]
  },
  {
   "cell_type": "code",
   "execution_count": null,
   "metadata": {},
   "outputs": [],
   "source": []
  },
  {
   "cell_type": "code",
   "execution_count": null,
   "metadata": {},
   "outputs": [],
   "source": []
  },
  {
   "cell_type": "markdown",
   "metadata": {},
   "source": [
    "### Task 3 References "
   ]
  },
  {
   "cell_type": "markdown",
   "metadata": {},
   "source": [
    "[1] Microsoft support; STDEV.S; https://support.microsoft.com/en-us/office/stdev-s-function-7d69cf97-0c1f-4acf-be27-f3e83904cc23#:~:text=Remarks-,STDEV.,P.\n",
    "\n",
    "[2] Microsoft support; STDEV.P; https://support.microsoft.com/en-us/office/stdev-p-function-6e917c05-31a0-496f-ade7-4f4e7462f285\n",
    "\n",
    "[3] Youtube; =StDev.S And =StDev.P (What Is The Difference?) | How To Use Excel; https://www.youtube.com/watch?v=NdIVwuwfMIg\n",
    "\n",
    "[4] Excel-easy; Standard Deviation; https://www.excel-easy.com/examples/standard-deviation.html\n",
    "\n",
    "[5] SciPy.org; numpy.random.normal; https://docs.scipy.org/doc/numpy-1.16.0/reference/generated/numpy.random.normal.html#numpy.random.normal\n",
    "\n",
    "[6] numpy; numpy.std; https://numpy.org/devdocs/reference/generated/numpy.std.html\n",
    "\n",
    "[7] ExcelTip; How To Use Excel STDEV.P Function; https://www.exceltip.com/statistical-formulas/how-to-use-excel-stdev-p-function.html\n",
    "\n",
    "[8] ExcelTip; How to use the STDEV.S function in Excel; https://www.exceltip.com/statistical-formulas/how-to-use-stdev-s-function-in-excel.html\n",
    "\n",
    "[9] Towards data science; Why computing standard deviation in pandas and NumPy yields different results?; https://towardsdatascience.com/why-computing-standard-deviation-in-pandas-and-numpy-yields-different-results-5b475e02d112\n",
    "\n",
    "[10] GeeksforGekks;stdev() method in Python statistics module; https://www.geeksforgeeks.org/python-statistics-stdev/#:~:text=Statistics%20module%20in%20Python%20provides,rather%20than%20an%20entire%20population.\n",
    "\n",
    "[11]  matplotlib; matplotlib.pyplot documentation; https://matplotlib.org/3.2.1/api/_as_gen/matplotlib.pyplot.plot.html#matplotlib.pyplot.plot\n",
    "\n",
    "[12] matplotlib; Customizing Matplotlib with style sheets and rcParams; https://matplotlib.org/tutorials/introductory/customizing.html\n",
    "\n",
    "[13] IB Geography; standard deviation; https://sites.google.com/site/geographyfais/fieldwork/6-data-analysis/statistical-tools/basic-statistical-tools/7-standard-deviation\n",
    "\n",
    "[14] Khan Academy; Calculating standard deviation step by step; https://www.khanacademy.org/math/statistics-probability/summarizing-quantitative-data/variance-standard-deviation-population/a/calculating-standard-deviation-step-by-step\n",
    "\n",
    "[15] Laerd Statistics; Standard Deviation; https://statistics.laerd.com/statistical-guides/measures-of-spread-standard-deviation.php\n",
    "\n",
    "[16] Thought Co.; population vs sample standard deviations; https://www.thoughtco.com/population-vs-sample-standard-deviations-3126372\n",
    "\n",
    "[17] Statistics how to; Bessel's Correction; https://www.statisticshowto.com/bessels-correction/\n",
    "\n",
    "[18] Scipy.Org; numpy.random.choice; https://docs.scipy.org/doc//numpy-1.10.4/reference/generated/numpy.random.choice.html\n",
    "\n",
    "[19] pandas; pandas.DataFrame; https://pandas.pydata.org/pandas-docs/stable/reference/api/pandas.DataFrame.html\n",
    "\n",
    "[20] pandas; pandas.DataFrame.set_index; https://pandas.pydata.org/pandas-docs/stable/reference/api/pandas.DataFrame.set_index.html\n",
    "\n",
    "[21] pandas; pandas.DataFrame.transpose; https://pandas.pydata.org/pandas-docs/stable/reference/api/pandas.DataFrame.transpose.html\n",
    "\n",
    "[22] StackOverflow;How do I find the difference between two values without knowing which is larger?; https://stackoverflow.com/questions/13602170/how-do-i-find-the-difference-between-two-values-without-knowing-which-is-larger\n",
    "\n"
   ]
  },
  {
   "cell_type": "markdown",
   "metadata": {},
   "source": [
    "***"
   ]
  },
  {
   "cell_type": "markdown",
   "metadata": {},
   "source": [
    "## Task 4 "
   ]
  },
  {
   "cell_type": "markdown",
   "metadata": {},
   "source": []
  }
 ],
 "metadata": {
  "kernelspec": {
   "display_name": "Python 3",
   "language": "python",
   "name": "python3"
  },
  "language_info": {
   "codemirror_mode": {
    "name": "ipython",
    "version": 3
   },
   "file_extension": ".py",
   "mimetype": "text/x-python",
   "name": "python",
   "nbconvert_exporter": "python",
   "pygments_lexer": "ipython3",
   "version": "3.8.3"
  }
 },
 "nbformat": 4,
 "nbformat_minor": 4
}
