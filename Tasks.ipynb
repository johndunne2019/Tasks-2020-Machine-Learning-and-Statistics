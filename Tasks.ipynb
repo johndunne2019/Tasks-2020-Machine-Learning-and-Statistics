{
 "cells": [
  {
   "cell_type": "markdown",
   "metadata": {},
   "source": [
    "# Tasks\n",
    "\n",
    "**These are my solutions to the Tasks assessment in the Machine Learning and Statistics module at GMIT 2020.\n",
    "The author is John Dunne G00273895 (G00273895@gmit.ie).**\n",
    "\n",
    "***"
   ]
  },
  {
   "cell_type": "markdown",
   "metadata": {},
   "source": [
    "## Task 1 - Calculate the square root of 2 \n",
    "\n",
    "1. October 5th, 2020: Write a Python function called sqrt2 that calculates and\n",
    "prints to the screen the square root of 2 to 100 decimal places.Your code should\n",
    "not depend on any module from the standard library or otherwise. You should\n",
    "research the task first and include references and a description of your algorithm.\n",
    "\n",
    "******"
   ]
  },
  {
   "cell_type": "markdown",
   "metadata": {},
   "source": [
    "### My plan to complete this task\n",
    "\n",
    "I will break the task into smaller tasks:\n",
    "\n",
    "1. Research how the square root is calculated without the use of any imported modules.\n",
    "2. Implement a function that calculates the square root of 2 in this jupyter notebook.\n",
    "3. Carry out testing to check the implemented function returns the correct result.\n",
    "4. Have the result outputted in the format requested - 100 decimal places.\n",
    "5. Compile a list of references used to complete the task.\n",
    "\n",
    "**In order to do this I have broken task 1 into 5 sections**\n",
    "\n",
    "* 1.1 - My Research. \n",
    "* 1.2 - Write a function that calculates the square root of 2.\n",
    "* 1.3 - Test the function.\n",
    "* 1.4 - Output to the requested format - 100 decimal places. \n",
    "* 1.5 - List the references."
   ]
  },
  {
   "cell_type": "markdown",
   "metadata": {},
   "source": [
    "### 1.1 My Research\n",
    "\n",
    "*In this section I will outline the research I conducted into how to calculate the square root of 2 without using any modules from the Python standard library*"
   ]
  },
  {
   "cell_type": "markdown",
   "metadata": {},
   "source": [
    "Every number has two square roots, a negative and non-negative square root. The principal (non-negative) square root of most numbers is an irrational number. As a result of this, the decimal expansion of a square root can only be calculated to a precision [1]. In this task, I have been asked to calculate the square root of 2 to 100 decimal places so I think this point is noteworthy.\n",
    "\n",
    "In the lecture video on the square root of 2 [2], this was discussed where I learnt that the square root of 2 is an irrational number, meaning it cannot be expressed as an integer divided by another integer. Rational numbers are numbers than can be stored as one integer over another integer.\n",
    "\n",
    "An iterative approach to finding the square root of a number involves finding a suitable starting value followed by refinement until a termination criteria is met [1]. In plainer terms, to find the square root of a number 2, I would need to start with a suitable starting value and refine until we come to the closest approximation for the square root. The closer the starting value is to the square root, the less iterations will be required to come to the result. This starting value also known as the seed value should be a positive number between 1 and the value that we are trying to calculate the square root of. In my case, this would be a value between 1 and 2 as I am tasked with finding the square root of 2. The reason we have to start with a value in this range is that the square root of any number must fall into this range between 1 and that number.\n",
    "\n",
    "\n",
    "\n",
    "After some research I have found out that Newton's method is a suitable method that is commonly used to calculate the square root of a number."
   ]
  },
  {
   "cell_type": "markdown",
   "metadata": {},
   "source": [
    "#### Newtown-Raphson method to calculate square root"
   ]
  },
  {
   "cell_type": "markdown",
   "metadata": {},
   "source": [
    "The Newton-Raphson method or Newton's method is a root finding algorithm that uses an iterative approach to finding the square root of a number, producing better approximations for the square root at each iteration [3].\n",
    "\n",
    "A set of steps is is repeated over until we are satisified with the result or the method fails [6].\n",
    "\n",
    "Newton's method is a root finding method that uses linear approximation [4]. The algortihms starts with a guess and computes a sequence of improved guesses [7]. The algorithm is quite old dating back to Babylonian times. \n",
    "\n",
    "**Starting guess/ Seed**\n",
    "\n",
    "As I mentioned in the previous section, most iterative approaches to calculating the square root of a number require a starting value or seed and this is requred when using Newton's method.\n",
    "\n",
    "I found a  blog post [3] that outlines the steps involved when Newton's method is employed to calculate square root:\n",
    "\n",
    "* A starting value is assigned, which is a reasonable guess for the square root of the number.\n",
    "* This reasonable guess is added to the number we are looking to find the square root of, divided by the reasonable guess and divided by 2.\n",
    "\n",
    "This is displayed as a function on the blog post below where Xi is the reasonable guess:\n",
    "\n",
    "$$ x_i = (x_i + n/x_i) /2 $$\n",
    "\n",
    "I have included a real example here where we are trying to calculate the square root of 2 and 1 is the reasonable guess or starting value:\n",
    "\n",
    "$$ 1 = (1 + 2/1) /2 $$\n",
    "\n",
    "* Step 2 is continued until the most precise approximation of the square root is reached.\n",
    "* We are left with the closest approximation for the square root.\n",
    "\n",
    "With Newton's method a starting value slightly larger than the root will converge faster than a starting value slightly smaller than the root [1].\n",
    "\n",
    "**Example convergence**\n",
    "\n",
    "I found a paper that explains nicely the way Newton's method computes the square root of 2 [7]. In this case the starting guess is 1. The number of accurate digits at each iteration is highlighted in bold below:\n",
    "\n",
    "* **1**\n",
    "* **1**.5\n",
    "* **1.41**66666666666666666666666666666666666666666666666666666666675\n",
    "* **1.41421**56862745098039215686274509803921568627450980392156862745\n",
    "* **1.41421356237**46899106262955788901349101165596221157440445849057\n",
    "* **1.41421356237309504880168**96235025302436149819257761974284982890\n",
    "* **1.41421356237309504880168872420969807856967187537**72340015610125\n",
    "* **1.4142135623730950488016887242096980785696718753769480731766796**\n",
    "\n",
    "The number of accurate digits approximately doubles on each iteration [7]. \n"
   ]
  },
  {
   "cell_type": "markdown",
   "metadata": {},
   "source": [
    "### 1.2 Write a function that calculates the square root of 2 \n",
    "\n",
    "*In this section I will write a Python function called sqrt2 that calculates and prints to the screen the square root of 2 to 100 decimal places. The code should not depend on any module from the standard library or otherwise.*"
   ]
  },
  {
   "cell_type": "markdown",
   "metadata": {},
   "source": [
    "The below code example is included in the blog post on Newton's method [3]."
   ]
  },
  {
   "cell_type": "code",
   "execution_count": 1,
   "metadata": {},
   "outputs": [],
   "source": [
    "def mySqrt(x):\n",
    "\n",
    "    r = x\n",
    "    precision = 10 ** (-10)\n",
    "    \n",
    "    while abs(x - r * r) > precision:\n",
    "        r = (r + x / r) / 2\n",
    "        \n",
    "    return r"
   ]
  },
  {
   "cell_type": "markdown",
   "metadata": {},
   "source": [
    "I have spent some time examining the above code and I have included below my understanding of how the code works.\n",
    "\n",
    "My understanding of the above code is a while loop is used to iterate until we find the most precise match for the square root of x. The variable r is introduced and set to equal to x at the start of the function and taken as the starting value or guess of starting square root. I am thinking this is one thing I could change when I write the code myself as I have already learnt a good starting value is between 1 and the number we want to calculate the square root of. Therefore, setting the starting value to be equal to the value x here might not be the best starting value to use.\n",
    "\n",
    "The precision has been set and the loop will continue until this precision is met. The abs statment returns the absolute value of the calculation and checks if it is greater than the precision value. Whilst this condition is true the loop continues to run the function that I already highlighted in the previous section:\n",
    "\n",
    "$$ x_i = (x_i + n/x_i) /2 $$\n",
    "\n",
    "In this case:\n",
    "\n",
    "$$ r = (r + x / r) / 2 $$\n",
    "\n",
    "When the precision condition is met the loop terminates and the closest approximation to the square root is output.\n",
    "\n",
    "I will now try to implement this solution by writing a square root function myself."
   ]
  },
  {
   "cell_type": "markdown",
   "metadata": {},
   "source": [
    "#### My function to calculate square root of 2\n",
    "\n",
    "I did some testing to find a good seed value and eventually decided to hard code a seed value in my function. I added a counter to the function to count how many iterations of the while loop would execute before we arrived to the closest approximation for the square root of 2. I found that there wasnt a huge difference in the number of iterations required. I have recorded below a sample set of results that I noted:\n",
    "\n",
    "* Seed value 1 - 4 iterations\n",
    "* Seed value 2 - 4 iterations\n",
    "* Seed value 1.9 - 4 iterations\n",
    "* Seed value 1.45 - 3 iterations\n",
    "* Seed value 1.35 - 3 iterations \n",
    "\n",
    "In general, I draw the conclusion here that the closer the starting value is to the actual square root the faster the function executed. This is expected from the research that I conducted. I have commented out the print statments that I used for testing purposes in my function below.\n",
    "\n",
    "During testing, I added a print statement to the function for testing purposes to see the new value of s calculated at each iteration. I wanted to see the function working towards finding the closest approximation for the square root of 2 at each iteration. I have included the example print outs for a seed value of 1.35 below:\n",
    "\n",
    "* At iteration 1 the value of s was 1.4157407407407407\n",
    "* At iteration 2 the value of s was 1.414214386066904\n",
    "* At iteration 3 the value of s was 1.414213562373335\n",
    "* Square root calculated: 1.414213562373335\n",
    "\n",
    "You can remove the # in the function below when running if you would like the above statements to be printed out when running the function."
   ]
  },
  {
   "cell_type": "code",
   "execution_count": 2,
   "metadata": {},
   "outputs": [],
   "source": [
    "# Code originally adapted from [3] with my own changes made and comments added\n",
    "\n",
    "def sqrt2(x=2):\n",
    "    \"\"\"\n",
    "    A function to calculate the square root of 2. Function named as per assessment specification.\n",
    "    I have set the default value of the function to be 2 as I am only tasked in finding the square root of 2. \n",
    "    \n",
    "    I want the starting value/seed to somewhere between 1 and 2. I tested different starting values.\n",
    "    This should be a better starting value than in the code example in the blog post above.\n",
    "    \"\"\"\n",
    "    s = 1.35   \n",
    "    # starting value/seed set here, I ran tests on different seed values and decided to hard code this one\n",
    "    precision = 10 ** (-10)\n",
    "    # precision is defined here, same as in the code example in blog post\n",
    "    count = 0\n",
    "    # I have added a counter to see how many iterations it takes to get the result, printed out for testing\n",
    "    while abs(x - s * s) > precision:\n",
    "        s = (s + x / s) / 2\n",
    "        # while the absolute value of 2 minus the seed squared is greater than the precision required the loop continues\n",
    "        # the calculation I explained in the previous section is repeated at each iteration\n",
    "        count += 1\n",
    "        # counter incremented at each iteration\n",
    "        # commented out my print statements for testing below\n",
    "        #print(f\"At iteration {count} the value of s was {s}\")\n",
    "        # print out to see function working towards solution at each iteration\n",
    "        \n",
    "    #print(f\"Square root calculated in {count} iterations\")\n",
    "    # I added a print statement to print out how many iterations we needed, commented out\n",
    "    return s\n",
    "    #print(format(s, '.100f')) \n",
    "    # the value for the closest approximation of square root will be returned to the caller\n",
    "    "
   ]
  },
  {
   "cell_type": "markdown",
   "metadata": {},
   "source": [
    "#### Calling the function"
   ]
  },
  {
   "cell_type": "code",
   "execution_count": 3,
   "metadata": {},
   "outputs": [
    {
     "name": "stdout",
     "output_type": "stream",
     "text": [
      "The square root of 2 to 100 decimal places is calculated as:\n",
      "1.4142135623733349536479408925515599548816680908203125000000000000000000000000000000000000000000000000\n"
     ]
    }
   ],
   "source": [
    "result = sqrt2() # variable result set equal to the function sqrt2 called \n",
    "print(\"The square root of 2 to 100 decimal places is calculated as:\")\n",
    "print(format(result, '.100f')) #modified to print to 100 decimal places after research\n",
    "# format(result, '.100f')   #print out for testing\n",
    "#print('%.100f' % result)  #another way to display to 100 decimal places"
   ]
  },
  {
   "cell_type": "markdown",
   "metadata": {},
   "source": [
    "### 1.3 Test the function\n",
    "\n",
    "*In this section I should test is the function implemented above accurate.*"
   ]
  },
  {
   "cell_type": "markdown",
   "metadata": {},
   "source": [
    "#### Testing Accuracy\n",
    "I can test how accurate the square root returned by the function is with the below calculation:"
   ]
  },
  {
   "cell_type": "code",
   "execution_count": 4,
   "metadata": {},
   "outputs": [
    {
     "data": {
      "text/plain": [
       "2.0000000000006786"
      ]
     },
     "execution_count": 4,
     "metadata": {},
     "output_type": "execute_result"
    }
   ],
   "source": [
    "result * result\n",
    "# the result of the sqrt2 function is captured in a variable result\n",
    "# multiplying result by result to see how accurate the answer is"
   ]
  },
  {
   "cell_type": "markdown",
   "metadata": {},
   "source": [
    "The result shows the square root returned by the function is reasonably accurate. I remind myself here that my initial research told me the decimal expansion of a square root can only be calculated to a precision. I am satisifed this function works well and I just now need to figure out how to have the output formatted to 100 decimal places."
   ]
  },
  {
   "cell_type": "markdown",
   "metadata": {},
   "source": [
    "#### Compare result to result calculated by Python math module\n",
    "\n",
    "*In this section I import the math module from Python to test if the result of calculating the square root of 2 is the same as my algorithm.*\n",
    "\n",
    "There is a sqrt function within the math module that can be used to calculate the square root of a given number [8]."
   ]
  },
  {
   "cell_type": "code",
   "execution_count": 5,
   "metadata": {},
   "outputs": [
    {
     "name": "stdout",
     "output_type": "stream",
     "text": [
      "The square root of 2 according to the math module is: 1.4142135623730951\n",
      "And rounded to 100 decimal places:\n"
     ]
    },
    {
     "data": {
      "text/plain": [
       "'1.4142135623730951454746218587388284504413604736328125000000000000000000000000000000000000000000000000'"
      ]
     },
     "execution_count": 5,
     "metadata": {},
     "output_type": "execute_result"
    }
   ],
   "source": [
    "import math                     #math module imported\n",
    "sqr = math.sqrt(2)                # 2 passed in to sqrt function\n",
    "print(\"The square root of 2 according to the math module is:\" ,sqr)   \n",
    "print(\"And rounded to 100 decimal places:\")                                                         \n",
    "format(sqr,'.100f' )             #formt the answer to 100 decimal places"
   ]
  },
  {
   "cell_type": "code",
   "execution_count": 6,
   "metadata": {},
   "outputs": [
    {
     "data": {
      "text/plain": [
       "2.0000000000000004"
      ]
     },
     "execution_count": 6,
     "metadata": {},
     "output_type": "execute_result"
    }
   ],
   "source": [
    "math.sqrt(2) * math.sqrt(2)        #test the accuracy of square root\n",
    "\n",
    "# Example given in Ian Mcloughlin lecture video \"Tasks - getting started\""
   ]
  },
  {
   "cell_type": "markdown",
   "metadata": {},
   "source": [
    "**Testing Conclusion**\n",
    "\n",
    "I conclude here that the math module produces a very similiar result to the function I have implemented to calculate the square root of 2. I refer back to my research on the topic of calculating the square root of 2 that suggests it is not possible to calculate exactly the square root of 2 and that we can only produce an approximation. I conclude that the function I implemented was successful in producing a relatively accurate approximation of the square root of 2."
   ]
  },
  {
   "cell_type": "markdown",
   "metadata": {},
   "source": [
    "### 1.4 Output to requested format - 100 decimal places\n",
    "\n",
    "*In this section I need to figure out how to have the output of the function displayed to 100 decimal places.*"
   ]
  },
  {
   "cell_type": "markdown",
   "metadata": {},
   "source": [
    "I conducted some research and found a tutorial that explains how to format the number of decimal places displayed in a floating point number in Python [11]. There is a format function in Python that takes in a floating ppint number and displays it in output as a string to a given number of decimal places. I have returned to where I called my sqrt2 function above and added the format function to my print statement which successfully displayed the output to 100 decimal places.\n",
    "\n",
    "I noticed that when this is done that there are a sequence of zero's at the end of the number printed to 100 decimal places.\n",
    "\n",
    "**Why is that??**\n",
    "\n",
    "I conducted some research and found that floating point numbers are represented in computer hardware as base 2 or binary fractions. I found a detailed explanation of this in the Python documentations pages [12]. According to the Python documentation, most decimal fractions cannot be represented exactly as binary fractions. As a consequence the decimal floating point numbers we enter are only approximated by the binary floating point numbers actually stored on the computer. \n",
    "\n",
    "**Accuracy to 53 bits**\n",
    "\n",
    "Acccording to the documentation most machines today approximate floats to 53 bits using a binary fraction. Many users are unaware of this becaue of the way values are displayed. Python only prints an approximation of the true decimal value of the binary approximation stored by the machine [12]. I was unaware of this and this is a learning for me from completing this assignment.\n"
   ]
  },
  {
   "cell_type": "markdown",
   "metadata": {},
   "source": [
    "#### Increasing the accuracy of decimal representation in Python"
   ]
  },
  {
   "cell_type": "markdown",
   "metadata": {},
   "source": [
    "While researching having the output of my function printed to 100 decimal places I found a StackOverFlow post [9] that shows to use the Decimal module within Python to increase the accuracy of the decimal representation. I am not permitted to import any modules or libraries in order to fulfill this task but I thought it would be worthy of a mention as I found it interesting. I have included the code below:"
   ]
  },
  {
   "cell_type": "code",
   "execution_count": 7,
   "metadata": {},
   "outputs": [
    {
     "name": "stdout",
     "output_type": "stream",
     "text": [
      "The square root of 2 made accurate to 100 decimal places using the imported Decimal library is:\n"
     ]
    },
    {
     "data": {
      "text/plain": [
       "Decimal('1.414213562373095048801688724209698078569671875376948073176679737990732478462107038850387534327641573')"
      ]
     },
     "execution_count": 7,
     "metadata": {},
     "output_type": "execute_result"
    }
   ],
   "source": [
    "# code from stackoverflow post on increasing the accuracy of decimal numbers in Python [8]\n",
    "from decimal import *\n",
    "getcontext().prec = 100\n",
    "print(\"The square root of 2 made accurate to 100 decimal places using the imported Decimal library is:\")\n",
    "Decimal(2).sqrt()"
   ]
  },
  {
   "cell_type": "markdown",
   "metadata": {},
   "source": [
    "Further information on the Decimal module can be found at the Python Standard Library documentation [10]."
   ]
  },
  {
   "cell_type": "markdown",
   "metadata": {},
   "source": [
    "### Task 1 - Conclusion & Learnings \n",
    "\n",
    "*I have listed below some of the concluding points and some of the learnings I have taken from this task.*"
   ]
  },
  {
   "cell_type": "markdown",
   "metadata": {},
   "source": [
    "* The square root of 2 is irrational. The decimal expansion of the square root of 2 cannot be calculated to a precision. \n",
    "* Newton's method can be used to calculate an approximation for the square root of 2.\n",
    "* Newton's method works by starting at an assigned starting value (seed) and iterating over a set of steps until the closest approximation is reached.\n",
    "* I implemented Newton's method in this notebook to calculate the square root of 2. \n",
    "* I tested the accuracy of the result by comparing to the result returned by the sqrt function in the Python math module. \n",
    "* I researched how to have the the output displayed to 100 decimal places.\n",
    "* After displaying the output to 100 decimal places I noticed all the zero's at the end and did some further investigation.\n",
    "* I learnt that floating point numbers are represented in computer hardware as base 2 or binary fractions. Python approximates decimal expansion to 53 bits as a result of this.\n",
    "* Through my research I learnt the Decimal module in Python is one way that the accuracy of decimal representation can be increased. I included a section on this in the notebook."
   ]
  },
  {
   "cell_type": "markdown",
   "metadata": {},
   "source": [
    "### 1.5 - Task 1 - References"
   ]
  },
  {
   "cell_type": "markdown",
   "metadata": {},
   "source": [
    "[1] Wikipedia; Methods of Computing square roots; https://en.wikipedia.org/wiki/Methods_of_computing_square_roots\n",
    "\n",
    "[2] Learonline@GMIT; The square root of 2; https://learnonline.gmit.ie/mod/url/view.php?id=92021\n",
    "\n",
    "[3] Medium.com; How to Calculate the Square Root of a Number? — Newton-Raphson Method; https://medium.com/@surajregmi/how-to-calculate-the-square-root-of-a-number-newton-raphson-method-f8007714f64\n",
    "\n",
    "[4] Mathematical Python; Newton's Method; https://www.math.ubc.ca/~pwalls/math-python/roots-optimization/newton/\n",
    "\n",
    "[5] Wikipedia; Newton's method; https://en.wikipedia.org/wiki/Newton%27s_method\n",
    "\n",
    "[6] Computing Skillset; Newton's method explained; https://computingskillset.com/solving-equations/the-newton-raphson-method-explained-details-pictures-python-code/\n",
    "\n",
    "[7] math.mit; Square roots via Newton's Method; https://math.mit.edu/~stevenj/18.335/newton-sqrt.pdf\n",
    "\n",
    "[8]Python math documentation: https://docs.python.org/3/library/math.html\n",
    "\n",
    "[9]Stackoverflow; How can I show an irrational number to 100 decimal places in Python?; https://stackoverflow.com/questions/4733173/how-can-i-show-an-irrational-number-to-100-decimal-places-in-python?noredirect=1&lq=1\n",
    "\n",
    "[10] Python Decimal Library; Python - How to increase the accuracy of decimals; https://docs.python.org/3/library/decimal.html\n",
    "\n",
    "[11] Hands on Python Tutorial; 1.14 Decimals, Floats and floating point arithmetic; http://anh.cs.luc.edu/python/hands-on/3.1/handsonHtml/float.html\n",
    "\n",
    "[12] Python documentation; 15. Floating point artithmetic: Issues and limitations; https://docs.python.org/3/tutorial/floatingpoint.html\n",
    "\n",
    "**mathjax and markdown references:**\n",
    "\n",
    "* mathjax; documentation pages; http://docs.mathjax.org/en/latest/\n",
    "\n",
    "* Github; Mastering Markdown; https://guides.github.com/features/mastering-markdown/"
   ]
  },
  {
   "cell_type": "markdown",
   "metadata": {},
   "source": [
    "***"
   ]
  },
  {
   "cell_type": "markdown",
   "metadata": {},
   "source": [
    "## Task 2 - Chi-squared test for Independence "
   ]
  },
  {
   "cell_type": "markdown",
   "metadata": {},
   "source": [
    "2. November 2nd, 2020: The Chi-squared test for independence is a statistical\n",
    "hypothesis test like a t-test. It is used to analyse whether two categorical variables\n",
    "are independent. The Wikipedia article gives the table below as an example [4],\n",
    "stating the Chi-squared value based on it is approximately 24.6. Use scipy.stats\n",
    "to verify this value and calculate the associated p value. You should include a short\n",
    "note with references justifying your analysis in a markdown cell."
   ]
  },
  {
   "cell_type": "markdown",
   "metadata": {},
   "source": [
    "### 2.1 Introduction\n",
    "\n",
    "The task has been assigned and I have been given a link to the Wikipedia page on Chi-squared tests [1] as a starting point. The result of an analysis of the table has been given to me  with a Chi-squared value of 24.6.\n",
    "\n",
    "**Plan to complete task**\n",
    "\n",
    "* Provide some background information on this contigency table of data\n",
    "* Research how a Chi-squared test is done using scipy.stats \n",
    "* Conduct a Chi-squared test on this table of data using scipy.stats in this notebook\n",
    "* Verify the Chi-squared value provided of 24.6 is the same result that I get\n",
    "* Calculate the p value \n",
    "* Analyse the result \n",
    "* Compile a list of references \n",
    "\n",
    "I have inserted an image of the table below from the Wikipedia page [1] using the IPython.display image class that I read about in a blog post [2]."
   ]
  },
  {
   "cell_type": "code",
   "execution_count": 8,
   "metadata": {},
   "outputs": [
    {
     "data": {
      "image/png": "[encoded data removed]",
      "text/plain": [
       "<IPython.core.display.Image object>"
      ]
     },
     "execution_count": 8,
     "metadata": {
      "image/png": {
       "height": 300,
       "width": 600
      }
     },
     "output_type": "execute_result"
    }
   ],
   "source": [
    "# Import the Ipython.display image class as per blog post [2]\n",
    "from IPython.display import Image\n",
    "\n",
    "# Image loaded from img folder in this repository\n",
    "Image(filename = \"img/Chi-squared.PNG\", width = 600, height = 300)"
   ]
  },
  {
   "cell_type": "markdown",
   "metadata": {},
   "source": [
    "### 2.2 Research\n",
    "\n",
    "#### Contingency table explained\n",
    "\n",
    "In the case of this task I have been provided a contingency table of data. A contingency table is a type of table in a matrix that displays the frequency distribution of variables. They provide a picture of the interrelation between two variables [5].\n",
    "\n",
    "In the example contingeny table shown above [1] that I will work with in this task there are four neighbourhoods - A, B, C and D in a city with a population of 1,000,000 people. A random sample of 650 residents is taken and their occupation has been recorded into 3 categories - white collar, blue collar and no collar.\n",
    "\n",
    "There are 2 categorical variables in this data set:\n",
    "\n",
    "* neighbourhood\n",
    "* occupation\n",
    "\n",
    "The null hypothesis is that each person's neighbourhood is independent of their occupation.\n",
    "\n",
    "**Null hypothesis**\n",
    "\n",
    "In inferential statistics the null hypothesis is a general statement or default position that there is no difference between two measured phenomena or that two samples derive from the same general population [3]. In the case of the contingency table of data in this task the null hypothesis is that categorical variables neighbourhood and occupation are independent of each other.\n",
    "\n",
    "**Null hypothesis and alternative hypothesis**\n",
    "\n",
    "I found a blog post that explains this in further detail in relation to the Chi-square test [12]:\n",
    "\n",
    "Like any statistical hypothesis test, the Chi-square test has both a null hypothesis and an alternative hypothesis.\n",
    "\n",
    "Null hypothesis: There are no relationships between the categorical variables. If you know the value of one variable, it does not help you predict the value of another variable.\n",
    "\n",
    "Alternative hypothesis: There are relationships between the categorical variables. Knowing the value of one variable does help you predict the value of another variable.\n",
    "\n",
    "\n",
    "#### What is a Chi-squared test?\n",
    "\n",
    "I have been tasked with verifying using Scipy.stats that the Chi-squared value of this contingency table of data is approximately 24.6 and also to calculate the associated p-value.\n",
    "\n",
    "The Pearson's chi-squared statistical hypothesis is an example of a test for independence between categorical variables [6].\n",
    "\n",
    "Pearson's chi-squared test is used to determine whether there is a statistically signifigant difference between the expected frequencies and the observed frequencies in one or more categories of a contingency table [1]. In other words, do the values of one categorical variable depend on the values of another categorical variable.\n",
    "\n",
    "The Chi-square test of independence works by comparing the distribution that you observe to the distribution that you expect if there is no relationship between the categorical variables. In the Chi-square context, the word “expected” is equivalent to what you’d expect if the null hypothesis is true. If your observed distribution is sufficiently different than the expected distribution (no relationship), you can reject the null hypothesis and infer that the variables are related [12].\n",
    "\n",
    "In the case of this task, is there a difference between the frequency of occupations recorded per neighbourhood in the contingency table of data compared to what you would expect to see based on the null hypothesis that each person's neighbourhood is indepedent of their occupation?\n",
    "\n",
    "**Chi-Squared test in summary**\n",
    "\n",
    "* Categorical variables can be summarised using a contingency table. \n",
    "* The chi-squared test is a test of independence between categorical variables in a contingency table.\n",
    "* The variables are considered independent if the observed and expected frequencies are similiar.\n",
    "* A chi-squared test can be used in this case to determine whether or not there is a relationship between the neighbourhood a person lives in and their occupation, or in other words do we accept or reject the null hypothesis."
   ]
  },
  {
   "cell_type": "markdown",
   "metadata": {},
   "source": [
    "### 2.3 Chi-squared test in Python\n",
    "\n",
    "As part of this task I have to research how a Chi-squared test is conducted in Python using scipy.stats and verify that the Chi-squared value for the contingency table in this task is approximately 24.6 as well as calculating the p-value.\n",
    "\n",
    "Scipy.stats is a Python module that contains a function called chi2_contigency [7] that can be used to conduct a chi-squared test for indpendence in Python.\n",
    "\n",
    "This function computes the chi-square statistic and p-value for the hypothesis test of independence of the observed frequencies in the contingency table observed [7].\n",
    "\n",
    "The function takes an array as input representing the contingency table for the two categorical variables. It returns the calculated statistic and p-value for interpretation as well as the calculated degrees of freedom and table of expected frequencies [6].\n",
    "\n",
    "#### According to the scipy.stats.chi2_contigency documentation [7] the following are return values from a Chi-square test in scipy.stats:\n",
    "\n",
    "**chi2 : float**\n",
    "\n",
    "The Chi-squared value or test statistic represented as a floating point number.\n",
    "\n",
    "**p : float**\n",
    "\n",
    "The p-value represented as a floating point number.\n",
    "\n",
    "The p-value is a measure of the probability that categorical variables are independent of each other. \n",
    "\n",
    "**dof : int**\n",
    "\n",
    "Degrees of freedom represented as an integer.\n",
    "\n",
    "Degrees of freedom is calculated as (# of rows -1 x # of columns -1)[11]\n",
    "\n",
    "**expected : ndarray (same shape as observed)**\n",
    "\n",
    "An array containing the expected frequencies based on the marginal sums of the table.\n",
    "\n",
    "That is in other words the distribution we would expect to see if the null hypothesis is true and there is in fact no relationship between categorical variables."
   ]
  },
  {
   "cell_type": "markdown",
   "metadata": {},
   "source": [
    "#### Implement scipy.stats.chi2_contingency test on the contingency table in this task\n",
    "\n",
    "I read various references when researching how to conduct the Chi-squared test, in the end I used a combination of the example shown in the scipy.stats documentation page [7] and an example on the GeeksforGeeks website [10] to produce the below code.\n",
    "\n",
    "* I imported numpy and created a 3 x 4 array containing the data in the contingency table. \n",
    "* Each sub array represents white collar, blue collar and no collar and each sub arrays has 4 values for the number of persons from each neighbourhood in each occupation category.\n",
    "* I imported the chi2_contingency function from scipy.stats in order to run the function on the numpy array that I created.\n",
    "* I printed out the return values from the chi2_contingency function in a nice format."
   ]
  },
  {
   "cell_type": "code",
   "execution_count": 9,
   "metadata": {},
   "outputs": [
    {
     "name": "stdout",
     "output_type": "stream",
     "text": [
      "Exact Chi-square value: 24.5712028585826\n",
      "\n",
      "Chi-squared value rounded to 1 decimal place: 24.6\n",
      "\n",
      "p-value: 0.0004098425861096696\n",
      "\n",
      "Degrees of freedom: 6\n",
      "\n",
      "The expected frequencies based on marginal sums of the table:\n",
      " \n",
      "[[ 80.53846154  80.53846154 107.38461538  80.53846154]\n",
      " [ 34.84615385  34.84615385  46.46153846  34.84615385]\n",
      " [ 34.61538462  34.61538462  46.15384615  34.61538462]]\n"
     ]
    }
   ],
   "source": [
    "# Adapted from examples in [7] and [10]\n",
    "# import numpy in order to create a numpy array of the data in my contingency table \n",
    "import numpy as np\n",
    "# import the chi2_contingency function from scipy stats\n",
    "from scipy.stats import chi2_contingency  \n",
    "# create a 3 x 4 numpy array, the 4 neighourhood values are contained inside 3 arrays for collar type\n",
    "data = np.array([[90, 60, 104, 95], [30, 50, 51, 20], [30, 40, 45, 35]])\n",
    "# call the chi2_contingency function on the array of data\n",
    "stat, p, dof, expected = chi2_contingency(data) \n",
    "# print the return values \n",
    "print(f\"Exact Chi-square value: {stat}\\n\")\n",
    "print(f\"Chi-squared value rounded to 1 decimal place: {stat:.1f}\\n\")\n",
    "print(f\"p-value: {p}\\n\")\n",
    "print(f\"Degrees of freedom: {dof}\\n\")\n",
    "\n",
    "print(\"The expected frequencies based on marginal sums of the table:\\n \")\n",
    "print(expected)"
   ]
  },
  {
   "cell_type": "markdown",
   "metadata": {},
   "source": [
    "#### Chi-squared value\n",
    "\n",
    "The Chi-squared value returned is 24.6 so I have successfully verified the value provided in the task specification. Next I have to look in more detail at the p-value.\n",
    "\n",
    "#### Degrees of freedom\n",
    "\n",
    "The degrees of freedom is calculated as (# of rows -1 x # of columns -1)[11]\n",
    "\n",
    "In the the case of the contingency table in this task there are 3 rows and 4 columns of data. \n",
    "\n",
    "( 3 rows -1) = 2  (4 columns -1) = 3\n",
    "\n",
    "3* 2 = 6\n",
    "\n",
    "The dof returned from the Chi-squared test was 6.\n",
    "\n",
    "#### Expected \n",
    "\n",
    "The distribution that would be expected if there was no relationship between the categorical variables neighbourhood and occupation. \n",
    "\n",
    "#### p-value\n",
    "\n",
    "The p-value returned was 0.0004098425861096696. I will look at this in further detail now as it was specifically mentioned in the task specification.\n",
    "\n"
   ]
  },
  {
   "cell_type": "markdown",
   "metadata": {},
   "source": [
    "### 2.4 What is p-value and how do I interpret it?\n",
    "\n",
    "The Chi-squared test returns a p-value (probability value) which is a measure of the probability that categorical variables are independent.\n",
    "\n",
    "I have included below extracts from two references which explain how to interpret the p-value calculated by the Chi-squared test. \n",
    "\n",
    "**Machine learning mastery [6]**\n",
    "\n",
    "In terms of a p-value and a chosen significance level (alpha), the test can be interpreted as follows:\n",
    "\n",
    "**If p-value <= alpha:**\n",
    "significant result, reject null hypothesis (H0), dependent.\n",
    "\n",
    "**If p-value > alpha:**\n",
    "not significant result, fail to reject null hypothesis (H0), independent.\n",
    "\n",
    "**Statistics Solutions [11]**\n",
    "\n",
    "To make a conclusion about the hypothesis with 95% confidence, the p-value of the Chi-Square statistic should be less than .05 (which is the alpha level associated with a 95% confidence level). \n",
    "\n",
    "Is the p-value less than .05?  If so, we can conclude that the variables are not independent of each other and that there is a statistical relationship between the categorical variables.\n",
    "\n",
    "**Interpreting the p-value for the contingency table in this task**\n",
    "\n",
    "In this case the p-value returned by scipy.stats was 0.0004098425861096696 which is less than .05 and so based on my research I have to conclude there is a statistical relationship between the categorical variables neighbourhood and occupation. As detailed above in this case the p-value is < the alpha value and so the null hypothesis is rejected and the variables are said to be dependent on one another.\n",
    "\n",
    "It is important to note the alpha does not have to be .05 and a different alpha value can be used. From my research it appears .05 is a widely used value for alpha. \n"
   ]
  },
  {
   "cell_type": "markdown",
   "metadata": {},
   "source": [
    "### Task 2 Conclusion & Learnings\n",
    "\n",
    "* I researched what a Chi-squared test is and how to conduct a Chi-squared test using scipy.stats in Python. \n",
    "* I verified using scipy.stats that the Chi-squared value is approximately 24.6 for the given contingency table in this task.\n",
    "* The p-value returned by scipy.stats was 0.0004098425861096696.\n",
    "* The p-value returned is less than the aplha .05 and so I conclude that their is a relationship between the categorical variables neighbourhood and occupation. \n",
    "* Therefore in the case of this contingency table the null hypothesis that the variables are independent of each other is rejected and the alternative hypothesis that there is a relationship between the variables is accepted."
   ]
  },
  {
   "cell_type": "markdown",
   "metadata": {},
   "source": [
    "### Task 2 - References \n",
    "\n",
    "[1] Wikipedia; Chi-Squared test; https://en.wikipedia.org/w/index.php?title=Chi-squared_test&oldid=983024096\n",
    "\n",
    "[2] Towards data science; Inserting and Resizing Images in IPython Notebook (Python and R) — One Zero Blog; https://towardsdatascience.com/adding-image-files-inside-an-ipython-notebook-python-and-r-2ba089a658b8\n",
    "\n",
    "[3] Wikipedia; Null hypothesis; https://en.wikipedia.org/wiki/Null_hypothesis\n",
    "\n",
    "[4] Wikipedia; Chi-squared distribution; https://en.wikipedia.org/wiki/Chi-squared_distribution\n",
    "\n",
    "[5] Wikipedia; Contingency tables; https://en.wikipedia.org/wiki/Contingency_table\n",
    "\n",
    "[6] Machine learning mastery; A gentle introduction to the chi-squared test for machine learning; https://machinelearningmastery.com/chi-squared-test-for-machine-learning/\n",
    "\n",
    "[7] Scipy.org; scipy.stats.chi2_contingency; https://docs.scipy.org/doc/scipy/reference/generated/scipy.stats.chi2_contingency.html\n",
    "\n",
    "[8] Medium; Handling The Chi Square in Statistics with Python; https://medium.com/@nhan.tran/the-chi-square-statistic-p3-programming-with-python-87eb079f36af\n",
    "\n",
    "[9] Medium; How to Calculate Critical Values for Statistical Hypothesis Testing with Python; https://machinelearningmastery.com/critical-values-for-statistical-hypothesis-testing/\n",
    "\n",
    "[10] GeeksforGeeks; Python – Pearson’s Chi-Square Test; https://www.geeksforgeeks.org/python-pearsons-chi-square-test/\n",
    "\n",
    "[11] Statistic Solutions; Using Chi-Square Statistic in Research; https://www.statisticssolutions.com/using-chi-square-statistic-in-research/\n",
    "\n",
    "[12] Statistics by Jim; Chi-Square Test of Independence and an Example; https://statisticsbyjim.com/hypothesis-testing/chi-square-test-independence-example/#:~:text=For%20a%20Chi%2Dsquare%20test,exists%20between%20the%20categorical%20variables\n",
    "\n",
    "[13] dummies; What a p-Value Tells You about Statistical Data; https://www.dummies.com/education/math/statistics/what-a-p-value-tells-you-about-statistical-data/"
   ]
  },
  {
   "cell_type": "markdown",
   "metadata": {},
   "source": [
    "***"
   ]
  },
  {
   "cell_type": "markdown",
   "metadata": {},
   "source": [
    "## Task 3 - STDEV.P and STDEV.S Standard Deviation calculations in Excel"
   ]
  },
  {
   "cell_type": "markdown",
   "metadata": {},
   "source": [
    "3. November 16th, 2020: The standard deviation of an array of numbers x is\n",
    "calculated using numpy as np.sqrt(np.sum((x - np.mean(x))**2)/len(x)) .\n",
    "However, Microsoft Excel has two different versions of the standard deviation\n",
    "calculation, STDEV.P and STDEV.S . The STDEV.P function performs the above\n",
    "calculation but in the STDEV.S calculation the division is by len(x)-1 rather\n",
    "than len(x) . Research these Excel functions, writing a note in a Markdown cell\n",
    "about the difference between them. Then use numpy to perform a simulation\n",
    "demonstrating that the STDEV.S calculation is a better estimate for the standard\n",
    "deviation of a population when performed on a sample. Note that part of this task\n",
    "is to figure out the terminology in the previous sentence."
   ]
  },
  {
   "cell_type": "markdown",
   "metadata": {},
   "source": [
    "### 3.1 Introduction\n",
    "\n",
    "Having read the task description I have drafted the below plan to complete the task. \n",
    "\n",
    "#### Plan to complete task\n",
    "* Research the excel functions STDEV.P and STDEV.S and capture research in this notebook.\n",
    "* Write an explanantion about the differences between them.\n",
    "* Use numpy to perform a simulation demonstrating that STDEV.S is a better estimation for the standard deviation of a population when performed on a sample.\n",
    "* Capture the research from the above point in markdown in this notebook. \n",
    "* Compile a list of references.\n"
   ]
  },
  {
   "cell_type": "markdown",
   "metadata": {},
   "source": [
    "### 3.2 What are STDEV.P and STDEV.S?"
   ]
  },
  {
   "cell_type": "markdown",
   "metadata": {},
   "source": [
    "STDEV.P and STDEV.S are two functions in Microsoft Excel that are used to calculate the standard deviation of a population. From my research I have learnt that where historically there was just one standard deviation function in Excel called STDEV, today there are now two functions - STDEV.P and STDEV.S - P for Population and S for Sample.\n",
    "\n",
    "**Standard Deviation**\n",
    "\n",
    "Standard deviation is a number that tells you how far numbers are from their mean [4].\n",
    "\n",
    "Standard deviation: the average distance between each value and the mean. this tells you if the data is clustered around the mean or scattered, and therefore allows you to assess if the reliability of mean as a good/bad representation of the entire sample [13].\n",
    "\n",
    "A low measure of Standard Deviation indicates that the data are less spread out, whereas a high value of Standard Deviation shows that the data in a set are spread apart from their mean average values [10].\n",
    "\n",
    "In a normal distribution (bell-curve):\n",
    "\n",
    "* 68% of all individuals lie within +/- 1 standard deviation of the mean\n",
    "* 95% of all individuals lie within +/- 2 standard deviations of the mean\n",
    "* 99% of all individuals lie within +/- 3 standard deviations of the mean\n",
    "\n",
    "The Image below shows an example of a bell shaped curve with 99% of data within 3 standard deviations of the mean [13]."
   ]
  },
  {
   "cell_type": "code",
   "execution_count": 10,
   "metadata": {},
   "outputs": [
    {
     "data": {
      "image/png": "[encoded data removed]",
      "text/plain": [
       "<IPython.core.display.Image object>"
      ]
     },
     "execution_count": 10,
     "metadata": {
      "image/png": {
       "height": 400,
       "width": 800
      }
     },
     "output_type": "execute_result"
    }
   ],
   "source": [
    "# Image sourced from [13]\n",
    "Image(filename = \"img/standarddeviation.PNG\", width = 800, height = 400)"
   ]
  },
  {
   "cell_type": "markdown",
   "metadata": {},
   "source": [
    "### 3.3 Difference between STDEV.P and STDEV.S"
   ]
  },
  {
   "cell_type": "markdown",
   "metadata": {},
   "source": [
    "According to Microsoft Support [1] [2] STDEV.S calculates the standard deviation based on a sample of a population whereas STDEV.P calculates standard deviation based on the entire population.\n",
    "\n",
    "**STDEV.S**\n",
    "\n",
    "* Estimates standard deviation based on a sample (ignores logical values and text in the sample).\n",
    "\n",
    "* The standard deviation is a measure of how widely values are dispersed from the average value (the mean).\n",
    "\n",
    "**STDEV.P**\n",
    "\n",
    "* Calculates standard deviation based on the entire population given as arguments (ignores logical values and text).\n",
    "\n",
    "* The standard deviation is a measure of how widely values are dispersed from the average value (the mean).\n",
    "\n",
    "This difference is described further in the remarks section of the STDEV.S Microsoft support page [1]:\n",
    "\n",
    "* STDEV.S assumes that its arguments are a sample of the population. If your data represents the entire population, then compute the standard deviation using STDEV.P.\n",
    "\n",
    "* The standard deviation is calculated using the \"n-1\" method.\n",
    "\n",
    "In the remarks section of the STDEV.P Microsoft support page [2]:\n",
    "\n",
    "* STDEV.P assumes that its arguments are the entire population. If your data represents a sample of the population, then compute the standard deviation using STDEV.\n",
    "\n",
    "* The standard deviation is calculated using the \"n\" method.\n",
    "\n",
    "So as alluded to in the task description STDEV.P calculates the standard deviation by taking the len(x) of an array whereas STDEV.S calculates the standard deviation using len(x-1).\n",
    "\n",
    "I found a good Youtube video that explains the difference between STDEV.P and STDEV.S using an example [3]. \n",
    "\n",
    "* The tutor explains that STDEV.P can be used to calculate the standard deviation when we have all the data available and the P can be thought of as \"Population\".\n",
    "\n",
    "* STDEV.S can be used to calculate the standard deviation when we dont have access to all the data, and the S can be thought of as \"Sample\".\n",
    "\n",
    "* A demonstration is shown where STDEV.P is used to calculate the standard deviation of the full population of a data source and STDEV.S is used to calculate the standard deviation of a sample of the population.\n"
   ]
  },
  {
   "cell_type": "markdown",
   "metadata": {},
   "source": [
    "#### Population and Sample\n",
    "\n",
    "What is the difference between population and sample standard deviation?\n",
    "\n",
    "I found the below explanation:\n",
    "\n",
    "Usually, we are interested in the standard deviation of a population. However, as we are often presented with data from a sample only, we can estimate the population standard deviation from a sample standard deviation. These two standard deviations - sample and population standard deviations - are calculated differently. In statistics, we are usually presented with having to calculate sample standard deviations [15].\n",
    "\n",
    "I also found a comparison between the sample and population:\n",
    "\n",
    "* The population standard deviation is a parameter, which is a fixed value calculated from every individual in the population.\n",
    "* A sample standard deviation is a statistic. This means that it is calculated from only some of the individuals in a population. Since the sample standard deviation depends upon the sample, it has greater variability [16].\n",
    "\n",
    "#### When to use sample or population standard deviation?\n",
    "\n",
    "I found an article that has some example scenarios listed [15], I have included 2 below:\n",
    "\n",
    "Q. A teacher sets an exam for their pupils. The teacher wants to summarize the results the pupils attained as a mean and standard deviation. Which standard deviation should be used?\n",
    "\n",
    "A. Population standard deviation. Why? Because the teacher is only interested in this class of pupils' scores and nobody else.\n",
    "\n",
    "Q. A researcher has recruited males aged 45 to 65 years old for an exercise training study to investigate risk markers for heart disease (e.g., cholesterol). Which standard deviation would most likely be used?\n",
    "\n",
    "A. Sample standard deviation. Although not explicitly stated, a researcher investigating health related issues will not simply be concerned with just the participants of their study; they will want to show how their sample results can be generalised to the whole population (in this case, males aged 45 to 65 years old). Hence, the use of the sample standard deviation."
   ]
  },
  {
   "cell_type": "markdown",
   "metadata": {},
   "source": [
    "#### Example using STDEV.P AND STDEV.S\n",
    "\n",
    "I found a good explanation of the difference between STDEV.P and STDEV.S using a real example [4].\n",
    "\n",
    "STDEV.P can be used to calculate the standard deviation based on the entire population. The formula that is used is shown below where N is the number of values in the population. [4]."
   ]
  },
  {
   "cell_type": "code",
   "execution_count": 11,
   "metadata": {},
   "outputs": [
    {
     "data": {
      "image/png": "[encoded data removed]",
      "text/plain": [
       "<IPython.core.display.Image object>"
      ]
     },
     "execution_count": 11,
     "metadata": {
      "image/png": {
       "height": 400,
       "width": 800
      }
     },
     "output_type": "execute_result"
    }
   ],
   "source": [
    "# display the image from [4]\n",
    "Image(filename = \"img/STDEVP.PNG\", width = 800, height = 400)"
   ]
  },
  {
   "cell_type": "markdown",
   "metadata": {},
   "source": [
    "\n",
    "σ = population standard deviation\n",
    "\n",
    "N = size of the population\n",
    "\n",
    "xi = each value from the population\n",
    "\n",
    "µ = population mean\n",
    "\n",
    "\n",
    "The steps listed on this website that are performed by Excel when doing the STDEV.P calculation are:\n",
    "* Calculate the mean of the entire population\n",
    "* For each number calculate the distance from the mean\n",
    "* For each number square this distance\n",
    "* Sum these values\n",
    "* Divide by N (number of values in the population)\n",
    "* Take the square root which is the standard deviation\n",
    "\n",
    "In contrast STDEV.S is used to calculate the standard deviation when only a sample of the population is available. In this instance N-1 is used instead of N."
   ]
  },
  {
   "cell_type": "code",
   "execution_count": 12,
   "metadata": {},
   "outputs": [
    {
     "data": {
      "image/png": "[encoded data removed]",
      "text/plain": [
       "<IPython.core.display.Image object>"
      ]
     },
     "execution_count": 12,
     "metadata": {
      "image/png": {
       "height": 400,
       "width": 800
      }
     },
     "output_type": "execute_result"
    }
   ],
   "source": [
    "#display the image from [4]\n",
    "Image(filename = \"img/STDEVS.PNG\", width = 800, height = 400)"
   ]
  },
  {
   "cell_type": "markdown",
   "metadata": {},
   "source": [
    "s = sample standard deviation\n",
    "\n",
    "N = size of the sample\n",
    "\n",
    "xi = each value from the sample\n",
    "\n",
    "µ = sample mean"
   ]
  },
  {
   "cell_type": "markdown",
   "metadata": {},
   "source": [
    "#### Why n-1 for a sample standard deviation?\n",
    "\n",
    "Why do we divide by n - 1 instead of by n when we estimate the standard deviation based on a sample?\n",
    "\n",
    "Bessel's correction states that dividing by n-1 instead of by n gives a better estimation of the standard deviation [4]. \n",
    "\n",
    "When you have an entire population and calculate any parameter (like the population variance or population standard deviation), your results will be accurate. That’s because you have all the data about your population. However, when you work with a sample, you’ve only got a small fraction of the population to work with. Therefore, your answers aren’t going to be as accurate as those you would have got, if you had the entire set of data to work with. Bessel’s correction (i.e. subtracting 1 from your sample size) corrects this bias. In other words, you’ll usually get a more accurate answer if you use n-1 instead of n [17].\n",
    "\n",
    "#### One degree of freedom\n",
    "\n",
    "When we compute sample standard deviation we divide by N- 1 instead of only using N as we do when we compute population standard deviation. The reason for this is that in statistics in order to get an unbiased estimator for population standard deviation when calculating it from the sample we should be using (N-1). This is called one degree of freedom, we subtract 1 in order to get an unbiased estimator [9]."
   ]
  },
  {
   "cell_type": "markdown",
   "metadata": {},
   "source": [
    "### 3.4 numpy simulation of a population and sampling from the population\n",
    "\n",
    "*In this section I should use numpy to perform a simulation demonstrating that STDEV.S is a better estimation for the standard deviation of a population when performed on a sample.*\n",
    "\n",
    "Part of the assignment brief is to figure out the terminology of the above sentence. My interpretation of the sentence is that I should perform some tests using STDEV.S to estimate the standard deviation of a full population based on a sample generated from the population. I should then analyse the results to see is STDEV.S is a good estimation for standard deviation of a population when performed on a sample.\n",
    "\n",
    "I think in this case I need to:\n",
    "* Simulate some data for a full population using numpy.\n",
    "* Calculate the standard deviation of the entire population using STDEV.P.\n",
    "* Generate some samples from the population.\n",
    "* Use the STDEV.S calculation to estimate the standard deviation of the population based on the samples.\n",
    "* Use the STDEV.P calculation to estimate the standard deviation of the population based on the samples for comparison purposes.\n",
    "* Analyse the results."
   ]
  },
  {
   "cell_type": "markdown",
   "metadata": {},
   "source": [
    "#### Simulate an array of data with numpy.random.normal\n",
    "\n",
    "numpy.random.normal draws samples from the normal distribution [5]. I have simulated data using numpy.random.normal for a project in a previous module and so I am familiar with using numpy to simulate some data.\n",
    "\n",
    "A normal distribution often described as a bell curve distributon because of the shape, often occurs naturally within statistics. One example would be in measuring height of a group of people there would tend to be a central tendency of data with the majority of data gathering around this point.\n",
    "\n",
    "numpy.random.normal takes 3 arguments [5]:\n",
    "\n",
    "* loc : float or array_like of floats - the Mean of the distribution.\n",
    "* scale : float or array_like of floats - the Standard deviation of the distribution or in simple terms the width of the distribution.\n",
    "* size : int or tuple of ints, optional - the size of the distribution"
   ]
  },
  {
   "cell_type": "markdown",
   "metadata": {},
   "source": [
    "#### Simulate the data"
   ]
  },
  {
   "cell_type": "code",
   "execution_count": 13,
   "metadata": {},
   "outputs": [
    {
     "data": {
      "text/plain": [
       "array([ 8.34123731,  9.57125761, 10.47451104,  9.92785511,  9.85617115,\n",
       "       10.09015865, 11.60002071, 10.09180773,  9.31606962,  9.29053278,\n",
       "        9.3061009 ,  9.71611728,  9.82036543, 11.2897157 , 10.38555525,\n",
       "        9.84562926, 10.46520018,  9.71878652, 10.22514841,  9.90600849,\n",
       "        9.28718098,  8.65951247,  9.11215708, 10.76455253, 10.68331384,\n",
       "       11.75469623, 10.45830199,  9.37615166, 10.37196863, 10.60901301,\n",
       "        9.22011688,  9.32487696, 10.63185311, 10.07614667, 10.3410106 ,\n",
       "       11.29302985, 10.23042087,  9.97643617,  9.82473654, 11.20699651,\n",
       "        9.08861554, 11.22150419, 12.77846956, 12.90809136,  9.79410995,\n",
       "        9.17451197,  8.28581891,  9.16860236, 10.29323382,  9.86795748,\n",
       "       10.35142154, 10.44784842, 10.66543248,  8.53192726,  9.74544374,\n",
       "       12.56971998, 11.08688733, 10.98608933,  9.98128036, 10.7594421 ,\n",
       "       11.90495958,  9.79916872, 10.72755878,  7.78885909, 10.28058346,\n",
       "        9.06298226,  9.09432555, 10.47424681, 10.02999821, 10.11542468,\n",
       "       10.46880088, 10.58234156, 10.88996882,  9.29872759,  9.62470528,\n",
       "        9.23642874, 10.33095919, 10.18805618, 10.70307949,  8.66826323,\n",
       "       10.07294052, 11.28978983, 11.02863988, 10.05418852,  8.47994989,\n",
       "        9.46889665, 10.14210062, 12.23213424,  8.75229679,  9.21712579,\n",
       "       10.74618631, 10.19333558, 11.68947494, 10.15960547,  9.26349599,\n",
       "       10.21418206,  9.71815055, 10.12574654,  8.75513051, 10.10628616,\n",
       "        9.96040009, 10.95971535, 10.39364252,  9.42998831,  9.5159077 ,\n",
       "       10.46164443, 11.2674429 , 12.06883743,  9.42998839,  9.79691313,\n",
       "       10.69323478, 10.28544437,  9.33558989, 10.80228824, 10.31563546,\n",
       "        7.7632464 , 11.24526218, 11.71324194, 12.35976916, 11.25399341,\n",
       "        9.8373717 , 10.35756399,  9.33788235, 11.9918409 ,  9.96577974,\n",
       "       10.74676236, 11.59589967, 12.00815623,  9.79191742,  8.70352039,\n",
       "       11.04116605, 10.97211387,  8.67701344, 10.83529828, 10.81882239,\n",
       "        9.91819453,  9.41844776,  9.92328539, 10.26616495, 11.52204266,\n",
       "       11.56493822, 10.67915653, 10.70988626,  9.51358352,  8.41712578,\n",
       "        9.92312052,  9.42831209, 10.67412088, 10.25487886,  9.00953868,\n",
       "       10.66993517,  9.56662258,  8.38393832, 10.29911369, 11.01188662,\n",
       "       10.29089826, 11.84501973, 10.76172937, 10.45261463, 10.06021768,\n",
       "        9.76243773,  9.3474417 ,  8.49221146,  8.5240796 , 11.12387223,\n",
       "        8.10846083,  9.12153017,  9.17017919, 10.32783458, 10.34773501,\n",
       "        9.75117835, 10.21740974,  9.52297514,  9.11105472,  9.46618439,\n",
       "       11.25267836,  9.13347072, 10.72424798, 10.27172857, 10.75029045,\n",
       "       11.47780489,  9.45344357,  9.92956271,  9.14899939, 10.01072043,\n",
       "        9.51739574,  9.24510259,  8.98565037,  8.85316224,  8.9890091 ,\n",
       "       11.68107213, 10.44225005, 10.62017159,  9.98400502, 11.31733729,\n",
       "        9.38651228, 10.32447164, 10.86229066, 10.60016181,  8.83287059,\n",
       "        7.91998054,  9.94945421,  9.47495504,  8.16624732, 10.61200525,\n",
       "       10.4368616 , 11.15828124,  9.67343205, 11.69316013, 11.66601449,\n",
       "        9.84328132,  8.9421805 , 10.54692773, 10.61857675,  7.64353727,\n",
       "       11.87388302,  9.1451056 ,  9.97805324,  9.00729957, 12.18258383,\n",
       "       11.03231026, 10.64862278, 10.87944612,  9.84943414,  9.35979611,\n",
       "        8.45360806, 11.05741074,  9.62942753,  9.79939151,  8.53296584,\n",
       "       11.19611594,  8.38285251,  8.1061291 , 11.36579295,  8.81397958,\n",
       "       10.45366716,  8.5013249 ,  9.47226276, 10.25336535, 11.3724138 ,\n",
       "        8.93743231, 10.77876673, 10.83427555,  9.35062578,  9.66859346,\n",
       "        9.31542674,  9.41776222, 10.52476102,  9.99894264,  8.98564331,\n",
       "        8.59691554,  8.78554996,  8.41235158,  8.2167969 , 10.59793455,\n",
       "       10.4877357 ,  9.31797354,  9.96931609, 10.60008103,  8.78142496,\n",
       "        9.87716254, 11.39165548, 10.5583528 , 10.61400391, 10.15516264,\n",
       "       12.41676626, 11.06687808,  9.65818679, 11.18650907, 10.88589115,\n",
       "       11.0878253 ,  8.08668369, 12.64039223, 10.88980175, 12.10437334,\n",
       "       10.82768417,  9.98991201, 10.35892714, 11.22890819,  7.24495245,\n",
       "       10.42111041, 10.12259603, 10.28917801,  8.93364419,  9.96931675,\n",
       "       11.9181311 , 10.91370576,  9.2885131 ,  9.04311263,  9.13221209,\n",
       "        9.58330387, 11.32198566,  9.1473994 ,  9.41292227,  9.54379786,\n",
       "       11.42568329,  9.54722814, 11.17783838, 10.83234524, 11.22865787,\n",
       "        9.86975562, 11.12575451,  9.48637292,  9.15613058, 10.11506962,\n",
       "        8.36208739,  9.8251064 , 10.42166857, 10.37816152,  8.58507886,\n",
       "       11.52678095,  9.93070869,  9.70098041,  8.66767148,  8.09054399,\n",
       "        9.30267299,  9.00683834, 10.89009463, 10.02895551, 10.07082942,\n",
       "        9.97314341, 11.7978461 , 10.64465919,  9.05405799,  9.25119902,\n",
       "       10.1173923 ,  8.21699906,  8.38318842, 10.10638347, 12.39054631,\n",
       "       12.12016304, 10.25465497, 11.13960806, 11.94861276, 10.36848726,\n",
       "       10.60062361,  9.59398585, 10.77917451,  9.89294109,  9.10064895,\n",
       "       10.26973019, 10.72500161,  8.94517357, 11.00685486, 10.78423957,\n",
       "       10.47842754,  9.50619469,  9.16189531, 10.20763098,  8.51794909,\n",
       "        8.94550006, 10.68882623, 10.52701108,  9.84225986, 10.73199879,\n",
       "       10.74279944, 11.8878325 , 11.12528898,  8.80107827, 10.24553771,\n",
       "        9.01685011,  8.93248305,  9.6020889 , 10.0500628 ,  9.85043026,\n",
       "        9.00634262, 10.790414  ,  9.62308883,  9.88704047, 11.31450494,\n",
       "        9.0290795 , 10.03309375, 11.23921152,  8.79670794,  9.6026153 ,\n",
       "       11.12049799, 11.82766109,  9.79922339,  9.47546408,  8.44358539,\n",
       "        9.9201475 ,  9.2260845 ,  9.93983598,  8.85099128,  9.86181929,\n",
       "        9.41743968,  8.28051282, 11.28382567,  8.30759387,  9.77675693,\n",
       "        9.33066227,  8.89807261,  9.05441626,  9.53927593,  9.33115372,\n",
       "        8.94961584, 10.89660657, 10.12722381,  8.42547613,  9.81675809,\n",
       "        9.83001253, 10.89983918, 10.5746681 ,  7.6357131 , 10.38465697,\n",
       "       11.01168448,  7.75367309,  9.93623531,  9.70496979, 10.09203047,\n",
       "        9.6970586 ,  8.98730333,  9.94051576, 10.22875465,  8.78776769,\n",
       "        9.6734602 , 10.63783986, 10.95237545,  9.09623591,  9.89401872,\n",
       "       10.87689245,  8.60824617, 11.13910418, 10.28657332,  8.50954365,\n",
       "       10.16079065,  9.50450065, 10.31636146, 11.1733083 , 11.09203361,\n",
       "        8.98582203,  8.61841048, 10.61955631, 11.56499249,  8.037565  ,\n",
       "        9.11887171,  9.0193412 , 10.64320268,  8.73796407, 10.26467134,\n",
       "        8.38024502, 11.54597729,  9.71477019, 10.21759555,  7.93738706,\n",
       "        9.8457997 , 10.59177293,  7.27105526, 10.9278083 ,  9.64821603,\n",
       "       10.95114344, 10.32399624,  9.82297994,  9.60449275, 10.0662715 ,\n",
       "        9.88078801, 11.52623185,  8.74048753,  8.88261095,  9.93036218,\n",
       "       11.28571893, 10.4344086 ,  8.2566138 ,  8.99484449, 10.7884939 ,\n",
       "        9.68862331,  9.92574353,  8.47361775,  7.99491512,  9.41369959,\n",
       "       10.27092814,  9.08028333, 10.68190999, 10.17617005, 10.76457424,\n",
       "        9.68429785,  9.24435552, 11.43832121, 10.0835635 ,  8.99107646,\n",
       "        9.36705484,  7.54799825,  8.38451481,  8.82868582,  9.35705989,\n",
       "        9.28868606, 10.40070738,  8.96574672, 10.24567046, 10.39429898,\n",
       "       10.44559582, 10.09994132, 11.37838166, 10.53687664,  8.25193339,\n",
       "        9.13208497, 10.31956713, 11.78696258,  8.72618468,  9.88632881,\n",
       "       11.01602305, 10.20363443, 11.85548584, 11.22989406,  9.68712119,\n",
       "       10.86293645,  9.83113066,  9.73324521, 10.24734995,  9.8567035 ,\n",
       "        9.94247799, 10.40960477, 10.11585955,  9.65371338,  9.83836582,\n",
       "        9.91178499, 11.17035909, 10.17459838,  8.52511618, 12.1568294 ,\n",
       "        9.07500976, 10.193885  ,  9.57133391, 10.15376938,  9.66806731,\n",
       "        9.99758303,  8.48415984,  9.60436225, 11.33207181,  9.49546473,\n",
       "        8.24574902, 10.27426592,  9.48588989, 10.37349154, 11.37846346,\n",
       "       10.51231729,  9.38180495, 10.01338107,  8.6368962 , 10.55221926,\n",
       "        8.12785989, 10.92987529,  9.33315056,  9.46653811,  9.4618439 ,\n",
       "       11.43580203,  9.89591678,  9.26077958, 11.20268753,  8.33268485,\n",
       "       10.28036053, 11.50550979, 10.39762197,  9.81695444, 10.3774794 ,\n",
       "        9.06846742,  8.4471785 , 10.84670718, 11.00712874, 11.80845753,\n",
       "        9.09247492, 13.8049424 ,  8.91870745,  9.92179746, 10.3801666 ,\n",
       "        8.95450449, 10.0126758 ,  7.7260098 ,  9.2839783 , 10.68044363,\n",
       "        8.96713589, 11.73810679, 10.16956917,  8.3415824 , 11.3635499 ,\n",
       "        9.30346185,  9.83432407, 10.27825322, 10.6263629 , 12.23994561,\n",
       "       10.2508548 , 10.2204329 , 10.95123486,  9.18691752, 10.65446869,\n",
       "        9.09318631, 10.69865892, 10.15981224, 10.44270668, 10.0651021 ,\n",
       "       10.04153231,  9.53547047,  8.62155715,  8.61903182, 10.21075329,\n",
       "        9.88510998,  8.77908423, 10.16841064, 10.67670475,  9.6507599 ,\n",
       "       10.6651599 ,  9.3714489 ,  9.68223224, 10.31201578, 11.45760521,\n",
       "        8.61408002, 10.46965928,  9.76191348,  9.97717651,  8.6363506 ,\n",
       "        9.51092056,  9.17490286,  9.2737475 , 11.09385221,  9.55518807,\n",
       "       10.21329294, 11.35679511, 10.85608227,  8.26962627, 10.35527434,\n",
       "        9.30086628,  6.96811412, 10.25297152,  8.63922812,  8.57105355,\n",
       "       11.9484572 , 11.61558239, 10.73235938, 10.56332495,  9.84634412,\n",
       "       10.77820342, 10.17834804,  8.88864348, 10.45303308, 10.54176319,\n",
       "        9.12798197, 10.02068816,  9.65272023, 10.92991265,  9.30789822,\n",
       "       10.13478845, 11.82343626,  9.14344716, 10.72144096,  8.7889236 ,\n",
       "        7.63169488, 11.63055168, 10.61726625,  9.19620948,  9.32671044,\n",
       "        9.14660539, 10.48571387, 13.23296525, 10.19191513, 11.08542186,\n",
       "        9.51654129, 10.65351399,  9.30795998, 10.14047611,  9.45217228,\n",
       "        9.42284771, 10.14047921,  9.59905215, 10.22158097,  9.57114692,\n",
       "        9.19907356, 10.02338099,  9.61807299,  9.62590156,  9.48359351,\n",
       "        8.9849387 ,  9.03717706,  9.85135758,  9.32181963, 10.46710433,\n",
       "       10.00302077, 10.56221782,  8.94324105, 10.91840455,  8.70822058,\n",
       "       11.80102271, 11.072456  , 11.05965239, 10.96695634,  9.62895368,\n",
       "       10.73950155,  8.98902853,  7.97842121,  9.99041088, 10.16332841,\n",
       "       10.46074256,  9.97867755, 10.70207827,  9.55645061, 10.34768549,\n",
       "       11.63952618,  7.30163737,  8.49344537,  9.8813658 ,  9.36508648,\n",
       "        9.93651551, 10.4811519 , 11.4328987 ,  9.56498525, 10.21451458,\n",
       "       10.17972709, 10.12993444, 10.02616324, 10.41722836,  8.88042396,\n",
       "        9.89717269,  9.46478533,  9.98054794, 10.4193656 ,  9.30964962,\n",
       "       12.28356244, 10.67970157,  9.34916324, 10.98772781, 11.96622935,\n",
       "        9.83470725, 10.63468655, 10.89391821,  9.55988405, 12.48312622,\n",
       "       11.6228857 ,  8.60517274, 11.09698862, 11.10736588,  9.31704435,\n",
       "        9.86617542,  9.36605571, 10.42092291,  8.51339019, 10.02201661,\n",
       "       12.08005119, 10.81327701,  9.91703539, 11.45790032,  8.67649576,\n",
       "       10.55811069,  9.49439698,  9.0938216 , 10.85612829, 10.38003217,\n",
       "       10.66998744, 10.30516125,  9.21072002, 10.0353276 ,  8.94593123,\n",
       "        9.87748341,  8.28205757,  8.74773357, 12.1063762 , 12.68996008,\n",
       "       11.57294475,  9.2070985 , 11.83113407, 11.98039003, 11.78435225,\n",
       "        9.28448145, 11.71755485,  9.59388738,  9.91618019,  9.56211557,\n",
       "       11.7220714 , 10.9854893 ,  8.78644426, 11.07927025, 11.14289942,\n",
       "        9.61103051,  9.7297576 ,  8.7544647 , 11.72782387, 10.66205517,\n",
       "       10.82368724,  9.11961578,  8.60622452,  9.35591698, 10.06308775,\n",
       "        7.77513211,  8.68967402,  9.7417524 , 10.18102851,  9.32470365,\n",
       "       10.63696904,  9.20618031, 10.22016992,  7.7816285 , 10.97888632,\n",
       "       10.52272314,  9.47094623,  9.75942948,  9.64734659,  9.23083833,\n",
       "       10.64972011, 11.17313973, 10.8630774 ,  8.69805211,  8.96620478,\n",
       "        9.00123515, 10.54646031, 11.40952849, 10.14988975, 10.41431862,\n",
       "       10.28275844, 12.90576209,  9.61435397, 10.00652276, 11.02695865,\n",
       "       10.684232  , 10.99198106, 10.63036639, 10.82853813,  9.19601722,\n",
       "       10.80325582,  9.4339655 ,  9.14761443,  9.64138431,  8.10499906,\n",
       "        8.25778163, 10.58789893, 10.73900935, 10.59628164,  9.08427916,\n",
       "       10.67072666,  9.60645155,  8.66708188,  7.96427131,  9.65940361,\n",
       "        8.54370967,  9.76783458,  9.78590509,  9.56472027, 11.25959857,\n",
       "       10.79526911, 10.84317863, 11.12376846,  9.91068027, 10.75606589,\n",
       "       10.9469803 ,  9.89384789,  8.38426958, 10.66465399, 10.17000834,\n",
       "        8.28238581, 10.01716436,  8.6138525 , 10.32088364,  9.36306595,\n",
       "       10.13947276, 10.54650088,  9.07905907, 10.60910504, 11.8447704 ,\n",
       "        9.8286055 , 11.46178339, 10.31703001, 11.30500613,  9.4917775 ,\n",
       "       10.74981785, 10.74239314, 11.30902169,  9.28835756,  9.80680954,\n",
       "        9.58691647, 11.35397271, 11.39424901, 10.57490819,  9.28736307,\n",
       "        9.92016413,  9.218083  , 10.02985024,  9.85043843,  9.83640194,\n",
       "       11.22116155, 10.94398103, 10.15038854, 10.01160063, 11.98364486,\n",
       "        9.11938905, 10.55772663, 10.39452177,  9.27459704,  9.25328048,\n",
       "       10.57371514, 10.31306113,  9.55825118,  9.3495375 , 11.01283816,\n",
       "        8.73734679, 10.39034023, 12.04531824, 11.27074069, 10.34421132,\n",
       "       10.86162632, 10.29930899,  9.65937679, 11.19662857, 10.39986896,\n",
       "        9.64866574, 11.84151091,  9.71061551,  9.84967503, 10.45360488,\n",
       "        9.34172279,  9.52561227,  9.05654018,  7.82054941,  8.87821412,\n",
       "       13.29638211,  9.73796174, 10.54449125, 10.06713209,  9.61452517,\n",
       "        8.84300027, 11.59079915, 10.88185759, 11.60007296, 11.20434876,\n",
       "        9.89487998, 11.01450296, 10.81973931, 10.95623716,  9.21766351,\n",
       "       11.66479091,  9.5718918 , 11.17021882,  9.58619643, 10.69491421,\n",
       "       10.85408444, 11.48205817,  8.70070577, 10.29985957, 10.25986293,\n",
       "       11.1189013 , 10.30527222,  8.93848778,  8.65074601, 11.73668683,\n",
       "        9.75981282,  9.18899703,  9.91100573,  9.27008394, 10.0281772 ,\n",
       "        9.1778217 , 10.79082421,  9.59306639, 10.11097273, 10.01000591,\n",
       "       10.78710971,  9.9786839 ,  8.40150585,  9.17280651, 10.15062228,\n",
       "        7.71637455,  9.46154198, 11.23782434, 10.10518824, 10.35421016,\n",
       "        8.78927941,  9.5167016 ,  9.7984951 , 11.15722128,  8.13904924,\n",
       "       11.45162046, 10.11301739,  9.12852884,  9.25875613, 10.14414676,\n",
       "        8.44170844, 10.96121022,  8.7865522 , 10.45799125, 10.55568789,\n",
       "       10.55616703, 10.32047432, 10.29726272,  9.48011817, 10.84108368,\n",
       "        6.48946561, 10.98355234,  9.39188658,  8.97121054, 10.58408109,\n",
       "        9.17934512, 10.4268215 ,  9.72798736,  9.46332487,  9.53315067,\n",
       "        9.81060292, 11.82896275, 10.51978453, 10.14803923,  9.58492935,\n",
       "       10.29139539, 11.06103425,  9.5403955 , 10.46598572,  8.96717843])"
      ]
     },
     "execution_count": 13,
     "metadata": {},
     "output_type": "execute_result"
    }
   ],
   "source": [
    "# set the mean, standard deviation and size of population\n",
    "mean = 10\n",
    "stddev = 1 \n",
    "# N = 100\n",
    "N = 1000\n",
    "# simulate the data with numpy.random.normal\n",
    "# numpy already imported in task 2 \n",
    "population = np.random.normal(mean, stddev, N)\n",
    "# display the population \n",
    "population"
   ]
  },
  {
   "cell_type": "code",
   "execution_count": 14,
   "metadata": {},
   "outputs": [
    {
     "data": {
      "text/plain": [
       "1000"
      ]
     },
     "execution_count": 14,
     "metadata": {},
     "output_type": "execute_result"
    }
   ],
   "source": [
    "# check the size of the population\n",
    "len(population)"
   ]
  },
  {
   "cell_type": "markdown",
   "metadata": {},
   "source": [
    "#### Plot the data"
   ]
  },
  {
   "cell_type": "code",
   "execution_count": 15,
   "metadata": {},
   "outputs": [
    {
     "data": {
      "image/png": "[encoded data removed]",
      "text/plain": [
       "<Figure size 1440x720 with 1 Axes>"
      ]
     },
     "metadata": {
      "needs_background": "light"
     },
     "output_type": "display_data"
    }
   ],
   "source": [
    "# import matplotlib.pyplot\n",
    "import matplotlib.pyplot as plt\n",
    "\n",
    "# rc params to customize plot appearance: https://matplotlib.org/tutorials/introductory/customizing.html\n",
    "plt.rcParams['figure.figsize'] = (20, 10)\n",
    "plt.rcParams['lines.linewidth'] = 2.5\n",
    "\n",
    "# plot a histogram of the data\n",
    "plt.hist(population)\n",
    "# add title and axis labels \n",
    "plt.title('Plot of simulated population', fontsize =20)\n",
    "plt.xlabel('Spread of values from the mean', fontsize = 16)\n",
    "plt.ylabel('Number of data points', fontsize = 16)\n",
    "# add a grid and display the plot\n",
    "plt.grid()\n",
    "plt.show()"
   ]
  },
  {
   "cell_type": "markdown",
   "metadata": {},
   "source": [
    "#### Calculate the standard deviation using numpy\n",
    "\n",
    "*I already know the standard deviation as I set it when simulating the data but I want to see what the STDEV.P and STDEV.S formulas return for standard deviation on the full population.*\n",
    "\n",
    "As detailed in the task specification \n",
    " \n",
    "STDEV.P is calculated by numpy using the formula:\n",
    "\n",
    "np.sqrt(np.sum((x - np.mean(x))**2)/len(x))"
   ]
  },
  {
   "cell_type": "code",
   "execution_count": 16,
   "metadata": {},
   "outputs": [
    {
     "data": {
      "text/plain": [
       "1.0210569975995534"
      ]
     },
     "execution_count": 16,
     "metadata": {},
     "output_type": "execute_result"
    }
   ],
   "source": [
    "# STDEV.P formula to calculate standard deviation\n",
    "np.sqrt(np.sum((population - np.mean(population))**2)/len(population))"
   ]
  },
  {
   "cell_type": "markdown",
   "metadata": {},
   "source": [
    "STDEV.S is calculated by numpy using the formula:\n",
    " \n",
    "np.sqrt(np.sum((x - np.mean(x))**2)/len(x)-1)\n",
    "\n",
    "I have realised that I am missing a set of parenthesis in the above formula and it should be:\n",
    "\n",
    "np.sqrt(np.sum((x - np.mean(x))**2)/(len(x)-1))\n",
    "\n",
    "The results were inaccuarte before this fix."
   ]
  },
  {
   "cell_type": "code",
   "execution_count": 17,
   "metadata": {},
   "outputs": [],
   "source": [
    "# STDEV.S formula to calculate standard deviation\n",
    "#np.sqrt(np.sum((population - np.mean(population))**2)/len(population)-1)\n",
    "# I realised I had to wrap the len(population)-1 in an extra set of parenthesis"
   ]
  },
  {
   "cell_type": "code",
   "execution_count": 18,
   "metadata": {},
   "outputs": [
    {
     "data": {
      "text/plain": [
       "1.0215679093140868"
      ]
     },
     "execution_count": 18,
     "metadata": {},
     "output_type": "execute_result"
    }
   ],
   "source": [
    "# STDEV.S formula to calculate standard deviation\n",
    "np.sqrt(np.sum((population - np.mean(population))**2)/(len(population)-1))"
   ]
  },
  {
   "cell_type": "markdown",
   "metadata": {},
   "source": [
    "**Which is more accurate?**\n",
    "\n",
    "*I will use numpy.std to calculate the standard deviation of the randomly generated array of data*"
   ]
  },
  {
   "cell_type": "code",
   "execution_count": 19,
   "metadata": {},
   "outputs": [
    {
     "data": {
      "text/plain": [
       "1.0210569975995534"
      ]
     },
     "execution_count": 19,
     "metadata": {},
     "output_type": "execute_result"
    }
   ],
   "source": [
    "# calculate the standard deviation with built in numpy std function\n",
    "np.std(population)"
   ]
  },
  {
   "cell_type": "markdown",
   "metadata": {},
   "source": [
    "I read that numpy can calulate the standard deviation with one degree of freedom added [9]. This gives the same result as the STDEV.S calculation. "
   ]
  },
  {
   "cell_type": "code",
   "execution_count": 20,
   "metadata": {},
   "outputs": [
    {
     "data": {
      "text/plain": [
       "1.0215679093140868"
      ]
     },
     "execution_count": 20,
     "metadata": {},
     "output_type": "execute_result"
    }
   ],
   "source": [
    "# calculate the standard deviation with built in numpy std with one degree of freedom added \n",
    "np.std(population, ddof = 1)"
   ]
  },
  {
   "cell_type": "markdown",
   "metadata": {},
   "source": [
    "When calculating standard deviation of full population of data STDEV.P is more accurate than STDEV.S\n",
    "\n",
    "I have verified the statement from the Micrososft support pages [1]:\n",
    "\n",
    "STDEV.S assumes that its arguments are a sample of the population. If your data represents the entire population, then compute the standard deviation using STDEV.P."
   ]
  },
  {
   "cell_type": "markdown",
   "metadata": {},
   "source": [
    "#### Generate samples of the population and use STDEV.P and STDEV.S to calculate standard deviation\n",
    "\n",
    "I will use numpy.random.choice to choose random values from my full population of 1000 to create samples of different sizes [18]. numpy.random.choice generates a random sample from a given one dimensional array.\n",
    "\n",
    "I will then use the STDEV.S and STDEV.P calculations to estimate the standard deviation of the population based on each sample size and see what the results show."
   ]
  },
  {
   "cell_type": "code",
   "execution_count": 21,
   "metadata": {},
   "outputs": [],
   "source": [
    "# commented out, more efficient to generate different sample sizes in a loop\n",
    "\n",
    "# numpy.random.choice to generate samples from the full population of 100 [18]\n",
    "#sample5 = np.random.choice(population, size=5)\n",
    "#sample10 = np.random.choice(population, size=10)\n",
    "#sample20 = np.random.choice(population, size=20)\n",
    "#sample30 = np.random.choice(population, size=30)\n",
    "#sample40 = np.random.choice(population, size=40)\n",
    "#sample50 = np.random.choice(population, size=50)\n",
    "#sample60 = np.random.choice(population, size=60)\n",
    "#sample80 = np.random.choice(population, size=80)"
   ]
  },
  {
   "cell_type": "markdown",
   "metadata": {},
   "source": [
    "#### Steps Involved\n",
    "\n",
    "* I have created an array of sample sizes and looped through the array each time generating an array of the sample size using numpy.random.choice. The replace argument has been set to true so the same values can be selected for different sample sizes.\n",
    "* On each iteration of the loop I have calculated the standard deviation using STDEV.P and STDEV.S calculations and appended the results to an empty array.\n",
    "* I have added the standard deviation of the full population as calculated by STDEV.P to an array at each iteration, solely for the purpose of comparison to the result of STDEV.P and STDEV.S for each sample size.\n",
    "* I have compared the STDEV.P and STDEV.S estimates for standard deviation based on samples to the actual population standard deviation calculated using STDEV.P for comparison purposes.\n",
    "* I have created a pandas dataframe and added the results for each sample size to the dataframe for ease of viewing and comparison."
   ]
  },
  {
   "cell_type": "code",
   "execution_count": 22,
   "metadata": {},
   "outputs": [],
   "source": [
    "# create an array of sample sizes \n",
    "#sample_sizes = [5, 10, 15, 20, 25, 40, 50, 60, 75, 80, 90]\n",
    "sample_sizes = [50, 100, 150, 200, 250, 400, 500, 600, 750, 800, 900]\n",
    "\n",
    "# create an empty array to append the results to\n",
    "# pop will contain the STDEV.P calculation for each sample size \n",
    "pop = []\n",
    "# samp will contain the STDEV.S calculation for each sample size\n",
    "samp = []\n",
    "# pop_stddev will contain the standard deviation of the entire population for each sample size, for comparison purposes\n",
    "pop_stddev = []\n",
    "# append the difference between the actual population standard deviation and the STDEV.P estimate\n",
    "P_difference = []\n",
    "# append the difference between the actual population standard deviation and the STDEV.S estimate\n",
    "S_difference = []\n",
    "\n",
    "\n",
    "# loop through the sample sizes \n",
    "for s in sample_sizes:\n",
    "    # for each sample size numpy.random.choice will generate a random sample from population of that size\n",
    "    sample = np.random.choice(population, size = s, replace = True)\n",
    "    # calculate the standard deviation using the STDEV.P formula\n",
    "    P = np.sqrt(np.sum((sample - np.mean(sample))**2)/len(sample))\n",
    "    # calculate the standard deviation using the STDEV.S formula\n",
    "    S = np.sqrt(np.sum((sample - np.mean(sample))**2)/(len(sample)-1))\n",
    "    # This is the standard deviation of the entire population generated by the STDEV.P calculation\n",
    "    total = np.sqrt(np.sum((population - np.mean(population))**2)/len(population))\n",
    "    # calculate the difference between the standard deviation of population and STDEV.P estimate based on sample\n",
    "    P_diff = abs(total - P)\n",
    "    # calculate the difference between the standard deviation of population and STDEV.S estimate based on sample\n",
    "    S_diff = abs(total - S)\n",
    "    # append the results for the STDEV.P and STDEV.S calculations to the empty arrays created earlier \n",
    "    pop.append(P)\n",
    "    samp.append(S)\n",
    "    # append the actual standard deviation of the full population to the array created earlier\n",
    "    pop_stddev.append(total)\n",
    "    # append the difference between the actual population standard deviation and the STDEV.P and STDEV.S estimates\n",
    "    P_difference.append(P_diff)\n",
    "    S_difference.append(S_diff)"
   ]
  },
  {
   "cell_type": "code",
   "execution_count": 23,
   "metadata": {},
   "outputs": [
    {
     "data": {
      "text/plain": [
       "[0.971789758085688,\n",
       " 0.9449502918586233,\n",
       " 1.062098460925216,\n",
       " 1.042760490344752,\n",
       " 0.9597237969766478,\n",
       " 0.9677768486454038,\n",
       " 1.0292435089572813,\n",
       " 0.9936452084970911,\n",
       " 1.0174133729664037,\n",
       " 0.9955453918517896,\n",
       " 1.0516356848058197]"
      ]
     },
     "execution_count": 23,
     "metadata": {},
     "output_type": "execute_result"
    }
   ],
   "source": [
    "# display the STDEV.P standard deviation calculated \n",
    "pop"
   ]
  },
  {
   "cell_type": "code",
   "execution_count": 24,
   "metadata": {},
   "outputs": [
    {
     "data": {
      "text/plain": [
       "[0.9816558969000351,\n",
       " 0.9497107768581456,\n",
       " 1.065656589688893,\n",
       " 1.0453772083620543,\n",
       " 0.9616490221752823,\n",
       " 0.9689888426690327,\n",
       " 1.030274298909122,\n",
       " 0.9944742826575959,\n",
       " 1.018092327578483,\n",
       " 0.996168191657373,\n",
       " 1.0522204141725493]"
      ]
     },
     "execution_count": 24,
     "metadata": {},
     "output_type": "execute_result"
    }
   ],
   "source": [
    "# display the STDEV.S standard deviation calculated \n",
    "samp"
   ]
  },
  {
   "cell_type": "code",
   "execution_count": 25,
   "metadata": {},
   "outputs": [
    {
     "data": {
      "text/plain": [
       "[1.0210569975995534,\n",
       " 1.0210569975995534,\n",
       " 1.0210569975995534,\n",
       " 1.0210569975995534,\n",
       " 1.0210569975995534,\n",
       " 1.0210569975995534,\n",
       " 1.0210569975995534,\n",
       " 1.0210569975995534,\n",
       " 1.0210569975995534,\n",
       " 1.0210569975995534,\n",
       " 1.0210569975995534]"
      ]
     },
     "execution_count": 25,
     "metadata": {},
     "output_type": "execute_result"
    }
   ],
   "source": [
    "# display the standard deviation of the full population calculated using the STDEV.P calculation\n",
    "pop_stddev"
   ]
  },
  {
   "cell_type": "code",
   "execution_count": 26,
   "metadata": {},
   "outputs": [
    {
     "data": {
      "text/plain": [
       "[0.04926723951386536,\n",
       " 0.07610670574093004,\n",
       " 0.04104146332566261,\n",
       " 0.02170349274519867,\n",
       " 0.06133320062290559,\n",
       " 0.053280148954149564,\n",
       " 0.008186511357727966,\n",
       " 0.027411789102462225,\n",
       " 0.0036436246331497113,\n",
       " 0.025511605747763788,\n",
       " 0.03057868720626633]"
      ]
     },
     "execution_count": 26,
     "metadata": {},
     "output_type": "execute_result"
    }
   ],
   "source": [
    "# difference between STDEV.P of sample and STDEV.P of full population\n",
    "P_difference"
   ]
  },
  {
   "cell_type": "code",
   "execution_count": 27,
   "metadata": {},
   "outputs": [
    {
     "data": {
      "text/plain": [
       "[0.0394011006995183,\n",
       " 0.07134622074140773,\n",
       " 0.04459959208933961,\n",
       " 0.024320210762500905,\n",
       " 0.05940797542427112,\n",
       " 0.05206815493052064,\n",
       " 0.00921730130956866,\n",
       " 0.02658271494195752,\n",
       " 0.0029646700210703703,\n",
       " 0.024888805942180348,\n",
       " 0.031163416572995928]"
      ]
     },
     "execution_count": 27,
     "metadata": {},
     "output_type": "execute_result"
    }
   ],
   "source": [
    "# difference between STDEV.S sample and STDEV.P of full population\n",
    "S_difference"
   ]
  },
  {
   "cell_type": "markdown",
   "metadata": {},
   "source": [
    "#### Display the results in a pandas dataframe"
   ]
  },
  {
   "cell_type": "code",
   "execution_count": 28,
   "metadata": {},
   "outputs": [
    {
     "data": {
      "text/html": [
       "<div>\n",
       "<style scoped>\n",
       "    .dataframe tbody tr th:only-of-type {\n",
       "        vertical-align: middle;\n",
       "    }\n",
       "\n",
       "    .dataframe tbody tr th {\n",
       "        vertical-align: top;\n",
       "    }\n",
       "\n",
       "    .dataframe thead th {\n",
       "        text-align: right;\n",
       "    }\n",
       "</style>\n",
       "<table border=\"1\" class=\"dataframe\">\n",
       "  <thead>\n",
       "    <tr style=\"text-align: right;\">\n",
       "      <th>Sample Size</th>\n",
       "      <th>50</th>\n",
       "      <th>100</th>\n",
       "      <th>150</th>\n",
       "      <th>200</th>\n",
       "      <th>250</th>\n",
       "      <th>400</th>\n",
       "      <th>500</th>\n",
       "      <th>600</th>\n",
       "      <th>750</th>\n",
       "      <th>800</th>\n",
       "      <th>900</th>\n",
       "    </tr>\n",
       "  </thead>\n",
       "  <tbody>\n",
       "    <tr>\n",
       "      <th>STDEV.P Sample</th>\n",
       "      <td>0.971790</td>\n",
       "      <td>0.944950</td>\n",
       "      <td>1.062098</td>\n",
       "      <td>1.042760</td>\n",
       "      <td>0.959724</td>\n",
       "      <td>0.967777</td>\n",
       "      <td>1.029244</td>\n",
       "      <td>0.993645</td>\n",
       "      <td>1.017413</td>\n",
       "      <td>0.995545</td>\n",
       "      <td>1.051636</td>\n",
       "    </tr>\n",
       "    <tr>\n",
       "      <th>STDEV.S Sample</th>\n",
       "      <td>0.981656</td>\n",
       "      <td>0.949711</td>\n",
       "      <td>1.065657</td>\n",
       "      <td>1.045377</td>\n",
       "      <td>0.961649</td>\n",
       "      <td>0.968989</td>\n",
       "      <td>1.030274</td>\n",
       "      <td>0.994474</td>\n",
       "      <td>1.018092</td>\n",
       "      <td>0.996168</td>\n",
       "      <td>1.052220</td>\n",
       "    </tr>\n",
       "    <tr>\n",
       "      <th>STDEV.P Population</th>\n",
       "      <td>1.021057</td>\n",
       "      <td>1.021057</td>\n",
       "      <td>1.021057</td>\n",
       "      <td>1.021057</td>\n",
       "      <td>1.021057</td>\n",
       "      <td>1.021057</td>\n",
       "      <td>1.021057</td>\n",
       "      <td>1.021057</td>\n",
       "      <td>1.021057</td>\n",
       "      <td>1.021057</td>\n",
       "      <td>1.021057</td>\n",
       "    </tr>\n",
       "    <tr>\n",
       "      <th>STDEV.P difference</th>\n",
       "      <td>0.049267</td>\n",
       "      <td>0.076107</td>\n",
       "      <td>0.041041</td>\n",
       "      <td>0.021703</td>\n",
       "      <td>0.061333</td>\n",
       "      <td>0.053280</td>\n",
       "      <td>0.008187</td>\n",
       "      <td>0.027412</td>\n",
       "      <td>0.003644</td>\n",
       "      <td>0.025512</td>\n",
       "      <td>0.030579</td>\n",
       "    </tr>\n",
       "    <tr>\n",
       "      <th>STDEV.S difference</th>\n",
       "      <td>0.039401</td>\n",
       "      <td>0.071346</td>\n",
       "      <td>0.044600</td>\n",
       "      <td>0.024320</td>\n",
       "      <td>0.059408</td>\n",
       "      <td>0.052068</td>\n",
       "      <td>0.009217</td>\n",
       "      <td>0.026583</td>\n",
       "      <td>0.002965</td>\n",
       "      <td>0.024889</td>\n",
       "      <td>0.031163</td>\n",
       "    </tr>\n",
       "  </tbody>\n",
       "</table>\n",
       "</div>"
      ],
      "text/plain": [
       "Sample Size              50        100       150       200       250  \\\n",
       "STDEV.P Sample      0.971790  0.944950  1.062098  1.042760  0.959724   \n",
       "STDEV.S Sample      0.981656  0.949711  1.065657  1.045377  0.961649   \n",
       "STDEV.P Population  1.021057  1.021057  1.021057  1.021057  1.021057   \n",
       "STDEV.P difference  0.049267  0.076107  0.041041  0.021703  0.061333   \n",
       "STDEV.S difference  0.039401  0.071346  0.044600  0.024320  0.059408   \n",
       "\n",
       "Sample Size              400       500       600       750       800       900  \n",
       "STDEV.P Sample      0.967777  1.029244  0.993645  1.017413  0.995545  1.051636  \n",
       "STDEV.S Sample      0.968989  1.030274  0.994474  1.018092  0.996168  1.052220  \n",
       "STDEV.P Population  1.021057  1.021057  1.021057  1.021057  1.021057  1.021057  \n",
       "STDEV.P difference  0.053280  0.008187  0.027412  0.003644  0.025512  0.030579  \n",
       "STDEV.S difference  0.052068  0.009217  0.026583  0.002965  0.024889  0.031163  "
      ]
     },
     "execution_count": 28,
     "metadata": {},
     "output_type": "execute_result"
    }
   ],
   "source": [
    "# import pandas\n",
    "import pandas as pd\n",
    "# create a pandas dataframe\n",
    "df = pd.DataFrame()\n",
    "# create a column of data called Sample size and populate with the array of sample sizes \n",
    "df['Sample Size'] = sample_sizes\n",
    "# create a column of data for the STDEV.P calculation and populate with the data in the pop array\n",
    "df['STDEV.P Sample'] = pop\n",
    "# create a column of data for the STDEV.S calculation and populate with the data in the samp array\n",
    "df['STDEV.S Sample'] = samp\n",
    "# add the actual standard deviation of the population to the dataframe\n",
    "df['STDEV.P Population'] = pop_stddev\n",
    "# the difference between standard deviation of the population and STDEV.P estimate based on sample\n",
    "df['STDEV.P difference'] = P_difference\n",
    "# the difference between standard deviation of the population and STDEV.S estimate based on sample\n",
    "df['STDEV.S difference'] = S_difference\n",
    "\n",
    "# set the index in place as Sample Size \n",
    "df.set_index('Sample Size', inplace=True)\n",
    "# transpose the dataframe, flip the columns and rows, looks better this way\n",
    "df.T"
   ]
  },
  {
   "cell_type": "code",
   "execution_count": 29,
   "metadata": {},
   "outputs": [
    {
     "data": {
      "text/plain": [
       "0.3859601634353311"
      ]
     },
     "execution_count": 29,
     "metadata": {},
     "output_type": "execute_result"
    }
   ],
   "source": [
    "# sum the total of the differenece between STDEV.P population and STDEV.S sample for each sample size \n",
    "sum(S_difference)"
   ]
  },
  {
   "cell_type": "code",
   "execution_count": 30,
   "metadata": {},
   "outputs": [
    {
     "data": {
      "text/plain": [
       "0.39806446895008185"
      ]
     },
     "execution_count": 30,
     "metadata": {},
     "output_type": "execute_result"
    }
   ],
   "source": [
    "# sum the total of the differenece between STDEV.P population and STDEV.P sample for each sample size \n",
    "sum(P_difference)"
   ]
  },
  {
   "cell_type": "markdown",
   "metadata": {},
   "source": [
    "#### Plot the data\n",
    "\n",
    "I have added a plot showing the STDEV.P and STDEV.S calculations for each sample size and the standard deviation of the full population as calculated by STDEV.P below."
   ]
  },
  {
   "cell_type": "code",
   "execution_count": 31,
   "metadata": {},
   "outputs": [
    {
     "data": {
      "image/png": "[encoded data removed]",
      "text/plain": [
       "<Figure size 1440x720 with 1 Axes>"
      ]
     },
     "metadata": {
      "needs_background": "light"
     },
     "output_type": "display_data"
    }
   ],
   "source": [
    "# customise with rcparams \n",
    "plt.rcParams['figure.figsize'] = (20, 10)\n",
    "plt.rcParams['lines.linewidth'] = 2.5\n",
    "\n",
    "# add the data to be plotted \n",
    "# label added for legend\n",
    "plt.plot(df['STDEV.P Sample'], marker = 'o', markersize = 14, label = 'STDEV.P sample')\n",
    "plt.plot(df['STDEV.S Sample'], marker = 'x', markersize = 14, label = 'STDEV.S sample')\n",
    "plt.plot(df['STDEV.P Population'], label = 'Population Std Dev')\n",
    "# add labels for the x and y axis and a plot title\n",
    "plt.title(\"STDEV.P and STDEV.S estimate of standard deviation based on samples\", fontsize = 18)\n",
    "plt.xlabel(\"Sample Size\", fontsize = 16)\n",
    "plt.ylabel(\"Standard Deviation\", fontsize = 16)\n",
    "# add a legend and grid to the plot\n",
    "plt.legend()\n",
    "plt.grid()"
   ]
  },
  {
   "cell_type": "markdown",
   "metadata": {},
   "source": [
    "### Task 3 Conclusion & Learnings\n",
    "\n"
   ]
  },
  {
   "cell_type": "markdown",
   "metadata": {},
   "source": [
    "* STDEV.P can be used to calculate standard deviation when we have all the data points in a population.\n",
    "* STDEV.S can be used to to estimate the standard deviation of a full population when we have only a sample of the data points of a full population.\n",
    "* STDEV.S has one degree of freedom built into the calculation which is said to produce a more accurate estimate for the standard deviation of a population when only a sample of the data is available.\n",
    "* numpy can be used to calculate the standard deviation in the same way as STDEV.P and the same way as STDEV.S with one degree of freedom allowed.\n",
    "* I simulated a full population of 1,000 data points using numpy.random.normal with a mean of 10 and a standard deviation of 1. I used STDEV.P to calculate the standard deviation of the population.\n",
    "* I then used numpy.random.choice to generate samples of different sizes from the full population.\n",
    "* For each sample size I calculated an estimation of the standard deviation of the full population based on that sample of data using both the STDEV.P and STDEV.S calculations.\n",
    "* I also subtracted the difference between the STDEV.P calculation based on the full population and the STDEV.P and STDEV.S calculations based on each sample size and summed the difference.\n",
    "* The result of my experiment was that STDEV.S produced a slightly more accurate result over all the sample sizes that I generated.\n",
    "* I cannot say for sure whether STDEV.S is a more accurate estimate for the standard deviation when performed on a sample.\n",
    "* I can say with a reasonably high degree of confidence that when estimating the standard deviation of a population based on a sample of the population that the bigger the sample is the more accurate the standard deviation calculated based on that sample will be.\n",
    "* This is evident in the plot of the STDEV.P and STDEV.S estimations based on my samples above.\n",
    "* The two smallest sample sizes have the estimates which are the furthest from the actual standard deviation of the population.\n",
    "* I could also say there may be some element of luck involved too in the sampling of data from the population too as some of the smaller samples have closer estimations for standard deviation than some of the larger samples.\n",
    "* I found the topic interesting and I could continue to research but due to time constraints I have this leave it here."
   ]
  },
  {
   "cell_type": "markdown",
   "metadata": {},
   "source": [
    "### Task 3 References "
   ]
  },
  {
   "cell_type": "markdown",
   "metadata": {},
   "source": [
    "[1] Microsoft support; STDEV.S; https://support.microsoft.com/en-us/office/stdev-s-function-7d69cf97-0c1f-4acf-be27-f3e83904cc23#:~:text=Remarks-,STDEV.,P.\n",
    "\n",
    "[2] Microsoft support; STDEV.P; https://support.microsoft.com/en-us/office/stdev-p-function-6e917c05-31a0-496f-ade7-4f4e7462f285\n",
    "\n",
    "[3] Youtube; =StDev.S And =StDev.P (What Is The Difference?) | How To Use Excel; https://www.youtube.com/watch?v=NdIVwuwfMIg\n",
    "\n",
    "[4] Excel-easy; Standard Deviation; https://www.excel-easy.com/examples/standard-deviation.html\n",
    "\n",
    "[5] SciPy.org; numpy.random.normal; https://docs.scipy.org/doc/numpy-1.16.0/reference/generated/numpy.random.normal.html#numpy.random.normal\n",
    "\n",
    "[6] numpy; numpy.std; https://numpy.org/devdocs/reference/generated/numpy.std.html\n",
    "\n",
    "[7] ExcelTip; How To Use Excel STDEV.P Function; https://www.exceltip.com/statistical-formulas/how-to-use-excel-stdev-p-function.html\n",
    "\n",
    "[8] ExcelTip; How to use the STDEV.S function in Excel; https://www.exceltip.com/statistical-formulas/how-to-use-stdev-s-function-in-excel.html\n",
    "\n",
    "[9] Towards data science; Why computing standard deviation in pandas and NumPy yields different results?; https://towardsdatascience.com/why-computing-standard-deviation-in-pandas-and-numpy-yields-different-results-5b475e02d112\n",
    "\n",
    "[10] GeeksforGekks;stdev() method in Python statistics module; https://www.geeksforgeeks.org/python-statistics-stdev/#:~:text=Statistics%20module%20in%20Python%20provides,rather%20than%20an%20entire%20population.\n",
    "\n",
    "[11]  matplotlib; matplotlib.pyplot documentation; https://matplotlib.org/3.2.1/api/_as_gen/matplotlib.pyplot.plot.html#matplotlib.pyplot.plot\n",
    "\n",
    "[12] matplotlib; Customizing Matplotlib with style sheets and rcParams; https://matplotlib.org/tutorials/introductory/customizing.html\n",
    "\n",
    "[13] IB Geography; standard deviation; https://sites.google.com/site/geographyfais/fieldwork/6-data-analysis/statistical-tools/basic-statistical-tools/7-standard-deviation\n",
    "\n",
    "[14] Khan Academy; Calculating standard deviation step by step; https://www.khanacademy.org/math/statistics-probability/summarizing-quantitative-data/variance-standard-deviation-population/a/calculating-standard-deviation-step-by-step\n",
    "\n",
    "[15] Laerd Statistics; Standard Deviation; https://statistics.laerd.com/statistical-guides/measures-of-spread-standard-deviation.php\n",
    "\n",
    "[16] Thought Co.; population vs sample standard deviations; https://www.thoughtco.com/population-vs-sample-standard-deviations-3126372\n",
    "\n",
    "[17] Statistics how to; Bessel's Correction; https://www.statisticshowto.com/bessels-correction/\n",
    "\n",
    "[18] Scipy.Org; numpy.random.choice; https://docs.scipy.org/doc//numpy-1.10.4/reference/generated/numpy.random.choice.html\n",
    "\n",
    "[19] pandas; pandas.DataFrame; https://pandas.pydata.org/pandas-docs/stable/reference/api/pandas.DataFrame.html\n",
    "\n",
    "[20] pandas; pandas.DataFrame.set_index; https://pandas.pydata.org/pandas-docs/stable/reference/api/pandas.DataFrame.set_index.html\n",
    "\n",
    "[21] pandas; pandas.DataFrame.transpose; https://pandas.pydata.org/pandas-docs/stable/reference/api/pandas.DataFrame.transpose.html\n",
    "\n",
    "[22] StackOverflow;How do I find the difference between two values without knowing which is larger?; https://stackoverflow.com/questions/13602170/how-do-i-find-the-difference-between-two-values-without-knowing-which-is-larger\n",
    "\n"
   ]
  },
  {
   "cell_type": "markdown",
   "metadata": {},
   "source": [
    "***"
   ]
  },
  {
   "cell_type": "markdown",
   "metadata": {},
   "source": [
    "## Task 4 "
   ]
  },
  {
   "cell_type": "markdown",
   "metadata": {},
   "source": []
  }
 ],
 "metadata": {
  "kernelspec": {
   "display_name": "Python 3",
   "language": "python",
   "name": "python3"
  },
  "language_info": {
   "codemirror_mode": {
    "name": "ipython",
    "version": 3
   },
   "file_extension": ".py",
   "mimetype": "text/x-python",
   "name": "python",
   "nbconvert_exporter": "python",
   "pygments_lexer": "ipython3",
   "version": "3.8.3"
  }
 },
 "nbformat": 4,
 "nbformat_minor": 4
}
