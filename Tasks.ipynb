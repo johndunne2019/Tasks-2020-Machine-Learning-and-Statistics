{
 "cells": [
  {
   "cell_type": "markdown",
   "metadata": {},
   "source": [
    "# Tasks\n",
    "\n",
    "**These are my solutions to the Tasks assessment in the Machine Learning and Statistics module at GMIT 2020.\n",
    "The author is John Dunne G00273895 (G00273895@gmit.ie).**\n",
    "\n",
    "***"
   ]
  },
  {
   "cell_type": "markdown",
   "metadata": {},
   "source": [
    "## Task 1 - Calculate the square root of 2 \n",
    "\n",
    "1. October 5th, 2020: Write a Python function called sqrt2 that calculates and\n",
    "prints to the screen the square root of 2 to 100 decimal places.Your code should\n",
    "not depend on any module from the standard library or otherwise. You should\n",
    "research the task first and include references and a description of your algorithm.\n",
    "\n",
    "******"
   ]
  },
  {
   "cell_type": "markdown",
   "metadata": {},
   "source": [
    "### My plan to complete this task\n",
    "\n",
    "I will break the task into smaller tasks:\n",
    "\n",
    "1. Research how the square root is calculated without the use of any imported modules.\n",
    "2. Implement a function that calculates the square root of 2 in this jupyter notebook.\n",
    "3. Carry out testing to check the implemented function returns the correct result.\n",
    "4. Have the result outputted in the format requested - 100 decimal places.\n",
    "5. Compile a list of references used to complete the task.\n",
    "\n",
    "**In order to do this I have broken task 1 into 5 sections**\n",
    "\n",
    "* 1.1 - My Research. \n",
    "* 1.2 - Write a function that calculates the square root of 2.\n",
    "* 1.3 - Test the function.\n",
    "* 1.4 - Output to the requested format - 100 decimal places. \n",
    "* 1.5 - List the references."
   ]
  },
  {
   "cell_type": "markdown",
   "metadata": {},
   "source": [
    "### 1.1 My Research\n",
    "\n",
    "*In this section I will outline the research I conducted into how to calculate the square root of 2 without using any modules from the Python standard library*"
   ]
  },
  {
   "cell_type": "markdown",
   "metadata": {},
   "source": [
    "Every number has two square roots, a negative and non-negative square root. The principal (non-negative) square root of most numbers is an irrational number. As a result of this, the decimal expansion of a square root can only be calculated to a precision [1]. In this task, I have been asked to calculate the square root of 2 to 100 decimal places so I think this point is noteworthy.\n",
    "\n",
    "In the lecture video on the square root of 2 [2], this was discussed where I learnt that the square root of 2 is an irrational number, meaning it cannot be expressed as an integer divided by another integer. Rational numbers are numbers than can be stored as one integer over another integer.\n",
    "\n",
    "An iterative approach to finding the square root of a number involves finding a suitable starting value followed by refinement until a termination criteria is met [1]. In plainer terms, to find the square root of a number 2, I would need to start with a suitable starting value and refine until we come to the closest approximation for the square root. The closer the starting value is to the square root, the less iterations will be required to come to the result. This starting value also known as the seed value should be a positive number between 1 and the value that we are trying to calculate the square root of. In my case, this would be a value between 1 and 2 as I am tasked with finding the square root of 2. The reason we have to start with a value in this range is that the square root of any number must fall into this range between 1 and that number.\n",
    "\n",
    "\n",
    "\n",
    "After some research I have found out that Newton's method is a suitable method that is commonly used to calculate the square root of a number."
   ]
  },
  {
   "cell_type": "markdown",
   "metadata": {},
   "source": [
    "#### Newtown-Raphson method to calculate square root"
   ]
  },
  {
   "cell_type": "markdown",
   "metadata": {},
   "source": [
    "The Newton-Raphson method or Newton's method is a root finding algorithm that uses an iterative approach to finding the square root of a number, producing better approximations for the square root at each iteration [3].\n",
    "\n",
    "A set of steps is is repeated over until we are satisified with the result or the method fails [6].\n",
    "\n",
    "Newton's method is a root finding method that uses linear approximation [4]. The algortihms starts with a guess and computes a sequence of improved guesses [7]. The algorithm is quite old dating back to Babylonian times. \n",
    "\n",
    "**Starting guess/ Seed**\n",
    "\n",
    "As I mentioned in the previous section, most iterative approaches to calculating the square root of a number require a starting value or seed and this is requred when using Newton's method.\n",
    "\n",
    "I found a  blog post [3] that outlines the steps involved when Newton's method is employed to calculate square root:\n",
    "\n",
    "* A starting value is assigned, which is a reasonable guess for the square root of the number.\n",
    "* This reasonable guess is added to the number we are looking to find the square root of, divided by the reasonable guess and divided by 2.\n",
    "\n",
    "This is displayed as a function on the blog post below where Xi is the reasonable guess:\n",
    "\n",
    "$$ x_i = (x_i + n/x_i) /2 $$\n",
    "\n",
    "I have included a real example here where we are trying to calculate the square root of 2 and 1 is the reasonable guess or starting value:\n",
    "\n",
    "$$ 1 = (1 + 2/1) /2 $$\n",
    "\n",
    "* Step 2 is continued until the most precise approximation of the square root is reached.\n",
    "* We are left with the closest approximation for the square root.\n",
    "\n",
    "With Newton's method a starting value slightly larger than the root will converge faster than a starting value slightly smaller than the root [1].\n",
    "\n",
    "**Example convergence**\n",
    "\n",
    "I found a paper that explains nicely the way Newton's method computes the square root of 2 [7]. In this case the starting guess is 1. The number of accurate digits at each iteration is highlighted in bold below:\n",
    "\n",
    "* **1**\n",
    "* **1**.5\n",
    "* **1.41**66666666666666666666666666666666666666666666666666666666675\n",
    "* **1.41421**56862745098039215686274509803921568627450980392156862745\n",
    "* **1.41421356237**46899106262955788901349101165596221157440445849057\n",
    "* **1.41421356237309504880168**96235025302436149819257761974284982890\n",
    "* **1.41421356237309504880168872420969807856967187537**72340015610125\n",
    "* **1.4142135623730950488016887242096980785696718753769480731766796**\n",
    "\n",
    "The number of accurate digits approximately doubles on each iteration [7]. \n"
   ]
  },
  {
   "cell_type": "markdown",
   "metadata": {},
   "source": [
    "### 1.2 Write a function that calculates the square root of 2 \n",
    "\n",
    "*In this section I will write a Python function called sqrt2 that calculates and prints to the screen the square root of 2 to 100 decimal places. The code should not depend on any module from the standard library or otherwise.*"
   ]
  },
  {
   "cell_type": "markdown",
   "metadata": {},
   "source": [
    "The below code example is included in the blog post on Newton's method [3]."
   ]
  },
  {
   "cell_type": "code",
   "execution_count": 1,
   "metadata": {},
   "outputs": [],
   "source": [
    "def mySqrt(x):\n",
    "\n",
    "    r = x\n",
    "    precision = 10 ** (-10)\n",
    "    \n",
    "    while abs(x - r * r) > precision:\n",
    "        r = (r + x / r) / 2\n",
    "        \n",
    "    return r"
   ]
  },
  {
   "cell_type": "markdown",
   "metadata": {},
   "source": [
    "I have spent some time examining the above code and I have included below my understanding of how the code works.\n",
    "\n",
    "My understanding of the above code is a while loop is used to iterate until we find the most precise match for the square root of x. The variable r is introduced and set to equal to x at the start of the function and taken as the starting value or guess of starting square root. I am thinking this is one thing I could change when I write the code myself as I have already learnt a good starting value is between 1 and the number we want to calculate the square root of. Therefore, setting the starting value to be equal to the value x here might not be the best starting value to use.\n",
    "\n",
    "The precision has been set and the loop will continue until this precision is met. The abs statment returns the absolute value of the calculation and checks if it is greater than the precision value. Whilst this condition is true the loop continues to run the function that I already highlighted in the previous section:\n",
    "\n",
    "$$ x_i = (x_i + n/x_i) /2 $$\n",
    "\n",
    "In this case:\n",
    "\n",
    "$$ r = (r + x / r) / 2 $$\n",
    "\n",
    "When the precision condition is met the loop terminates and the closest approximation to the square root is output.\n",
    "\n",
    "I will now try to implement this solution by writing a square root function myself."
   ]
  },
  {
   "cell_type": "markdown",
   "metadata": {},
   "source": [
    "#### My function to calculate square root of 2\n",
    "\n",
    "I did some testing to find a good seed value and eventually decided to hard code a seed value in my function. I added a counter to the function to count how many iterations of the while loop would execute before we arrived to the closest approximation for the square root of 2. I found that there wasnt a huge difference in the number of iterations required. I have recorded below a sample set of results that I noted:\n",
    "\n",
    "* Seed value 1 - 4 iterations\n",
    "* Seed value 2 - 4 iterations\n",
    "* Seed value 1.9 - 4 iterations\n",
    "* Seed value 1.45 - 3 iterations\n",
    "* Seed value 1.35 - 3 iterations \n",
    "\n",
    "In general, I draw the conclusion here that the closer the starting value is to the actual square root the faster the function executed. This is expected from the research that I conducted. I have commented out the print statments that I used for testing purposes in my function below.\n",
    "\n",
    "During testing, I added a print statement to the function for testing purposes to see the new value of s calculated at each iteration. I wanted to see the function working towards finding the closest approximation for the square root of 2 at each iteration. I have included the example print outs for a seed value of 1.35 below:\n",
    "\n",
    "* At iteration 1 the value of s was 1.4157407407407407\n",
    "* At iteration 2 the value of s was 1.414214386066904\n",
    "* At iteration 3 the value of s was 1.414213562373335\n",
    "* Square root calculated: 1.414213562373335\n",
    "\n",
    "You can remove the # in the function below when running if you would like the above statements to be printed out when running the function."
   ]
  },
  {
   "cell_type": "code",
   "execution_count": 2,
   "metadata": {},
   "outputs": [],
   "source": [
    "# Code originally adapted from [3] with my own changes made and comments added\n",
    "\n",
    "def sqrt2(x=2):\n",
    "    \"\"\"\n",
    "    A function to calculate the square root of 2. Function named as per assessment specification.\n",
    "    I have set the default value of the function to be 2 as I am only tasked in finding the square root of 2. \n",
    "    \n",
    "    I want the starting value/seed to somewhere between 1 and 2. I tested different starting values.\n",
    "    This should be a better starting value than in the code example in the blog post above.\n",
    "    \"\"\"\n",
    "    s = 1.35   \n",
    "    # starting value/seed set here, I ran tests on different seed values and decided to hard code this one\n",
    "    precision = 10 ** (-10)\n",
    "    # precision is defined here, same as in the code example in blog post\n",
    "    count = 0\n",
    "    # I have added a counter to see how many iterations it takes to get the result, printed out for testing\n",
    "    while abs(x - s * s) > precision:\n",
    "        s = (s + x / s) / 2\n",
    "        # while the absolute value of 2 minus the seed squared is greater than the precision required the loop continues\n",
    "        # the calculation I explained in the previous section is repeated at each iteration\n",
    "        count += 1\n",
    "        # counter incremented at each iteration\n",
    "        # commented out my print statements for testing below\n",
    "        #print(f\"At iteration {count} the value of s was {s}\")\n",
    "        # print out to see function working towards solution at each iteration\n",
    "        \n",
    "    #print(f\"Square root calculated in {count} iterations\")\n",
    "    # I added a print statement to print out how many iterations we needed, commented out\n",
    "    return s\n",
    "    #print(format(s, '.100f')) \n",
    "    # the value for the closest approximation of square root will be returned to the caller\n",
    "    "
   ]
  },
  {
   "cell_type": "markdown",
   "metadata": {},
   "source": [
    "#### Calling the function"
   ]
  },
  {
   "cell_type": "code",
   "execution_count": 3,
   "metadata": {},
   "outputs": [
    {
     "name": "stdout",
     "output_type": "stream",
     "text": [
      "The square root of 2 to 100 decimal places is calculated as:\n",
      "1.4142135623733349536479408925515599548816680908203125000000000000000000000000000000000000000000000000\n"
     ]
    }
   ],
   "source": [
    "result = sqrt2() # variable result set equal to the function sqrt2 called \n",
    "print(\"The square root of 2 to 100 decimal places is calculated as:\")\n",
    "print(format(result, '.100f')) #modified to print to 100 decimal places after research\n",
    "# format(result, '.100f')   #print out for testing\n",
    "#print('%.100f' % result)  #another way to display to 100 decimal places"
   ]
  },
  {
   "cell_type": "markdown",
   "metadata": {},
   "source": [
    "### 1.3 Test the function\n",
    "\n",
    "*In this section I should test is the function implemented above accurate.*"
   ]
  },
  {
   "cell_type": "markdown",
   "metadata": {},
   "source": [
    "#### Testing Accuracy\n",
    "I can test how accurate the square root returned by the function is with the below calculation:"
   ]
  },
  {
   "cell_type": "code",
   "execution_count": 4,
   "metadata": {},
   "outputs": [
    {
     "data": {
      "text/plain": [
       "2.0000000000006786"
      ]
     },
     "execution_count": 4,
     "metadata": {},
     "output_type": "execute_result"
    }
   ],
   "source": [
    "result * result\n",
    "# the result of the sqrt2 function is captured in a variable result\n",
    "# multiplying result by result to see how accurate the answer is"
   ]
  },
  {
   "cell_type": "markdown",
   "metadata": {},
   "source": [
    "The result shows the square root returned by the function is reasonably accurate. I remind myself here that my initial research told me the decimal expansion of a square root can only be calculated to a precision. I am satisifed this function works well and I just now need to figure out how to have the output formatted to 100 decimal places."
   ]
  },
  {
   "cell_type": "markdown",
   "metadata": {},
   "source": [
    "#### Compare result to result calculated by Python math module\n",
    "\n",
    "*In this section I import the math module from Python to test if the result of calculating the square root of 2 is the same as my algorithm.*\n",
    "\n",
    "There is a sqrt function within the math module that can be used to calculate the square root of a given number [8]."
   ]
  },
  {
   "cell_type": "code",
   "execution_count": 5,
   "metadata": {},
   "outputs": [
    {
     "name": "stdout",
     "output_type": "stream",
     "text": [
      "The square root of 2 according to the math module is: 1.4142135623730951\n",
      "And rounded to 100 decimal places:\n"
     ]
    },
    {
     "data": {
      "text/plain": [
       "'1.4142135623730951454746218587388284504413604736328125000000000000000000000000000000000000000000000000'"
      ]
     },
     "execution_count": 5,
     "metadata": {},
     "output_type": "execute_result"
    }
   ],
   "source": [
    "import math                     #math module imported\n",
    "sqr = math.sqrt(2)                # 2 passed in to sqrt function\n",
    "print(\"The square root of 2 according to the math module is:\" ,sqr)   \n",
    "print(\"And rounded to 100 decimal places:\")                                                         \n",
    "format(sqr,'.100f' )             #formt the answer to 100 decimal places"
   ]
  },
  {
   "cell_type": "code",
   "execution_count": 6,
   "metadata": {},
   "outputs": [
    {
     "data": {
      "text/plain": [
       "2.0000000000000004"
      ]
     },
     "execution_count": 6,
     "metadata": {},
     "output_type": "execute_result"
    }
   ],
   "source": [
    "math.sqrt(2) * math.sqrt(2)        #test the accuracy of square root\n",
    "\n",
    "# Example given in Ian Mcloughlin lecture video \"Tasks - getting started\""
   ]
  },
  {
   "cell_type": "markdown",
   "metadata": {},
   "source": [
    "**Testing Conclusion**\n",
    "\n",
    "I conclude here that the math module produces a very similiar result to the function I have implemented to calculate the square root of 2. I refer back to my research on the topic of calculating the square root of 2 that suggests it is not possible to calculate exactly the square root of 2 and that we can only produce an approximation. I conclude that the function I implemented was successful in producing a relatively accurate approximation of the square root of 2."
   ]
  },
  {
   "cell_type": "markdown",
   "metadata": {},
   "source": [
    "### 1.4 Output to requested format - 100 decimal places\n",
    "\n",
    "*In this section I need to figure out how to have the output of the function displayed to 100 decimal places.*"
   ]
  },
  {
   "cell_type": "markdown",
   "metadata": {},
   "source": [
    "I conducted some research and found a tutorial that explains how to format the number of decimal places displayed in a floating point number in Python [11]. There is a format function in Python that takes in a floating ppint number and displays it in output as a string to a given number of decimal places. I have returned to where I called my sqrt2 function above and added the format function to my print statement which successfully displayed the output to 100 decimal places.\n",
    "\n",
    "I noticed that when this is done that there are a sequence of zero's at the end of the number printed to 100 decimal places.\n",
    "\n",
    "**Why is that??**\n",
    "\n",
    "I conducted some research and found that floating point numbers are represented in computer hardware as base 2 or binary fractions. I found a detailed explanation of this in the Python documentations pages [12]. According to the Python documentation, most decimal fractions cannot be represented exactly as binary fractions. As a consequence the decimal floating point numbers we enter are only approximated by the binary floating point numbers actually stored on the computer. \n",
    "\n",
    "**Accuracy to 53 bits**\n",
    "\n",
    "Acccording to the documentation most machines today approximate floats to 53 bits using a binary fraction. Many users are unaware of this becaue of the way values are displayed. Python only prints an approximation of the true decimal value of the binary approximation stored by the machine [12]. I was unaware of this and this is a learning for me from completing this assignment.\n"
   ]
  },
  {
   "cell_type": "markdown",
   "metadata": {},
   "source": [
    "#### Increasing the accuracy of decimal representation in Python"
   ]
  },
  {
   "cell_type": "markdown",
   "metadata": {},
   "source": [
    "While researching having the output of my function printed to 100 decimal places I found a StackOverFlow post [9] that shows to use the Decimal module within Python to increase the accuracy of the decimal representation. I am not permitted to import any modules or libraries in order to fulfill this task but I thought it would be worthy of a mention as I found it interesting. I have included the code below:"
   ]
  },
  {
   "cell_type": "code",
   "execution_count": 7,
   "metadata": {},
   "outputs": [
    {
     "name": "stdout",
     "output_type": "stream",
     "text": [
      "The square root of 2 made accurate to 100 decimal places using the imported Decimal library is:\n"
     ]
    },
    {
     "data": {
      "text/plain": [
       "Decimal('1.414213562373095048801688724209698078569671875376948073176679737990732478462107038850387534327641573')"
      ]
     },
     "execution_count": 7,
     "metadata": {},
     "output_type": "execute_result"
    }
   ],
   "source": [
    "# code from stackoverflow post on increasing the accuracy of decimal numbers in Python [8]\n",
    "from decimal import *\n",
    "getcontext().prec = 100\n",
    "print(\"The square root of 2 made accurate to 100 decimal places using the imported Decimal library is:\")\n",
    "Decimal(2).sqrt()"
   ]
  },
  {
   "cell_type": "markdown",
   "metadata": {},
   "source": [
    "Further information on the Decimal module can be found at the Python Standard Library documentation [10]."
   ]
  },
  {
   "cell_type": "markdown",
   "metadata": {},
   "source": [
    "### Task 1 - Conclusion & Learnings \n",
    "\n",
    "*I have listed below some of the concluding points and some of the learnings I have taken from this task.*"
   ]
  },
  {
   "cell_type": "markdown",
   "metadata": {},
   "source": [
    "* The square root of 2 is irrational. The decimal expansion of the square root of 2 cannot be calculated to a precision. \n",
    "* Newton's method can be used to calculate an approximation for the square root of 2.\n",
    "* Newton's method works by starting at an assigned starting value (seed) and iterating over a set of steps until the closest approximation is reached.\n",
    "* I implemented Newton's method in this notebook to calculate the square root of 2. \n",
    "* I tested the accuracy of the result by comparing to the result returned by the sqrt function in the Python math module. \n",
    "* I researched how to have the the output displayed to 100 decimal places.\n",
    "* After displaying the output to 100 decimal places I noticed all the zero's at the end and did some further investigation.\n",
    "* I learnt that floating point numbers are represented in computer hardware as base 2 or binary fractions. Python approximates decimal expansion to 53 bits as a result of this.\n",
    "* Through my research I learnt the Decimal module in Python is one way that the accuracy of decimal representation can be increased. I included a section on this in the notebook."
   ]
  },
  {
   "cell_type": "markdown",
   "metadata": {},
   "source": [
    "### 1.5 - Task 1 - References"
   ]
  },
  {
   "cell_type": "markdown",
   "metadata": {},
   "source": [
    "[1] Wikipedia; Methods of Computing square roots; https://en.wikipedia.org/wiki/Methods_of_computing_square_roots\n",
    "\n",
    "[2] Learonline@GMIT; The square root of 2; https://learnonline.gmit.ie/mod/url/view.php?id=92021\n",
    "\n",
    "[3] Medium.com; How to Calculate the Square Root of a Number? — Newton-Raphson Method; https://medium.com/@surajregmi/how-to-calculate-the-square-root-of-a-number-newton-raphson-method-f8007714f64\n",
    "\n",
    "[4] Mathematical Python; Newton's Method; https://www.math.ubc.ca/~pwalls/math-python/roots-optimization/newton/\n",
    "\n",
    "[5] Wikipedia; Newton's method; https://en.wikipedia.org/wiki/Newton%27s_method\n",
    "\n",
    "[6] Computing Skillset; Newton's method explained; https://computingskillset.com/solving-equations/the-newton-raphson-method-explained-details-pictures-python-code/\n",
    "\n",
    "[7] math.mit; Square roots via Newton's Method; https://math.mit.edu/~stevenj/18.335/newton-sqrt.pdf\n",
    "\n",
    "[8]Python math documentation: https://docs.python.org/3/library/math.html\n",
    "\n",
    "[9]Stackoverflow; How can I show an irrational number to 100 decimal places in Python?; https://stackoverflow.com/questions/4733173/how-can-i-show-an-irrational-number-to-100-decimal-places-in-python?noredirect=1&lq=1\n",
    "\n",
    "[10] Python Decimal Library; Python - How to increase the accuracy of decimals; https://docs.python.org/3/library/decimal.html\n",
    "\n",
    "[11] Hands on Python Tutorial; 1.14 Decimals, Floats and floating point arithmetic; http://anh.cs.luc.edu/python/hands-on/3.1/handsonHtml/float.html\n",
    "\n",
    "[12] Python documentation; 15. Floating point artithmetic: Issues and limitations; https://docs.python.org/3/tutorial/floatingpoint.html\n",
    "\n",
    "**mathjax and markdown references:**\n",
    "\n",
    "* mathjax; documentation pages; http://docs.mathjax.org/en/latest/\n",
    "\n",
    "* Github; Mastering Markdown; https://guides.github.com/features/mastering-markdown/"
   ]
  },
  {
   "cell_type": "markdown",
   "metadata": {},
   "source": [
    "***"
   ]
  },
  {
   "cell_type": "markdown",
   "metadata": {},
   "source": [
    "## Task 2 - Chi-squared test for Independence "
   ]
  },
  {
   "cell_type": "markdown",
   "metadata": {},
   "source": [
    "2. November 2nd, 2020: The Chi-squared test for independence is a statistical\n",
    "hypothesis test like a t-test. It is used to analyse whether two categorical variables\n",
    "are independent. The Wikipedia article gives the table below as an example [4],\n",
    "stating the Chi-squared value based on it is approximately 24.6. Use scipy.stats\n",
    "to verify this value and calculate the associated p value. You should include a short\n",
    "note with references justifying your analysis in a markdown cell."
   ]
  },
  {
   "cell_type": "markdown",
   "metadata": {},
   "source": [
    "### 2.1 Introduction\n",
    "\n",
    "The task has been assigned and I have been given a link to the Wikipedia page on Chi-squared tests [1] as a starting point. The result of an analysis of the table has been given to me  with a Chi-squared value of 24.6.\n",
    "\n",
    "**Plan to complete task**\n",
    "\n",
    "* Provide some background information on this contigency table of data\n",
    "* Research how a Chi-squared test is done using scipy.stats \n",
    "* Conduct a Chi-squared test on this table of data using scipy.stats in this notebook\n",
    "* Verify the Chi-squared value provided of 24.6 is the same result that I get\n",
    "* Calculate the p value \n",
    "* Analyse the result \n",
    "* Compile a list of references \n",
    "\n",
    "I have inserted an image of the table below from the Wikipedia page [1] using the IPython.display image class that I read about in a blog post [2]."
   ]
  },
  {
   "cell_type": "code",
   "execution_count": 8,
   "metadata": {},
   "outputs": [
    {
     "data": {
      "image/png": "[encoded data removed]",
      "text/plain": [
       "<IPython.core.display.Image object>"
      ]
     },
     "execution_count": 8,
     "metadata": {
      "image/png": {
       "height": 300,
       "width": 600
      }
     },
     "output_type": "execute_result"
    }
   ],
   "source": [
    "# Import the Ipython.display image class as per blog post [2]\n",
    "from IPython.display import Image\n",
    "\n",
    "# Image loaded from img folder in this repository\n",
    "Image(filename = \"img/Chi-squared.PNG\", width = 600, height = 300)"
   ]
  },
  {
   "cell_type": "markdown",
   "metadata": {},
   "source": [
    "### 2.2 Research\n",
    "\n",
    "#### Contingency table explained\n",
    "\n",
    "In the case of this task I have been provided a contingency table of data. A contingency table is a type of table in a matrix that displays the frequency distribution of variables. They provide a picture of the interrelation between two variables [5].\n",
    "\n",
    "In the example contingeny table shown above [1] that I will work with in this task there are four neighbourhoods - A, B, C and D in a city with a population of 1,000,000 people. A random sample of 650 residents is taken and their occupation has been recorded into 3 categories - white collar, blue collar and no collar.\n",
    "\n",
    "There are 2 categorical variables in this data set:\n",
    "\n",
    "* neighbourhood\n",
    "* occupation\n",
    "\n",
    "The null hypothesis is that each person's neighbourhood is independent of their occupation.\n",
    "\n",
    "**Null hypothesis**\n",
    "\n",
    "In inferential statistics the null hypothesis is a general statement or default position that there is no difference between two measured phenomena or that two samples derive from the same general population [3]. In the case of the contingency table of data in this task the null hypothesis is that categorical variables neighbourhood and occupation are independent of each other.\n",
    "\n",
    "**Null hypothesis and alternative hypothesis**\n",
    "\n",
    "I found a blog post that explains this in further detail in relation to the Chi-square test [12]:\n",
    "\n",
    "Like any statistical hypothesis test, the Chi-square test has both a null hypothesis and an alternative hypothesis.\n",
    "\n",
    "Null hypothesis: There are no relationships between the categorical variables. If you know the value of one variable, it does not help you predict the value of another variable.\n",
    "\n",
    "Alternative hypothesis: There are relationships between the categorical variables. Knowing the value of one variable does help you predict the value of another variable.\n",
    "\n",
    "\n",
    "#### What is a Chi-squared test?\n",
    "\n",
    "I have been tasked with verifying using Scipy.stats that the Chi-squared value of this contingency table of data is approximately 24.6 and also to calculate the associated p-value.\n",
    "\n",
    "The Pearson's chi-squared statistical hypothesis is an example of a test for independence between categorical variables [6].\n",
    "\n",
    "Pearson's chi-squared test is used to determine whether there is a statistically signifigant difference between the expected frequencies and the observed frequencies in one or more categories of a contingency table [1]. In other words, do the values of one categorical variable depend on the values of another categorical variable.\n",
    "\n",
    "The Chi-square test of independence works by comparing the distribution that you observe to the distribution that you expect if there is no relationship between the categorical variables. In the Chi-square context, the word “expected” is equivalent to what you’d expect if the null hypothesis is true. If your observed distribution is sufficiently different than the expected distribution (no relationship), you can reject the null hypothesis and infer that the variables are related [12].\n",
    "\n",
    "In the case of this task, is there a difference between the frequency of occupations recorded per neighbourhood in the contingency table of data compared to what you would expect to see based on the null hypothesis that each person's neighbourhood is indepedent of their occupation?\n",
    "\n",
    "**Chi-Squared test in summary**\n",
    "\n",
    "* Categorical variables can be summarised using a contingency table. \n",
    "* The chi-squared test is a test of independence between categorical variables in a contingency table.\n",
    "* The variables are considered independent if the observed and expected frequencies are similiar.\n",
    "* A chi-squared test can be used in this case to determine whether or not there is a relationship between the neighbourhood a person lives in and their occupation, or in other words do we accept or reject the null hypothesis."
   ]
  },
  {
   "cell_type": "markdown",
   "metadata": {},
   "source": [
    "### 2.3 Chi-squared test in Python\n",
    "\n",
    "As part of this task I have to research how a Chi-squared test is conducted in Python using scipy.stats and verify that the Chi-squared value for the contingency table in this task is approximately 24.6 as well as calculating the p-value.\n",
    "\n",
    "Scipy.stats is a Python module that contains a function called chi2_contigency [7] that can be used to conduct a chi-squared test for indpendence in Python.\n",
    "\n",
    "This function computes the chi-square statistic and p-value for the hypothesis test of independence of the observed frequencies in the contingency table observed [7].\n",
    "\n",
    "The function takes an array as input representing the contingency table for the two categorical variables. It returns the calculated statistic and p-value for interpretation as well as the calculated degrees of freedom and table of expected frequencies [6].\n",
    "\n",
    "#### According to the scipy.stats.chi2_contigency documentation [7] the following are return values from a Chi-square test in scipy.stats:\n",
    "\n",
    "**chi2 : float**\n",
    "\n",
    "The Chi-squared value or test statistic represented as a floating point number.\n",
    "\n",
    "**p : float**\n",
    "\n",
    "The p-value represented as a floating point number.\n",
    "\n",
    "The p-value is a measure of the probability that categorical variables are independent of each other. \n",
    "\n",
    "**dof : int**\n",
    "\n",
    "Degrees of freedom represented as an integer.\n",
    "\n",
    "Degrees of freedom is calculated as (# of rows -1 x # of columns -1)[11]\n",
    "\n",
    "**expected : ndarray (same shape as observed)**\n",
    "\n",
    "An array containing the expected frequencies based on the marginal sums of the table.\n",
    "\n",
    "That is in other words the distribution we would expect to see if the null hypothesis is true and there is in fact no relationship between categorical variables."
   ]
  },
  {
   "cell_type": "markdown",
   "metadata": {},
   "source": [
    "#### Implement scipy.stats.chi2_contingency test on the contingency table in this task\n",
    "\n",
    "I read various references when researching how to conduct the Chi-squared test, in the end I used a combination of the example shown in the scipy.stats documentation page [7] and an example on the GeeksforGeeks website [10] to produce the below code.\n",
    "\n",
    "* I imported numpy and created a 3 x 4 array containing the data in the contingency table. \n",
    "* Each sub array represents white collar, blue collar and no collar and each sub arrays has 4 values for the number of persons from each neighbourhood in each occupation category.\n",
    "* I imported the chi2_contingency function from scipy.stats in order to run the function on the numpy array that I created.\n",
    "* I printed out the return values from the chi2_contingency function in a nice format."
   ]
  },
  {
   "cell_type": "code",
   "execution_count": 9,
   "metadata": {},
   "outputs": [
    {
     "name": "stdout",
     "output_type": "stream",
     "text": [
      "Exact Chi-square value: 24.5712028585826\n",
      "\n",
      "Chi-squared value rounded to 1 decimal place: 24.6\n",
      "\n",
      "p-value: 0.0004098425861096696\n",
      "\n",
      "Degrees of freedom: 6\n",
      "\n",
      "The expected frequencies based on marginal sums of the table:\n",
      " \n",
      "[[ 80.53846154  80.53846154 107.38461538  80.53846154]\n",
      " [ 34.84615385  34.84615385  46.46153846  34.84615385]\n",
      " [ 34.61538462  34.61538462  46.15384615  34.61538462]]\n"
     ]
    }
   ],
   "source": [
    "# Adapted from examples in [7] and [10]\n",
    "# import numpy in order to create a numpy array of the data in my contingency table \n",
    "import numpy as np\n",
    "# import the chi2_contingency function from scipy stats\n",
    "from scipy.stats import chi2_contingency  \n",
    "# create a 3 x 4 numpy array, the 4 neighourhood values are contained inside 3 arrays for collar type\n",
    "data = np.array([[90, 60, 104, 95], [30, 50, 51, 20], [30, 40, 45, 35]])\n",
    "# call the chi2_contingency function on the array of data\n",
    "stat, p, dof, expected = chi2_contingency(data) \n",
    "# print the return values \n",
    "print(f\"Exact Chi-square value: {stat}\\n\")\n",
    "print(f\"Chi-squared value rounded to 1 decimal place: {stat:.1f}\\n\")\n",
    "print(f\"p-value: {p}\\n\")\n",
    "print(f\"Degrees of freedom: {dof}\\n\")\n",
    "\n",
    "print(\"The expected frequencies based on marginal sums of the table:\\n \")\n",
    "print(expected)"
   ]
  },
  {
   "cell_type": "markdown",
   "metadata": {},
   "source": [
    "#### Chi-squared value\n",
    "\n",
    "The Chi-squared value returned is 24.6 so I have successfully verified the value provided in the task specification. Next I have to look in more detail at the p-value.\n",
    "\n",
    "#### Degrees of freedom\n",
    "\n",
    "The degrees of freedom is calculated as (# of rows -1 x # of columns -1)[11]\n",
    "\n",
    "In the the case of the contingency table in this task there are 3 rows and 4 columns of data. \n",
    "\n",
    "( 3 rows -1) = 2  (4 columns -1) = 3\n",
    "\n",
    "3* 2 = 6\n",
    "\n",
    "The dof returned from the Chi-squared test was 6.\n",
    "\n",
    "#### Expected \n",
    "\n",
    "The distribution that would be expected if there was no relationship between the categorical variables neighbourhood and occupation. \n",
    "\n",
    "#### p-value\n",
    "\n",
    "The p-value returned was 0.0004098425861096696. I will look at this in further detail now as it was specifically mentioned in the task specification.\n",
    "\n"
   ]
  },
  {
   "cell_type": "markdown",
   "metadata": {},
   "source": [
    "### 2.4 What is p-value and how do I interpret it?\n",
    "\n",
    "The Chi-squared test returns a p-value (probability value) which is a measure of the probability that categorical variables are independent.\n",
    "\n",
    "I have included below extracts from two references which explain how to interpret the p-value calculated by the Chi-squared test. \n",
    "\n",
    "**Machine learning mastery [6]**\n",
    "\n",
    "In terms of a p-value and a chosen significance level (alpha), the test can be interpreted as follows:\n",
    "\n",
    "**If p-value <= alpha:**\n",
    "significant result, reject null hypothesis (H0), dependent.\n",
    "\n",
    "**If p-value > alpha:**\n",
    "not significant result, fail to reject null hypothesis (H0), independent.\n",
    "\n",
    "**Statistics Solutions [11]**\n",
    "\n",
    "To make a conclusion about the hypothesis with 95% confidence, the p-value of the Chi-Square statistic should be less than .05 (which is the alpha level associated with a 95% confidence level). \n",
    "\n",
    "Is the p-value less than .05?  If so, we can conclude that the variables are not independent of each other and that there is a statistical relationship between the categorical variables.\n",
    "\n",
    "**Interpreting the p-value for the contingency table in this task**\n",
    "\n",
    "In this case the p-value returned by scipy.stats was 0.0004098425861096696 which is less than .05 and so based on my research I have to conclude there is a statistical relationship between the categorical variables neighbourhood and occupation. As detailed above in this case the p-value is < the alpha value and so the null hypothesis is rejected and the variables are said to be dependent on one another.\n",
    "\n",
    "It is important to note the alpha does not have to be .05 and a different alpha value can be used. From my research it appears .05 is a widely used value for alpha. \n"
   ]
  },
  {
   "cell_type": "markdown",
   "metadata": {},
   "source": [
    "### Task 2 Conclusion & Learnings\n",
    "\n",
    "* I researched what a Chi-squared test is and how to conduct a Chi-squared test using scipy.stats in Python. \n",
    "* I verified using scipy.stats that the Chi-squared value is approximately 24.6 for the given contingency table in this task.\n",
    "* The p-value returned by scipy.stats was 0.0004098425861096696.\n",
    "* The p-value returned is less than the aplha .05 and so I conclude that their is a relationship between the categorical variables neighbourhood and occupation. \n",
    "* Therefore in the case of this contingency table the null hypothesis that the variables are independent of each other is rejected and the alternative hypothesis that there is a relationship between the variables is accepted."
   ]
  },
  {
   "cell_type": "markdown",
   "metadata": {},
   "source": [
    "### Task 2 - References \n",
    "\n",
    "[1] Wikipedia; Chi-Squared test; https://en.wikipedia.org/w/index.php?title=Chi-squared_test&oldid=983024096\n",
    "\n",
    "[2] Towards data science; Inserting and Resizing Images in IPython Notebook (Python and R) — One Zero Blog; https://towardsdatascience.com/adding-image-files-inside-an-ipython-notebook-python-and-r-2ba089a658b8\n",
    "\n",
    "[3] Wikipedia; Null hypothesis; https://en.wikipedia.org/wiki/Null_hypothesis\n",
    "\n",
    "[4] Wikipedia; Chi-squared distribution; https://en.wikipedia.org/wiki/Chi-squared_distribution\n",
    "\n",
    "[5] Wikipedia; Contingency tables; https://en.wikipedia.org/wiki/Contingency_table\n",
    "\n",
    "[6] Machine learning mastery; A gentle introduction to the chi-squared test for machine learning; https://machinelearningmastery.com/chi-squared-test-for-machine-learning/\n",
    "\n",
    "[7] Scipy.org; scipy.stats.chi2_contingency; https://docs.scipy.org/doc/scipy/reference/generated/scipy.stats.chi2_contingency.html\n",
    "\n",
    "[8] Medium; Handling The Chi Square in Statistics with Python; https://medium.com/@nhan.tran/the-chi-square-statistic-p3-programming-with-python-87eb079f36af\n",
    "\n",
    "[9] Medium; How to Calculate Critical Values for Statistical Hypothesis Testing with Python; https://machinelearningmastery.com/critical-values-for-statistical-hypothesis-testing/\n",
    "\n",
    "[10] GeeksforGeeks; Python – Pearson’s Chi-Square Test; https://www.geeksforgeeks.org/python-pearsons-chi-square-test/\n",
    "\n",
    "[11] Statistic Solutions; Using Chi-Square Statistic in Research; https://www.statisticssolutions.com/using-chi-square-statistic-in-research/\n",
    "\n",
    "[12] Statistics by Jim; Chi-Square Test of Independence and an Example; https://statisticsbyjim.com/hypothesis-testing/chi-square-test-independence-example/#:~:text=For%20a%20Chi%2Dsquare%20test,exists%20between%20the%20categorical%20variables\n",
    "\n",
    "[13] dummies; What a p-Value Tells You about Statistical Data; https://www.dummies.com/education/math/statistics/what-a-p-value-tells-you-about-statistical-data/"
   ]
  },
  {
   "cell_type": "markdown",
   "metadata": {},
   "source": [
    "***"
   ]
  },
  {
   "cell_type": "markdown",
   "metadata": {},
   "source": [
    "## Task 3 - STDEV.P and STDEV.S Standard Deviation calculations in Excel"
   ]
  },
  {
   "cell_type": "markdown",
   "metadata": {},
   "source": [
    "3. November 16th, 2020: The standard deviation of an array of numbers x is\n",
    "calculated using numpy as np.sqrt(np.sum((x - np.mean(x))**2)/len(x)) .\n",
    "However, Microsoft Excel has two different versions of the standard deviation\n",
    "calculation, STDEV.P and STDEV.S . The STDEV.P function performs the above\n",
    "calculation but in the STDEV.S calculation the division is by len(x)-1 rather\n",
    "than len(x) . Research these Excel functions, writing a note in a Markdown cell\n",
    "about the difference between them. Then use numpy to perform a simulation\n",
    "demonstrating that the STDEV.S calculation is a better estimate for the standard\n",
    "deviation of a population when performed on a sample. Note that part of this task\n",
    "is to figure out the terminology in the previous sentence."
   ]
  },
  {
   "cell_type": "markdown",
   "metadata": {},
   "source": [
    "### 3.1 Introduction\n",
    "\n",
    "Having read the task description I have drafted the below plan to complete the task. \n",
    "\n",
    "#### Plan to complete task\n",
    "* Research the excel functions STDEV.P and STDEV.S and capture research in this notebook.\n",
    "* Write an explanantion about the differences between them.\n",
    "* Use numpy to perform a simulation demonstrating that STDEV.S is a better estimation for the standard deviation of a population when performed on a sample.\n",
    "* Capture the research from the above point in markdown in this notebook. \n",
    "* Compile a list of references.\n"
   ]
  },
  {
   "cell_type": "markdown",
   "metadata": {},
   "source": [
    "### 3.2 What are STDEV.P and STDEV.S?"
   ]
  },
  {
   "cell_type": "markdown",
   "metadata": {},
   "source": [
    "STDEV.P and STDEV.S are two functions in Microsoft Excel that are used to calculate the standard deviation of a population. From my research I have learnt that where historically there was just one standard deviation function in Excel called STDEV, today there are now two functions - STDEV.P and STDEV.S - P for Population and S for Sample.\n",
    "\n",
    "**Standard Deviation**\n",
    "\n",
    "Standard deviation is a number that tells you how far numbers are from their mean [4].\n",
    "\n",
    "Standard deviation: the average distance between each value and the mean. this tells you if the data is clustered around the mean or scattered, and therefore allows you to assess if the reliability of mean as a good/bad representation of the entire sample [13].\n",
    "\n",
    "A low measure of Standard Deviation indicates that the data are less spread out, whereas a high value of Standard Deviation shows that the data in a set are spread apart from their mean average values [10].\n",
    "\n",
    "In a normal distribution (bell-curve):\n",
    "\n",
    "* 68% of all individuals lie within +/- 1 standard deviation of the mean\n",
    "* 95% of all individuals lie within +/- 2 standard deviations of the mean\n",
    "* 99% of all individuals lie within +/- 3 standard deviations of the mean\n",
    "\n",
    "The Image below shows an example of a bell shaped curve with 99% of data within 3 standard deviations of the mean [13]."
   ]
  },
  {
   "cell_type": "code",
   "execution_count": 10,
   "metadata": {},
   "outputs": [
    {
     "data": {
      "image/png": "[encoded data removed]",
      "text/plain": [
       "<IPython.core.display.Image object>"
      ]
     },
     "execution_count": 10,
     "metadata": {
      "image/png": {
       "height": 400,
       "width": 800
      }
     },
     "output_type": "execute_result"
    }
   ],
   "source": [
    "# Image sourced from [13]\n",
    "Image(filename = \"img/standarddeviation.PNG\", width = 800, height = 400)"
   ]
  },
  {
   "cell_type": "markdown",
   "metadata": {},
   "source": [
    "### 3.3 Difference between STDEV.P and STDEV.S"
   ]
  },
  {
   "cell_type": "markdown",
   "metadata": {},
   "source": [
    "According to Microsoft Support [1] [2] STDEV.S calculates the standard deviation based on a sample of a population whereas STDEV.P calculates standard deviation based on the entire population.\n",
    "\n",
    "**STDEV.S**\n",
    "\n",
    "* Estimates standard deviation based on a sample (ignores logical values and text in the sample).\n",
    "\n",
    "* The standard deviation is a measure of how widely values are dispersed from the average value (the mean).\n",
    "\n",
    "**STDEV.P**\n",
    "\n",
    "* Calculates standard deviation based on the entire population given as arguments (ignores logical values and text).\n",
    "\n",
    "* The standard deviation is a measure of how widely values are dispersed from the average value (the mean).\n",
    "\n",
    "This difference is described further in the remarks section of the STDEV.S Microsoft support page [1]:\n",
    "\n",
    "* STDEV.S assumes that its arguments are a sample of the population. If your data represents the entire population, then compute the standard deviation using STDEV.P.\n",
    "\n",
    "* The standard deviation is calculated using the \"n-1\" method.\n",
    "\n",
    "In the remarks section of the STDEV.P Microsoft support page [2]:\n",
    "\n",
    "* STDEV.P assumes that its arguments are the entire population. If your data represents a sample of the population, then compute the standard deviation using STDEV.\n",
    "\n",
    "* The standard deviation is calculated using the \"n\" method.\n",
    "\n",
    "So as alluded to in the task description STDEV.P calculates the standard deviation by taking the len(x) of an array whereas STDEV.S calculates the standard deviation using len(x-1).\n",
    "\n",
    "I found a good Youtube video that explains the difference between STDEV.P and STDEV.S using an example [3]. \n",
    "\n",
    "* The tutor explains that STDEV.P can be used to calculate the standard deviation when we have all the data available and the P can be thought of as \"Population\".\n",
    "\n",
    "* STDEV.S can be used to calculate the standard deviation when we dont have access to all the data, and the S can be thought of as \"Sample\".\n",
    "\n",
    "* A demonstration is shown where STDEV.P is used to calculate the standard deviation of the full population of a data source and STDEV.S is used to calculate the standard deviation of a sample of the population.\n"
   ]
  },
  {
   "cell_type": "markdown",
   "metadata": {},
   "source": [
    "#### Population and Sample\n",
    "\n",
    "What is the difference between population and sample standard deviation?\n",
    "\n",
    "I found the below explanation:\n",
    "\n",
    "Usually, we are interested in the standard deviation of a population. However, as we are often presented with data from a sample only, we can estimate the population standard deviation from a sample standard deviation. These two standard deviations - sample and population standard deviations - are calculated differently. In statistics, we are usually presented with having to calculate sample standard deviations [15].\n",
    "\n",
    "I also found a comparison between the sample and population:\n",
    "\n",
    "* The population standard deviation is a parameter, which is a fixed value calculated from every individual in the population.\n",
    "* A sample standard deviation is a statistic. This means that it is calculated from only some of the individuals in a population. Since the sample standard deviation depends upon the sample, it has greater variability [16].\n",
    "\n",
    "#### When to use sample or population standard deviation?\n",
    "\n",
    "I found an article that has some example scenarios listed [15], I have included 2 below:\n",
    "\n",
    "Q. A teacher sets an exam for their pupils. The teacher wants to summarize the results the pupils attained as a mean and standard deviation. Which standard deviation should be used?\n",
    "\n",
    "A. Population standard deviation. Why? Because the teacher is only interested in this class of pupils' scores and nobody else.\n",
    "\n",
    "Q. A researcher has recruited males aged 45 to 65 years old for an exercise training study to investigate risk markers for heart disease (e.g., cholesterol). Which standard deviation would most likely be used?\n",
    "\n",
    "A. Sample standard deviation. Although not explicitly stated, a researcher investigating health related issues will not simply be concerned with just the participants of their study; they will want to show how their sample results can be generalised to the whole population (in this case, males aged 45 to 65 years old). Hence, the use of the sample standard deviation."
   ]
  },
  {
   "cell_type": "markdown",
   "metadata": {},
   "source": [
    "#### Example using STDEV.P AND STDEV.S\n",
    "\n",
    "I found a good explanation of the difference between STDEV.P and STDEV.S using a real example [4].\n",
    "\n",
    "STDEV.P can be used to calculate the standard deviation based on the entire population. The formula that is used is shown below where N is the number of values in the population. [4]."
   ]
  },
  {
   "cell_type": "code",
   "execution_count": 11,
   "metadata": {},
   "outputs": [
    {
     "data": {
      "image/png": "[encoded data removed]",
      "text/plain": [
       "<IPython.core.display.Image object>"
      ]
     },
     "execution_count": 11,
     "metadata": {
      "image/png": {
       "height": 400,
       "width": 800
      }
     },
     "output_type": "execute_result"
    }
   ],
   "source": [
    "# display the image from [4]\n",
    "Image(filename = \"img/STDEVP.PNG\", width = 800, height = 400)"
   ]
  },
  {
   "cell_type": "markdown",
   "metadata": {},
   "source": [
    "\n",
    "σ = population standard deviation\n",
    "\n",
    "N = size of the population\n",
    "\n",
    "xi = each value from the population\n",
    "\n",
    "µ = population mean\n",
    "\n",
    "\n",
    "The steps listed on this website that are performed by Excel when doing the STDEV.P calculation are:\n",
    "* Calculate the mean of the entire population\n",
    "* For each number calculate the distance from the mean\n",
    "* For each number square this distance\n",
    "* Sum these values\n",
    "* Divide by N (number of values in the population)\n",
    "* Take the square root which is the standard deviation\n",
    "\n",
    "In contrast STDEV.S is used to calculate the standard deviation when only a sample of the population is available. In this instance N-1 is used instead of N."
   ]
  },
  {
   "cell_type": "code",
   "execution_count": 12,
   "metadata": {},
   "outputs": [
    {
     "data": {
      "image/png": "[encoded data removed]",
      "text/plain": [
       "<IPython.core.display.Image object>"
      ]
     },
     "execution_count": 12,
     "metadata": {
      "image/png": {
       "height": 400,
       "width": 800
      }
     },
     "output_type": "execute_result"
    }
   ],
   "source": [
    "#display the image from [4]\n",
    "Image(filename = \"img/STDEVS.PNG\", width = 800, height = 400)"
   ]
  },
  {
   "cell_type": "markdown",
   "metadata": {},
   "source": [
    "s = sample standard deviation\n",
    "\n",
    "N = size of the sample\n",
    "\n",
    "xi = each value from the sample\n",
    "\n",
    "µ = sample mean"
   ]
  },
  {
   "cell_type": "markdown",
   "metadata": {},
   "source": [
    "#### Why n-1 for a sample standard deviation?\n",
    "\n",
    "Why do we divide by n - 1 instead of by n when we estimate the standard deviation based on a sample?\n",
    "\n",
    "Bessel's correction states that dividing by n-1 instead of by n gives a better estimation of the standard deviation [4]. \n",
    "\n",
    "When you have an entire population and calculate any parameter (like the population variance or population standard deviation), your results will be accurate. That’s because you have all the data about your population. However, when you work with a sample, you’ve only got a small fraction of the population to work with. Therefore, your answers aren’t going to be as accurate as those you would have got, if you had the entire set of data to work with. Bessel’s correction (i.e. subtracting 1 from your sample size) corrects this bias. In other words, you’ll usually get a more accurate answer if you use n-1 instead of n [17].\n",
    "\n",
    "#### One degree of freedom\n",
    "\n",
    "When we compute sample standard deviation we divide by N- 1 instead of only using N as we do when we compute population standard deviation. The reason for this is that in statistics in order to get an unbiased estimator for population standard deviation when calculating it from the sample we should be using (N-1). This is called one degree of freedom, we subtract 1 in order to get an unbiased estimator [9]."
   ]
  },
  {
   "cell_type": "markdown",
   "metadata": {},
   "source": [
    "### 3.4 numpy simulation of a population and sampling from the population\n",
    "\n",
    "*In this section I should use numpy to perform a simulation demonstrating that STDEV.S is a better estimation for the standard deviation of a population when performed on a sample.*\n",
    "\n",
    "Part of the assignment brief is to figure out the terminology of the above sentence. My interpretation of the sentence is that I should perform some tests using STDEV.S to estimate the standard deviation of a full population based on a sample generated from the population. I should then analyse the results to see is STDEV.S is a good estimation for standard deviation of a population when performed on a sample.\n",
    "\n",
    "I think in this case I need to:\n",
    "* Simulate some data for a full population using numpy.\n",
    "* Calculate the standard deviation of the entire population using STDEV.P.\n",
    "* Generate some samples from the population.\n",
    "* Use the STDEV.S calculation to estimate the standard deviation of the population based on the samples.\n",
    "* Use the STDEV.P calculation to estimate the standard deviation of the population based on the samples for comparison purposes.\n",
    "* Analyse the results."
   ]
  },
  {
   "cell_type": "markdown",
   "metadata": {},
   "source": [
    "#### Simulate an array of data with numpy.random.normal\n",
    "\n",
    "numpy.random.normal draws samples from the normal distribution [5]. I have simulated data using numpy.random.normal for a project in a previous module and so I am familiar with using numpy to simulate some data.\n",
    "\n",
    "A normal distribution often described as a bell curve distributon because of the shape, often occurs naturally within statistics. One example would be in measuring height of a group of people there would tend to be a central tendency of data with the majority of data gathering around this point.\n",
    "\n",
    "numpy.random.normal takes 3 arguments [5]:\n",
    "\n",
    "* loc : float or array_like of floats - the Mean of the distribution.\n",
    "* scale : float or array_like of floats - the Standard deviation of the distribution or in simple terms the width of the distribution.\n",
    "* size : int or tuple of ints, optional - the size of the distribution"
   ]
  },
  {
   "cell_type": "markdown",
   "metadata": {},
   "source": [
    "#### Simulate the data"
   ]
  },
  {
   "cell_type": "code",
   "execution_count": 13,
   "metadata": {},
   "outputs": [
    {
     "data": {
      "text/plain": [
       "array([10.54119421, 10.66410984,  7.03055927, 10.55903474,  9.59908802,\n",
       "        9.97189325,  7.5992303 , 10.54702262,  9.22634345,  9.76466179,\n",
       "        9.36977573, 11.19863756, 10.43239999, 11.43077771,  7.9150737 ,\n",
       "       10.23836437, 11.31500732,  9.04762875,  9.04753082,  8.67051886,\n",
       "       11.07492431, 10.1090553 ,  9.31518126,  8.1919688 , 10.07402193,\n",
       "        9.73970511, 11.61239932, 10.23059177, 10.01066086,  9.33441081,\n",
       "       10.99667467, 10.63822607, 11.41352685,  9.87047012,  8.44673594,\n",
       "        9.4898242 , 10.24278405, 11.20991822,  9.40485463,  8.92137347,\n",
       "       10.73488357, 10.73138866,  9.88660549,  8.83748597, 11.32860595,\n",
       "        8.96871151,  9.66272147,  9.9721383 ,  7.72195923, 12.03929453,\n",
       "       11.13293182,  9.36167444, 11.04748172,  9.34832932,  9.5321507 ,\n",
       "       11.06468392,  9.44289728, 10.65383012,  8.72443506,  9.17026754,\n",
       "        9.66435177,  9.85276822,  9.35001766,  9.40135904, 10.23920917,\n",
       "        9.90884162,  9.52600211, 10.36166043, 10.19189779, 10.88133069,\n",
       "       10.31911466,  9.77399675, 11.66617185, 10.33039644, 10.03267725,\n",
       "       10.07261393,  8.57969512, 10.17550573,  9.17285394,  9.52079251,\n",
       "        8.26163184,  9.9106887 , 11.0875899 ,  8.98053718,  9.27005362,\n",
       "       11.33403601,  9.62668606,  9.35551717,  8.33416376,  9.93632918,\n",
       "        8.86875216, 11.08642378,  9.29447431,  8.15678996, 10.94964069,\n",
       "       11.16943555, 11.62179989,  8.96679581, 12.63984502,  9.25192919,\n",
       "       11.25188938,  9.90723272, 10.55822691, 10.97265033,  9.73528669,\n",
       "       10.28823806,  9.31294767,  8.79533212,  9.02752785, 10.07169   ,\n",
       "       10.14921905,  9.18060532,  9.90189533,  9.46941439,  9.66919044,\n",
       "        8.19653595,  9.93340623,  9.443129  ,  8.60316805,  8.5740791 ,\n",
       "        9.16580246,  9.60800193, 11.54130525, 10.75644679,  9.13102118,\n",
       "        9.83565381, 10.15163635,  9.66244031, 11.41054167, 12.13736846,\n",
       "       11.08243582,  8.42685357,  9.72856223,  9.34419537, 11.80994159,\n",
       "        8.08422166,  8.80856635, 10.53906283, 10.12083082,  9.29892275,\n",
       "        9.41882332,  9.71281471,  7.86593895,  9.77362466, 10.05770512,\n",
       "        9.96812087,  8.90982607, 13.30217404, 11.00196076,  9.40752987,\n",
       "       12.054003  ,  9.14193847, 10.3123874 ,  9.63642307, 10.00912527,\n",
       "        8.8666704 ,  8.37805056, 11.06459221, 10.51997117,  9.97057452,\n",
       "        9.41997233,  7.53015634, 10.5247401 ,  9.9390945 ,  9.74419731,\n",
       "        8.73541192,  9.52521948,  9.55489252,  9.42371316, 11.22977862,\n",
       "       10.34670753,  9.51009223,  8.93572146,  9.45608801,  9.96119289,\n",
       "        8.084222  , 11.4197728 ,  9.91801569,  9.75502194,  8.98082244,\n",
       "       11.54441518, 10.82034425, 11.87000902, 10.37877711, 11.13504595,\n",
       "       10.59022253, 10.29882415, 11.25642139,  9.25120241,  9.48771983,\n",
       "        9.65022794,  9.89339228,  9.3055515 ,  8.99579207,  9.59786304,\n",
       "       12.3836339 ,  9.72291514, 11.7446292 ,  8.14342764, 10.2288368 ,\n",
       "       10.36881089,  9.77924865, 10.58726225,  9.33263756,  9.70324222,\n",
       "        9.6513593 ,  8.28584748,  8.90994552,  9.216018  , 10.64687339,\n",
       "        9.75317349, 10.5909562 ,  9.59820976, 10.29431966, 10.39232038,\n",
       "       10.0553511 ,  9.43509595,  8.55044452,  8.61257225, 11.4152403 ,\n",
       "       11.85306252, 11.15100661, 11.81684224, 10.72038319, 10.64918433,\n",
       "       10.70302862, 10.0206975 ,  9.09388463,  8.92088187,  9.94349651,\n",
       "        9.09650134,  9.91243746, 10.75546269,  8.75447771, 10.43880931,\n",
       "       10.18146821, 10.32099779, 10.91485959, 11.06922979, 10.55860952,\n",
       "        9.73188737,  8.93332846,  9.07765119, 10.18793118,  9.85986424,\n",
       "        7.60675067,  9.42369183,  9.18771651, 10.35621012, 10.2846141 ,\n",
       "        9.85736917, 10.00829013, 10.41295618, 11.56516022,  9.7552962 ,\n",
       "        9.29441317,  9.13963061, 11.09295536,  9.99672959,  9.92517008,\n",
       "        8.86095934, 10.43007183,  8.87575867,  9.80640786, 10.92807131,\n",
       "       10.15909286,  9.11933776, 10.12087499,  9.23300969,  8.24358819,\n",
       "       11.32559707, 10.99855611,  9.50054381,  9.60651725,  8.63484067,\n",
       "        9.97990947,  9.69652764, 10.00374061,  9.92085598,  9.6215759 ,\n",
       "       10.91818957,  9.74235323, 11.3545328 , 11.05195578, 10.39205137,\n",
       "       10.10195503, 10.22554493,  8.79260336, 11.25975395,  9.35967329,\n",
       "       11.170087  , 10.33739965, 10.2963503 , 10.79732759, 11.19745939,\n",
       "       10.29188607,  8.7796416 , 11.9394337 , 10.49615503,  8.75077158,\n",
       "       10.71412132, 10.78323187,  9.75309214,  9.58822819,  8.26618791,\n",
       "       11.39641728, 10.09254994, 10.09255912, 10.16573635, 10.72622922,\n",
       "       11.00311126,  9.92732014,  8.84868154, 11.31241451, 10.36860465,\n",
       "        9.68762412,  9.74282302,  9.60758158,  9.46460717,  8.92815508,\n",
       "        9.9190009 ,  9.61541285, 11.26941513, 10.33085203,  8.82718508,\n",
       "       10.64551681,  9.88160791,  9.49371714, 10.02685296, 10.95789736,\n",
       "        8.54619103,  8.81541388, 10.77839833, 11.69804377, 10.39541492,\n",
       "        9.01606831, 10.94363336,  8.89607006,  7.94373551, 11.31871012,\n",
       "       11.31067901,  9.77057804, 10.34044978, 11.38662913, 10.4571122 ,\n",
       "       10.24676654, 11.62532725,  8.94585749,  8.11122772, 10.21910997,\n",
       "        9.93290451, 11.88657708,  8.68257475, 10.68486342,  9.45399222,\n",
       "        9.80692605, 10.81264135,  9.95862347, 10.34754761,  9.43079062,\n",
       "       10.11932809,  9.8279357 , 10.27029837, 10.49688684,  8.69934981,\n",
       "        9.09815989, 10.99690192, 10.6406493 ,  9.5873092 , 10.07531376,\n",
       "       12.04433878,  8.96150183, 11.40265062, 11.0636037 ,  8.95355963,\n",
       "       10.87324874, 11.55652596, 11.07980315, 10.32438054, 11.51281912,\n",
       "       11.60064651,  9.78098156, 10.93722072,  8.95864904, 10.18296214,\n",
       "       10.73763626,  9.59231196, 10.87215721, 10.11763953, 10.62077406,\n",
       "        8.20671741,  9.96886025, 10.13772902, 10.10461661, 10.54718413,\n",
       "        7.54037212, 10.60530955, 11.09212545, 10.40524181, 11.02023414,\n",
       "       10.35750402, 11.82421712,  9.48581177,  9.80890773,  9.88350874,\n",
       "       10.86848899, 10.37815313,  7.12697078, 10.81023452,  9.48111355,\n",
       "        9.71942557, 11.44264574,  9.95052605,  8.27334144,  9.44684462,\n",
       "       10.2785671 ,  9.6730581 , 10.12123707,  9.31117381, 10.46740098,\n",
       "       10.86598597,  8.60901717, 11.14367449,  8.63884755,  9.89628787,\n",
       "        9.96317197, 10.2303368 , 10.25888972,  9.46943   , 11.56607589,\n",
       "       11.14953742, 10.29228268,  9.96898673, 10.53428834, 10.14510791,\n",
       "        9.96700317, 10.24485058, 10.31185636, 10.89635626,  8.54583163,\n",
       "        8.55814209, 10.18660896,  8.78998258, 10.24283327, 10.28391092,\n",
       "        9.32474269, 10.97471712, 10.46959179,  9.65207004, 10.90051035,\n",
       "       12.09205456, 10.72160194,  9.08476405, 12.35763549, 10.16352474,\n",
       "       11.71139834,  8.27201741,  9.89856081, 11.51419928, 11.09380512,\n",
       "       11.0289    ,  9.18976664,  9.74019247,  8.36813304,  9.3233062 ,\n",
       "       10.0265094 ,  9.03432021, 10.11330649, 10.51669234, 10.81884512,\n",
       "       10.4425612 , 10.99090817,  9.81825548, 11.37863617,  8.68580936,\n",
       "       10.02704419, 11.07627699,  9.67048774, 10.41225403,  9.79961623,\n",
       "        9.76240057,  9.00574128,  9.76846364,  9.00845747,  9.37662433,\n",
       "       10.61306188, 10.61231719, 11.4940383 , 11.18774683,  9.94163714,\n",
       "       10.51624509, 10.72453658, 10.06736981, 10.15605077, 10.25342372,\n",
       "        8.6524936 , 10.56818696, 10.63427881,  9.34250057, 10.82812722,\n",
       "        9.4435041 , 11.37293028, 10.26872537,  8.95087547, 11.09471008,\n",
       "        8.86883984,  8.5811949 ,  8.86348322, 10.09988187,  9.59665586,\n",
       "       12.06542765,  9.92740197,  9.65831658, 10.35194233, 11.53001398,\n",
       "        9.48037897, 10.09290907, 10.15028922,  9.92674887,  7.2563838 ,\n",
       "        9.97709211, 10.61182874, 10.41797734,  9.00978117,  9.42970538,\n",
       "       10.78999123, 10.4207212 , 10.14667432, 10.30455368,  9.27065614,\n",
       "        9.73848279,  9.893736  , 10.05949659,  9.16351858, 11.12510149,\n",
       "        8.57302494,  9.52030815,  9.46804116, 10.75201183, 11.0969919 ,\n",
       "        9.43752859, 11.16224169, 10.59547253,  8.70695755, 10.04854785,\n",
       "       11.54685076, 11.9164667 , 11.03624182,  9.58726798,  8.57844674,\n",
       "       10.0847155 ,  9.57320694, 10.09320692,  8.42544032,  9.68100532,\n",
       "       10.37925039, 11.62637555,  9.77595716,  9.18829855, 10.17524174,\n",
       "       10.51842063, 10.86100117,  9.54560749,  9.03434517,  8.22423772,\n",
       "        9.17829912, 10.84277226,  7.18262866, 10.16148924,  9.96676563,\n",
       "        9.97987559, 10.54613192,  8.98947231, 10.29390816, 11.73382784,\n",
       "        9.95471775,  9.59137914, 10.81182439,  9.03992112,  9.65993438,\n",
       "        7.47028154, 10.6628397 ,  7.63103685, 12.39771638,  9.63504447,\n",
       "       11.68924415, 10.71092736,  8.3658473 ,  8.87861596,  9.0501275 ,\n",
       "       11.11518571, 11.42756079,  9.66388279,  9.00337849,  9.00507329,\n",
       "        8.86145381,  8.90319254,  8.33289484,  9.7475143 , 10.71139225,\n",
       "       10.33255737, 10.57896856,  7.70001724, 11.34532486, 11.973565  ,\n",
       "       10.34405842, 11.52279352, 10.90646447, 10.64600005, 10.29220935,\n",
       "       11.3255292 ,  8.92375107,  8.60278611,  9.55487929,  9.38567355,\n",
       "       12.26067761, 10.99338077,  9.50302278, 10.68577473, 10.46823485,\n",
       "        9.06308708, 10.20529307,  9.51612571, 11.0843054 ,  9.91057485,\n",
       "       10.78321209,  8.21104797, 11.00087663, 10.74633894,  9.82056047,\n",
       "        9.10680843,  7.31282484,  9.18987577,  9.77637427, 10.12055021,\n",
       "       11.54626362,  9.97073881, 10.53255209, 10.62735499,  9.45764411,\n",
       "       10.0438719 , 10.06921697, 11.30379759, 10.16824939,  9.61425311,\n",
       "       11.17375544, 10.37144288,  8.88937598,  9.09113074, 11.06462943,\n",
       "       10.22669663, 11.17890657, 10.13436297, 10.13886059,  9.6636739 ,\n",
       "        8.79385413,  8.63529579, 10.16322398,  9.13299202, 11.01477805,\n",
       "        7.83101953, 10.88019626, 10.51511455,  9.57798465, 11.55892756,\n",
       "       11.24605732, 10.77442576, 10.05423265,  9.60728773, 10.62090062,\n",
       "       10.42328908,  9.80598751, 10.33836923, 10.80337455, 10.15124237,\n",
       "       10.10553683, 10.00636644, 10.2659638 ,  9.34441558, 10.82950847,\n",
       "        9.68394037, 11.89143613,  9.88414866,  9.84593544, 10.01658033,\n",
       "        9.80570364, 10.32785885, 10.01122345,  8.9567803 , 10.59547551,\n",
       "       10.09805249, 11.16429751, 10.22985344,  9.55469155, 11.45235961,\n",
       "        9.10220268,  9.68517157, 11.64930253,  9.74964579, 10.46756338,\n",
       "        7.91412606, 10.87733854,  9.29633677,  9.63318087, 10.96247891,\n",
       "        9.95465673,  9.51312448,  9.86847286, 10.37815586, 11.05679902,\n",
       "        8.86895971, 10.75275735, 10.22199727,  9.13997728, 10.35906087,\n",
       "       10.27063352, 10.98317703,  8.70407372, 11.33174884,  7.87716813,\n",
       "        8.93401488,  9.87336332, 10.96133198, 11.22016502, 10.1030778 ,\n",
       "       11.30745006,  9.82309561, 11.27584777, 11.3242555 , 12.39077088,\n",
       "       10.24938028,  9.17531314, 10.13850329, 10.21473775, 10.90075798,\n",
       "       11.18598687,  9.07602218, 10.26521568, 10.1190654 , 11.80082732,\n",
       "        9.77018466, 11.20312542,  9.61058559,  9.84710753,  8.49789298,\n",
       "        8.99638067,  9.05012222, 11.76336751,  7.99489632, 10.37904042,\n",
       "        8.90486947, 10.523727  ,  8.59808275, 10.43123539, 11.22295837,\n",
       "       10.96510596,  8.33955688,  9.20665025,  9.84781719, 10.19140768,\n",
       "        9.59907856,  7.2807945 ,  8.86325103, 10.63035498, 10.71502813,\n",
       "       11.48987169,  9.47932564, 10.49096479,  8.62175533, 11.07682898,\n",
       "        8.08163709,  9.79519262,  9.80082011, 12.84190416, 10.69548171,\n",
       "        9.05128865,  9.94123729, 11.02671404,  9.54447736,  9.69737188,\n",
       "       11.30697918,  9.07614175, 10.79318421, 11.33899328, 10.16329429,\n",
       "       10.18433491,  9.15080512,  9.95332904,  8.96612991, 12.00497749,\n",
       "       10.09751667,  9.22244088, 10.38174072,  9.80103632,  9.10122609,\n",
       "        9.87768737, 11.4106508 , 10.29047488,  6.93187977,  9.91361096,\n",
       "       11.78602319,  9.0696685 ,  9.73512455, 10.55664785, 10.66363585,\n",
       "        8.55268902,  9.04292132,  9.56530254, 10.38221458, 10.4816781 ,\n",
       "        9.23696515, 10.11762504,  8.45584272, 11.88182427,  9.95844271,\n",
       "        9.17399226, 10.3481878 ,  9.19743902, 10.371919  , 10.00141866,\n",
       "        9.84949486, 10.64457599, 10.53276263,  9.46346667, 11.16037899,\n",
       "        8.89514159, 11.00971098, 10.80922391,  9.11073126, 11.6708338 ,\n",
       "        9.67472434,  9.99989418, 10.31900628, 10.4283914 , 11.53985534,\n",
       "       11.39074802,  9.54806475, 11.04905236,  8.94652674,  9.87497701,\n",
       "       10.19770448,  9.77304783, 10.39965342, 11.64050963,  8.45778201,\n",
       "        8.67118631, 11.25575362,  8.8095844 , 11.05655809, 10.23099512,\n",
       "       10.18422936, 10.59647048,  8.93182169, 11.52537163, 10.52481473,\n",
       "       10.11845057, 10.1247807 , 11.92857815,  9.00425449, 10.70462549,\n",
       "        8.17716451, 11.42005134, 10.29966642,  7.5551526 ,  7.9831105 ,\n",
       "        9.20754542,  9.99248706, 10.25286467,  9.78564841,  9.79773049,\n",
       "       12.28692259, 11.74918098, 10.82887226, 10.3864235 , 10.97539015,\n",
       "       10.02303636,  9.09110776, 10.14070596, 10.00321185, 10.4053259 ,\n",
       "        8.65214713, 10.29616426, 12.19360822,  7.68228318,  9.43662542,\n",
       "        8.30382919,  9.60558939,  9.73895016,  9.99853203,  9.47992056,\n",
       "        9.77003932, 12.00582728, 10.34520179,  9.65263595, 11.38186848,\n",
       "       11.09769213, 10.01734863, 10.23606471,  9.47204625,  8.75016628,\n",
       "       10.76477167,  9.78442588, 11.70287808,  9.63266348, 11.01079583,\n",
       "        9.24859387,  9.32415665,  9.26162584, 11.75984406,  9.57323228,\n",
       "        9.69103927, 11.73471811, 11.15050249, 10.54768162, 10.26088056,\n",
       "       10.95772295, 10.68583378,  8.20944421, 10.39801085,  9.68508862,\n",
       "       11.62811833, 10.58953104, 10.86809411,  9.9729435 , 11.24779858,\n",
       "       10.87383603, 10.39886586, 11.96245539,  9.67021227,  8.73114262,\n",
       "        9.83534893,  9.94606846, 10.16277929, 10.25169996,  9.72329379,\n",
       "       10.96445867, 11.14621515, 12.03929077, 10.99124743, 10.00331636,\n",
       "       10.96075177,  8.34446329, 10.61711661, 10.02890579,  7.25758896,\n",
       "       10.3253074 , 11.29482953,  9.59860603, 11.73656978,  9.56687522,\n",
       "        9.33177621,  8.84502959, 11.47913882, 11.14270918,  9.42524236,\n",
       "        8.33869682, 10.64082043,  9.27808139, 11.3672605 ,  9.64042621,\n",
       "        9.97475528,  9.84104197,  8.61685969, 10.36556934, 10.4539091 ,\n",
       "       10.82925791,  9.10314747, 10.87618747, 10.48289945, 10.96480958,\n",
       "        8.57180227, 10.45649811,  9.712442  ,  9.77241949, 11.30876767,\n",
       "        9.34858787, 10.49824407,  8.70359698, 11.12600904, 11.54337569,\n",
       "       10.78778042, 11.70171768, 11.88989596, 10.21663947,  9.19798481,\n",
       "        9.85523558, 10.89393221, 10.39064777,  9.91277628,  9.74862883,\n",
       "       11.4477658 ,  9.32086698, 10.5175647 ,  8.24261137, 10.15410425,\n",
       "        9.24263941, 10.13942095,  9.58728235,  9.74611723,  7.99164171])"
      ]
     },
     "execution_count": 13,
     "metadata": {},
     "output_type": "execute_result"
    }
   ],
   "source": [
    "# set the mean, standard deviation and size of population\n",
    "mean = 10\n",
    "stddev = 1 \n",
    "# N = 100\n",
    "N = 1000\n",
    "# simulate the data with numpy.random.normal\n",
    "# numpy already imported in task 2 \n",
    "population = np.random.normal(mean, stddev, N)\n",
    "# display the population \n",
    "population"
   ]
  },
  {
   "cell_type": "code",
   "execution_count": 14,
   "metadata": {},
   "outputs": [
    {
     "data": {
      "text/plain": [
       "1000"
      ]
     },
     "execution_count": 14,
     "metadata": {},
     "output_type": "execute_result"
    }
   ],
   "source": [
    "# check the size of the population\n",
    "len(population)"
   ]
  },
  {
   "cell_type": "markdown",
   "metadata": {},
   "source": [
    "#### Plot the data"
   ]
  },
  {
   "cell_type": "code",
   "execution_count": 15,
   "metadata": {},
   "outputs": [
    {
     "data": {
      "image/png": "[encoded data removed]",
      "text/plain": [
       "<Figure size 1440x720 with 1 Axes>"
      ]
     },
     "metadata": {
      "needs_background": "light"
     },
     "output_type": "display_data"
    }
   ],
   "source": [
    "# import matplotlib.pyplot\n",
    "import matplotlib.pyplot as plt\n",
    "\n",
    "# rc params to customize plot appearance: https://matplotlib.org/tutorials/introductory/customizing.html\n",
    "plt.rcParams['figure.figsize'] = (20, 10)\n",
    "plt.rcParams['lines.linewidth'] = 2.5\n",
    "\n",
    "# plot a histogram of the data\n",
    "plt.hist(population)\n",
    "# add title and axis labels \n",
    "plt.title('Plot of simulated population', fontsize =20)\n",
    "plt.xlabel('Spread of values from the mean', fontsize = 16)\n",
    "plt.ylabel('Number of data points', fontsize = 16)\n",
    "# add a grid and display the plot\n",
    "plt.grid()\n",
    "plt.show()"
   ]
  },
  {
   "cell_type": "markdown",
   "metadata": {},
   "source": [
    "#### Calculate the standard deviation using numpy\n",
    "\n",
    "*I already know the standard deviation as I set it when simulating the data but I want to see what the STDEV.P and STDEV.S formulas return for standard deviation on the full population.*\n",
    "\n",
    "As detailed in the task specification \n",
    " \n",
    "STDEV.P is calculated by numpy using the formula:\n",
    "\n",
    "np.sqrt(np.sum((x - np.mean(x))**2)/len(x))"
   ]
  },
  {
   "cell_type": "code",
   "execution_count": 16,
   "metadata": {},
   "outputs": [
    {
     "data": {
      "text/plain": [
       "0.9989785248284075"
      ]
     },
     "execution_count": 16,
     "metadata": {},
     "output_type": "execute_result"
    }
   ],
   "source": [
    "# STDEV.P formula to calculate standard deviation\n",
    "np.sqrt(np.sum((population - np.mean(population))**2)/len(population))"
   ]
  },
  {
   "cell_type": "markdown",
   "metadata": {},
   "source": [
    "STDEV.S is calculated by numpy using the formula:\n",
    " \n",
    "np.sqrt(np.sum((x - np.mean(x))**2)/len(x)-1)\n",
    "\n",
    "I have realised that I am missing a set of parenthesis in the above formula and it should be:\n",
    "\n",
    "np.sqrt(np.sum((x - np.mean(x))**2)/(len(x)-1))\n",
    "\n",
    "The results were inaccuarte before this fix."
   ]
  },
  {
   "cell_type": "code",
   "execution_count": 17,
   "metadata": {},
   "outputs": [],
   "source": [
    "# STDEV.S formula to calculate standard deviation\n",
    "#np.sqrt(np.sum((population - np.mean(population))**2)/len(population)-1)\n",
    "# I realised I had to wrap the len(population)-1 in an extra set of parenthesis"
   ]
  },
  {
   "cell_type": "code",
   "execution_count": 18,
   "metadata": {},
   "outputs": [
    {
     "data": {
      "text/plain": [
       "0.9994783890202228"
      ]
     },
     "execution_count": 18,
     "metadata": {},
     "output_type": "execute_result"
    }
   ],
   "source": [
    "# STDEV.S formula to calculate standard deviation\n",
    "np.sqrt(np.sum((population - np.mean(population))**2)/(len(population)-1))"
   ]
  },
  {
   "cell_type": "markdown",
   "metadata": {},
   "source": [
    "**Which is more accurate?**\n",
    "\n",
    "*I will use numpy.std to calculate the standard deviation of the randomly generated array of data*"
   ]
  },
  {
   "cell_type": "code",
   "execution_count": 19,
   "metadata": {},
   "outputs": [
    {
     "data": {
      "text/plain": [
       "0.9989785248284075"
      ]
     },
     "execution_count": 19,
     "metadata": {},
     "output_type": "execute_result"
    }
   ],
   "source": [
    "# calculate the standard deviation with built in numpy std function\n",
    "np.std(population)"
   ]
  },
  {
   "cell_type": "markdown",
   "metadata": {},
   "source": [
    "I read that numpy can calulate the standard deviation with one degree of freedom added [9]. This gives the same result as the STDEV.S calculation. "
   ]
  },
  {
   "cell_type": "code",
   "execution_count": 20,
   "metadata": {},
   "outputs": [
    {
     "data": {
      "text/plain": [
       "0.9994783890202228"
      ]
     },
     "execution_count": 20,
     "metadata": {},
     "output_type": "execute_result"
    }
   ],
   "source": [
    "# calculate the standard deviation with built in numpy std with one degree of freedom added \n",
    "np.std(population, ddof = 1)"
   ]
  },
  {
   "cell_type": "markdown",
   "metadata": {},
   "source": [
    "When calculating standard deviation of full population of data STDEV.P is more accurate than STDEV.S\n",
    "\n",
    "I have verified the statement from the Micrososft support pages [1]:\n",
    "\n",
    "STDEV.S assumes that its arguments are a sample of the population. If your data represents the entire population, then compute the standard deviation using STDEV.P."
   ]
  },
  {
   "cell_type": "markdown",
   "metadata": {},
   "source": [
    "#### Generate samples of the population and use STDEV.P and STDEV.S to calculate standard deviation\n",
    "\n",
    "I will use numpy.random.choice to choose random values from my full population of 1000 to create samples of different sizes [18]. numpy.random.choice generates a random sample from a given one dimensional array.\n",
    "\n",
    "I will then use the STDEV.S and STDEV.P calculations to estimate the standard deviation of the population based on each sample size and see what the results show."
   ]
  },
  {
   "cell_type": "code",
   "execution_count": 21,
   "metadata": {},
   "outputs": [],
   "source": [
    "# commented out, more efficient to generate different sample sizes in a loop\n",
    "\n",
    "# numpy.random.choice to generate samples from the full population of 100 [18]\n",
    "#sample5 = np.random.choice(population, size=5)\n",
    "#sample10 = np.random.choice(population, size=10)\n",
    "#sample20 = np.random.choice(population, size=20)\n",
    "#sample30 = np.random.choice(population, size=30)\n",
    "#sample40 = np.random.choice(population, size=40)\n",
    "#sample50 = np.random.choice(population, size=50)\n",
    "#sample60 = np.random.choice(population, size=60)\n",
    "#sample80 = np.random.choice(population, size=80)"
   ]
  },
  {
   "cell_type": "markdown",
   "metadata": {},
   "source": [
    "#### Steps Involved\n",
    "\n",
    "* I have created an array of sample sizes and looped through the array each time generating an array of the sample size using numpy.random.choice. The replace argument has been set to true so the same values can be selected for different sample sizes.\n",
    "* On each iteration of the loop I have calculated the standard deviation using STDEV.P and STDEV.S calculations and appended the results to an empty array.\n",
    "* I have added the standard deviation of the full population as calculated by STDEV.P to an array at each iteration, solely for the purpose of comparison to the result of STDEV.P and STDEV.S for each sample size.\n",
    "* I have compared the STDEV.P and STDEV.S estimates for standard deviation based on samples to the actual population standard deviation calculated using STDEV.P for comparison purposes.\n",
    "* I have created a pandas dataframe and added the results for each sample size to the dataframe for ease of viewing and comparison."
   ]
  },
  {
   "cell_type": "code",
   "execution_count": 22,
   "metadata": {},
   "outputs": [],
   "source": [
    "# create an array of sample sizes \n",
    "#sample_sizes = [5, 10, 15, 20, 25, 40, 50, 60, 75, 80, 90]\n",
    "sample_sizes = [50, 100, 150, 200, 250, 400, 500, 600, 750, 800, 900]\n",
    "\n",
    "# create an empty array to append the results to\n",
    "# pop will contain the STDEV.P calculation for each sample size \n",
    "pop = []\n",
    "# samp will contain the STDEV.S calculation for each sample size\n",
    "samp = []\n",
    "# pop_stddev will contain the standard deviation of the entire population for each sample size, for comparison purposes\n",
    "pop_stddev = []\n",
    "# append the difference between the actual population standard deviation and the STDEV.P estimate\n",
    "P_difference = []\n",
    "# append the difference between the actual population standard deviation and the STDEV.S estimate\n",
    "S_difference = []\n",
    "\n",
    "\n",
    "# loop through the sample sizes \n",
    "for s in sample_sizes:\n",
    "    # for each sample size numpy.random.choice will generate a random sample from population of that size\n",
    "    sample = np.random.choice(population, size = s, replace = True)\n",
    "    # calculate the standard deviation using the STDEV.P formula\n",
    "    P = np.sqrt(np.sum((sample - np.mean(sample))**2)/len(sample))\n",
    "    # calculate the standard deviation using the STDEV.S formula\n",
    "    S = np.sqrt(np.sum((sample - np.mean(sample))**2)/(len(sample)-1))\n",
    "    # This is the standard deviation of the entire population generated by the STDEV.P calculation\n",
    "    total = np.sqrt(np.sum((population - np.mean(population))**2)/len(population))\n",
    "    # calculate the difference between the standard deviation of population and STDEV.P estimate based on sample\n",
    "    P_diff = abs(total - P)\n",
    "    # calculate the difference between the standard deviation of population and STDEV.S estimate based on sample\n",
    "    S_diff = abs(total - S)\n",
    "    # append the results for the STDEV.P and STDEV.S calculations to the empty arrays created earlier \n",
    "    pop.append(P)\n",
    "    samp.append(S)\n",
    "    # append the actual standard deviation of the full population to the array created earlier\n",
    "    pop_stddev.append(total)\n",
    "    # append the difference between the actual population standard deviation and the STDEV.P and STDEV.S estimates\n",
    "    P_difference.append(P_diff)\n",
    "    S_difference.append(S_diff)"
   ]
  },
  {
   "cell_type": "code",
   "execution_count": 23,
   "metadata": {},
   "outputs": [
    {
     "data": {
      "text/plain": [
       "[0.9106487753553725,\n",
       " 1.0472764812377047,\n",
       " 0.929748202549557,\n",
       " 1.0073348267682967,\n",
       " 1.0214412911157886,\n",
       " 0.9891427345321606,\n",
       " 1.007536142634298,\n",
       " 1.0118831689115115,\n",
       " 1.0035714867966132,\n",
       " 1.025206285457364,\n",
       " 1.00459793532223]"
      ]
     },
     "execution_count": 23,
     "metadata": {},
     "output_type": "execute_result"
    }
   ],
   "source": [
    "# display the STDEV.P standard deviation calculated \n",
    "pop"
   ]
  },
  {
   "cell_type": "code",
   "execution_count": 24,
   "metadata": {},
   "outputs": [
    {
     "data": {
      "text/plain": [
       "[0.9198941776185839,\n",
       " 1.0525524666754977,\n",
       " 0.932862945621105,\n",
       " 1.0098626471211651,\n",
       " 1.023490322846352,\n",
       " 0.9903814860939973,\n",
       " 1.0085451926044025,\n",
       " 1.0127274603966616,\n",
       " 1.0042412042463902,\n",
       " 1.0258476407190043,\n",
       " 1.005156510808994]"
      ]
     },
     "execution_count": 24,
     "metadata": {},
     "output_type": "execute_result"
    }
   ],
   "source": [
    "# display the STDEV.S standard deviation calculated \n",
    "samp"
   ]
  },
  {
   "cell_type": "code",
   "execution_count": 25,
   "metadata": {},
   "outputs": [
    {
     "data": {
      "text/plain": [
       "[0.9989785248284075,\n",
       " 0.9989785248284075,\n",
       " 0.9989785248284075,\n",
       " 0.9989785248284075,\n",
       " 0.9989785248284075,\n",
       " 0.9989785248284075,\n",
       " 0.9989785248284075,\n",
       " 0.9989785248284075,\n",
       " 0.9989785248284075,\n",
       " 0.9989785248284075,\n",
       " 0.9989785248284075]"
      ]
     },
     "execution_count": 25,
     "metadata": {},
     "output_type": "execute_result"
    }
   ],
   "source": [
    "# display the standard deviation of the full population calculated using the STDEV.P calculation\n",
    "pop_stddev"
   ]
  },
  {
   "cell_type": "code",
   "execution_count": 26,
   "metadata": {},
   "outputs": [
    {
     "data": {
      "text/plain": [
       "[0.08832974947303507,\n",
       " 0.04829795640929713,\n",
       " 0.06923032227885051,\n",
       " 0.008356301939889121,\n",
       " 0.022462766287381086,\n",
       " 0.009835790296246927,\n",
       " 0.008557617805890372,\n",
       " 0.012904644083103989,\n",
       " 0.004592961968205689,\n",
       " 0.026227760628956487,\n",
       " 0.00561941049382253]"
      ]
     },
     "execution_count": 26,
     "metadata": {},
     "output_type": "execute_result"
    }
   ],
   "source": [
    "# difference between STDEV.P of sample and STDEV.P of full population\n",
    "P_difference"
   ]
  },
  {
   "cell_type": "code",
   "execution_count": 27,
   "metadata": {},
   "outputs": [
    {
     "data": {
      "text/plain": [
       "[0.0790843472098236,\n",
       " 0.05357394184709019,\n",
       " 0.06611557920730249,\n",
       " 0.010884122292757592,\n",
       " 0.024511798017944564,\n",
       " 0.0085970387344102,\n",
       " 0.009566667775994908,\n",
       " 0.013748935568254073,\n",
       " 0.005262679417982641,\n",
       " 0.026869115890596706,\n",
       " 0.006177985980586387]"
      ]
     },
     "execution_count": 27,
     "metadata": {},
     "output_type": "execute_result"
    }
   ],
   "source": [
    "# difference between STDEV.S sample and STDEV.P of full population\n",
    "S_difference"
   ]
  },
  {
   "cell_type": "markdown",
   "metadata": {},
   "source": [
    "#### Display the results in a pandas dataframe"
   ]
  },
  {
   "cell_type": "code",
   "execution_count": 28,
   "metadata": {},
   "outputs": [
    {
     "data": {
      "text/html": [
       "<div>\n",
       "<style scoped>\n",
       "    .dataframe tbody tr th:only-of-type {\n",
       "        vertical-align: middle;\n",
       "    }\n",
       "\n",
       "    .dataframe tbody tr th {\n",
       "        vertical-align: top;\n",
       "    }\n",
       "\n",
       "    .dataframe thead th {\n",
       "        text-align: right;\n",
       "    }\n",
       "</style>\n",
       "<table border=\"1\" class=\"dataframe\">\n",
       "  <thead>\n",
       "    <tr style=\"text-align: right;\">\n",
       "      <th>Sample Size</th>\n",
       "      <th>50</th>\n",
       "      <th>100</th>\n",
       "      <th>150</th>\n",
       "      <th>200</th>\n",
       "      <th>250</th>\n",
       "      <th>400</th>\n",
       "      <th>500</th>\n",
       "      <th>600</th>\n",
       "      <th>750</th>\n",
       "      <th>800</th>\n",
       "      <th>900</th>\n",
       "    </tr>\n",
       "  </thead>\n",
       "  <tbody>\n",
       "    <tr>\n",
       "      <th>STDEV.P Sample</th>\n",
       "      <td>0.910649</td>\n",
       "      <td>1.047276</td>\n",
       "      <td>0.929748</td>\n",
       "      <td>1.007335</td>\n",
       "      <td>1.021441</td>\n",
       "      <td>0.989143</td>\n",
       "      <td>1.007536</td>\n",
       "      <td>1.011883</td>\n",
       "      <td>1.003571</td>\n",
       "      <td>1.025206</td>\n",
       "      <td>1.004598</td>\n",
       "    </tr>\n",
       "    <tr>\n",
       "      <th>STDEV.S Sample</th>\n",
       "      <td>0.919894</td>\n",
       "      <td>1.052552</td>\n",
       "      <td>0.932863</td>\n",
       "      <td>1.009863</td>\n",
       "      <td>1.023490</td>\n",
       "      <td>0.990381</td>\n",
       "      <td>1.008545</td>\n",
       "      <td>1.012727</td>\n",
       "      <td>1.004241</td>\n",
       "      <td>1.025848</td>\n",
       "      <td>1.005157</td>\n",
       "    </tr>\n",
       "    <tr>\n",
       "      <th>STDEV.P Population</th>\n",
       "      <td>0.998979</td>\n",
       "      <td>0.998979</td>\n",
       "      <td>0.998979</td>\n",
       "      <td>0.998979</td>\n",
       "      <td>0.998979</td>\n",
       "      <td>0.998979</td>\n",
       "      <td>0.998979</td>\n",
       "      <td>0.998979</td>\n",
       "      <td>0.998979</td>\n",
       "      <td>0.998979</td>\n",
       "      <td>0.998979</td>\n",
       "    </tr>\n",
       "    <tr>\n",
       "      <th>STDEV.P difference</th>\n",
       "      <td>0.088330</td>\n",
       "      <td>0.048298</td>\n",
       "      <td>0.069230</td>\n",
       "      <td>0.008356</td>\n",
       "      <td>0.022463</td>\n",
       "      <td>0.009836</td>\n",
       "      <td>0.008558</td>\n",
       "      <td>0.012905</td>\n",
       "      <td>0.004593</td>\n",
       "      <td>0.026228</td>\n",
       "      <td>0.005619</td>\n",
       "    </tr>\n",
       "    <tr>\n",
       "      <th>STDEV.S difference</th>\n",
       "      <td>0.079084</td>\n",
       "      <td>0.053574</td>\n",
       "      <td>0.066116</td>\n",
       "      <td>0.010884</td>\n",
       "      <td>0.024512</td>\n",
       "      <td>0.008597</td>\n",
       "      <td>0.009567</td>\n",
       "      <td>0.013749</td>\n",
       "      <td>0.005263</td>\n",
       "      <td>0.026869</td>\n",
       "      <td>0.006178</td>\n",
       "    </tr>\n",
       "  </tbody>\n",
       "</table>\n",
       "</div>"
      ],
      "text/plain": [
       "Sample Size              50        100       150       200       250  \\\n",
       "STDEV.P Sample      0.910649  1.047276  0.929748  1.007335  1.021441   \n",
       "STDEV.S Sample      0.919894  1.052552  0.932863  1.009863  1.023490   \n",
       "STDEV.P Population  0.998979  0.998979  0.998979  0.998979  0.998979   \n",
       "STDEV.P difference  0.088330  0.048298  0.069230  0.008356  0.022463   \n",
       "STDEV.S difference  0.079084  0.053574  0.066116  0.010884  0.024512   \n",
       "\n",
       "Sample Size              400       500       600       750       800       900  \n",
       "STDEV.P Sample      0.989143  1.007536  1.011883  1.003571  1.025206  1.004598  \n",
       "STDEV.S Sample      0.990381  1.008545  1.012727  1.004241  1.025848  1.005157  \n",
       "STDEV.P Population  0.998979  0.998979  0.998979  0.998979  0.998979  0.998979  \n",
       "STDEV.P difference  0.009836  0.008558  0.012905  0.004593  0.026228  0.005619  \n",
       "STDEV.S difference  0.008597  0.009567  0.013749  0.005263  0.026869  0.006178  "
      ]
     },
     "execution_count": 28,
     "metadata": {},
     "output_type": "execute_result"
    }
   ],
   "source": [
    "# import pandas\n",
    "import pandas as pd\n",
    "# create a pandas dataframe\n",
    "df = pd.DataFrame()\n",
    "# create a column of data called Sample size and populate with the array of sample sizes \n",
    "df['Sample Size'] = sample_sizes\n",
    "# create a column of data for the STDEV.P calculation and populate with the data in the pop array\n",
    "df['STDEV.P Sample'] = pop\n",
    "# create a column of data for the STDEV.S calculation and populate with the data in the samp array\n",
    "df['STDEV.S Sample'] = samp\n",
    "# add the actual standard deviation of the population to the dataframe\n",
    "df['STDEV.P Population'] = pop_stddev\n",
    "# the difference between standard deviation of the population and STDEV.P estimate based on sample\n",
    "df['STDEV.P difference'] = P_difference\n",
    "# the difference between standard deviation of the population and STDEV.S estimate based on sample\n",
    "df['STDEV.S difference'] = S_difference\n",
    "\n",
    "# set the index in place as Sample Size \n",
    "df.set_index('Sample Size', inplace=True)\n",
    "# transpose the dataframe, flip the columns and rows, looks better this way\n",
    "df.T"
   ]
  },
  {
   "cell_type": "code",
   "execution_count": 29,
   "metadata": {},
   "outputs": [
    {
     "data": {
      "text/plain": [
       "0.30439221194274335"
      ]
     },
     "execution_count": 29,
     "metadata": {},
     "output_type": "execute_result"
    }
   ],
   "source": [
    "# sum the total of the differenece between STDEV.P population and STDEV.S sample for each sample size \n",
    "sum(S_difference)"
   ]
  },
  {
   "cell_type": "code",
   "execution_count": 30,
   "metadata": {},
   "outputs": [
    {
     "data": {
      "text/plain": [
       "0.3044152816646789"
      ]
     },
     "execution_count": 30,
     "metadata": {},
     "output_type": "execute_result"
    }
   ],
   "source": [
    "# sum the total of the differenece between STDEV.P population and STDEV.P sample for each sample size \n",
    "sum(P_difference)"
   ]
  },
  {
   "cell_type": "markdown",
   "metadata": {},
   "source": [
    "#### Plot the data\n",
    "\n",
    "I have added a plot showing the STDEV.P and STDEV.S calculations for each sample size and the standard deviation of the full population as calculated by STDEV.P below."
   ]
  },
  {
   "cell_type": "code",
   "execution_count": 31,
   "metadata": {},
   "outputs": [
    {
     "data": {
      "image/png": "[encoded data removed]",
      "text/plain": [
       "<Figure size 1440x720 with 1 Axes>"
      ]
     },
     "metadata": {
      "needs_background": "light"
     },
     "output_type": "display_data"
    }
   ],
   "source": [
    "# customise with rcparams \n",
    "plt.rcParams['figure.figsize'] = (20, 10)\n",
    "plt.rcParams['lines.linewidth'] = 2.5\n",
    "\n",
    "# add the data to be plotted \n",
    "# label added for legend\n",
    "plt.plot(df['STDEV.P Sample'], marker = 'o', markersize = 14, label = 'STDEV.P sample')\n",
    "plt.plot(df['STDEV.S Sample'], marker = 'x', markersize = 14, label = 'STDEV.S sample')\n",
    "plt.plot(df['STDEV.P Population'], label = 'Population Std Dev')\n",
    "# add labels for the x and y axis and a plot title\n",
    "plt.title(\"STDEV.P and STDEV.S estimate of standard deviation based on samples\", fontsize = 18)\n",
    "plt.xlabel(\"Sample Size\", fontsize = 16)\n",
    "plt.ylabel(\"Standard Deviation\", fontsize = 16)\n",
    "# add a legend and grid to the plot\n",
    "plt.legend()\n",
    "plt.grid()"
   ]
  },
  {
   "cell_type": "markdown",
   "metadata": {},
   "source": [
    "### Task 3 Conclusion & Learnings\n",
    "\n"
   ]
  },
  {
   "cell_type": "markdown",
   "metadata": {},
   "source": [
    "* STDEV.P can be used to calculate standard deviation when we have all the data points in a population.\n",
    "* STDEV.S can be used to to estimate the standard deviation of a full population when we have only a sample of the data points of a full population.\n",
    "* STDEV.S has one degree of freedom built into the calculation which is said to produce a more accurate estimate for the standard deviation of a population when only a sample of the data is available.\n",
    "* numpy can be used to calculate the standard deviation in the same way as STDEV.P and the same way as STDEV.S with one degree of freedom allowed.\n",
    "* I simulated a full population of 1,000 data points using numpy.random.normal with a mean of 10 and a standard deviation of 1. I used STDEV.P to calculate the standard deviation of the population.\n",
    "* I then used numpy.random.choice to generate samples of different sizes from the full population.\n",
    "* For each sample size I calculated an estimation of the standard deviation of the full population based on that sample of data using both the STDEV.P and STDEV.S calculations.\n",
    "* I also subtracted the difference between the STDEV.P calculation based on the full population and the STDEV.P and STDEV.S calculations based on each sample size and summed the difference.\n",
    "* The result of my experiment was that STDEV.S produced a slightly more accurate result over all the sample sizes that I generated.\n",
    "* I cannot say for sure whether STDEV.S is a more accurate estimate for the standard deviation when performed on a sample.\n",
    "* I can say with a reasonably high degree of confidence that when estimating the standard deviation of a population based on a sample of the population that the bigger the sample is the more accurate the standard deviation calculated based on that sample will be.\n",
    "* This is evident in the plot of the STDEV.P and STDEV.S estimations based on my samples above.\n",
    "* The two smallest sample sizes have the estimates which are the furthest from the actual standard deviation of the population.\n",
    "* I could also say there may be some element of luck involved too in the sampling of data from the population too as some of the smaller samples have closer estimations for standard deviation than some of the larger samples.\n",
    "* I found the topic interesting and I could continue to research but due to time constraints I have this leave it here."
   ]
  },
  {
   "cell_type": "markdown",
   "metadata": {},
   "source": [
    "### Task 3 References "
   ]
  },
  {
   "cell_type": "markdown",
   "metadata": {},
   "source": [
    "[1] Microsoft support; STDEV.S; https://support.microsoft.com/en-us/office/stdev-s-function-7d69cf97-0c1f-4acf-be27-f3e83904cc23#:~:text=Remarks-,STDEV.,P.\n",
    "\n",
    "[2] Microsoft support; STDEV.P; https://support.microsoft.com/en-us/office/stdev-p-function-6e917c05-31a0-496f-ade7-4f4e7462f285\n",
    "\n",
    "[3] Youtube; =StDev.S And =StDev.P (What Is The Difference?) | How To Use Excel; https://www.youtube.com/watch?v=NdIVwuwfMIg\n",
    "\n",
    "[4] Excel-easy; Standard Deviation; https://www.excel-easy.com/examples/standard-deviation.html\n",
    "\n",
    "[5] SciPy.org; numpy.random.normal; https://docs.scipy.org/doc/numpy-1.16.0/reference/generated/numpy.random.normal.html#numpy.random.normal\n",
    "\n",
    "[6] numpy; numpy.std; https://numpy.org/devdocs/reference/generated/numpy.std.html\n",
    "\n",
    "[7] ExcelTip; How To Use Excel STDEV.P Function; https://www.exceltip.com/statistical-formulas/how-to-use-excel-stdev-p-function.html\n",
    "\n",
    "[8] ExcelTip; How to use the STDEV.S function in Excel; https://www.exceltip.com/statistical-formulas/how-to-use-stdev-s-function-in-excel.html\n",
    "\n",
    "[9] Towards data science; Why computing standard deviation in pandas and NumPy yields different results?; https://towardsdatascience.com/why-computing-standard-deviation-in-pandas-and-numpy-yields-different-results-5b475e02d112\n",
    "\n",
    "[10] GeeksforGekks;stdev() method in Python statistics module; https://www.geeksforgeeks.org/python-statistics-stdev/#:~:text=Statistics%20module%20in%20Python%20provides,rather%20than%20an%20entire%20population.\n",
    "\n",
    "[11]  matplotlib; matplotlib.pyplot documentation; https://matplotlib.org/3.2.1/api/_as_gen/matplotlib.pyplot.plot.html#matplotlib.pyplot.plot\n",
    "\n",
    "[12] matplotlib; Customizing Matplotlib with style sheets and rcParams; https://matplotlib.org/tutorials/introductory/customizing.html\n",
    "\n",
    "[13] IB Geography; standard deviation; https://sites.google.com/site/geographyfais/fieldwork/6-data-analysis/statistical-tools/basic-statistical-tools/7-standard-deviation\n",
    "\n",
    "[14] Khan Academy; Calculating standard deviation step by step; https://www.khanacademy.org/math/statistics-probability/summarizing-quantitative-data/variance-standard-deviation-population/a/calculating-standard-deviation-step-by-step\n",
    "\n",
    "[15] Laerd Statistics; Standard Deviation; https://statistics.laerd.com/statistical-guides/measures-of-spread-standard-deviation.php\n",
    "\n",
    "[16] Thought Co.; population vs sample standard deviations; https://www.thoughtco.com/population-vs-sample-standard-deviations-3126372\n",
    "\n",
    "[17] Statistics how to; Bessel's Correction; https://www.statisticshowto.com/bessels-correction/\n",
    "\n",
    "[18] Scipy.Org; numpy.random.choice; https://docs.scipy.org/doc//numpy-1.10.4/reference/generated/numpy.random.choice.html\n",
    "\n",
    "[19] pandas; pandas.DataFrame; https://pandas.pydata.org/pandas-docs/stable/reference/api/pandas.DataFrame.html\n",
    "\n",
    "[20] pandas; pandas.DataFrame.set_index; https://pandas.pydata.org/pandas-docs/stable/reference/api/pandas.DataFrame.set_index.html\n",
    "\n",
    "[21] pandas; pandas.DataFrame.transpose; https://pandas.pydata.org/pandas-docs/stable/reference/api/pandas.DataFrame.transpose.html\n",
    "\n",
    "[22] StackOverflow;How do I find the difference between two values without knowing which is larger?; https://stackoverflow.com/questions/13602170/how-do-i-find-the-difference-between-two-values-without-knowing-which-is-larger\n",
    "\n"
   ]
  },
  {
   "cell_type": "markdown",
   "metadata": {},
   "source": [
    "***"
   ]
  },
  {
   "cell_type": "markdown",
   "metadata": {},
   "source": [
    "## Task 4 "
   ]
  },
  {
   "cell_type": "markdown",
   "metadata": {},
   "source": [
    "4. November 30th, 2020: Use scikit-learn to apply k-means clustering to\n",
    "Fisher’s famous Iris data set. You will easily obtain a copy of the data set online. Explain in a Markdown cell how your code works and how accurate it might\n",
    "be, and then explain how your model could be used to make predictions of species\n",
    "of iris.\n"
   ]
  },
  {
   "cell_type": "markdown",
   "metadata": {},
   "source": [
    "### 4.1 Introduction\n",
    "\n",
    "#### Plan to complete this task\n",
    "\n",
    "* Obtain a copy of the Fisher's Iris data set online.\n",
    "* Include the data set in this notebook and give a brief introduction to the data set and data contained within it.\n",
    "* Use scikit-learn to apply k-means clustering to the Iris data set.\n",
    "* Explain how the code works in a markdown cell.\n",
    "* How accurate is the code?\n",
    "* Explain how the model could be used to make predictions of species of iris."
   ]
  },
  {
   "cell_type": "markdown",
   "metadata": {},
   "source": [
    "### 4.2 Introduction to Fisher's Iris data set\n",
    "\n",
    "The Fisher's Iris data set is a multivariate data set that was introduced by Ronald Fisher in 1936 in his paper - \"The use of multiple measurements in taxonomic problems\". The data set is also referred to as the Edgar Anderson data set as it was Edgar Anderson who collected the data.\n",
    "\n",
    "\"It is sometimes called Anderson’s Iris data set because Edgar Anderson collected the data to quantify themorphologic variation of Iris ﬂowers of three related species.\" [1]. \n",
    "\n",
    "#### Contents of the Fisher's Iris Data Set\n",
    "\n",
    "There are 150 rows of data in the data set in total, each representing a species of Iris flower. There are 3 species in total with 50 rows of data on each species.\n",
    "\n",
    "* Iris Setosa\n",
    "* Iris Versicolor\n",
    "* Iris Virginica\n",
    "\n",
    "\"The data set contains 3 classes of 50 instances each, where each class refers to a type of iris plant. One class is linearly separable from the other 2; the latter are NOT linearly separable from each other\" [2].\n",
    "\n",
    "Detailed below are the contents of each column of data in the data set:\n",
    "\n",
    "* Column 1 contains sepal length in cm\n",
    "* Column 2 contains sepal width in cm\n",
    "* Column 3 contains petal length in cm\n",
    "* Column 4 contains petal width in cm\n",
    "* Column 5 contains the name of the species of Iris flower\n",
    "\n",
    "\n",
    "I have saved a csv file containing the Iris data set in my repository and used pandas.read_csv to read in the data set and display in a pandas dataframe [3]."
   ]
  },
  {
   "cell_type": "code",
   "execution_count": 32,
   "metadata": {},
   "outputs": [
    {
     "data": {
      "text/html": [
       "<div>\n",
       "<style scoped>\n",
       "    .dataframe tbody tr th:only-of-type {\n",
       "        vertical-align: middle;\n",
       "    }\n",
       "\n",
       "    .dataframe tbody tr th {\n",
       "        vertical-align: top;\n",
       "    }\n",
       "\n",
       "    .dataframe thead th {\n",
       "        text-align: right;\n",
       "    }\n",
       "</style>\n",
       "<table border=\"1\" class=\"dataframe\">\n",
       "  <thead>\n",
       "    <tr style=\"text-align: right;\">\n",
       "      <th></th>\n",
       "      <th>sepal_length</th>\n",
       "      <th>sepal_width</th>\n",
       "      <th>petal_length</th>\n",
       "      <th>petal_width</th>\n",
       "      <th>species</th>\n",
       "    </tr>\n",
       "  </thead>\n",
       "  <tbody>\n",
       "    <tr>\n",
       "      <th>0</th>\n",
       "      <td>5.1</td>\n",
       "      <td>3.5</td>\n",
       "      <td>1.4</td>\n",
       "      <td>0.2</td>\n",
       "      <td>setosa</td>\n",
       "    </tr>\n",
       "    <tr>\n",
       "      <th>1</th>\n",
       "      <td>4.9</td>\n",
       "      <td>3.0</td>\n",
       "      <td>1.4</td>\n",
       "      <td>0.2</td>\n",
       "      <td>setosa</td>\n",
       "    </tr>\n",
       "    <tr>\n",
       "      <th>2</th>\n",
       "      <td>4.7</td>\n",
       "      <td>3.2</td>\n",
       "      <td>1.3</td>\n",
       "      <td>0.2</td>\n",
       "      <td>setosa</td>\n",
       "    </tr>\n",
       "    <tr>\n",
       "      <th>3</th>\n",
       "      <td>4.6</td>\n",
       "      <td>3.1</td>\n",
       "      <td>1.5</td>\n",
       "      <td>0.2</td>\n",
       "      <td>setosa</td>\n",
       "    </tr>\n",
       "    <tr>\n",
       "      <th>4</th>\n",
       "      <td>5.0</td>\n",
       "      <td>3.6</td>\n",
       "      <td>1.4</td>\n",
       "      <td>0.2</td>\n",
       "      <td>setosa</td>\n",
       "    </tr>\n",
       "    <tr>\n",
       "      <th>...</th>\n",
       "      <td>...</td>\n",
       "      <td>...</td>\n",
       "      <td>...</td>\n",
       "      <td>...</td>\n",
       "      <td>...</td>\n",
       "    </tr>\n",
       "    <tr>\n",
       "      <th>145</th>\n",
       "      <td>6.7</td>\n",
       "      <td>3.0</td>\n",
       "      <td>5.2</td>\n",
       "      <td>2.3</td>\n",
       "      <td>virginica</td>\n",
       "    </tr>\n",
       "    <tr>\n",
       "      <th>146</th>\n",
       "      <td>6.3</td>\n",
       "      <td>2.5</td>\n",
       "      <td>5.0</td>\n",
       "      <td>1.9</td>\n",
       "      <td>virginica</td>\n",
       "    </tr>\n",
       "    <tr>\n",
       "      <th>147</th>\n",
       "      <td>6.5</td>\n",
       "      <td>3.0</td>\n",
       "      <td>5.2</td>\n",
       "      <td>2.0</td>\n",
       "      <td>virginica</td>\n",
       "    </tr>\n",
       "    <tr>\n",
       "      <th>148</th>\n",
       "      <td>6.2</td>\n",
       "      <td>3.4</td>\n",
       "      <td>5.4</td>\n",
       "      <td>2.3</td>\n",
       "      <td>virginica</td>\n",
       "    </tr>\n",
       "    <tr>\n",
       "      <th>149</th>\n",
       "      <td>5.9</td>\n",
       "      <td>3.0</td>\n",
       "      <td>5.1</td>\n",
       "      <td>1.8</td>\n",
       "      <td>virginica</td>\n",
       "    </tr>\n",
       "  </tbody>\n",
       "</table>\n",
       "<p>150 rows × 5 columns</p>\n",
       "</div>"
      ],
      "text/plain": [
       "     sepal_length  sepal_width  petal_length  petal_width    species\n",
       "0             5.1          3.5           1.4          0.2     setosa\n",
       "1             4.9          3.0           1.4          0.2     setosa\n",
       "2             4.7          3.2           1.3          0.2     setosa\n",
       "3             4.6          3.1           1.5          0.2     setosa\n",
       "4             5.0          3.6           1.4          0.2     setosa\n",
       "..            ...          ...           ...          ...        ...\n",
       "145           6.7          3.0           5.2          2.3  virginica\n",
       "146           6.3          2.5           5.0          1.9  virginica\n",
       "147           6.5          3.0           5.2          2.0  virginica\n",
       "148           6.2          3.4           5.4          2.3  virginica\n",
       "149           5.9          3.0           5.1          1.8  virginica\n",
       "\n",
       "[150 rows x 5 columns]"
      ]
     },
     "execution_count": 32,
     "metadata": {},
     "output_type": "execute_result"
    }
   ],
   "source": [
    "iris_df = pd.read_csv(\"Fishers_Iris_data_set.csv\")\n",
    "iris_df"
   ]
  },
  {
   "cell_type": "markdown",
   "metadata": {},
   "source": [
    "pandas.Dataframe.shape returns a tuple representing the dimensionality of the dataframe [4].\n",
    "\n",
    "In this case there are 150 rows and 5 columns of data in the Iris data set."
   ]
  },
  {
   "cell_type": "code",
   "execution_count": 33,
   "metadata": {},
   "outputs": [
    {
     "data": {
      "text/plain": [
       "(150, 5)"
      ]
     },
     "execution_count": 33,
     "metadata": {},
     "output_type": "execute_result"
    }
   ],
   "source": [
    "iris_df.shape"
   ]
  },
  {
   "cell_type": "markdown",
   "metadata": {},
   "source": [
    "pandas.Dataframe.describe return some descriptive statistics about a dataframe [5].\n",
    "\n",
    "Output of pandas.dataframe.describe() explained:\n",
    "\n",
    "* count = total number of rows of data in the data set.\n",
    "* mean = the central tendency of the data.\n",
    "* std = standard deviation which is a measurement of the variance of each data point relative to the mean.\n",
    "* min = the smallest figure collected in each column of data.\n",
    "* 25% = the 25th percentile - meaning 25% of the total count of measurements collected fall below this measurement.\n",
    "* 50% = the 50th or median percentile meaning this is the central collected in each column, half of the data collected falls below this measurement and half is above this measurement.\n",
    "* 75% = the 75th percentile - meaning 75% of the total count of measurements collected fall below this measurement and 25% are above this measurement.\n",
    "* max = the largest measurement collected kin each column of data."
   ]
  },
  {
   "cell_type": "code",
   "execution_count": 34,
   "metadata": {},
   "outputs": [
    {
     "data": {
      "text/html": [
       "<div>\n",
       "<style scoped>\n",
       "    .dataframe tbody tr th:only-of-type {\n",
       "        vertical-align: middle;\n",
       "    }\n",
       "\n",
       "    .dataframe tbody tr th {\n",
       "        vertical-align: top;\n",
       "    }\n",
       "\n",
       "    .dataframe thead th {\n",
       "        text-align: right;\n",
       "    }\n",
       "</style>\n",
       "<table border=\"1\" class=\"dataframe\">\n",
       "  <thead>\n",
       "    <tr style=\"text-align: right;\">\n",
       "      <th></th>\n",
       "      <th>sepal_length</th>\n",
       "      <th>sepal_width</th>\n",
       "      <th>petal_length</th>\n",
       "      <th>petal_width</th>\n",
       "    </tr>\n",
       "  </thead>\n",
       "  <tbody>\n",
       "    <tr>\n",
       "      <th>count</th>\n",
       "      <td>150.000000</td>\n",
       "      <td>150.000000</td>\n",
       "      <td>150.000000</td>\n",
       "      <td>150.000000</td>\n",
       "    </tr>\n",
       "    <tr>\n",
       "      <th>mean</th>\n",
       "      <td>5.843333</td>\n",
       "      <td>3.054000</td>\n",
       "      <td>3.758667</td>\n",
       "      <td>1.198667</td>\n",
       "    </tr>\n",
       "    <tr>\n",
       "      <th>std</th>\n",
       "      <td>0.828066</td>\n",
       "      <td>0.433594</td>\n",
       "      <td>1.764420</td>\n",
       "      <td>0.763161</td>\n",
       "    </tr>\n",
       "    <tr>\n",
       "      <th>min</th>\n",
       "      <td>4.300000</td>\n",
       "      <td>2.000000</td>\n",
       "      <td>1.000000</td>\n",
       "      <td>0.100000</td>\n",
       "    </tr>\n",
       "    <tr>\n",
       "      <th>25%</th>\n",
       "      <td>5.100000</td>\n",
       "      <td>2.800000</td>\n",
       "      <td>1.600000</td>\n",
       "      <td>0.300000</td>\n",
       "    </tr>\n",
       "    <tr>\n",
       "      <th>50%</th>\n",
       "      <td>5.800000</td>\n",
       "      <td>3.000000</td>\n",
       "      <td>4.350000</td>\n",
       "      <td>1.300000</td>\n",
       "    </tr>\n",
       "    <tr>\n",
       "      <th>75%</th>\n",
       "      <td>6.400000</td>\n",
       "      <td>3.300000</td>\n",
       "      <td>5.100000</td>\n",
       "      <td>1.800000</td>\n",
       "    </tr>\n",
       "    <tr>\n",
       "      <th>max</th>\n",
       "      <td>7.900000</td>\n",
       "      <td>4.400000</td>\n",
       "      <td>6.900000</td>\n",
       "      <td>2.500000</td>\n",
       "    </tr>\n",
       "  </tbody>\n",
       "</table>\n",
       "</div>"
      ],
      "text/plain": [
       "       sepal_length  sepal_width  petal_length  petal_width\n",
       "count    150.000000   150.000000    150.000000   150.000000\n",
       "mean       5.843333     3.054000      3.758667     1.198667\n",
       "std        0.828066     0.433594      1.764420     0.763161\n",
       "min        4.300000     2.000000      1.000000     0.100000\n",
       "25%        5.100000     2.800000      1.600000     0.300000\n",
       "50%        5.800000     3.000000      4.350000     1.300000\n",
       "75%        6.400000     3.300000      5.100000     1.800000\n",
       "max        7.900000     4.400000      6.900000     2.500000"
      ]
     },
     "execution_count": 34,
     "metadata": {},
     "output_type": "execute_result"
    }
   ],
   "source": [
    "iris_df.describe()"
   ]
  },
  {
   "cell_type": "markdown",
   "metadata": {},
   "source": [
    "Now that I know a little about the data contained in the Iris data set I can move on to looking at scikit-learn and k-means."
   ]
  },
  {
   "cell_type": "markdown",
   "metadata": {},
   "source": [
    "#### Seaborn to visualise the Iris data set\n",
    "\n",
    "seaborn.pairplot is a plot that plots pairwise relationships in a data set [6].\n",
    "\n",
    "I have plotted the Iris data set below to have a better look at the distribution/clustering of data for each species for sepal lenght, sepal wdith, petal lenght and petal width.\n",
    "\n",
    "The hue parameter can be added to specify which data should be mapped with different colours. In the plot below I have set the hue to plot each of the three specied of Iris flower in a different colour."
   ]
  },
  {
   "cell_type": "code",
   "execution_count": 35,
   "metadata": {},
   "outputs": [
    {
     "data": {
      "text/plain": [
       "<seaborn.axisgrid.PairGrid at 0x17fb1a9d3d0>"
      ]
     },
     "execution_count": 35,
     "metadata": {},
     "output_type": "execute_result"
    },
    {
     "data": {
      "image/png": "[encoded data removed]",
      "text/plain": [
       "<Figure size 804.75x720 with 20 Axes>"
      ]
     },
     "metadata": {
      "needs_background": "light"
     },
     "output_type": "display_data"
    }
   ],
   "source": [
    "import seaborn as sns\n",
    "sns.pairplot(iris_df, hue = 'species')"
   ]
  },
  {
   "cell_type": "markdown",
   "metadata": {},
   "source": [
    "A seaborn boxplot can also be used to visualise the distribution of sepal and petal lengths and widths by each of the three species of iris flower."
   ]
  },
  {
   "cell_type": "code",
   "execution_count": 36,
   "metadata": {},
   "outputs": [
    {
     "data": {
      "text/plain": [
       "<matplotlib.axes._subplots.AxesSubplot at 0x17fb21730a0>"
      ]
     },
     "execution_count": 36,
     "metadata": {},
     "output_type": "execute_result"
    },
    {
     "data": {
      "image/png": "[encoded data removed]",
      "text/plain": [
       "<Figure size 1440x720 with 1 Axes>"
      ]
     },
     "metadata": {
      "needs_background": "light"
     },
     "output_type": "display_data"
    }
   ],
   "source": [
    "#sns.boxplot(x='species', y='sepal_width', data=iris_df)\n",
    "#sns.boxplot(x='species', y='sepal_length', data=iris_df)\n",
    "#sns.boxplot(x='species', y='petal_width', data=iris_df)\n",
    "sns.boxplot(x='species', y='petal_length', data=iris_df)"
   ]
  },
  {
   "cell_type": "markdown",
   "metadata": {},
   "source": [
    "### 4.3 Use scikit-learn to apply k-means clustering to the Iris data set\n",
    "\n"
   ]
  },
  {
   "cell_type": "markdown",
   "metadata": {},
   "source": [
    "In this section I should use scikit-learn to apply k-means clustering to Fisher’s famous Iris data set. I should explain in a markdown cell how my code works and how accurate it might be.\n",
    "\n",
    "#### What is clustering?\n",
    "\n",
    "I found a blog post that gives a good introduction to scikit-learn k-means clustering [8].\n",
    "\n",
    "Clustering is an unsupervised learning method that allows us to group set of objects based on similar characteristics. In general, it can help you find meaningful structure among your data, group similar data together and discover underlying patterns.\n",
    "One of the most common clustering methods is K-means algorithm. The goal of this algorithm is to partition the data into set such that the total sum of squared distances from each point to the mean point of the cluster is minimized [8].\n",
    "\n",
    "#### Supervised vs Unsupervised machine learning and clustering\n",
    "\n",
    "I found an explanation of the difference between supervised and unsupervised maching learning [10].\n",
    "\n",
    "Supervised Learning is the machine learning task of learning a function that maps an input to an output based on example input-output pairs. It infers a function from labeled training data consisting of a set of training examples.\n",
    "\n",
    "\n",
    "Unsupervised Learning is a type of machine learning that looks for previously undetected patterns in a data set with no pre-existing labels and with a minimum of human supervision.\n",
    "\n",
    "Cluster Analysis or Clustering is the task of grouping a set of objects in such a way that objects in the same group (called a cluster) are more similar (in some sense) to each other than to those in other groups (clusters).\n",
    "\n",
    "#### What is k-means clustering?\n",
    "\n",
    "k-means clustering involves partitioning n observations into k clusters. Each observation is assigned to the cluster with the nearest mean. With k-means clustering the number of clusters k is predefined and each data point can only belong to one group. \n",
    "\n",
    "From the scikit-learn documentation [12]:\n",
    "\n",
    "The k-means algorithm divides a set of **N** samples **X** into **K** disjoint clusters **C**, each described by the mean \n",
    " of the samples in the cluster. The means are commonly called the cluster “centroids”; note that they are not, in general, points from **X**, although they live in the same space.\n",
    "\n",
    "The most common and simplest clustering algorithm out there is the K-Means clustering. This algorithms involve you telling the algorithms how many possible cluster (or K) there are in the dataset. The algorithm then iteratively moves the k-centers and selects the datapoints that are closest to that centroid in the cluster [11].\n",
    "\n",
    "K means works through the following iterative process [8]:\n",
    "\n",
    "1. Pick a value for k (the number of clusters to create)\n",
    "2. Initialize k ‘centroids’ (starting points) in your data\n",
    "3. Create your clusters. Assign each point to the nearest centroid.\n",
    "4. Make your clusters better. Move each centroid to the center of its cluster.\n",
    "5. Repeat steps 3–4 until your centroids converge.\n",
    "\n",
    "K-means is often referred to as Lloyd’s algorithm. In basic terms, the algorithm has three steps. The first step chooses the initial centroids, with the most basic method being to choose  samples from the dataset . After initialization, K-means consists of looping between the two other steps. The first step assigns each sample to its nearest centroid. The second step creates new centroids by taking the mean value of all of the samples assigned to each previous centroid. The difference between the old and the new centroids are computed and the algorithm repeats these last two steps until this value is less than a threshold. In other words, it repeats until the centroids do not move significantly [12]."
   ]
  },
  {
   "cell_type": "markdown",
   "metadata": {},
   "source": [
    "#### Apply k-means clustering to the Iris data set\n",
    "\n",
    "In order to apply k-means clustering to the data set I will need to decide on the number of cluters k.\n",
    "\n",
    "#### Finding the optimal number of clusters / elbow method\n",
    "\n",
    "The k-means clustering algorithm takes a paramter n_clusters which is the number of clusters to form. From my research on the topic I have found out that the elbow method is used to find the optimal number of clusters. \n",
    "\n",
    "One obvious question that may come to mind is the methodology for picking the K value. This is done using an elbow curve, where the x-axis is the K-value and the y axis is some objective function. A common objective function is the average distance between the datapoints and the nearest centroid. The best number for K is the “elbow” or kinked region. After this point, it is generally established that adding more clusters will not add significant value to your analysis [11].\n",
    "\n",
    "From the scikit-learn documentation [7]:\n",
    "\n",
    "**n_clustersint, default=8**\n",
    "\n",
    "The number of clusters to form as well as the number of centroids to generate.\n",
    "\n",
    "In the case of the Iris data set the optimum number of clusters should be 3 as there are 3 species of Iris  flower in the data set. The pairplot above shows the clustering of data by the 3 species for sepal and petal lenght and width. "
   ]
  },
  {
   "cell_type": "markdown",
   "metadata": {},
   "source": [
    "#### Import sklearn.cluster"
   ]
  },
  {
   "cell_type": "code",
   "execution_count": 37,
   "metadata": {},
   "outputs": [],
   "source": [
    "# Machine learning scikit learn clustering \n",
    "import sklearn.cluster as skcl"
   ]
  },
  {
   "cell_type": "markdown",
   "metadata": {},
   "source": [
    "#### Select the columns of data to be considered\n",
    "\n",
    "* sepal length\n",
    "* sepal width\n",
    "* petal length\n",
    "* sepal width\n",
    "\n",
    "Species is the categorical variable that I want k-means to predict for each data point which species they belong to. I will only take into account the measurements for this purpose."
   ]
  },
  {
   "cell_type": "code",
   "execution_count": 38,
   "metadata": {},
   "outputs": [
    {
     "data": {
      "text/plain": [
       "array([[5.1, 3.5, 1.4, 0.2],\n",
       "       [4.9, 3. , 1.4, 0.2],\n",
       "       [4.7, 3.2, 1.3, 0.2],\n",
       "       [4.6, 3.1, 1.5, 0.2],\n",
       "       [5. , 3.6, 1.4, 0.2],\n",
       "       [5.4, 3.9, 1.7, 0.4],\n",
       "       [4.6, 3.4, 1.4, 0.3],\n",
       "       [5. , 3.4, 1.5, 0.2],\n",
       "       [4.4, 2.9, 1.4, 0.2],\n",
       "       [4.9, 3.1, 1.5, 0.1],\n",
       "       [5.4, 3.7, 1.5, 0.2],\n",
       "       [4.8, 3.4, 1.6, 0.2],\n",
       "       [4.8, 3. , 1.4, 0.1],\n",
       "       [4.3, 3. , 1.1, 0.1],\n",
       "       [5.8, 4. , 1.2, 0.2],\n",
       "       [5.7, 4.4, 1.5, 0.4],\n",
       "       [5.4, 3.9, 1.3, 0.4],\n",
       "       [5.1, 3.5, 1.4, 0.3],\n",
       "       [5.7, 3.8, 1.7, 0.3],\n",
       "       [5.1, 3.8, 1.5, 0.3],\n",
       "       [5.4, 3.4, 1.7, 0.2],\n",
       "       [5.1, 3.7, 1.5, 0.4],\n",
       "       [4.6, 3.6, 1. , 0.2],\n",
       "       [5.1, 3.3, 1.7, 0.5],\n",
       "       [4.8, 3.4, 1.9, 0.2],\n",
       "       [5. , 3. , 1.6, 0.2],\n",
       "       [5. , 3.4, 1.6, 0.4],\n",
       "       [5.2, 3.5, 1.5, 0.2],\n",
       "       [5.2, 3.4, 1.4, 0.2],\n",
       "       [4.7, 3.2, 1.6, 0.2],\n",
       "       [4.8, 3.1, 1.6, 0.2],\n",
       "       [5.4, 3.4, 1.5, 0.4],\n",
       "       [5.2, 4.1, 1.5, 0.1],\n",
       "       [5.5, 4.2, 1.4, 0.2],\n",
       "       [4.9, 3.1, 1.5, 0.1],\n",
       "       [5. , 3.2, 1.2, 0.2],\n",
       "       [5.5, 3.5, 1.3, 0.2],\n",
       "       [4.9, 3.1, 1.5, 0.1],\n",
       "       [4.4, 3. , 1.3, 0.2],\n",
       "       [5.1, 3.4, 1.5, 0.2],\n",
       "       [5. , 3.5, 1.3, 0.3],\n",
       "       [4.5, 2.3, 1.3, 0.3],\n",
       "       [4.4, 3.2, 1.3, 0.2],\n",
       "       [5. , 3.5, 1.6, 0.6],\n",
       "       [5.1, 3.8, 1.9, 0.4],\n",
       "       [4.8, 3. , 1.4, 0.3],\n",
       "       [5.1, 3.8, 1.6, 0.2],\n",
       "       [4.6, 3.2, 1.4, 0.2],\n",
       "       [5.3, 3.7, 1.5, 0.2],\n",
       "       [5. , 3.3, 1.4, 0.2],\n",
       "       [7. , 3.2, 4.7, 1.4],\n",
       "       [6.4, 3.2, 4.5, 1.5],\n",
       "       [6.9, 3.1, 4.9, 1.5],\n",
       "       [5.5, 2.3, 4. , 1.3],\n",
       "       [6.5, 2.8, 4.6, 1.5],\n",
       "       [5.7, 2.8, 4.5, 1.3],\n",
       "       [6.3, 3.3, 4.7, 1.6],\n",
       "       [4.9, 2.4, 3.3, 1. ],\n",
       "       [6.6, 2.9, 4.6, 1.3],\n",
       "       [5.2, 2.7, 3.9, 1.4],\n",
       "       [5. , 2. , 3.5, 1. ],\n",
       "       [5.9, 3. , 4.2, 1.5],\n",
       "       [6. , 2.2, 4. , 1. ],\n",
       "       [6.1, 2.9, 4.7, 1.4],\n",
       "       [5.6, 2.9, 3.6, 1.3],\n",
       "       [6.7, 3.1, 4.4, 1.4],\n",
       "       [5.6, 3. , 4.5, 1.5],\n",
       "       [5.8, 2.7, 4.1, 1. ],\n",
       "       [6.2, 2.2, 4.5, 1.5],\n",
       "       [5.6, 2.5, 3.9, 1.1],\n",
       "       [5.9, 3.2, 4.8, 1.8],\n",
       "       [6.1, 2.8, 4. , 1.3],\n",
       "       [6.3, 2.5, 4.9, 1.5],\n",
       "       [6.1, 2.8, 4.7, 1.2],\n",
       "       [6.4, 2.9, 4.3, 1.3],\n",
       "       [6.6, 3. , 4.4, 1.4],\n",
       "       [6.8, 2.8, 4.8, 1.4],\n",
       "       [6.7, 3. , 5. , 1.7],\n",
       "       [6. , 2.9, 4.5, 1.5],\n",
       "       [5.7, 2.6, 3.5, 1. ],\n",
       "       [5.5, 2.4, 3.8, 1.1],\n",
       "       [5.5, 2.4, 3.7, 1. ],\n",
       "       [5.8, 2.7, 3.9, 1.2],\n",
       "       [6. , 2.7, 5.1, 1.6],\n",
       "       [5.4, 3. , 4.5, 1.5],\n",
       "       [6. , 3.4, 4.5, 1.6],\n",
       "       [6.7, 3.1, 4.7, 1.5],\n",
       "       [6.3, 2.3, 4.4, 1.3],\n",
       "       [5.6, 3. , 4.1, 1.3],\n",
       "       [5.5, 2.5, 4. , 1.3],\n",
       "       [5.5, 2.6, 4.4, 1.2],\n",
       "       [6.1, 3. , 4.6, 1.4],\n",
       "       [5.8, 2.6, 4. , 1.2],\n",
       "       [5. , 2.3, 3.3, 1. ],\n",
       "       [5.6, 2.7, 4.2, 1.3],\n",
       "       [5.7, 3. , 4.2, 1.2],\n",
       "       [5.7, 2.9, 4.2, 1.3],\n",
       "       [6.2, 2.9, 4.3, 1.3],\n",
       "       [5.1, 2.5, 3. , 1.1],\n",
       "       [5.7, 2.8, 4.1, 1.3],\n",
       "       [6.3, 3.3, 6. , 2.5],\n",
       "       [5.8, 2.7, 5.1, 1.9],\n",
       "       [7.1, 3. , 5.9, 2.1],\n",
       "       [6.3, 2.9, 5.6, 1.8],\n",
       "       [6.5, 3. , 5.8, 2.2],\n",
       "       [7.6, 3. , 6.6, 2.1],\n",
       "       [4.9, 2.5, 4.5, 1.7],\n",
       "       [7.3, 2.9, 6.3, 1.8],\n",
       "       [6.7, 2.5, 5.8, 1.8],\n",
       "       [7.2, 3.6, 6.1, 2.5],\n",
       "       [6.5, 3.2, 5.1, 2. ],\n",
       "       [6.4, 2.7, 5.3, 1.9],\n",
       "       [6.8, 3. , 5.5, 2.1],\n",
       "       [5.7, 2.5, 5. , 2. ],\n",
       "       [5.8, 2.8, 5.1, 2.4],\n",
       "       [6.4, 3.2, 5.3, 2.3],\n",
       "       [6.5, 3. , 5.5, 1.8],\n",
       "       [7.7, 3.8, 6.7, 2.2],\n",
       "       [7.7, 2.6, 6.9, 2.3],\n",
       "       [6. , 2.2, 5. , 1.5],\n",
       "       [6.9, 3.2, 5.7, 2.3],\n",
       "       [5.6, 2.8, 4.9, 2. ],\n",
       "       [7.7, 2.8, 6.7, 2. ],\n",
       "       [6.3, 2.7, 4.9, 1.8],\n",
       "       [6.7, 3.3, 5.7, 2.1],\n",
       "       [7.2, 3.2, 6. , 1.8],\n",
       "       [6.2, 2.8, 4.8, 1.8],\n",
       "       [6.1, 3. , 4.9, 1.8],\n",
       "       [6.4, 2.8, 5.6, 2.1],\n",
       "       [7.2, 3. , 5.8, 1.6],\n",
       "       [7.4, 2.8, 6.1, 1.9],\n",
       "       [7.9, 3.8, 6.4, 2. ],\n",
       "       [6.4, 2.8, 5.6, 2.2],\n",
       "       [6.3, 2.8, 5.1, 1.5],\n",
       "       [6.1, 2.6, 5.6, 1.4],\n",
       "       [7.7, 3. , 6.1, 2.3],\n",
       "       [6.3, 3.4, 5.6, 2.4],\n",
       "       [6.4, 3.1, 5.5, 1.8],\n",
       "       [6. , 3. , 4.8, 1.8],\n",
       "       [6.9, 3.1, 5.4, 2.1],\n",
       "       [6.7, 3.1, 5.6, 2.4],\n",
       "       [6.9, 3.1, 5.1, 2.3],\n",
       "       [5.8, 2.7, 5.1, 1.9],\n",
       "       [6.8, 3.2, 5.9, 2.3],\n",
       "       [6.7, 3.3, 5.7, 2.5],\n",
       "       [6.7, 3. , 5.2, 2.3],\n",
       "       [6.3, 2.5, 5. , 1.9],\n",
       "       [6.5, 3. , 5.2, 2. ],\n",
       "       [6.2, 3.4, 5.4, 2.3],\n",
       "       [5.9, 3. , 5.1, 1.8]])"
      ]
     },
     "execution_count": 38,
     "metadata": {},
     "output_type": "execute_result"
    }
   ],
   "source": [
    "# Adapted from [14]\n",
    "# select columns from the dataframe and convert to numpy array, sourced from [14]\n",
    "x = iris_df.iloc[:, [0,1,2,3]].values\n",
    "# display the numpy array\n",
    "x"
   ]
  },
  {
   "cell_type": "markdown",
   "metadata": {},
   "source": [
    "#### Elbow method example\n",
    "\n",
    "I sourced this code from [14].\n",
    "\n",
    "The resulting plot shows 3 is the optimal number of clusters, which I already knew but it is good to see the elbow method in action."
   ]
  },
  {
   "cell_type": "code",
   "execution_count": 39,
   "metadata": {},
   "outputs": [
    {
     "data": {
      "image/png": "[encoded data removed]",
      "text/plain": [
       "<Figure size 1440x720 with 1 Axes>"
      ]
     },
     "metadata": {
      "needs_background": "light"
     },
     "output_type": "display_data"
    }
   ],
   "source": [
    "# code sourced from [14]\n",
    "Error =[]\n",
    "# ten iterations\n",
    "for i in range(1, 11):\n",
    "    # fit the kmeans algorithm to the data set\n",
    "    kmeans = skcl.KMeans(n_clusters = i).fit(x)\n",
    "    kmeans.fit(x)\n",
    "    Error.append(kmeans.inertia_)\n",
    "# plot the result\n",
    "import matplotlib.pyplot as plt\n",
    "plt.plot(range(1, 11), Error)\n",
    "plt.title('Elbow method')\n",
    "plt.xlabel('No of clusters')\n",
    "plt.ylabel('Error')\n",
    "plt.show()"
   ]
  },
  {
   "cell_type": "markdown",
   "metadata": {},
   "source": [
    "#### Perform kmeans fitting on the data set\n",
    "\n",
    "Perform k-means clustering on the iris data set where the number of clusters is predefined by me as 3."
   ]
  },
  {
   "cell_type": "code",
   "execution_count": 40,
   "metadata": {},
   "outputs": [
    {
     "data": {
      "text/plain": [
       "KMeans(n_clusters=3, random_state=0)"
      ]
     },
     "execution_count": 40,
     "metadata": {},
     "output_type": "execute_result"
    }
   ],
   "source": [
    "# Adapted from example in [8]\n",
    "# Set the number of clusters k to be 3 \n",
    "model = skcl.KMeans(n_clusters=3, random_state=0)\n",
    "# fit_predict k-menas clustering to the data set\n",
    "model.fit(x)"
   ]
  },
  {
   "cell_type": "markdown",
   "metadata": {},
   "source": [
    "k-means clustering has now been performed on the iris data set. Now I should look at how predictions are made based on this model that has been fitted."
   ]
  },
  {
   "cell_type": "markdown",
   "metadata": {},
   "source": [
    "### 4.3 How can the model be used to make predictions of species of iris\n",
    "\n",
    "In this section I should explain how the model could be used to make predictions for the species of iris.\n",
    "\n",
    "Having now trained the k-means algorithm on the iris flower data set, the algorithm should be able to predict the species of iris flower for new flowers measured. At this stage, I have completed a lot of resaerch on this task and I have seen train test splits being used in predictions. \n",
    "\n",
    "However according to [16]:\n",
    "\n",
    "Before moving on, I wanted to point out one difference that you may have noticed between the process for building this K means clustering algorithm (which is an unsupervised machine learning algorithm) and the supervised machine learning algorithms we’ve worked with so far in this course.\n",
    "\n",
    "Namely, we did not have to split the data set into training data and test data. This is an important difference - and in fact, you never need to make the train/test split on a data set when building unsupervised machine learning models!\n",
    "\n",
    "Machine learning practitioners generally use K means clustering algorithms to make two types of predictions:\n",
    "\n",
    "* Which cluster each data point belongs to\n",
    "* Where the center of each cluster is\n",
    "\n",
    "I will take a look at the results below:"
   ]
  },
  {
   "cell_type": "markdown",
   "metadata": {},
   "source": [
    "#### Labels\n",
    "\n",
    "The predicted cluster assignment for each point in the data set. They are returned as 0, 1, 2 in this case. There are 2 ways to show the predicted labels.\n",
    "\n",
    "How do I know which species is which?"
   ]
  },
  {
   "cell_type": "code",
   "execution_count": 41,
   "metadata": {},
   "outputs": [
    {
     "data": {
      "text/plain": [
       "array([1, 1, 1, 1, 1, 1, 1, 1, 1, 1, 1, 1, 1, 1, 1, 1, 1, 1, 1, 1, 1, 1,\n",
       "       1, 1, 1, 1, 1, 1, 1, 1, 1, 1, 1, 1, 1, 1, 1, 1, 1, 1, 1, 1, 1, 1,\n",
       "       1, 1, 1, 1, 1, 1, 2, 2, 0, 2, 2, 2, 2, 2, 2, 2, 2, 2, 2, 2, 2, 2,\n",
       "       2, 2, 2, 2, 2, 2, 2, 2, 2, 2, 2, 0, 2, 2, 2, 2, 2, 2, 2, 2, 2, 2,\n",
       "       2, 2, 2, 2, 2, 2, 2, 2, 2, 2, 2, 2, 0, 2, 0, 0, 0, 0, 2, 0, 0, 0,\n",
       "       0, 0, 0, 2, 2, 0, 0, 0, 0, 2, 0, 2, 0, 2, 0, 0, 2, 2, 0, 0, 0, 0,\n",
       "       0, 2, 0, 0, 0, 0, 2, 0, 0, 0, 2, 0, 0, 0, 2, 0, 0, 2])"
      ]
     },
     "execution_count": 41,
     "metadata": {},
     "output_type": "execute_result"
    }
   ],
   "source": [
    "model.predict(x)"
   ]
  },
  {
   "cell_type": "code",
   "execution_count": 42,
   "metadata": {},
   "outputs": [
    {
     "data": {
      "text/plain": [
       "array([1, 1, 1, 1, 1, 1, 1, 1, 1, 1, 1, 1, 1, 1, 1, 1, 1, 1, 1, 1, 1, 1,\n",
       "       1, 1, 1, 1, 1, 1, 1, 1, 1, 1, 1, 1, 1, 1, 1, 1, 1, 1, 1, 1, 1, 1,\n",
       "       1, 1, 1, 1, 1, 1, 2, 2, 0, 2, 2, 2, 2, 2, 2, 2, 2, 2, 2, 2, 2, 2,\n",
       "       2, 2, 2, 2, 2, 2, 2, 2, 2, 2, 2, 0, 2, 2, 2, 2, 2, 2, 2, 2, 2, 2,\n",
       "       2, 2, 2, 2, 2, 2, 2, 2, 2, 2, 2, 2, 0, 2, 0, 0, 0, 0, 2, 0, 0, 0,\n",
       "       0, 0, 0, 2, 2, 0, 0, 0, 0, 2, 0, 2, 0, 2, 0, 0, 2, 2, 0, 0, 0, 0,\n",
       "       0, 2, 0, 0, 0, 0, 2, 0, 0, 0, 2, 0, 0, 0, 2, 0, 0, 2])"
      ]
     },
     "execution_count": 42,
     "metadata": {},
     "output_type": "execute_result"
    }
   ],
   "source": [
    "# show the predicted labels (cluster assignment)\n",
    "model.labels_"
   ]
  },
  {
   "cell_type": "markdown",
   "metadata": {},
   "source": [
    "#### Cluster centers (centroids)\n",
    "\n",
    "Based on setting the number of clusters k to 3 k-means has predicted the below cluster centers for the attributes:\n",
    "\n",
    "1. sepal lenght\n",
    "2. sepal width\n",
    "3. petal lenght\n",
    "4. petal width"
   ]
  },
  {
   "cell_type": "code",
   "execution_count": 43,
   "metadata": {},
   "outputs": [
    {
     "data": {
      "text/plain": [
       "array([[6.85      , 3.07368421, 5.74210526, 2.07105263],\n",
       "       [5.006     , 3.418     , 1.464     , 0.244     ],\n",
       "       [5.9016129 , 2.7483871 , 4.39354839, 1.43387097]])"
      ]
     },
     "execution_count": 43,
     "metadata": {},
     "output_type": "execute_result"
    }
   ],
   "source": [
    "centers = model.cluster_centers_\n",
    "centers"
   ]
  },
  {
   "cell_type": "markdown",
   "metadata": {},
   "source": [
    "#### Plot the data points and clusters assigned by k-means\n",
    "\n",
    "Scatter plot showing the data points from the data set and which cluster they are assigned to by kmeans prediction. Centroids are also shown on the plot."
   ]
  },
  {
   "cell_type": "markdown",
   "metadata": {},
   "source": [
    "#### sepal length and sepal width\n",
    "\n",
    "The first 2 columns of data."
   ]
  },
  {
   "cell_type": "code",
   "execution_count": 44,
   "metadata": {},
   "outputs": [
    {
     "data": {
      "image/png": "[encoded data removed]",
      "text/plain": [
       "<Figure size 1440x720 with 1 Axes>"
      ]
     },
     "metadata": {
      "needs_background": "light"
     },
     "output_type": "display_data"
    }
   ],
   "source": [
    "# Adapted from [14]\n",
    "# matplotlib.pyplot scatterplot has a parameter cmap - color map\n",
    "# c parameter sets the color differentiation to be the y values in this case\n",
    "plt.scatter(x[:, 0], x[:,1], c=model.labels_, cmap='rainbow')\n",
    "# plot the cluster centers, adapted from [15]\n",
    "plt.scatter(centers[:, 0], centers[:, 1], c='black', s=200, alpha=0.5);\n",
    "plt.title(\"Sepal length & width k-means predicted clustering and centroids\", fontsize=20)\n",
    "plt.xlabel(\"Sepal Lenght\", fontsize=16)\n",
    "plt.ylabel(\"Sepal width\", fontsize=16)\n",
    "# add grid\n",
    "plt.grid()"
   ]
  },
  {
   "cell_type": "markdown",
   "metadata": {},
   "source": [
    "#### petal length and petal width\n",
    "\n",
    "The 3rd and 4th columns of data."
   ]
  },
  {
   "cell_type": "code",
   "execution_count": 45,
   "metadata": {},
   "outputs": [
    {
     "data": {
      "image/png": "[encoded data removed]",
      "text/plain": [
       "<Figure size 1440x720 with 1 Axes>"
      ]
     },
     "metadata": {
      "needs_background": "light"
     },
     "output_type": "display_data"
    }
   ],
   "source": [
    "# scatter plot of the data points\n",
    "plt.scatter(x[:, 2], x[:,3], c=model.labels_, cmap='rainbow')\n",
    "# plot the cluster centers, adapted from [15]\n",
    "plt.scatter(centers[:, 2], centers[:, 3], c='black', s=200, alpha=0.5);\n",
    "plt.title(\"Petal length & width k-means predicted clustering and centroids\", fontsize=20)\n",
    "plt.xlabel(\"Petal Lenght\", fontsize=16)\n",
    "plt.ylabel(\"Petal width\", fontsize=16)\n",
    "# grid\n",
    "plt.grid()"
   ]
  },
  {
   "cell_type": "markdown",
   "metadata": {},
   "source": [
    "I have performed k-means clustering on the iris data set above. The predicted labels for each data point and predicted cluster centers have been returned based on the full data set. \n",
    "\n",
    "What about working with just petal length and petal width?"
   ]
  },
  {
   "cell_type": "code",
   "execution_count": 46,
   "metadata": {},
   "outputs": [],
   "source": [
    "# new variable introduced and set to be petal lenght and petal width from the dataframe\n",
    "x1 = iris_df.iloc[:, [2,3]].values\n",
    "# fit k-means\n",
    "kmeans = skcl.KMeans(n_clusters=3, random_state=0)\n",
    "# fit_predict is a convenience method whereby both fit and predict can be performed together\n",
    "y1 = kmeans.fit_predict(x1)"
   ]
  },
  {
   "cell_type": "code",
   "execution_count": 47,
   "metadata": {},
   "outputs": [
    {
     "data": {
      "text/plain": [
       "array([[1.464     , 0.244     ],\n",
       "       [5.59583333, 2.0375    ],\n",
       "       [4.26923077, 1.34230769]])"
      ]
     },
     "execution_count": 47,
     "metadata": {},
     "output_type": "execute_result"
    }
   ],
   "source": [
    "# return clustr centers\n",
    "kmeans.cluster_centers_"
   ]
  },
  {
   "cell_type": "code",
   "execution_count": 48,
   "metadata": {},
   "outputs": [
    {
     "data": {
      "text/plain": [
       "array([0, 0, 0, 0, 0, 0, 0, 0, 0, 0, 0, 0, 0, 0, 0, 0, 0, 0, 0, 0, 0, 0,\n",
       "       0, 0, 0, 0, 0, 0, 0, 0, 0, 0, 0, 0, 0, 0, 0, 0, 0, 0, 0, 0, 0, 0,\n",
       "       0, 0, 0, 0, 0, 0, 2, 2, 2, 2, 2, 2, 2, 2, 2, 2, 2, 2, 2, 2, 2, 2,\n",
       "       2, 2, 2, 2, 2, 2, 2, 2, 2, 2, 2, 1, 2, 2, 2, 2, 2, 1, 2, 2, 2, 2,\n",
       "       2, 2, 2, 2, 2, 2, 2, 2, 2, 2, 2, 2, 1, 1, 1, 1, 1, 1, 2, 1, 1, 1,\n",
       "       1, 1, 1, 1, 1, 1, 1, 1, 1, 2, 1, 1, 1, 1, 1, 1, 2, 1, 1, 1, 1, 1,\n",
       "       1, 1, 1, 1, 1, 1, 2, 1, 1, 1, 1, 1, 1, 1, 1, 1, 1, 1])"
      ]
     },
     "execution_count": 48,
     "metadata": {},
     "output_type": "execute_result"
    }
   ],
   "source": [
    "# predicted labels \n",
    "y1"
   ]
  },
  {
   "cell_type": "code",
   "execution_count": 49,
   "metadata": {},
   "outputs": [
    {
     "data": {
      "image/png": "[encoded data removed]",
      "text/plain": [
       "<Figure size 1440x720 with 1 Axes>"
      ]
     },
     "metadata": {
      "needs_background": "light"
     },
     "output_type": "display_data"
    }
   ],
   "source": [
    "plt.scatter(x1[:, 0], x1[:,1], c=y1, cmap='rainbow')\n",
    "plt.scatter(centers[:, 2], centers[:, 3], c='black', s=200, alpha=0.5);\n",
    "plt.grid()"
   ]
  },
  {
   "cell_type": "markdown",
   "metadata": {},
   "source": [
    "### How accurate is the prediction?\n",
    "\n"
   ]
  },
  {
   "cell_type": "markdown",
   "metadata": {},
   "source": [
    "### Task 4 Conclusion & Learnings \n",
    "\n",
    "* One of the drawbacks of k-means is that you must tell it the number of clusters to expect. The k-means algorithm will identify the best clusters to match the number of clusters k we tell it to. \n",
    "* My research suggests that k-means is not effective when there arent convex or truly separate. In this case k-means can get confused between clusters. \n",
    "* k-means does not deal well with missing data and the user would have to exclude missing values when doing k-means clustering."
   ]
  },
  {
   "cell_type": "markdown",
   "metadata": {},
   "source": [
    "### Task 4 References \n",
    "\n",
    "[1] Academia; Report on Edgar Anderson's iris data set; https://www.academia.edu/13069408/Report_on_Edgar_Anderson_s_Iris_Data_Analysis\n",
    "\n",
    "[2] UCI Machine Learning Repository; Iris data set; http://archive.ics.uci.edu/ml/datasets/iris\n",
    "\n",
    "[3] pandas, pandas.read_csv; https://pandas.pydata.org/pandas-docs/stable/reference/api/pandas.read_csv.html\n",
    "\n",
    "[4] pandas; pandas.Dataframe.shape; https://pandas.pydata.org/pandas-docs/stable/reference/api/pandas.DataFrame.shape.html\n",
    "\n",
    "[5] pandas; pandas.Dataframe.describe; https://pandas.pydata.org/pandas-docs/stable/reference/api/pandas.DataFrame.describe.html\n",
    "\n",
    "[6] seaborn; seaborn pairplot; https://seaborn.pydata.org/generated/seaborn.pairplot.html\n",
    "\n",
    "[7] scikit learn; sklearn.cluster.KMeans; https://scikit-learn.org/stable/modules/generated/sklearn.cluster.KMeans.html\n",
    "\n",
    "[8] Medium; PREDICTING IRIS FLOWER SPECIES WITH K-MEANS CLUSTERING IN PYTHON;  https://medium.com/@belen.sanchez27/predicting-iris-flower-species-with-k-means-clustering-in-python-f6e46806aaee\n",
    "\n",
    "[9] Youtube Dragonfly Statistics; Scikit Learn - KMeans Clustering Analysis with the Iris Data Set;  https://www.youtube.com/watch?v=asW8tp1qiFQ\n",
    "\n",
    "[10] Medium; Cluster Analysis With Iris Data Set;  https://medium.com/swlh/cluster-analysis-with-iris-data-set-a7c4dd5f5d0\n",
    "\n",
    "[11] Towardsdatascience; Clustering based unsupervised learning; https://towardsdatascience.com/clustering-based-unsupervised-learning-8d705298ae51\n",
    "\n",
    "[12] scikit learn; 2.3 Clustering; https://scikit-learn.org/stable/modules/clustering.html#clustering\n",
    "\n",
    "[13] Towardsdatascience; K Means clustering with python code explained; https://towardsdatascience.com/k-means-clustering-with-python-code-explained-5a792bd19548\n",
    "\n",
    "[14] Heartbeat; K-means clustering using sklearn and Python; https://heartbeat.fritz.ai/k-means-clustering-using-sklearn-and-python-4a054d67b187\n",
    "\n",
    "[15] Python Data Science Handbook; In Depth: k-Means Clustering; https://jakevdp.github.io/PythonDataScienceHandbook/05.11-k-means.html"
   ]
  },
  {
   "cell_type": "markdown",
   "metadata": {},
   "source": [
    "### End \n",
    "********"
   ]
  }
 ],
 "metadata": {
  "kernelspec": {
   "display_name": "Python 3",
   "language": "python",
   "name": "python3"
  },
  "language_info": {
   "codemirror_mode": {
    "name": "ipython",
    "version": 3
   },
   "file_extension": ".py",
   "mimetype": "text/x-python",
   "name": "python",
   "nbconvert_exporter": "python",
   "pygments_lexer": "ipython3",
   "version": "3.8.3"
  }
 },
 "nbformat": 4,
 "nbformat_minor": 4
}
