{
 "cells": [
  {
   "cell_type": "markdown",
   "metadata": {},
   "source": [
    "# Tasks\n",
    "\n",
    "**These are my solutions to the Tasks assessment in the Machine Learning and Statistics module at GMIT 2020.\n",
    "The author is John Dunne G00273895 (G00273895@gmit.ie).**\n",
    "\n",
    "***"
   ]
  },
  {
   "cell_type": "markdown",
   "metadata": {},
   "source": [
    "## Task 1 - Calculate the square root of 2 \n",
    "\n",
    "1. October 5th, 2020: Write a Python function called sqrt2 that calculates and\n",
    "prints to the screen the square root of 2 to 100 decimal places.Your code should\n",
    "not depend on any module from the standard library or otherwise. You should\n",
    "research the task first and include references and a description of your algorithm.\n",
    "\n",
    "******"
   ]
  },
  {
   "cell_type": "markdown",
   "metadata": {},
   "source": [
    "### My plan to complete this task\n",
    "\n",
    "I will break the task into smaller tasks:\n",
    "\n",
    "1. Research how the square root is calculated without the use of any imported modules.\n",
    "2. Implement a function that calculates the square root of 2 in this jupyter notebook.\n",
    "3. Carry out testing to check the implemented function returns the correct result.\n",
    "4. Have the result outputted in the format requested - 100 decimal places.\n",
    "5. Compile a list of references used to complete the task.\n",
    "\n",
    "**In order to do this I have broken task 1 into 5 sections**\n",
    "\n",
    "* 1.1 - My Research. \n",
    "* 1.2 - Write a function that calculates the square root of 2.\n",
    "* 1.3 - Test the function.\n",
    "* 1.4 - Output to the requested format - 100 decimal places. \n",
    "* 1.5 - List the references."
   ]
  },
  {
   "cell_type": "markdown",
   "metadata": {},
   "source": [
    "### 1.1 My Research\n",
    "\n",
    "*In this section I will outline the research I conducted into how to calculate the square root of 2 without using any modules from the Python standard library*"
   ]
  },
  {
   "cell_type": "markdown",
   "metadata": {},
   "source": [
    "Every number has two square roots, a negative and non-negative square root. The principal (non-negative) square root of most numbers is an irrational number. As a result of this, the decimal expansion of a square root can only be calculated to a precision [1]. In this task, I have been asked to calculate the square root of 2 to 100 decimal places so I think this point is noteworthy.\n",
    "\n",
    "In the lecture video on the square root of 2 [2], this was discussed where I learnt that the square root of 2 is an irrational number, meaning it cannot be expressed as an integer divided by another integer. Rational numbers are numbers than can be stored as one integer over another integer.\n",
    "\n",
    "An iterative approach to finding the square root of a number involves finding a suitable starting value followed by refinement until a termination criteria is met [1]. In plainer terms, to find the square root of a number 2, I would need to start with a suitable starting value and refine until we come to the closest approximation for the square root. The closer the starting value is to the square root, the less iterations will be required to come to the result. This starting value also known as the seed value should be a positive number between 1 and the value that we are trying to calculate the square root of. In my case, this would be a value between 1 and 2 as I am tasked with finding the square root of 2. The reason we have to start with a value in this range is that the square root of any number must fall into this range between 1 and that number.\n",
    "\n",
    "\n",
    "\n",
    "After some research I have found out that Newton's method is a suitable method that is commonly used to calculate the square root of a number."
   ]
  },
  {
   "cell_type": "markdown",
   "metadata": {},
   "source": [
    "#### Newtown-Raphson method to calculate square root"
   ]
  },
  {
   "cell_type": "markdown",
   "metadata": {},
   "source": [
    "The Newton-Raphson method or Newton's method is a root finding algorithm that uses an iterative approach to finding the square root of a number, producing better approximations for the square root at each iteration [3].\n",
    "\n",
    "A set of steps is is repeated over until we are satisified with the result or the method fails [6].\n",
    "\n",
    "Newton's method is a root finding method that uses linear approximation [4]. The algortihms starts with a guess and computes a sequence of improved guesses [7]. The algorithm is quite old dating back to Babylonian times. \n",
    "\n",
    "**Starting guess/ Seed**\n",
    "\n",
    "As I mentioned in the previous section, most iterative approaches to calculating the square root of a number require a starting value or seed and this is requred when using Newton's method.\n",
    "\n",
    "I found a  blog post [3] that outlines the steps involved when Newton's method is employed to calculate square root:\n",
    "\n",
    "* A starting value is assigned, which is a reasonable guess for the square root of the number.\n",
    "* This reasonable guess is added to the number we are looking to find the square root of, divided by the reasonable guess and divided by 2.\n",
    "\n",
    "This is displayed as a function on the blog post below where Xi is the reasonable guess:\n",
    "\n",
    "$$ x_i = (x_i + n/x_i) /2 $$\n",
    "\n",
    "I have included a real example here where we are trying to calculate the square root of 2 and 1 is the reasonable guess or starting value:\n",
    "\n",
    "$$ 1 = (1 + 2/1) /2 $$\n",
    "\n",
    "* Step 2 is continued until the most precise approximation of the square root is reached.\n",
    "* We are left with the closest approximation for the square root.\n",
    "\n",
    "With Newton's method a starting value slightly larger than the root will converge faster than a starting value slightly smaller than the root [1].\n",
    "\n",
    "**Example convergence**\n",
    "\n",
    "I found a paper that explains nicely the way Newton's method computes the square root of 2 [7]. In this case the starting guess is 1. The number of accurate digits at each iteration is highlighted in bold below:\n",
    "\n",
    "* **1**\n",
    "* **1**.5\n",
    "* **1.41**66666666666666666666666666666666666666666666666666666666675\n",
    "* **1.41421**56862745098039215686274509803921568627450980392156862745\n",
    "* **1.41421356237**46899106262955788901349101165596221157440445849057\n",
    "* **1.41421356237309504880168**96235025302436149819257761974284982890\n",
    "* **1.41421356237309504880168872420969807856967187537**72340015610125\n",
    "* **1.4142135623730950488016887242096980785696718753769480731766796**\n",
    "\n",
    "The number of accurate digits approximately doubles on each iteration [7]. \n"
   ]
  },
  {
   "cell_type": "markdown",
   "metadata": {},
   "source": [
    "### 1.2 Write a function that calculates the square root of 2 \n",
    "\n",
    "*In this section I will write a Python function called sqrt2 that calculates and prints to the screen the square root of 2 to 100 decimal places. The code should not depend on any module from the standard library or otherwise.*"
   ]
  },
  {
   "cell_type": "markdown",
   "metadata": {},
   "source": [
    "The below code example is included in the blog post on Newton's method [3]."
   ]
  },
  {
   "cell_type": "code",
   "execution_count": 1,
   "metadata": {},
   "outputs": [],
   "source": [
    "def mySqrt(x):\n",
    "\n",
    "    r = x\n",
    "    precision = 10 ** (-10)\n",
    "    \n",
    "    while abs(x - r * r) > precision:\n",
    "        r = (r + x / r) / 2\n",
    "        \n",
    "    return r"
   ]
  },
  {
   "cell_type": "markdown",
   "metadata": {},
   "source": [
    "I have spent some time examining the above code and I have included below my understanding of how the code works.\n",
    "\n",
    "My understanding of the above code is a while loop is used to iterate until we find the most precise match for the square root of x. The variable r is introduced and set to equal to x at the start of the function and taken as the starting value or guess of starting square root. I am thinking this is one thing I could change when I write the code myself as I have already learnt a good starting value is between 1 and the number we want to calculate the square root of. Therefore, setting the starting value to be equal to the value x here might not be the best starting value to use.\n",
    "\n",
    "The precision has been set and the loop will continue until this precision is met. The abs statment returns the absolute value of the calculation and checks if it is greater than the precision value. Whilst this condition is true the loop continues to run the function that I already highlighted in the previous section:\n",
    "\n",
    "$$ x_i = (x_i + n/x_i) /2 $$\n",
    "\n",
    "In this case:\n",
    "\n",
    "$$ r = (r + x / r) / 2 $$\n",
    "\n",
    "When the precision condition is met the loop terminates and the closest approximation to the square root is output.\n",
    "\n",
    "I will now try to implement this solution by writing a square root function myself."
   ]
  },
  {
   "cell_type": "markdown",
   "metadata": {},
   "source": [
    "#### My function to calculate square root of 2\n",
    "\n",
    "I did some testing to find a good seed value and eventually decided to hard code a seed value in my function. I added a counter to the function to count how many iterations of the while loop would execute before we arrived to the closest approximation for the square root of 2. I found that there wasnt a huge difference in the number of iterations required. I have recorded below a sample set of results that I noted:\n",
    "\n",
    "* Seed value 1 - 4 iterations\n",
    "* Seed value 2 - 4 iterations\n",
    "* Seed value 1.9 - 4 iterations\n",
    "* Seed value 1.45 - 3 iterations\n",
    "* Seed value 1.35 - 3 iterations \n",
    "\n",
    "In general, I draw the conclusion here that the closer the starting value is to the actual square root the faster the function executed. This is expected from the research that I conducted. I have commented out the print statments that I used for testing purposes in my function below.\n",
    "\n",
    "During testing, I added a print statement to the function for testing purposes to see the new value of s calculated at each iteration. I wanted to see the function working towards finding the closest approximation for the square root of 2 at each iteration. I have included the example print outs for a seed value of 1.35 below:\n",
    "\n",
    "* At iteration 1 the value of s was 1.4157407407407407\n",
    "* At iteration 2 the value of s was 1.414214386066904\n",
    "* At iteration 3 the value of s was 1.414213562373335\n",
    "* Square root calculated: 1.414213562373335\n",
    "\n",
    "You can remove the # in the function below when running if you would like the above statements to be printed out when running the function."
   ]
  },
  {
   "cell_type": "code",
   "execution_count": 2,
   "metadata": {},
   "outputs": [],
   "source": [
    "# Code originally adapted from [3] with my own changes made and comments added\n",
    "\n",
    "def sqrt2(x=2):\n",
    "    \"\"\"\n",
    "    A function to calculate the square root of 2. Function named as per assessment specification.\n",
    "    I have set the default value of the function to be 2 as I am only tasked in finding the square root of 2. \n",
    "    \n",
    "    I want the starting value/seed to somewhere between 1 and 2. I tested different starting values.\n",
    "    This should be a better starting value than in the code example in the blog post above.\n",
    "    \"\"\"\n",
    "    s = 1.35   \n",
    "    # starting value/seed set here, I ran tests on different seed values and decided to hard code this one\n",
    "    precision = 10 ** (-10)\n",
    "    # precision is defined here, same as in the code example in blog post\n",
    "    count = 0\n",
    "    # I have added a counter to see how many iterations it takes to get the result, printed out for testing\n",
    "    while abs(x - s * s) > precision:\n",
    "        s = (s + x / s) / 2\n",
    "        # while the absolute value of 2 minus the seed squared is greater than the precision required the loop continues\n",
    "        # the calculation I explained in the previous section is repeated at each iteration\n",
    "        count += 1\n",
    "        # counter incremented at each iteration\n",
    "        # commented out my print statements for testing below\n",
    "        #print(f\"At iteration {count} the value of s was {s}\")\n",
    "        # print out to see function working towards solution at each iteration\n",
    "        \n",
    "    #print(f\"Square root calculated in {count} iterations\")\n",
    "    # I added a print statement to print out how many iterations we needed, commented out\n",
    "    return s\n",
    "    #print(format(s, '.100f')) \n",
    "    # the value for the closest approximation of square root will be returned to the caller\n",
    "    "
   ]
  },
  {
   "cell_type": "markdown",
   "metadata": {},
   "source": [
    "#### Calling the function"
   ]
  },
  {
   "cell_type": "code",
   "execution_count": 3,
   "metadata": {},
   "outputs": [
    {
     "name": "stdout",
     "output_type": "stream",
     "text": [
      "The square root of 2 to 100 decimal places is calculated as:\n",
      "1.4142135623733349536479408925515599548816680908203125000000000000000000000000000000000000000000000000\n"
     ]
    }
   ],
   "source": [
    "result = sqrt2() # variable result set equal to the function sqrt2 called \n",
    "print(\"The square root of 2 to 100 decimal places is calculated as:\")\n",
    "print(format(result, '.100f')) #modified to print to 100 decimal places after research\n",
    "# format(result, '.100f')   #print out for testing\n",
    "#print('%.100f' % result)  #another way to display to 100 decimal places"
   ]
  },
  {
   "cell_type": "markdown",
   "metadata": {},
   "source": [
    "### 1.3 Test the function\n",
    "\n",
    "*In this section I should test is the function implemented above accurate.*"
   ]
  },
  {
   "cell_type": "markdown",
   "metadata": {},
   "source": [
    "#### Testing Accuracy\n",
    "I can test how accurate the square root returned by the function is with the below calculation:"
   ]
  },
  {
   "cell_type": "code",
   "execution_count": 4,
   "metadata": {},
   "outputs": [
    {
     "data": {
      "text/plain": [
       "2.0000000000006786"
      ]
     },
     "execution_count": 4,
     "metadata": {},
     "output_type": "execute_result"
    }
   ],
   "source": [
    "result * result\n",
    "# the result of the sqrt2 function is captured in a variable result\n",
    "# multiplying result by result to see how accurate the answer is"
   ]
  },
  {
   "cell_type": "markdown",
   "metadata": {},
   "source": [
    "The result shows the square root returned by the function is reasonably accurate. I remind myself here that my initial research told me the decimal expansion of a square root can only be calculated to a precision. I am satisifed this function works well and I just now need to figure out how to have the output formatted to 100 decimal places."
   ]
  },
  {
   "cell_type": "markdown",
   "metadata": {},
   "source": [
    "#### Compare result to result calculated by Python math module\n",
    "\n",
    "*In this section I import the math module from Python to test if the result of calculating the square root of 2 is the same as my algorithm.*\n",
    "\n",
    "There is a sqrt function within the math module that can be used to calculate the square root of a given number [8]."
   ]
  },
  {
   "cell_type": "code",
   "execution_count": 5,
   "metadata": {},
   "outputs": [
    {
     "name": "stdout",
     "output_type": "stream",
     "text": [
      "The square root of 2 according to the math module is: 1.4142135623730951\n",
      "And rounded to 100 decimal places:\n"
     ]
    },
    {
     "data": {
      "text/plain": [
       "'1.4142135623730951454746218587388284504413604736328125000000000000000000000000000000000000000000000000'"
      ]
     },
     "execution_count": 5,
     "metadata": {},
     "output_type": "execute_result"
    }
   ],
   "source": [
    "import math                     #math module imported\n",
    "sqr = math.sqrt(2)                # 2 passed in to sqrt function\n",
    "print(\"The square root of 2 according to the math module is:\" ,sqr)   \n",
    "print(\"And rounded to 100 decimal places:\")                                                         \n",
    "format(sqr,'.100f' )             #formt the answer to 100 decimal places"
   ]
  },
  {
   "cell_type": "code",
   "execution_count": 6,
   "metadata": {},
   "outputs": [
    {
     "data": {
      "text/plain": [
       "2.0000000000000004"
      ]
     },
     "execution_count": 6,
     "metadata": {},
     "output_type": "execute_result"
    }
   ],
   "source": [
    "math.sqrt(2) * math.sqrt(2)        #test the accuracy of square root\n",
    "\n",
    "# Example given in Ian Mcloughlin lecture video \"Tasks - getting started\""
   ]
  },
  {
   "cell_type": "markdown",
   "metadata": {},
   "source": [
    "**Testing Conclusion**\n",
    "\n",
    "I conclude here that the math module produces a very similiar result to the function I have implemented to calculate the square root of 2. I refer back to my research on the topic of calculating the square root of 2 that suggests it is not possible to calculate exactly the square root of 2 and that we can only produce an approximation. I conclude that the function I implemented was successful in producing a relatively accurate approximation of the square root of 2."
   ]
  },
  {
   "cell_type": "markdown",
   "metadata": {},
   "source": [
    "### 1.4 Output to requested format - 100 decimal places\n",
    "\n",
    "*In this section I need to figure out how to have the output of the function displayed to 100 decimal places.*"
   ]
  },
  {
   "cell_type": "markdown",
   "metadata": {},
   "source": [
    "I conducted some research and found a tutorial that explains how to format the number of decimal places displayed in a floating point number in Python [11]. There is a format function in Python that takes in a floating ppint number and displays it in output as a string to a given number of decimal places. I have returned to where I called my sqrt2 function above and added the format function to my print statement which successfully displayed the output to 100 decimal places.\n",
    "\n",
    "I noticed that when this is done that there are a sequence of zero's at the end of the number printed to 100 decimal places.\n",
    "\n",
    "**Why is that??**\n",
    "\n",
    "I conducted some research and found that floating point numbers are represented in computer hardware as base 2 or binary fractions. I found a detailed explanation of this in the Python documentations pages [12]. According to the Python documentation, most decimal fractions cannot be represented exactly as binary fractions. As a consequence the decimal floating point numbers we enter are only approximated by the binary floating point numbers actually stored on the computer. \n",
    "\n",
    "**Accuracy to 53 bits**\n",
    "\n",
    "Acccording to the documentation most machines today approximate floats to 53 bits using a binary fraction. Many users are unaware of this becaue of the way values are displayed. Python only prints an approximation of the true decimal value of the binary approximation stored by the machine [12]. I was unaware of this and this is a learning for me from completing this assignment.\n"
   ]
  },
  {
   "cell_type": "markdown",
   "metadata": {},
   "source": [
    "#### Increasing the accuracy of decimal representation in Python"
   ]
  },
  {
   "cell_type": "markdown",
   "metadata": {},
   "source": [
    "While researching having the output of my function printed to 100 decimal places I found a StackOverFlow post [9] that shows to use the Decimal module within Python to increase the accuracy of the decimal representation. I am not permitted to import any modules or libraries in order to fulfill this task but I thought it would be worthy of a mention as I found it interesting. I have included the code below:"
   ]
  },
  {
   "cell_type": "code",
   "execution_count": 7,
   "metadata": {},
   "outputs": [
    {
     "name": "stdout",
     "output_type": "stream",
     "text": [
      "The square root of 2 made accurate to 100 decimal places using the imported Decimal library is:\n"
     ]
    },
    {
     "data": {
      "text/plain": [
       "Decimal('1.414213562373095048801688724209698078569671875376948073176679737990732478462107038850387534327641573')"
      ]
     },
     "execution_count": 7,
     "metadata": {},
     "output_type": "execute_result"
    }
   ],
   "source": [
    "# code from stackoverflow post on increasing the accuracy of decimal numbers in Python [8]\n",
    "from decimal import *\n",
    "getcontext().prec = 100\n",
    "print(\"The square root of 2 made accurate to 100 decimal places using the imported Decimal library is:\")\n",
    "Decimal(2).sqrt()"
   ]
  },
  {
   "cell_type": "markdown",
   "metadata": {},
   "source": [
    "Further information on the Decimal module can be found at the Python Standard Library documentation [10]."
   ]
  },
  {
   "cell_type": "markdown",
   "metadata": {},
   "source": [
    "### Task 1 - Conclusion & Learnings \n",
    "\n",
    "*I have listed below some of the concluding points and some of the learnings I have taken from this task.*"
   ]
  },
  {
   "cell_type": "markdown",
   "metadata": {},
   "source": [
    "* The square root of 2 is irrational. The decimal expansion of the square root of 2 cannot be calculated to a precision. \n",
    "* Newton's method can be used to calculate an approximation for the square root of 2.\n",
    "* Newton's method works by starting at an assigned starting value (seed) and iterating over a set of steps until the closest approximation is reached.\n",
    "* I implemented Newton's method in this notebook to calculate the square root of 2. \n",
    "* I tested the accuracy of the result by comparing to the result returned by the sqrt function in the Python math module. \n",
    "* I researched how to have the the output displayed to 100 decimal places.\n",
    "* After displaying the output to 100 decimal places I noticed all the zero's at the end and did some further investigation.\n",
    "* I learnt that floating point numbers are represented in computer hardware as base 2 or binary fractions. Python approximates decimal expansion to 53 bits as a result of this.\n",
    "* Through my research I learnt the Decimal module in Python is one way that the accuracy of decimal representation can be increased. I included a section on this in the notebook."
   ]
  },
  {
   "cell_type": "markdown",
   "metadata": {},
   "source": [
    "### 1.5 - Task 1 - References"
   ]
  },
  {
   "cell_type": "markdown",
   "metadata": {},
   "source": [
    "[1] Wikipedia; Methods of Computing square roots; https://en.wikipedia.org/wiki/Methods_of_computing_square_roots\n",
    "\n",
    "[2] Learonline@GMIT; The square root of 2; https://learnonline.gmit.ie/mod/url/view.php?id=92021\n",
    "\n",
    "[3] Medium.com; How to Calculate the Square Root of a Number? — Newton-Raphson Method; https://medium.com/@surajregmi/how-to-calculate-the-square-root-of-a-number-newton-raphson-method-f8007714f64\n",
    "\n",
    "[4] Mathematical Python; Newton's Method; https://www.math.ubc.ca/~pwalls/math-python/roots-optimization/newton/\n",
    "\n",
    "[5] Wikipedia; Newton's method; https://en.wikipedia.org/wiki/Newton%27s_method\n",
    "\n",
    "[6] Computing Skillset; Newton's method explained; https://computingskillset.com/solving-equations/the-newton-raphson-method-explained-details-pictures-python-code/\n",
    "\n",
    "[7] math.mit; Square roots via Newton's Method; https://math.mit.edu/~stevenj/18.335/newton-sqrt.pdf\n",
    "\n",
    "[8]Python math documentation: https://docs.python.org/3/library/math.html\n",
    "\n",
    "[9]Stackoverflow; How can I show an irrational number to 100 decimal places in Python?; https://stackoverflow.com/questions/4733173/how-can-i-show-an-irrational-number-to-100-decimal-places-in-python?noredirect=1&lq=1\n",
    "\n",
    "[10] Python Decimal Library; Python - How to increase the accuracy of decimals; https://docs.python.org/3/library/decimal.html\n",
    "\n",
    "[11] Hands on Python Tutorial; 1.14 Decimals, Floats and floating point arithmetic; http://anh.cs.luc.edu/python/hands-on/3.1/handsonHtml/float.html\n",
    "\n",
    "[12] Python documentation; 15. Floating point artithmetic: Issues and limitations; https://docs.python.org/3/tutorial/floatingpoint.html\n",
    "\n",
    "**mathjax and markdown references:**\n",
    "\n",
    "* mathjax; documentation pages; http://docs.mathjax.org/en/latest/\n",
    "\n",
    "* Github; Mastering Markdown; https://guides.github.com/features/mastering-markdown/"
   ]
  },
  {
   "cell_type": "markdown",
   "metadata": {},
   "source": [
    "***"
   ]
  },
  {
   "cell_type": "markdown",
   "metadata": {},
   "source": [
    "## Task 2 - Chi-squared test for Independence "
   ]
  },
  {
   "cell_type": "markdown",
   "metadata": {},
   "source": [
    "2. November 2nd, 2020: The Chi-squared test for independence is a statistical\n",
    "hypothesis test like a t-test. It is used to analyse whether two categorical variables\n",
    "are independent. The Wikipedia article gives the table below as an example [4],\n",
    "stating the Chi-squared value based on it is approximately 24.6. Use scipy.stats\n",
    "to verify this value and calculate the associated p value. You should include a short\n",
    "note with references justifying your analysis in a markdown cell."
   ]
  },
  {
   "cell_type": "markdown",
   "metadata": {},
   "source": [
    "### 2.1 Introduction\n",
    "\n",
    "The task has been assigned and I have been given a link to the Wikipedia page on Chi-squared tests [1] as a starting point. The result of an analysis of the table has been given to me  with a Chi-squared value of 24.6.\n",
    "\n",
    "**Plan to complete task**\n",
    "\n",
    "* Provide some background information on this contigency table of data\n",
    "* Research how a Chi-squared test is done using scipy.stats \n",
    "* Conduct a Chi-squared test on this table of data using scipy.stats in this notebook\n",
    "* Verify the Chi-squared value provided of 24.6 is the same result that I get\n",
    "* Calculate the p value \n",
    "* Analyse the result \n",
    "* Compile a list of references \n",
    "\n",
    "I have inserted an image of the table below from the Wikipedia page [1] using the IPython.display image class that I read about in a blog post [2]."
   ]
  },
  {
   "cell_type": "code",
   "execution_count": 8,
   "metadata": {},
   "outputs": [
    {
     "data": {
      "image/png": "[encoded data removed]",
      "text/plain": [
       "<IPython.core.display.Image object>"
      ]
     },
     "execution_count": 8,
     "metadata": {
      "image/png": {
       "height": 300,
       "width": 600
      }
     },
     "output_type": "execute_result"
    }
   ],
   "source": [
    "# Import the Ipython.display image class as per blog post [2]\n",
    "from IPython.display import Image\n",
    "\n",
    "# Image loaded from img folder in this repository\n",
    "Image(filename = \"img/Chi-squared.PNG\", width = 600, height = 300)"
   ]
  },
  {
   "cell_type": "markdown",
   "metadata": {},
   "source": [
    "### 2.2 Research\n",
    "\n",
    "#### Contingency table explained\n",
    "\n",
    "In the case of this task I have been provided a contingency table of data. A contingency table is a type of table in a matrix that displays the frequency distribution of variables. They provide a picture of the interrelation between two variables [5].\n",
    "\n",
    "In the example contingeny table shown above [1] that I will work with in this task there are four neighbourhoods - A, B, C and D in a city with a population of 1,000,000 people. A random sample of 650 residents is taken and their occupation has been recorded into 3 categories - white collar, blue collar and no collar.\n",
    "\n",
    "There are 2 categorical variables in this data set:\n",
    "\n",
    "* neighbourhood\n",
    "* occupation\n",
    "\n",
    "The null hypothesis is that each person's neighbourhood is independent of their occupation.\n",
    "\n",
    "**Null hypothesis**\n",
    "\n",
    "In inferential statistics the null hypothesis is a general statement or default position that there is no difference between two measured phenomena or that two samples derive from the same general population [3]. In the case of the contingency table of data in this task the null hypothesis is that categorical variables neighbourhood and occupation are independent of each other.\n",
    "\n",
    "**Null hypothesis and alternative hypothesis**\n",
    "\n",
    "I found a blog post that explains this in further detail in relation to the Chi-square test [12]:\n",
    "\n",
    "Like any statistical hypothesis test, the Chi-square test has both a null hypothesis and an alternative hypothesis.\n",
    "\n",
    "Null hypothesis: There are no relationships between the categorical variables. If you know the value of one variable, it does not help you predict the value of another variable.\n",
    "\n",
    "Alternative hypothesis: There are relationships between the categorical variables. Knowing the value of one variable does help you predict the value of another variable.\n",
    "\n",
    "\n",
    "#### What is a Chi-squared test?\n",
    "\n",
    "I have been tasked with verifying using Scipy.stats that the Chi-squared value of this contingency table of data is approximately 24.6 and also to calculate the associated p-value.\n",
    "\n",
    "The Pearson's chi-squared statistical hypothesis is an example of a test for independence between categorical variables [6].\n",
    "\n",
    "Pearson's chi-squared test is used to determine whether there is a statistically signifigant difference between the expected frequencies and the observed frequencies in one or more categories of a contingency table [1]. In other words, do the values of one categorical variable depend on the values of another categorical variable.\n",
    "\n",
    "The Chi-square test of independence works by comparing the distribution that you observe to the distribution that you expect if there is no relationship between the categorical variables. In the Chi-square context, the word “expected” is equivalent to what you’d expect if the null hypothesis is true. If your observed distribution is sufficiently different than the expected distribution (no relationship), you can reject the null hypothesis and infer that the variables are related [12].\n",
    "\n",
    "In the case of this task, is there a difference between the frequency of occupations recorded per neighbourhood in the contingency table of data compared to what you would expect to see based on the null hypothesis that each person's neighbourhood is indepedent of their occupation?\n",
    "\n",
    "**Chi-Squared test in summary**\n",
    "\n",
    "* Categorical variables can be summarised using a contingency table. \n",
    "* The chi-squared test is a test of independence between categorical variables in a contingency table.\n",
    "* The variables are considered independent if the observed and expected frequencies are similiar.\n",
    "* A chi-squared test can be used in this case to determine whether or not there is a relationship between the neighbourhood a person lives in and their occupation, or in other words do we accept or reject the null hypothesis."
   ]
  },
  {
   "cell_type": "markdown",
   "metadata": {},
   "source": [
    "### 2.3 Chi-squared test in Python\n",
    "\n",
    "As part of this task I have to research how a Chi-squared test is conducted in Python using scipy.stats and verify that the Chi-squared value for the contingency table in this task is approximately 24.6 as well as calculating the p-value.\n",
    "\n",
    "Scipy.stats is a Python module that contains a function called chi2_contigency [7] that can be used to conduct a chi-squared test for indpendence in Python.\n",
    "\n",
    "This function computes the chi-square statistic and p-value for the hypothesis test of independence of the observed frequencies in the contingency table observed [7].\n",
    "\n",
    "The function takes an array as input representing the contingency table for the two categorical variables. It returns the calculated statistic and p-value for interpretation as well as the calculated degrees of freedom and table of expected frequencies [6].\n",
    "\n",
    "#### According to the scipy.stats.chi2_contigency documentation [7] the following are return values from a Chi-square test in scipy.stats:\n",
    "\n",
    "**chi2 : float**\n",
    "\n",
    "The Chi-squared value or test statistic represented as a floating point number.\n",
    "\n",
    "**p : float**\n",
    "\n",
    "The p-value represented as a floating point number.\n",
    "\n",
    "The p-value is a measure of the probability that categorical variables are independent of each other. \n",
    "\n",
    "**dof : int**\n",
    "\n",
    "Degrees of freedom represented as an integer.\n",
    "\n",
    "Degrees of freedom is calculated as (# of rows -1 x # of columns -1)[11]\n",
    "\n",
    "**expected : ndarray (same shape as observed)**\n",
    "\n",
    "An array containing the expected frequencies based on the marginal sums of the table.\n",
    "\n",
    "That is in other words the distribution we would expect to see if the null hypothesis is true and there is in fact no relationship between categorical variables."
   ]
  },
  {
   "cell_type": "markdown",
   "metadata": {},
   "source": [
    "#### Implement scipy.stats.chi2_contingency test on the contingency table in this task\n",
    "\n",
    "I read various references when researching how to conduct the Chi-squared test, in the end I used a combination of the example shown in the scipy.stats documentation page [7] and an example on the GeeksforGeeks website [10] to produce the below code.\n",
    "\n",
    "* I imported numpy and created a 3 x 4 array containing the data in the contingency table. \n",
    "* Each sub array represents white collar, blue collar and no collar and each sub arrays has 4 values for the number of persons from each neighbourhood in each occupation category.\n",
    "* I imported the chi2_contingency function from scipy.stats in order to run the function on the numpy array that I created.\n",
    "* I printed out the return values from the chi2_contingency function in a nice format."
   ]
  },
  {
   "cell_type": "code",
   "execution_count": 9,
   "metadata": {},
   "outputs": [
    {
     "name": "stdout",
     "output_type": "stream",
     "text": [
      "Exact Chi-square value: 24.5712028585826\n",
      "\n",
      "Chi-squared value rounded to 1 decimal place: 24.6\n",
      "\n",
      "p-value: 0.0004098425861096696\n",
      "\n",
      "Degrees of freedom: 6\n",
      "\n",
      "The expected frequencies based on marginal sums of the table:\n",
      " \n",
      "[[ 80.53846154  80.53846154 107.38461538  80.53846154]\n",
      " [ 34.84615385  34.84615385  46.46153846  34.84615385]\n",
      " [ 34.61538462  34.61538462  46.15384615  34.61538462]]\n"
     ]
    }
   ],
   "source": [
    "# Adapted from examples in [7] and [10]\n",
    "# import numpy in order to create a numpy array of the data in my contingency table \n",
    "import numpy as np\n",
    "# import the chi2_contingency function from scipy stats\n",
    "from scipy.stats import chi2_contingency  \n",
    "# create a 3 x 4 numpy array, the 4 neighourhood values are contained inside 3 arrays for collar type\n",
    "data = np.array([[90, 60, 104, 95], [30, 50, 51, 20], [30, 40, 45, 35]])\n",
    "# call the chi2_contingency function on the array of data\n",
    "stat, p, dof, expected = chi2_contingency(data) \n",
    "# print the return values \n",
    "print(f\"Exact Chi-square value: {stat}\\n\")\n",
    "print(f\"Chi-squared value rounded to 1 decimal place: {stat:.1f}\\n\")\n",
    "print(f\"p-value: {p}\\n\")\n",
    "print(f\"Degrees of freedom: {dof}\\n\")\n",
    "\n",
    "print(\"The expected frequencies based on marginal sums of the table:\\n \")\n",
    "print(expected)"
   ]
  },
  {
   "cell_type": "markdown",
   "metadata": {},
   "source": [
    "#### Chi-squared value\n",
    "\n",
    "The Chi-squared value returned is 24.6 so I have successfully verified the value provided in the task specification. Next I have to look in more detail at the p-value.\n",
    "\n",
    "#### Degrees of freedom\n",
    "\n",
    "The degrees of freedom is calculated as (# of rows -1 x # of columns -1)[11]\n",
    "\n",
    "In the the case of the contingency table in this task there are 3 rows and 4 columns of data. \n",
    "\n",
    "( 3 rows -1) = 2  (4 columns -1) = 3\n",
    "\n",
    "3* 2 = 6\n",
    "\n",
    "The dof returned from the Chi-squared test was 6.\n",
    "\n",
    "#### Expected \n",
    "\n",
    "The distribution that would be expected if there was no relationship between the categorical variables neighbourhood and occupation. \n",
    "\n",
    "#### p-value\n",
    "\n",
    "The p-value returned was 0.0004098425861096696. I will look at this in further detail now as it was specifically mentioned in the task specification.\n",
    "\n"
   ]
  },
  {
   "cell_type": "markdown",
   "metadata": {},
   "source": [
    "### 2.4 What is p-value and how do I interpret it?\n",
    "\n",
    "The Chi-squared test returns a p-value (probability value) which is a measure of the probability that categorical variables are independent.\n",
    "\n",
    "I have included below extracts from two references which explain how to interpret the p-value calculated by the Chi-squared test. \n",
    "\n",
    "**Machine learning mastery [6]**\n",
    "\n",
    "In terms of a p-value and a chosen significance level (alpha), the test can be interpreted as follows:\n",
    "\n",
    "**If p-value <= alpha:**\n",
    "significant result, reject null hypothesis (H0), dependent.\n",
    "\n",
    "**If p-value > alpha:**\n",
    "not significant result, fail to reject null hypothesis (H0), independent.\n",
    "\n",
    "**Statistics Solutions [11]**\n",
    "\n",
    "To make a conclusion about the hypothesis with 95% confidence, the p-value of the Chi-Square statistic should be less than .05 (which is the alpha level associated with a 95% confidence level). \n",
    "\n",
    "Is the p-value less than .05?  If so, we can conclude that the variables are not independent of each other and that there is a statistical relationship between the categorical variables.\n",
    "\n",
    "**Interpreting the p-value for the contingency table in this task**\n",
    "\n",
    "In this case the p-value returned by scipy.stats was 0.0004098425861096696 which is less than .05 and so based on my research I have to conclude there is a statistical relationship between the categorical variables neighbourhood and occupation. As detailed above in this case the p-value is < the alpha value and so the null hypothesis is rejected and the variables are said to be dependent on one another.\n",
    "\n",
    "It is important to note the alpha does not have to be .05 and a different alpha value can be used. From my research it appears .05 is a widely used value for alpha. \n"
   ]
  },
  {
   "cell_type": "markdown",
   "metadata": {},
   "source": [
    "### Task 2 Conclusion & Learnings\n",
    "\n",
    "* I researched what a Chi-squared test is and how to conduct a Chi-squared test using scipy.stats in Python. \n",
    "* I verified using scipy.stats that the Chi-squared value is approximately 24.6 for the given contingency table in this task.\n",
    "* The p-value returned by scipy.stats was 0.0004098425861096696.\n",
    "* The p-value returned is less than the aplha .05 and so I conclude that their is a relationship between the categorical variables neighbourhood and occupation. \n",
    "* Therefore in the case of this contingency table the null hypothesis that the variables are independent of each other is rejected and the alternative hypothesis that there is a relationship between the variables is accepted."
   ]
  },
  {
   "cell_type": "markdown",
   "metadata": {},
   "source": [
    "### Task 2 - References \n",
    "\n",
    "[1] Wikipedia; Chi-Squared test; https://en.wikipedia.org/w/index.php?title=Chi-squared_test&oldid=983024096\n",
    "\n",
    "[2] Towards data science; Inserting and Resizing Images in IPython Notebook (Python and R) — One Zero Blog; https://towardsdatascience.com/adding-image-files-inside-an-ipython-notebook-python-and-r-2ba089a658b8\n",
    "\n",
    "[3] Wikipedia; Null hypothesis; https://en.wikipedia.org/wiki/Null_hypothesis\n",
    "\n",
    "[4] Wikipedia; Chi-squared distribution; https://en.wikipedia.org/wiki/Chi-squared_distribution\n",
    "\n",
    "[5] Wikipedia; Contingency tables; https://en.wikipedia.org/wiki/Contingency_table\n",
    "\n",
    "[6] Machine learning mastery; A gentle introduction to the chi-squared test for machine learning; https://machinelearningmastery.com/chi-squared-test-for-machine-learning/\n",
    "\n",
    "[7] Scipy.org; scipy.stats.chi2_contingency; https://docs.scipy.org/doc/scipy/reference/generated/scipy.stats.chi2_contingency.html\n",
    "\n",
    "[8] Medium; Handling The Chi Square in Statistics with Python; https://medium.com/@nhan.tran/the-chi-square-statistic-p3-programming-with-python-87eb079f36af\n",
    "\n",
    "[9] Medium; How to Calculate Critical Values for Statistical Hypothesis Testing with Python; https://machinelearningmastery.com/critical-values-for-statistical-hypothesis-testing/\n",
    "\n",
    "[10] GeeksforGeeks; Python – Pearson’s Chi-Square Test; https://www.geeksforgeeks.org/python-pearsons-chi-square-test/\n",
    "\n",
    "[11] Statistic Solutions; Using Chi-Square Statistic in Research; https://www.statisticssolutions.com/using-chi-square-statistic-in-research/\n",
    "\n",
    "[12] Statistics by Jim; Chi-Square Test of Independence and an Example; https://statisticsbyjim.com/hypothesis-testing/chi-square-test-independence-example/#:~:text=For%20a%20Chi%2Dsquare%20test,exists%20between%20the%20categorical%20variables\n",
    "\n",
    "[13] dummies; What a p-Value Tells You about Statistical Data; https://www.dummies.com/education/math/statistics/what-a-p-value-tells-you-about-statistical-data/"
   ]
  },
  {
   "cell_type": "markdown",
   "metadata": {},
   "source": [
    "***"
   ]
  },
  {
   "cell_type": "markdown",
   "metadata": {},
   "source": [
    "## Task 3 - STDEV.P and STDEV.S Standard Deviation calculations in Excel"
   ]
  },
  {
   "cell_type": "markdown",
   "metadata": {},
   "source": [
    "3. November 16th, 2020: The standard deviation of an array of numbers x is\n",
    "calculated using numpy as np.sqrt(np.sum((x - np.mean(x))**2)/len(x)) .\n",
    "However, Microsoft Excel has two different versions of the standard deviation\n",
    "calculation, STDEV.P and STDEV.S . The STDEV.P function performs the above\n",
    "calculation but in the STDEV.S calculation the division is by len(x)-1 rather\n",
    "than len(x) . Research these Excel functions, writing a note in a Markdown cell\n",
    "about the difference between them. Then use numpy to perform a simulation\n",
    "demonstrating that the STDEV.S calculation is a better estimate for the standard\n",
    "deviation of a population when performed on a sample. Note that part of this task\n",
    "is to figure out the terminology in the previous sentence."
   ]
  },
  {
   "cell_type": "markdown",
   "metadata": {},
   "source": [
    "### 3.1 Introduction\n",
    "\n",
    "Having read the task description I have drafted the below plan to complete the task. \n",
    "\n",
    "#### Plan to complete task\n",
    "* Research the excel functions STDEV.P and STDEV.S and capture research in this notebook.\n",
    "* Write an explanantion about the differences between them.\n",
    "* Use numpy to perform a simulation demonstrating that STDEV.S is a better estimation for the standard deviation of a population when performed on a sample.\n",
    "* Capture the research from the above point in markdown in this notebook. \n",
    "* Compile a list of references.\n"
   ]
  },
  {
   "cell_type": "markdown",
   "metadata": {},
   "source": [
    "### 3.2 What are STDEV.P and STDEV.S?"
   ]
  },
  {
   "cell_type": "markdown",
   "metadata": {},
   "source": [
    "STDEV.P and STDEV.S are two functions in Microsoft Excel that are used to calculate the standard deviation of a population. From my research I have learnt that where historically there was just one standard deviation function in Excel called STDEV, today there are now two functions - STDEV.P and STDEV.S - P for Population and S for Sample.\n",
    "\n",
    "**Standard Deviation**\n",
    "\n",
    "Standard deviation is a number that tells you how far numbers are from their mean [4].\n",
    "\n",
    "Standard deviation: the average distance between each value and the mean. this tells you if the data is clustered around the mean or scattered, and therefore allows you to assess if the reliability of mean as a good/bad representation of the entire sample [13].\n",
    "\n",
    "A low measure of Standard Deviation indicates that the data are less spread out, whereas a high value of Standard Deviation shows that the data in a set are spread apart from their mean average values [10].\n",
    "\n",
    "In a normal distribution (bell-curve):\n",
    "\n",
    "* 68% of all individuals lie within +/- 1 standard deviation of the mean\n",
    "* 95% of all individuals lie within +/- 2 standard deviations of the mean\n",
    "* 99% of all individuals lie within +/- 3 standard deviations of the mean\n",
    "\n",
    "The Image below shows an example of a bell shaped curve with 99% of data within 3 standard deviations of the mean [13]."
   ]
  },
  {
   "cell_type": "code",
   "execution_count": 10,
   "metadata": {},
   "outputs": [
    {
     "data": {
      "image/png": "[encoded data removed]",
      "text/plain": [
       "<IPython.core.display.Image object>"
      ]
     },
     "execution_count": 10,
     "metadata": {
      "image/png": {
       "height": 400,
       "width": 800
      }
     },
     "output_type": "execute_result"
    }
   ],
   "source": [
    "# Image sourced from [13]\n",
    "Image(filename = \"img/standarddeviation.PNG\", width = 800, height = 400)"
   ]
  },
  {
   "cell_type": "markdown",
   "metadata": {},
   "source": [
    "### 3.3 Difference between STDEV.P and STDEV.S"
   ]
  },
  {
   "cell_type": "markdown",
   "metadata": {},
   "source": [
    "According to Microsoft Support [1] [2] STDEV.S calculates the standard deviation based on a sample of a population whereas STDEV.P calculates standard deviation based on the entire population.\n",
    "\n",
    "**STDEV.S**\n",
    "\n",
    "* Estimates standard deviation based on a sample (ignores logical values and text in the sample).\n",
    "\n",
    "* The standard deviation is a measure of how widely values are dispersed from the average value (the mean).\n",
    "\n",
    "**STDEV.P**\n",
    "\n",
    "* Calculates standard deviation based on the entire population given as arguments (ignores logical values and text).\n",
    "\n",
    "* The standard deviation is a measure of how widely values are dispersed from the average value (the mean).\n",
    "\n",
    "This difference is described further in the remarks section of the STDEV.S Microsoft support page [1]:\n",
    "\n",
    "* STDEV.S assumes that its arguments are a sample of the population. If your data represents the entire population, then compute the standard deviation using STDEV.P.\n",
    "\n",
    "* The standard deviation is calculated using the \"n-1\" method.\n",
    "\n",
    "In the remarks section of the STDEV.P Microsoft support page [2]:\n",
    "\n",
    "* STDEV.P assumes that its arguments are the entire population. If your data represents a sample of the population, then compute the standard deviation using STDEV.\n",
    "\n",
    "* The standard deviation is calculated using the \"n\" method.\n",
    "\n",
    "So as alluded to in the task description STDEV.P calculates the standard deviation by taking the len(x) of an array whereas STDEV.S calculates the standard deviation using len(x-1).\n",
    "\n",
    "I found a good Youtube video that explains the difference between STDEV.P and STDEV.S using an example [3]. \n",
    "\n",
    "* The tutor explains that STDEV.P can be used to calculate the standard deviation when we have all the data available and the P can be thought of as \"Population\".\n",
    "\n",
    "* STDEV.S can be used to calculate the standard deviation when we dont have access to all the data, and the S can be thought of as \"Sample\".\n",
    "\n",
    "* A demonstration is shown where STDEV.P is used to calculate the standard deviation of the full population of a data source and STDEV.S is used to calculate the standard deviation of a sample of the population.\n"
   ]
  },
  {
   "cell_type": "markdown",
   "metadata": {},
   "source": [
    "#### Population and Sample\n",
    "\n",
    "What is the difference between population and sample standard deviation?\n",
    "\n",
    "I found the below explanation:\n",
    "\n",
    "Usually, we are interested in the standard deviation of a population. However, as we are often presented with data from a sample only, we can estimate the population standard deviation from a sample standard deviation. These two standard deviations - sample and population standard deviations - are calculated differently. In statistics, we are usually presented with having to calculate sample standard deviations [15].\n",
    "\n",
    "I also found a comparison between the sample and population:\n",
    "\n",
    "* The population standard deviation is a parameter, which is a fixed value calculated from every individual in the population.\n",
    "* A sample standard deviation is a statistic. This means that it is calculated from only some of the individuals in a population. Since the sample standard deviation depends upon the sample, it has greater variability [16].\n",
    "\n",
    "#### When to use sample or population standard deviation?\n",
    "\n",
    "I found an article that has some example scenarios listed [15], I have included 2 below:\n",
    "\n",
    "Q. A teacher sets an exam for their pupils. The teacher wants to summarize the results the pupils attained as a mean and standard deviation. Which standard deviation should be used?\n",
    "\n",
    "A. Population standard deviation. Why? Because the teacher is only interested in this class of pupils' scores and nobody else.\n",
    "\n",
    "Q. A researcher has recruited males aged 45 to 65 years old for an exercise training study to investigate risk markers for heart disease (e.g., cholesterol). Which standard deviation would most likely be used?\n",
    "\n",
    "A. Sample standard deviation. Although not explicitly stated, a researcher investigating health related issues will not simply be concerned with just the participants of their study; they will want to show how their sample results can be generalised to the whole population (in this case, males aged 45 to 65 years old). Hence, the use of the sample standard deviation."
   ]
  },
  {
   "cell_type": "markdown",
   "metadata": {},
   "source": [
    "#### Example using STDEV.P AND STDEV.S\n",
    "\n",
    "I found a good explanation of the difference between STDEV.P and STDEV.S using a real example [4].\n",
    "\n",
    "STDEV.P can be used to calculate the standard deviation based on the entire population. The formula that is used is shown below where N is the number of values in the population. [4]."
   ]
  },
  {
   "cell_type": "code",
   "execution_count": 11,
   "metadata": {},
   "outputs": [
    {
     "data": {
      "image/png": "[encoded data removed]",
      "text/plain": [
       "<IPython.core.display.Image object>"
      ]
     },
     "execution_count": 11,
     "metadata": {
      "image/png": {
       "height": 400,
       "width": 800
      }
     },
     "output_type": "execute_result"
    }
   ],
   "source": [
    "# display the image from [4]\n",
    "Image(filename = \"img/STDEVP.PNG\", width = 800, height = 400)"
   ]
  },
  {
   "cell_type": "markdown",
   "metadata": {},
   "source": [
    "\n",
    "σ = population standard deviation\n",
    "\n",
    "N = size of the population\n",
    "\n",
    "xi = each value from the population\n",
    "\n",
    "µ = population mean\n",
    "\n",
    "\n",
    "The steps listed on this website that are performed by Excel when doing the STDEV.P calculation are:\n",
    "* Calculate the mean of the entire population\n",
    "* For each number calculate the distance from the mean\n",
    "* For each number square this distance\n",
    "* Sum these values\n",
    "* Divide by N (number of values in the population)\n",
    "* Take the square root which is the standard deviation\n",
    "\n",
    "In contrast STDEV.S is used to calculate the standard deviation when only a sample of the population is available. In this instance N-1 is used instead of N."
   ]
  },
  {
   "cell_type": "code",
   "execution_count": 12,
   "metadata": {},
   "outputs": [
    {
     "data": {
      "image/png": "[encoded data removed]",
      "text/plain": [
       "<IPython.core.display.Image object>"
      ]
     },
     "execution_count": 12,
     "metadata": {
      "image/png": {
       "height": 400,
       "width": 800
      }
     },
     "output_type": "execute_result"
    }
   ],
   "source": [
    "#display the image from [4]\n",
    "Image(filename = \"img/STDEVS.PNG\", width = 800, height = 400)"
   ]
  },
  {
   "cell_type": "markdown",
   "metadata": {},
   "source": [
    "s = sample standard deviation\n",
    "\n",
    "N = size of the sample\n",
    "\n",
    "xi = each value from the sample\n",
    "\n",
    "µ = sample mean"
   ]
  },
  {
   "cell_type": "markdown",
   "metadata": {},
   "source": [
    "#### Why n-1 for a sample standard deviation?\n",
    "\n",
    "Why do we divide by n - 1 instead of by n when we estimate the standard deviation based on a sample?\n",
    "\n",
    "Bessel's correction states that dividing by n-1 instead of by n gives a better estimation of the standard deviation [4]. \n",
    "\n",
    "When you have an entire population and calculate any parameter (like the population variance or population standard deviation), your results will be accurate. That’s because you have all the data about your population. However, when you work with a sample, you’ve only got a small fraction of the population to work with. Therefore, your answers aren’t going to be as accurate as those you would have got, if you had the entire set of data to work with. Bessel’s correction (i.e. subtracting 1 from your sample size) corrects this bias. In other words, you’ll usually get a more accurate answer if you use n-1 instead of n [17].\n",
    "\n",
    "#### One degree of freedom\n",
    "\n",
    "When we compute sample standard deviation we divide by N- 1 instead of only using N as we do when we compute population standard deviation. The reason for this is that in statistics in order to get an unbiased estimator for population standard deviation when calculating it from the sample we should be using (N-1). This is called one degree of freedom, we subtract 1 in order to get an unbiased estimator [9]."
   ]
  },
  {
   "cell_type": "markdown",
   "metadata": {},
   "source": [
    "### 3.4 numpy simulation of a population and sampling from the population\n",
    "\n",
    "*In this section I should use numpy to perform a simulation demonstrating that STDEV.S is a better estimation for the standard deviation of a population when performed on a sample.*\n",
    "\n",
    "Part of the assignment brief is to figure out the terminology of the above sentence. My interpretation of the sentence is that I should perform some tests using STDEV.S to estimate the standard deviation of a full population based on a sample generated from the population. I should then analyse the results to see is STDEV.S is a good estimation for standard deviation of a population when performed on a sample.\n",
    "\n",
    "I think in this case I need to:\n",
    "* Simulate some data for a full population using numpy.\n",
    "* Calculate the standard deviation of the entire population using STDEV.P.\n",
    "* Generate some samples from the population.\n",
    "* Use the STDEV.S calculation to estimate the standard deviation of the population based on the samples.\n",
    "* Use the STDEV.P calculation to estimate the standard deviation of the population based on the samples for comparison purposes.\n",
    "* Analyse the results."
   ]
  },
  {
   "cell_type": "markdown",
   "metadata": {},
   "source": [
    "#### Simulate an array of data with numpy.random.normal\n",
    "\n",
    "numpy.random.normal draws samples from the normal distribution [5]. I have simulated data using numpy.random.normal for a project in a previous module and so I am familiar with using numpy to simulate some data.\n",
    "\n",
    "A normal distribution often described as a bell curve distributon because of the shape, often occurs naturally within statistics. One example would be in measuring height of a group of people there would tend to be a central tendency of data with the majority of data gathering around this point.\n",
    "\n",
    "numpy.random.normal takes 3 arguments [5]:\n",
    "\n",
    "* loc : float or array_like of floats - the Mean of the distribution.\n",
    "* scale : float or array_like of floats - the Standard deviation of the distribution or in simple terms the width of the distribution.\n",
    "* size : int or tuple of ints, optional - the size of the distribution"
   ]
  },
  {
   "cell_type": "markdown",
   "metadata": {},
   "source": [
    "#### Simulate the data"
   ]
  },
  {
   "cell_type": "code",
   "execution_count": 13,
   "metadata": {},
   "outputs": [
    {
     "data": {
      "text/plain": [
       "array([ 9.98646043,  9.22901523, 11.73648533, 10.65942722,  9.32570067,\n",
       "        9.37252257,  8.62785687,  8.99237981,  9.1103737 ,  9.79066125,\n",
       "       12.1013275 , 11.83031351, 11.45128246,  8.73742623, 11.17112244,\n",
       "        9.62450699, 10.71981601, 10.91580133,  8.62006776, 11.47925777,\n",
       "       10.44559409,  8.20884873,  9.91479216,  9.17205   ,  9.98059914,\n",
       "        8.850202  , 10.59072138, 11.24324235, 10.14169854,  8.61147138,\n",
       "       12.42702378, 10.57953189, 11.18246952, 10.53171745, 11.56076216,\n",
       "       10.85155947, 10.39795928, 10.12972995,  7.53951582, 10.17617699,\n",
       "        8.74886873,  9.44982512, 10.49581411,  8.91537334, 11.36696158,\n",
       "       10.58499938, 10.0116395 , 10.54777049,  8.2282282 ,  9.41348915,\n",
       "       11.25482242,  8.3819778 , 10.53013235,  9.56444903, 10.68144219,\n",
       "        8.58399739,  9.14213984,  7.57501791,  8.48817764, 10.46717569,\n",
       "       10.42439476, 11.77927178,  9.83283748,  9.7119622 , 10.60324807,\n",
       "        9.75326877,  8.20905067, 10.77441379, 10.40888994, 10.99498302,\n",
       "        9.78196232, 10.76999485, 10.6611326 , 11.34678429,  9.8305868 ,\n",
       "       10.43855329,  8.90505375, 10.42703099, 10.24773042, 11.61288888,\n",
       "        8.5119406 ,  8.4427305 ,  8.70605232,  8.78430692, 10.1028151 ,\n",
       "       10.53337868,  9.0718022 ,  9.28998558, 11.9522295 ,  7.77892416,\n",
       "       11.80955924, 10.14778876, 10.0996067 ,  9.92569158,  9.44535152,\n",
       "        9.70589488,  9.37359273,  9.39085666,  8.45703172, 10.50648521,\n",
       "       10.58445028, 10.57381304,  9.15693881,  9.92736791,  9.93947868,\n",
       "        9.21997206, 10.20450132, 10.98456181, 10.71948658, 10.0813891 ,\n",
       "        8.72730415,  8.03273772,  9.76338984, 10.69350327, 11.19344501,\n",
       "        9.18556515, 10.4952866 , 10.41478996, 10.04297034,  9.97069452,\n",
       "       10.20106976, 10.46598238, 11.23370331, 10.23243842, 11.04644821,\n",
       "        9.84774157, 11.14454276,  8.71898041, 10.58350027, 10.46399748,\n",
       "        9.57916064, 10.51862699,  9.9992764 ,  9.49243472,  8.07246077,\n",
       "       10.89031584,  9.19980918,  9.3246749 ,  9.82426712,  9.85769015,\n",
       "        9.56920017,  9.3850787 , 11.28329947,  8.66770793, 12.25877937,\n",
       "       10.58093562, 11.35338456, 10.8495559 , 11.48644862, 10.10768105,\n",
       "       10.62003924,  9.10732268, 10.04801649,  9.69406684,  9.13935177,\n",
       "        9.22803464, 10.79208242,  8.70673402, 10.89290991, 12.08978778,\n",
       "       10.42353014,  8.96131077, 12.61045014,  8.49186481, 10.93572237,\n",
       "       12.12701735,  9.96488437, 11.26864565, 10.14895177, 10.36208076,\n",
       "       10.36173565, 10.43636437, 10.82850816, 12.20020335, 10.33862023,\n",
       "       10.83077859, 11.07220144,  8.5838152 , 10.02064908, 11.43118326,\n",
       "       10.23846599, 11.20790666,  8.71561051, 10.92234663,  9.15666852,\n",
       "        8.75866898, 10.65314312, 11.47811821,  9.31501226, 11.1838909 ,\n",
       "        9.84532897,  9.81989664,  8.66236326,  9.79000136, 10.11787017,\n",
       "        8.86277274, 12.33817581, 11.75664833, 10.23708714,  9.74964872,\n",
       "       10.07980672,  9.47077051,  8.93761251, 10.7779182 ,  9.91686421,\n",
       "       10.47196648, 10.08832671,  8.88591064, 11.09680821,  8.59155788,\n",
       "       11.16028763,  9.54493331, 11.15989557,  9.85783357,  8.74799498,\n",
       "       10.71539549, 11.40528112,  8.50469024, 11.4229971 , 10.1128087 ,\n",
       "       11.40405867,  9.44253256, 11.02652853, 10.01605527, 11.34640166,\n",
       "       12.12167503,  9.4954173 ,  9.49694782, 11.06421592,  8.14004511,\n",
       "        9.89026509, 10.95720288, 11.68953697, 10.09305511, 10.22198015,\n",
       "       11.47356647, 11.26911305, 10.61206507,  8.8656764 , 10.95514559,\n",
       "        9.93421776, 11.66925248, 11.00080741, 10.8231006 , 10.69052492,\n",
       "       10.8894956 ,  9.47085015, 11.16507753,  9.68498213,  9.84580788,\n",
       "       11.02933541, 11.31351715, 10.93293515, 10.79036319,  9.77816042,\n",
       "        9.89768969, 10.15917519, 10.10232205, 10.20640287, 10.28421074,\n",
       "       10.93944285, 12.4662442 , 10.21845859, 10.49643436,  9.82250298,\n",
       "       10.05972113,  9.49401223, 10.0734731 , 10.47199717, 10.62098205,\n",
       "       10.5935795 ,  8.60005685, 10.85077564, 10.68388324,  8.6371306 ,\n",
       "       11.23355758,  9.8784209 ,  9.90640642,  9.75643221,  9.93062085,\n",
       "        8.63353832, 10.36910499, 10.05849756,  8.48174404, 11.22404379,\n",
       "       11.19029526, 11.08821034,  9.89273332, 10.90743805, 11.04325657,\n",
       "        7.8930426 , 10.7518143 , 11.33930003,  9.92300936,  9.60398232,\n",
       "       10.92493094,  9.26187345,  9.15194654, 13.2043349 ,  9.54475914,\n",
       "       10.03213726,  9.99940916, 10.87268258,  9.63343944,  9.53813818,\n",
       "        8.53439169, 10.9655292 , 11.1512779 ,  8.82256123, 10.17416824,\n",
       "        9.72732418, 10.05141903,  9.01241706, 10.39179955, 11.72019373,\n",
       "        9.36071118,  9.68141731, 10.89521474,  9.969378  , 10.88827985,\n",
       "        9.1544043 , 11.16868113,  9.06112207, 10.76029047,  7.48396426,\n",
       "       12.1867149 ,  9.02299273,  7.44542541,  9.72590296,  8.79746107,\n",
       "        9.21129388,  9.12698398, 11.16951243, 11.18120633, 10.03722649,\n",
       "       10.23481451,  9.91950325, 10.47323488,  9.64304501, 10.20831084,\n",
       "        9.24858522,  9.33924163, 11.42472549,  9.49607513,  8.92254175,\n",
       "        9.38653579,  9.39870583, 11.78240508, 11.69460018, 10.51730994,\n",
       "        9.50558877,  9.64091684, 10.64024443, 12.66826338, 11.20418913,\n",
       "       10.58268375, 10.14580097,  9.72432854, 11.45459713,  9.60256968,\n",
       "        9.99300009, 10.23319136, 10.29046886, 11.49766052,  9.04407296,\n",
       "       10.96053642,  9.81225735,  8.44735875,  9.78691492, 10.28191375,\n",
       "       10.15535826, 10.72293591, 10.1592965 ,  8.59799218,  9.91932662,\n",
       "       10.01485953, 10.37980825, 10.60454104, 10.22832206,  8.56125927,\n",
       "       10.6577982 ,  8.8982324 , 10.98382409,  8.36083821, 10.02455454,\n",
       "       10.45102726, 10.55788042, 10.58654581, 10.20109909,  7.82273198,\n",
       "       10.15496551, 10.03181609, 12.92226281, 11.56683482,  8.73531731,\n",
       "       10.17045314,  9.59415796, 11.08243906,  9.46867036,  8.96939325,\n",
       "        9.61935338, 10.47956552, 10.05637014,  8.5127071 , 11.00441141,\n",
       "        8.23345069, 11.21326826,  7.73994829, 10.22887368, 10.7925673 ,\n",
       "        9.41935366,  9.42550055,  8.82768517, 11.57051534,  9.82204809,\n",
       "       10.47809318,  8.75275998, 10.44984246,  9.94811632,  9.73532687,\n",
       "        9.82504485, 10.202085  , 10.40757028,  8.46277691, 10.08185792,\n",
       "       10.49948517,  7.74093265, 10.37901058, 10.90647728,  9.59176722,\n",
       "       10.86431142,  9.4785559 , 12.16249664,  9.30375038, 10.04897047,\n",
       "       11.46868394,  9.71176151,  9.90028349, 11.39076964,  9.38895618,\n",
       "        9.52404992,  9.981946  ,  9.82462663, 10.86905368, 10.73374822,\n",
       "        8.97434776,  9.40503059, 11.3403642 ,  9.00979994, 10.36140526,\n",
       "       11.61900376,  9.66532259, 10.52357434, 10.75400481,  8.00216666,\n",
       "       10.67210881,  9.7011478 ,  7.81483448,  8.9685654 , 11.95685209,\n",
       "       10.21928882, 11.61751865,  8.99482937, 10.34575629,  9.64005669,\n",
       "       10.28698516,  9.91717259,  9.552202  ,  8.51032617,  9.27094411,\n",
       "        9.97511446, 10.65981703, 12.15582804, 11.01244321, 10.00375244,\n",
       "       11.87690231,  9.54358762, 11.60739458,  9.42425781,  8.41349395,\n",
       "       10.69126309, 11.03620303,  9.9640939 , 10.87060514,  8.84273349,\n",
       "        9.57275811,  9.06962144, 10.89205563, 10.56878167,  9.64970651,\n",
       "       11.82346521, 11.38396642, 12.2373841 ,  7.58413326, 10.48584348,\n",
       "        8.02750752,  7.98086743,  9.19468174,  9.88750891,  9.37021697,\n",
       "       11.37142191, 10.52529853,  9.90357075,  9.7324711 ,  8.95489971,\n",
       "        8.66508834,  9.30872953,  9.51997557, 10.04001198, 10.76651328,\n",
       "        9.99990571, 10.63350085,  9.88174913, 10.01844143, 11.27120765,\n",
       "       10.22232901, 11.56234444,  9.48596798,  9.07907892,  9.7969538 ,\n",
       "       10.03744467,  8.92952137,  9.13913255,  9.09731082,  8.91956556,\n",
       "       11.29767491,  9.7067323 ,  9.46631139,  9.59234591,  9.51345073,\n",
       "       10.58448164, 10.70922519, 10.72987296, 10.13582172,  8.96300755,\n",
       "       10.13700677,  9.98841378, 12.02919454, 10.71541494,  8.75069071,\n",
       "        9.66139711,  9.23831813, 12.2756749 ,  9.21088305, 10.63433795,\n",
       "        8.63954899,  9.53007575,  8.31924134, 10.60235314,  7.43411575,\n",
       "       11.07607667,  8.3927598 ,  9.78683026, 10.84838451,  9.23164767,\n",
       "       10.6023382 , 10.78317467, 10.05850966,  8.90495271,  9.80204599,\n",
       "        8.76228912, 10.40037738, 10.93380141,  9.25061909, 10.82282733,\n",
       "       10.31546712, 10.12411027,  9.95941549, 10.20859313,  9.59912273,\n",
       "       10.34029139, 11.11535776,  9.89499778,  9.94250628, 11.70583552,\n",
       "       10.75560983, 10.25543642, 11.75471699, 10.63338205,  6.8365952 ,\n",
       "        9.8796045 , 10.02225449,  8.13120557,  9.30542415, 10.25550956,\n",
       "       10.21015937, 10.44142073,  9.07002905, 10.12259194,  9.63274579,\n",
       "       11.72313763,  8.7525445 ,  9.28316222,  8.07918084,  9.8699921 ,\n",
       "        9.54176891, 10.47442943, 10.43801617,  6.77551631,  9.54677652,\n",
       "       10.05784016, 11.9081152 , 10.74037879,  9.51911075,  8.69208867,\n",
       "       11.36732838, 10.37810609,  9.6444029 ,  9.96406493,  8.86967563,\n",
       "       10.31543165,  9.98854965, 10.49656319,  9.98123471,  9.78574149,\n",
       "        9.27170318, 10.13897095,  9.94835852, 10.53906019, 11.19179059,\n",
       "        9.07745095, 10.36139923, 10.25458466,  9.59617012, 11.14774083,\n",
       "       10.82782654, 10.79816957, 10.9229865 ,  8.81158359, 10.81982773,\n",
       "        9.76404556,  9.53415309,  9.32518845,  9.27237957,  9.74938874,\n",
       "       10.38172802, 10.66556558,  9.21479455,  9.89024083, 10.79235401,\n",
       "        8.28270883,  9.40085659,  8.17494658, 10.50350042,  9.44023395,\n",
       "       11.06092691, 10.4834088 ,  8.75677259, 10.51831146, 11.00901613,\n",
       "        9.95871285, 11.47689849,  9.04311916,  9.26650133, 10.55894908,\n",
       "       10.74466958,  9.41780267,  7.19421439, 10.9027551 , 10.69690373,\n",
       "        9.72780553, 10.06124328, 10.98716081, 10.318255  , 10.73484131,\n",
       "       10.79505069, 10.54966804,  8.9406455 , 11.69870387, 11.11332175,\n",
       "       11.73312243,  9.31323795, 10.45650221,  9.94094186, 10.56727891,\n",
       "       10.85545504,  9.52684679, 10.95927941,  9.55119993, 10.71091708,\n",
       "       10.58391729, 10.82734224, 10.02167928,  8.87522948,  8.46471432,\n",
       "       11.95624282,  8.36123236, 10.09202989, 10.3219208 ,  8.73285853,\n",
       "       11.01638323, 10.82696527,  9.6359562 , 10.36760874,  9.15245757,\n",
       "        9.17378094,  9.87476143,  8.65607568, 11.24022074,  9.93242992,\n",
       "       11.17692909,  9.21812535, 11.38872917,  9.29395704,  7.8301419 ,\n",
       "        8.77204045,  8.55999948, 11.29049025,  9.41096732,  8.93434594,\n",
       "       10.34855453,  8.91917319, 10.17707646,  9.7600526 ,  9.06142777,\n",
       "       10.22429408,  9.20639262, 11.02094216, 10.15235623, 10.5037384 ,\n",
       "       10.98375304, 10.93411822, 11.08574099,  9.82446064, 10.32644316,\n",
       "        9.78055268,  9.30748876, 10.30356827, 10.17252881,  8.87056896,\n",
       "       11.14366146,  9.30520749,  9.44810534, 10.12220685,  9.08553283,\n",
       "       11.23058153, 10.0941586 ,  8.64884535,  9.35770497, 10.13262162,\n",
       "       10.92462735, 11.53918399,  9.39469492, 12.19585313, 10.88191208,\n",
       "        9.14054853,  9.74123504,  9.8281085 , 10.18491816, 10.12433065,\n",
       "       10.01510536,  9.66491123,  9.70923322,  9.08569741,  9.18200688,\n",
       "       10.36003183, 11.98522464, 11.90888224,  8.84870646, 11.6990507 ,\n",
       "       10.96967443,  9.50895324,  9.72757666, 10.5693775 ,  9.11271196,\n",
       "       10.85932366,  9.41204622,  9.76869719, 12.27647564,  9.51925032,\n",
       "        8.76430481, 10.36895304,  8.52732717, 10.32768871,  9.52876142,\n",
       "        9.74362004, 10.87611758,  8.82860224,  9.77771889,  8.7516642 ,\n",
       "       11.6387202 , 10.01001533, 10.95888787, 10.14121939, 10.24462512,\n",
       "       10.13993668,  7.81789614,  9.26058723,  9.74254778, 10.06350466,\n",
       "        8.91868713, 12.27309128, 11.59598091,  9.02307557,  9.427696  ,\n",
       "       10.65034581, 10.06576367,  9.60558259,  9.10019916,  7.85599711,\n",
       "       11.10567799,  9.137101  , 10.14518007, 10.5833544 , 10.07644717,\n",
       "        9.64335993, 11.23756489,  9.86741103,  8.70164802, 10.33695622,\n",
       "       10.32367366,  8.97134467,  8.69179196, 10.25194094,  9.05531813,\n",
       "        9.12773663, 10.18630015,  8.829888  ,  9.7553771 ,  9.84984286,\n",
       "        7.93590906, 10.10019125, 10.74204659,  9.77030049,  9.29023618,\n",
       "       11.89448098,  9.37794449, 10.22515505, 10.12323562, 10.40716077,\n",
       "       10.59901609, 11.18493818,  8.0801514 , 10.18925671, 10.89631665,\n",
       "       10.49103071, 11.40631841, 10.04527491,  9.70461192,  9.5370135 ,\n",
       "       11.148584  ,  8.94848091, 10.16816073,  9.63257133, 10.73792575,\n",
       "       10.7636938 , 10.27553113, 10.09811922, 10.59311327, 10.45685021,\n",
       "        9.95694561, 11.53677118, 10.73005463, 10.60213686,  8.57371247,\n",
       "        8.89446798,  8.39313816,  9.77569254,  8.75495699, 10.28046379,\n",
       "       10.43871392,  8.42427622,  9.33457804,  9.63134422, 10.40955429,\n",
       "        9.505935  ,  9.64491692,  9.67017099,  9.61079372,  9.73042831,\n",
       "        9.69263664,  9.51591652, 10.95600665, 11.21887322, 11.3433303 ,\n",
       "        9.17812436, 10.58572042, 11.04918493,  8.62996811, 10.43032837,\n",
       "        9.44264538, 10.20864582,  9.4382993 ,  9.00463376, 10.09235163,\n",
       "        9.28868064, 10.19926568,  9.30560042, 10.3219441 , 10.26316283,\n",
       "       10.6731817 ,  9.53862813, 10.3466626 ,  7.82119262,  9.83866442,\n",
       "        9.676654  ,  8.63113003, 11.22264404,  8.42849887, 10.59720007,\n",
       "        9.87211791, 11.30759954,  9.58185498,  8.82385402, 10.9976273 ,\n",
       "       10.19086826,  9.57042504,  8.15101018,  9.94083256, 12.28016085,\n",
       "        8.86991707,  9.50375514, 11.45973824, 10.6213465 ,  9.28178317,\n",
       "       11.54823667, 10.65462618,  9.16966399, 11.51652697,  9.14542626,\n",
       "        8.4866212 , 11.49715208,  7.82199356, 11.90936515,  9.9164519 ,\n",
       "       10.13457496,  9.07351389,  9.72111868,  8.77422287, 10.25768385,\n",
       "        7.825958  ,  9.2400429 , 10.53287488,  8.92425291,  9.81070179,\n",
       "       10.42319076,  8.69506311,  8.96029619,  9.69187132, 10.24429637,\n",
       "        9.49953284,  8.68602939, 12.33257789, 10.82869739, 10.91003062,\n",
       "        9.69996219,  9.29458527, 10.47996278,  9.61884944, 10.11630336,\n",
       "       10.04430997,  8.41000935,  8.74969594,  8.54420369, 10.01457057,\n",
       "        9.89425317,  9.03001886, 10.8796983 ,  9.52752636,  9.25567694,\n",
       "       10.35564785,  9.39088956,  9.35599074, 11.50229464,  8.69104269,\n",
       "       11.39466637,  9.54021594,  8.26214048, 10.7728256 ,  9.86524987,\n",
       "       10.8582311 ,  7.50356178, 10.41969663,  8.9407989 ,  9.84533955,\n",
       "        9.06680386, 11.20401976, 11.8628505 , 10.54902596, 10.30296405,\n",
       "       10.41886903,  9.09742552,  8.86978395, 10.18423411, 10.33279717,\n",
       "        9.87013209,  9.79688539,  9.38239613, 11.46583278,  9.8528511 ,\n",
       "       10.82075717, 10.55820273,  8.94987444,  9.69673441, 10.34353675,\n",
       "        8.94775372,  9.74925602, 10.81790568,  9.58554033,  9.45557004])"
      ]
     },
     "execution_count": 13,
     "metadata": {},
     "output_type": "execute_result"
    }
   ],
   "source": [
    "# set the mean, standard deviation and size of population\n",
    "mean = 10\n",
    "stddev = 1 \n",
    "# N = 100\n",
    "N = 1000\n",
    "# simulate the data with numpy.random.normal\n",
    "# numpy already imported in task 2 \n",
    "population = np.random.normal(mean, stddev, N)\n",
    "# display the population \n",
    "population"
   ]
  },
  {
   "cell_type": "code",
   "execution_count": 14,
   "metadata": {},
   "outputs": [
    {
     "data": {
      "text/plain": [
       "1000"
      ]
     },
     "execution_count": 14,
     "metadata": {},
     "output_type": "execute_result"
    }
   ],
   "source": [
    "# check the size of the population\n",
    "len(population)"
   ]
  },
  {
   "cell_type": "markdown",
   "metadata": {},
   "source": [
    "#### Plot the data"
   ]
  },
  {
   "cell_type": "code",
   "execution_count": 15,
   "metadata": {},
   "outputs": [
    {
     "data": {
      "image/png": "[encoded data removed]",
      "text/plain": [
       "<Figure size 1440x720 with 1 Axes>"
      ]
     },
     "metadata": {
      "needs_background": "light"
     },
     "output_type": "display_data"
    }
   ],
   "source": [
    "# import matplotlib.pyplot\n",
    "import matplotlib.pyplot as plt\n",
    "\n",
    "# rc params to customize plot appearance: https://matplotlib.org/tutorials/introductory/customizing.html\n",
    "plt.rcParams['figure.figsize'] = (20, 10)\n",
    "plt.rcParams['lines.linewidth'] = 2.5\n",
    "\n",
    "# plot a histogram of the data\n",
    "plt.hist(population)\n",
    "# add title and axis labels \n",
    "plt.title('Plot of simulated population', fontsize =20)\n",
    "plt.xlabel('Spread of values from the mean', fontsize = 16)\n",
    "plt.ylabel('Number of data points', fontsize = 16)\n",
    "# add a grid and display the plot\n",
    "plt.grid()\n",
    "plt.show()"
   ]
  },
  {
   "cell_type": "markdown",
   "metadata": {},
   "source": [
    "#### Calculate the standard deviation using numpy\n",
    "\n",
    "*I already know the standard deviation as I set it when simulating the data but I want to see what the STDEV.P and STDEV.S formulas return for standard deviation on the full population.*\n",
    "\n",
    "As detailed in the task specification \n",
    " \n",
    "STDEV.P is calculated by numpy using the formula:\n",
    "\n",
    "np.sqrt(np.sum((x - np.mean(x))**2)/len(x))"
   ]
  },
  {
   "cell_type": "code",
   "execution_count": 16,
   "metadata": {},
   "outputs": [
    {
     "data": {
      "text/plain": [
       "0.9990279836250523"
      ]
     },
     "execution_count": 16,
     "metadata": {},
     "output_type": "execute_result"
    }
   ],
   "source": [
    "# STDEV.P formula to calculate standard deviation\n",
    "np.sqrt(np.sum((population - np.mean(population))**2)/len(population))"
   ]
  },
  {
   "cell_type": "markdown",
   "metadata": {},
   "source": [
    "STDEV.S is calculated by numpy using the formula:\n",
    " \n",
    "np.sqrt(np.sum((x - np.mean(x))**2)/len(x)-1)\n",
    "\n",
    "I have realised that I am missing a set of parenthesis in the above formula and it should be:\n",
    "\n",
    "np.sqrt(np.sum((x - np.mean(x))**2)/(len(x)-1))\n",
    "\n",
    "The results were inaccuarte before this fix."
   ]
  },
  {
   "cell_type": "code",
   "execution_count": 17,
   "metadata": {},
   "outputs": [],
   "source": [
    "# STDEV.S formula to calculate standard deviation\n",
    "#np.sqrt(np.sum((population - np.mean(population))**2)/len(population)-1)\n",
    "# I realised I had to wrap the len(population)-1 in an extra set of parenthesis"
   ]
  },
  {
   "cell_type": "code",
   "execution_count": 18,
   "metadata": {},
   "outputs": [
    {
     "data": {
      "text/plain": [
       "0.9995278725648283"
      ]
     },
     "execution_count": 18,
     "metadata": {},
     "output_type": "execute_result"
    }
   ],
   "source": [
    "# STDEV.S formula to calculate standard deviation\n",
    "np.sqrt(np.sum((population - np.mean(population))**2)/(len(population)-1))"
   ]
  },
  {
   "cell_type": "markdown",
   "metadata": {},
   "source": [
    "**Which is more accurate?**\n",
    "\n",
    "*I will use numpy.std to calculate the standard deviation of the randomly generated array of data*"
   ]
  },
  {
   "cell_type": "code",
   "execution_count": 19,
   "metadata": {},
   "outputs": [
    {
     "data": {
      "text/plain": [
       "0.9990279836250523"
      ]
     },
     "execution_count": 19,
     "metadata": {},
     "output_type": "execute_result"
    }
   ],
   "source": [
    "# calculate the standard deviation with built in numpy std function\n",
    "np.std(population)"
   ]
  },
  {
   "cell_type": "markdown",
   "metadata": {},
   "source": [
    "I read that numpy can calulate the standard deviation with one degree of freedom added [9]. This gives the same result as the STDEV.S calculation. "
   ]
  },
  {
   "cell_type": "code",
   "execution_count": 20,
   "metadata": {},
   "outputs": [
    {
     "data": {
      "text/plain": [
       "0.9995278725648283"
      ]
     },
     "execution_count": 20,
     "metadata": {},
     "output_type": "execute_result"
    }
   ],
   "source": [
    "# calculate the standard deviation with built in numpy std with one degree of freedom added \n",
    "np.std(population, ddof = 1)"
   ]
  },
  {
   "cell_type": "markdown",
   "metadata": {},
   "source": [
    "When calculating standard deviation of full population of data STDEV.P is more accurate than STDEV.S\n",
    "\n",
    "I have verified the statement from the Micrososft support pages [1]:\n",
    "\n",
    "STDEV.S assumes that its arguments are a sample of the population. If your data represents the entire population, then compute the standard deviation using STDEV.P."
   ]
  },
  {
   "cell_type": "markdown",
   "metadata": {},
   "source": [
    "#### Generate samples of the population and use STDEV.P and STDEV.S to calculate standard deviation\n",
    "\n",
    "I will use numpy.random.choice to choose random values from my full population of 1000 to create samples of different sizes [18]. numpy.random.choice generates a random sample from a given one dimensional array.\n",
    "\n",
    "I will then use the STDEV.S and STDEV.P calculations to estimate the standard deviation of the population based on each sample size and see what the results show."
   ]
  },
  {
   "cell_type": "code",
   "execution_count": 21,
   "metadata": {},
   "outputs": [],
   "source": [
    "# commented out, more efficient to generate different sample sizes in a loop\n",
    "\n",
    "# numpy.random.choice to generate samples from the full population of 100 [18]\n",
    "#sample5 = np.random.choice(population, size=5)\n",
    "#sample10 = np.random.choice(population, size=10)\n",
    "#sample20 = np.random.choice(population, size=20)\n",
    "#sample30 = np.random.choice(population, size=30)\n",
    "#sample40 = np.random.choice(population, size=40)\n",
    "#sample50 = np.random.choice(population, size=50)\n",
    "#sample60 = np.random.choice(population, size=60)\n",
    "#sample80 = np.random.choice(population, size=80)"
   ]
  },
  {
   "cell_type": "markdown",
   "metadata": {},
   "source": [
    "#### Steps Involved\n",
    "\n",
    "* I have created an array of sample sizes and looped through the array each time generating an array of the sample size using numpy.random.choice. The replace argument has been set to true so the same values can be selected for different sample sizes.\n",
    "* On each iteration of the loop I have calculated the standard deviation using STDEV.P and STDEV.S calculations and appended the results to an empty array.\n",
    "* I have added the standard deviation of the full population as calculated by STDEV.P to an array at each iteration, solely for the purpose of comparison to the result of STDEV.P and STDEV.S for each sample size.\n",
    "* I have compared the STDEV.P and STDEV.S estimates for standard deviation based on samples to the actual population standard deviation calculated using STDEV.P for comparison purposes.\n",
    "* I have created a pandas dataframe and added the results for each sample size to the dataframe for ease of viewing and comparison."
   ]
  },
  {
   "cell_type": "code",
   "execution_count": 22,
   "metadata": {},
   "outputs": [],
   "source": [
    "# create an array of sample sizes \n",
    "#sample_sizes = [5, 10, 15, 20, 25, 40, 50, 60, 75, 80, 90]\n",
    "sample_sizes = [50, 100, 150, 200, 250, 400, 500, 600, 750, 800, 900]\n",
    "\n",
    "# create an empty array to append the results to\n",
    "# pop will contain the STDEV.P calculation for each sample size \n",
    "pop = []\n",
    "# samp will contain the STDEV.S calculation for each sample size\n",
    "samp = []\n",
    "# pop_stddev will contain the standard deviation of the entire population for each sample size, for comparison purposes\n",
    "pop_stddev = []\n",
    "# append the difference between the actual population standard deviation and the STDEV.P estimate\n",
    "P_difference = []\n",
    "# append the difference between the actual population standard deviation and the STDEV.S estimate\n",
    "S_difference = []\n",
    "\n",
    "\n",
    "# loop through the sample sizes \n",
    "for s in sample_sizes:\n",
    "    # for each sample size numpy.random.choice will generate a random sample from population of that size\n",
    "    sample = np.random.choice(population, size = s, replace = True)\n",
    "    # calculate the standard deviation using the STDEV.P formula\n",
    "    P = np.sqrt(np.sum((sample - np.mean(sample))**2)/len(sample))\n",
    "    # calculate the standard deviation using the STDEV.S formula\n",
    "    S = np.sqrt(np.sum((sample - np.mean(sample))**2)/(len(sample)-1))\n",
    "    # This is the standard deviation of the entire population generated by the STDEV.P calculation\n",
    "    total = np.sqrt(np.sum((population - np.mean(population))**2)/len(population))\n",
    "    # calculate the difference between the standard deviation of population and STDEV.P estimate based on sample\n",
    "    P_diff = abs(total - P)\n",
    "    # calculate the difference between the standard deviation of population and STDEV.S estimate based on sample\n",
    "    S_diff = abs(total - S)\n",
    "    # append the results for the STDEV.P and STDEV.S calculations to the empty arrays created earlier \n",
    "    pop.append(P)\n",
    "    samp.append(S)\n",
    "    # append the actual standard deviation of the full population to the array created earlier\n",
    "    pop_stddev.append(total)\n",
    "    # append the difference between the actual population standard deviation and the STDEV.P and STDEV.S estimates\n",
    "    P_difference.append(P_diff)\n",
    "    S_difference.append(S_diff)"
   ]
  },
  {
   "cell_type": "code",
   "execution_count": 23,
   "metadata": {},
   "outputs": [
    {
     "data": {
      "text/plain": [
       "[1.0353758313347974,\n",
       " 1.0774849342115123,\n",
       " 0.98857343555052,\n",
       " 1.0068632072333352,\n",
       " 0.9999432432943746,\n",
       " 0.9843201677200986,\n",
       " 0.9698972363567019,\n",
       " 1.0287720200186246,\n",
       " 1.0318061965477445,\n",
       " 1.0063754066800832,\n",
       " 0.9962818558773724]"
      ]
     },
     "execution_count": 23,
     "metadata": {},
     "output_type": "execute_result"
    }
   ],
   "source": [
    "# display the STDEV.P standard deviation calculated \n",
    "pop"
   ]
  },
  {
   "cell_type": "code",
   "execution_count": 24,
   "metadata": {},
   "outputs": [
    {
     "data": {
      "text/plain": [
       "[1.045887530590706,\n",
       " 1.082913104254654,\n",
       " 0.9918852486313667,\n",
       " 1.0093898440974298,\n",
       " 1.001949149509537,\n",
       " 0.98555287974693,\n",
       " 0.9708685908679071,\n",
       " 1.029630403163387,\n",
       " 1.0324947559814341,\n",
       " 1.0070049815972635,\n",
       " 0.9968358074663953]"
      ]
     },
     "execution_count": 24,
     "metadata": {},
     "output_type": "execute_result"
    }
   ],
   "source": [
    "# display the STDEV.S standard deviation calculated \n",
    "samp"
   ]
  },
  {
   "cell_type": "code",
   "execution_count": 25,
   "metadata": {},
   "outputs": [
    {
     "data": {
      "text/plain": [
       "[0.9990279836250523,\n",
       " 0.9990279836250523,\n",
       " 0.9990279836250523,\n",
       " 0.9990279836250523,\n",
       " 0.9990279836250523,\n",
       " 0.9990279836250523,\n",
       " 0.9990279836250523,\n",
       " 0.9990279836250523,\n",
       " 0.9990279836250523,\n",
       " 0.9990279836250523,\n",
       " 0.9990279836250523]"
      ]
     },
     "execution_count": 25,
     "metadata": {},
     "output_type": "execute_result"
    }
   ],
   "source": [
    "# display the standard deviation of the full population calculated using the STDEV.P calculation\n",
    "pop_stddev"
   ]
  },
  {
   "cell_type": "code",
   "execution_count": 26,
   "metadata": {},
   "outputs": [
    {
     "data": {
      "text/plain": [
       "[0.036347847709745085,\n",
       " 0.07845695058645996,\n",
       " 0.010454548074532277,\n",
       " 0.007835223608282926,\n",
       " 0.0009152596693222659,\n",
       " 0.014707815904953736,\n",
       " 0.02913074726835041,\n",
       " 0.02974403639357226,\n",
       " 0.03277821292269223,\n",
       " 0.007347423055030888,\n",
       " 0.002746127747679905]"
      ]
     },
     "execution_count": 26,
     "metadata": {},
     "output_type": "execute_result"
    }
   ],
   "source": [
    "# difference between STDEV.P of sample and STDEV.P of full population\n",
    "P_difference"
   ]
  },
  {
   "cell_type": "code",
   "execution_count": 27,
   "metadata": {},
   "outputs": [
    {
     "data": {
      "text/plain": [
       "[0.04685954696565375,\n",
       " 0.08388512062960174,\n",
       " 0.007142734993685562,\n",
       " 0.010361860472377526,\n",
       " 0.0029211658844846555,\n",
       " 0.013475103878122341,\n",
       " 0.028159392757145185,\n",
       " 0.030602419538334646,\n",
       " 0.033466772356381846,\n",
       " 0.007976997972211186,\n",
       " 0.0021921761586569666]"
      ]
     },
     "execution_count": 27,
     "metadata": {},
     "output_type": "execute_result"
    }
   ],
   "source": [
    "# difference between STDEV.S sample and STDEV.P of full population\n",
    "S_difference"
   ]
  },
  {
   "cell_type": "markdown",
   "metadata": {},
   "source": [
    "#### Display the results in a pandas dataframe"
   ]
  },
  {
   "cell_type": "code",
   "execution_count": 28,
   "metadata": {},
   "outputs": [
    {
     "data": {
      "text/html": [
       "<div>\n",
       "<style scoped>\n",
       "    .dataframe tbody tr th:only-of-type {\n",
       "        vertical-align: middle;\n",
       "    }\n",
       "\n",
       "    .dataframe tbody tr th {\n",
       "        vertical-align: top;\n",
       "    }\n",
       "\n",
       "    .dataframe thead th {\n",
       "        text-align: right;\n",
       "    }\n",
       "</style>\n",
       "<table border=\"1\" class=\"dataframe\">\n",
       "  <thead>\n",
       "    <tr style=\"text-align: right;\">\n",
       "      <th>Sample Size</th>\n",
       "      <th>50</th>\n",
       "      <th>100</th>\n",
       "      <th>150</th>\n",
       "      <th>200</th>\n",
       "      <th>250</th>\n",
       "      <th>400</th>\n",
       "      <th>500</th>\n",
       "      <th>600</th>\n",
       "      <th>750</th>\n",
       "      <th>800</th>\n",
       "      <th>900</th>\n",
       "    </tr>\n",
       "  </thead>\n",
       "  <tbody>\n",
       "    <tr>\n",
       "      <th>STDEV.P Sample</th>\n",
       "      <td>1.035376</td>\n",
       "      <td>1.077485</td>\n",
       "      <td>0.988573</td>\n",
       "      <td>1.006863</td>\n",
       "      <td>0.999943</td>\n",
       "      <td>0.984320</td>\n",
       "      <td>0.969897</td>\n",
       "      <td>1.028772</td>\n",
       "      <td>1.031806</td>\n",
       "      <td>1.006375</td>\n",
       "      <td>0.996282</td>\n",
       "    </tr>\n",
       "    <tr>\n",
       "      <th>STDEV.S Sample</th>\n",
       "      <td>1.045888</td>\n",
       "      <td>1.082913</td>\n",
       "      <td>0.991885</td>\n",
       "      <td>1.009390</td>\n",
       "      <td>1.001949</td>\n",
       "      <td>0.985553</td>\n",
       "      <td>0.970869</td>\n",
       "      <td>1.029630</td>\n",
       "      <td>1.032495</td>\n",
       "      <td>1.007005</td>\n",
       "      <td>0.996836</td>\n",
       "    </tr>\n",
       "    <tr>\n",
       "      <th>STDEV.P Population</th>\n",
       "      <td>0.999028</td>\n",
       "      <td>0.999028</td>\n",
       "      <td>0.999028</td>\n",
       "      <td>0.999028</td>\n",
       "      <td>0.999028</td>\n",
       "      <td>0.999028</td>\n",
       "      <td>0.999028</td>\n",
       "      <td>0.999028</td>\n",
       "      <td>0.999028</td>\n",
       "      <td>0.999028</td>\n",
       "      <td>0.999028</td>\n",
       "    </tr>\n",
       "    <tr>\n",
       "      <th>STDEV.P difference</th>\n",
       "      <td>0.036348</td>\n",
       "      <td>0.078457</td>\n",
       "      <td>0.010455</td>\n",
       "      <td>0.007835</td>\n",
       "      <td>0.000915</td>\n",
       "      <td>0.014708</td>\n",
       "      <td>0.029131</td>\n",
       "      <td>0.029744</td>\n",
       "      <td>0.032778</td>\n",
       "      <td>0.007347</td>\n",
       "      <td>0.002746</td>\n",
       "    </tr>\n",
       "    <tr>\n",
       "      <th>STDEV.S difference</th>\n",
       "      <td>0.046860</td>\n",
       "      <td>0.083885</td>\n",
       "      <td>0.007143</td>\n",
       "      <td>0.010362</td>\n",
       "      <td>0.002921</td>\n",
       "      <td>0.013475</td>\n",
       "      <td>0.028159</td>\n",
       "      <td>0.030602</td>\n",
       "      <td>0.033467</td>\n",
       "      <td>0.007977</td>\n",
       "      <td>0.002192</td>\n",
       "    </tr>\n",
       "  </tbody>\n",
       "</table>\n",
       "</div>"
      ],
      "text/plain": [
       "Sample Size              50        100       150       200       250  \\\n",
       "STDEV.P Sample      1.035376  1.077485  0.988573  1.006863  0.999943   \n",
       "STDEV.S Sample      1.045888  1.082913  0.991885  1.009390  1.001949   \n",
       "STDEV.P Population  0.999028  0.999028  0.999028  0.999028  0.999028   \n",
       "STDEV.P difference  0.036348  0.078457  0.010455  0.007835  0.000915   \n",
       "STDEV.S difference  0.046860  0.083885  0.007143  0.010362  0.002921   \n",
       "\n",
       "Sample Size              400       500       600       750       800       900  \n",
       "STDEV.P Sample      0.984320  0.969897  1.028772  1.031806  1.006375  0.996282  \n",
       "STDEV.S Sample      0.985553  0.970869  1.029630  1.032495  1.007005  0.996836  \n",
       "STDEV.P Population  0.999028  0.999028  0.999028  0.999028  0.999028  0.999028  \n",
       "STDEV.P difference  0.014708  0.029131  0.029744  0.032778  0.007347  0.002746  \n",
       "STDEV.S difference  0.013475  0.028159  0.030602  0.033467  0.007977  0.002192  "
      ]
     },
     "execution_count": 28,
     "metadata": {},
     "output_type": "execute_result"
    }
   ],
   "source": [
    "# import pandas\n",
    "import pandas as pd\n",
    "# create a pandas dataframe\n",
    "df = pd.DataFrame()\n",
    "# create a column of data called Sample size and populate with the array of sample sizes \n",
    "df['Sample Size'] = sample_sizes\n",
    "# create a column of data for the STDEV.P calculation and populate with the data in the pop array\n",
    "df['STDEV.P Sample'] = pop\n",
    "# create a column of data for the STDEV.S calculation and populate with the data in the samp array\n",
    "df['STDEV.S Sample'] = samp\n",
    "# add the actual standard deviation of the population to the dataframe\n",
    "df['STDEV.P Population'] = pop_stddev\n",
    "# the difference between standard deviation of the population and STDEV.P estimate based on sample\n",
    "df['STDEV.P difference'] = P_difference\n",
    "# the difference between standard deviation of the population and STDEV.S estimate based on sample\n",
    "df['STDEV.S difference'] = S_difference\n",
    "\n",
    "# set the index in place as Sample Size \n",
    "df.set_index('Sample Size', inplace=True)\n",
    "# transpose the dataframe, flip the columns and rows, looks better this way\n",
    "df.T"
   ]
  },
  {
   "cell_type": "code",
   "execution_count": 29,
   "metadata": {},
   "outputs": [
    {
     "data": {
      "text/plain": [
       "0.2670432916066554"
      ]
     },
     "execution_count": 29,
     "metadata": {},
     "output_type": "execute_result"
    }
   ],
   "source": [
    "# sum the total of the differenece between STDEV.P population and STDEV.S sample for each sample size \n",
    "sum(S_difference)"
   ]
  },
  {
   "cell_type": "code",
   "execution_count": 30,
   "metadata": {},
   "outputs": [
    {
     "data": {
      "text/plain": [
       "0.25046419294062194"
      ]
     },
     "execution_count": 30,
     "metadata": {},
     "output_type": "execute_result"
    }
   ],
   "source": [
    "# sum the total of the differenece between STDEV.P population and STDEV.P sample for each sample size \n",
    "sum(P_difference)"
   ]
  },
  {
   "cell_type": "markdown",
   "metadata": {},
   "source": [
    "#### Plot the data\n",
    "\n",
    "I have added a plot showing the STDEV.P and STDEV.S calculations for each sample size and the standard deviation of the full population as calculated by STDEV.P below."
   ]
  },
  {
   "cell_type": "code",
   "execution_count": 31,
   "metadata": {},
   "outputs": [
    {
     "data": {
      "image/png": "[encoded data removed]",
      "text/plain": [
       "<Figure size 1440x720 with 1 Axes>"
      ]
     },
     "metadata": {
      "needs_background": "light"
     },
     "output_type": "display_data"
    }
   ],
   "source": [
    "# customise with rcparams \n",
    "plt.rcParams['figure.figsize'] = (20, 10)\n",
    "plt.rcParams['lines.linewidth'] = 2.5\n",
    "\n",
    "# add the data to be plotted \n",
    "# label added for legend\n",
    "plt.plot(df['STDEV.P Sample'], marker = 'o', markersize = 14, label = 'STDEV.P sample')\n",
    "plt.plot(df['STDEV.S Sample'], marker = 'x', markersize = 14, label = 'STDEV.S sample')\n",
    "plt.plot(df['STDEV.P Population'], label = 'Population Std Dev')\n",
    "# add labels for the x and y axis and a plot title\n",
    "plt.title(\"STDEV.P and STDEV.S estimate of standard deviation based on samples\", fontsize = 18)\n",
    "plt.xlabel(\"Sample Size\", fontsize = 16)\n",
    "plt.ylabel(\"Standard Deviation\", fontsize = 16)\n",
    "# add a legend and grid to the plot\n",
    "plt.legend()\n",
    "plt.grid()"
   ]
  },
  {
   "cell_type": "markdown",
   "metadata": {},
   "source": [
    "### Task 3 Conclusion & Learnings\n",
    "\n"
   ]
  },
  {
   "cell_type": "markdown",
   "metadata": {},
   "source": [
    "* STDEV.P can be used to calculate standard deviation when we have all the data points in a population.\n",
    "* STDEV.S can be used to to estimate the standard deviation of a full population when we have only a sample of the data points of a full population.\n",
    "* STDEV.S has one degree of freedom built into the calculation which is said to produce a more accurate estimate for the standard deviation of a population when only a sample of the data is available.\n",
    "* numpy can be used to calculate the standard deviation in the same way as STDEV.P and the same way as STDEV.S with one degree of freedom allowed.\n",
    "* I simulated a full population of 1,000 data points using numpy.random.normal with a mean of 10 and a standard deviation of 1. I used STDEV.P to calculate the standard deviation of the population.\n",
    "* I then used numpy.random.choice to generate samples of different sizes from the full population.\n",
    "* For each sample size I calculated an estimation of the standard deviation of the full population based on that sample of data using both the STDEV.P and STDEV.S calculations.\n",
    "* I also subtracted the difference between the STDEV.P calculation based on the full population and the STDEV.P and STDEV.S calculations based on each sample size and summed the difference.\n",
    "* The result of my experiment was that STDEV.S produced a slightly more accurate result over all the sample sizes that I generated.\n",
    "* I cannot say for sure whether STDEV.S is a more accurate estimate for the standard deviation when performed on a sample.\n",
    "* I can say with a reasonably high degree of confidence that when estimating the standard deviation of a population based on a sample of the population that the bigger the sample is the more accurate the standard deviation calculated based on that sample will be.\n",
    "* This is evident in the plot of the STDEV.P and STDEV.S estimations based on my samples above.\n",
    "* The two smallest sample sizes have the estimates which are the furthest from the actual standard deviation of the population.\n",
    "* I could also say there may be some element of luck involved too in the sampling of data from the population too as some of the smaller samples have closer estimations for standard deviation than some of the larger samples.\n",
    "* I found the topic interesting and I could continue to research but due to time constraints I have this leave it here."
   ]
  },
  {
   "cell_type": "markdown",
   "metadata": {},
   "source": [
    "### Task 3 References "
   ]
  },
  {
   "cell_type": "markdown",
   "metadata": {},
   "source": [
    "[1] Microsoft support; STDEV.S; https://support.microsoft.com/en-us/office/stdev-s-function-7d69cf97-0c1f-4acf-be27-f3e83904cc23#:~:text=Remarks-,STDEV.,P.\n",
    "\n",
    "[2] Microsoft support; STDEV.P; https://support.microsoft.com/en-us/office/stdev-p-function-6e917c05-31a0-496f-ade7-4f4e7462f285\n",
    "\n",
    "[3] Youtube; =StDev.S And =StDev.P (What Is The Difference?) | How To Use Excel; https://www.youtube.com/watch?v=NdIVwuwfMIg\n",
    "\n",
    "[4] Excel-easy; Standard Deviation; https://www.excel-easy.com/examples/standard-deviation.html\n",
    "\n",
    "[5] SciPy.org; numpy.random.normal; https://docs.scipy.org/doc/numpy-1.16.0/reference/generated/numpy.random.normal.html#numpy.random.normal\n",
    "\n",
    "[6] numpy; numpy.std; https://numpy.org/devdocs/reference/generated/numpy.std.html\n",
    "\n",
    "[7] ExcelTip; How To Use Excel STDEV.P Function; https://www.exceltip.com/statistical-formulas/how-to-use-excel-stdev-p-function.html\n",
    "\n",
    "[8] ExcelTip; How to use the STDEV.S function in Excel; https://www.exceltip.com/statistical-formulas/how-to-use-stdev-s-function-in-excel.html\n",
    "\n",
    "[9] Towards data science; Why computing standard deviation in pandas and NumPy yields different results?; https://towardsdatascience.com/why-computing-standard-deviation-in-pandas-and-numpy-yields-different-results-5b475e02d112\n",
    "\n",
    "[10] GeeksforGekks;stdev() method in Python statistics module; https://www.geeksforgeeks.org/python-statistics-stdev/#:~:text=Statistics%20module%20in%20Python%20provides,rather%20than%20an%20entire%20population.\n",
    "\n",
    "[11]  matplotlib; matplotlib.pyplot documentation; https://matplotlib.org/3.2.1/api/_as_gen/matplotlib.pyplot.plot.html#matplotlib.pyplot.plot\n",
    "\n",
    "[12] matplotlib; Customizing Matplotlib with style sheets and rcParams; https://matplotlib.org/tutorials/introductory/customizing.html\n",
    "\n",
    "[13] IB Geography; standard deviation; https://sites.google.com/site/geographyfais/fieldwork/6-data-analysis/statistical-tools/basic-statistical-tools/7-standard-deviation\n",
    "\n",
    "[14] Khan Academy; Calculating standard deviation step by step; https://www.khanacademy.org/math/statistics-probability/summarizing-quantitative-data/variance-standard-deviation-population/a/calculating-standard-deviation-step-by-step\n",
    "\n",
    "[15] Laerd Statistics; Standard Deviation; https://statistics.laerd.com/statistical-guides/measures-of-spread-standard-deviation.php\n",
    "\n",
    "[16] Thought Co.; population vs sample standard deviations; https://www.thoughtco.com/population-vs-sample-standard-deviations-3126372\n",
    "\n",
    "[17] Statistics how to; Bessel's Correction; https://www.statisticshowto.com/bessels-correction/\n",
    "\n",
    "[18] Scipy.Org; numpy.random.choice; https://docs.scipy.org/doc//numpy-1.10.4/reference/generated/numpy.random.choice.html\n",
    "\n",
    "[19] pandas; pandas.DataFrame; https://pandas.pydata.org/pandas-docs/stable/reference/api/pandas.DataFrame.html\n",
    "\n",
    "[20] pandas; pandas.DataFrame.set_index; https://pandas.pydata.org/pandas-docs/stable/reference/api/pandas.DataFrame.set_index.html\n",
    "\n",
    "[21] pandas; pandas.DataFrame.transpose; https://pandas.pydata.org/pandas-docs/stable/reference/api/pandas.DataFrame.transpose.html\n",
    "\n",
    "[22] StackOverflow;How do I find the difference between two values without knowing which is larger?; https://stackoverflow.com/questions/13602170/how-do-i-find-the-difference-between-two-values-without-knowing-which-is-larger\n",
    "\n"
   ]
  },
  {
   "cell_type": "markdown",
   "metadata": {},
   "source": [
    "***"
   ]
  },
  {
   "cell_type": "markdown",
   "metadata": {},
   "source": [
    "## Task 4 "
   ]
  },
  {
   "cell_type": "markdown",
   "metadata": {},
   "source": [
    "4. November 30th, 2020: Use scikit-learn to apply k-means clustering to\n",
    "Fisher’s famous Iris data set. You will easily obtain a copy of the data set online. Explain in a Markdown cell how your code works and how accurate it might\n",
    "be, and then explain how your model could be used to make predictions of species\n",
    "of iris.\n"
   ]
  },
  {
   "cell_type": "markdown",
   "metadata": {},
   "source": [
    "### 4.1 Introduction\n",
    "\n",
    "#### Plan to complete this task\n",
    "\n",
    "* Obtain a copy of the Fisher's Iris data set online.\n",
    "* Include the data set in this notebook and give a brief introduction to the data set and data contained within it.\n",
    "* Use scikit-learn to apply k-means clustering to the Iris data set.\n",
    "* Explain how the code works in a markdown cell.\n",
    "* How accurate is the code?\n",
    "* Explain how the model could be used to make predictions of species of iris."
   ]
  },
  {
   "cell_type": "markdown",
   "metadata": {},
   "source": [
    "### 4.2 Introduction to Fisher's Iris data set\n",
    "\n",
    "The Fisher's Iris data set is a multivariate data set that was introduced by Ronald Fisher in 1936 in his paper - \"The use of multiple measurements in taxonomic problems\". The data set is also referred to as the Edgar Anderson data set as it was Edgar Anderson who collected the data.\n",
    "\n",
    "\"It is sometimes called Anderson’s Iris data set because Edgar Anderson collected the data to quantify themorphologic variation of Iris ﬂowers of three related species.\" [1]. \n",
    "\n",
    "#### Contents of the Fisher's Iris Data Set\n",
    "\n",
    "There are 150 rows of data in the data set in total, each representing a species of Iris flower. There are 3 species in total with 50 rows of data on each species.\n",
    "\n",
    "* Iris Setosa\n",
    "* Iris Versicolor\n",
    "* Iris Virginica\n",
    "\n",
    "\"The data set contains 3 classes of 50 instances each, where each class refers to a type of iris plant. One class is linearly separable from the other 2; the latter are NOT linearly separable from each other\" [2].\n",
    "\n",
    "Detailed below are the contents of each column of data in the data set:\n",
    "\n",
    "* Column 1 contains sepal length in cm\n",
    "* Column 2 contains sepal width in cm\n",
    "* Column 3 contains petal length in cm\n",
    "* Column 4 contains petal width in cm\n",
    "* Column 5 contains the name of the species of Iris flower\n",
    "\n",
    "\n",
    "I have saved a csv file containing the Iris data set in my repository and used pandas.read_csv to read in the data set and display in a pandas dataframe [3]."
   ]
  },
  {
   "cell_type": "code",
   "execution_count": 32,
   "metadata": {},
   "outputs": [
    {
     "data": {
      "text/html": [
       "<div>\n",
       "<style scoped>\n",
       "    .dataframe tbody tr th:only-of-type {\n",
       "        vertical-align: middle;\n",
       "    }\n",
       "\n",
       "    .dataframe tbody tr th {\n",
       "        vertical-align: top;\n",
       "    }\n",
       "\n",
       "    .dataframe thead th {\n",
       "        text-align: right;\n",
       "    }\n",
       "</style>\n",
       "<table border=\"1\" class=\"dataframe\">\n",
       "  <thead>\n",
       "    <tr style=\"text-align: right;\">\n",
       "      <th></th>\n",
       "      <th>sepal_length</th>\n",
       "      <th>sepal_width</th>\n",
       "      <th>petal_length</th>\n",
       "      <th>petal_width</th>\n",
       "      <th>species</th>\n",
       "    </tr>\n",
       "  </thead>\n",
       "  <tbody>\n",
       "    <tr>\n",
       "      <th>0</th>\n",
       "      <td>5.1</td>\n",
       "      <td>3.5</td>\n",
       "      <td>1.4</td>\n",
       "      <td>0.2</td>\n",
       "      <td>setosa</td>\n",
       "    </tr>\n",
       "    <tr>\n",
       "      <th>1</th>\n",
       "      <td>4.9</td>\n",
       "      <td>3.0</td>\n",
       "      <td>1.4</td>\n",
       "      <td>0.2</td>\n",
       "      <td>setosa</td>\n",
       "    </tr>\n",
       "    <tr>\n",
       "      <th>2</th>\n",
       "      <td>4.7</td>\n",
       "      <td>3.2</td>\n",
       "      <td>1.3</td>\n",
       "      <td>0.2</td>\n",
       "      <td>setosa</td>\n",
       "    </tr>\n",
       "    <tr>\n",
       "      <th>3</th>\n",
       "      <td>4.6</td>\n",
       "      <td>3.1</td>\n",
       "      <td>1.5</td>\n",
       "      <td>0.2</td>\n",
       "      <td>setosa</td>\n",
       "    </tr>\n",
       "    <tr>\n",
       "      <th>4</th>\n",
       "      <td>5.0</td>\n",
       "      <td>3.6</td>\n",
       "      <td>1.4</td>\n",
       "      <td>0.2</td>\n",
       "      <td>setosa</td>\n",
       "    </tr>\n",
       "    <tr>\n",
       "      <th>...</th>\n",
       "      <td>...</td>\n",
       "      <td>...</td>\n",
       "      <td>...</td>\n",
       "      <td>...</td>\n",
       "      <td>...</td>\n",
       "    </tr>\n",
       "    <tr>\n",
       "      <th>145</th>\n",
       "      <td>6.7</td>\n",
       "      <td>3.0</td>\n",
       "      <td>5.2</td>\n",
       "      <td>2.3</td>\n",
       "      <td>virginica</td>\n",
       "    </tr>\n",
       "    <tr>\n",
       "      <th>146</th>\n",
       "      <td>6.3</td>\n",
       "      <td>2.5</td>\n",
       "      <td>5.0</td>\n",
       "      <td>1.9</td>\n",
       "      <td>virginica</td>\n",
       "    </tr>\n",
       "    <tr>\n",
       "      <th>147</th>\n",
       "      <td>6.5</td>\n",
       "      <td>3.0</td>\n",
       "      <td>5.2</td>\n",
       "      <td>2.0</td>\n",
       "      <td>virginica</td>\n",
       "    </tr>\n",
       "    <tr>\n",
       "      <th>148</th>\n",
       "      <td>6.2</td>\n",
       "      <td>3.4</td>\n",
       "      <td>5.4</td>\n",
       "      <td>2.3</td>\n",
       "      <td>virginica</td>\n",
       "    </tr>\n",
       "    <tr>\n",
       "      <th>149</th>\n",
       "      <td>5.9</td>\n",
       "      <td>3.0</td>\n",
       "      <td>5.1</td>\n",
       "      <td>1.8</td>\n",
       "      <td>virginica</td>\n",
       "    </tr>\n",
       "  </tbody>\n",
       "</table>\n",
       "<p>150 rows × 5 columns</p>\n",
       "</div>"
      ],
      "text/plain": [
       "     sepal_length  sepal_width  petal_length  petal_width    species\n",
       "0             5.1          3.5           1.4          0.2     setosa\n",
       "1             4.9          3.0           1.4          0.2     setosa\n",
       "2             4.7          3.2           1.3          0.2     setosa\n",
       "3             4.6          3.1           1.5          0.2     setosa\n",
       "4             5.0          3.6           1.4          0.2     setosa\n",
       "..            ...          ...           ...          ...        ...\n",
       "145           6.7          3.0           5.2          2.3  virginica\n",
       "146           6.3          2.5           5.0          1.9  virginica\n",
       "147           6.5          3.0           5.2          2.0  virginica\n",
       "148           6.2          3.4           5.4          2.3  virginica\n",
       "149           5.9          3.0           5.1          1.8  virginica\n",
       "\n",
       "[150 rows x 5 columns]"
      ]
     },
     "execution_count": 32,
     "metadata": {},
     "output_type": "execute_result"
    }
   ],
   "source": [
    "iris_df = pd.read_csv(\"Fishers_Iris_data_set.csv\")\n",
    "iris_df"
   ]
  },
  {
   "cell_type": "markdown",
   "metadata": {},
   "source": [
    "pandas.Dataframe.shape returns a tuple representing the dimensionality of the dataframe [4].\n",
    "\n",
    "In this case there are 150 rows and 5 columns of data in the Iris data set."
   ]
  },
  {
   "cell_type": "code",
   "execution_count": 33,
   "metadata": {},
   "outputs": [
    {
     "data": {
      "text/plain": [
       "(150, 5)"
      ]
     },
     "execution_count": 33,
     "metadata": {},
     "output_type": "execute_result"
    }
   ],
   "source": [
    "iris_df.shape"
   ]
  },
  {
   "cell_type": "markdown",
   "metadata": {},
   "source": [
    "pandas.Dataframe.describe return some descriptive statistics about a dataframe [5].\n",
    "\n",
    "Output of pandas.dataframe.describe() explained:\n",
    "\n",
    "* count = total number of rows of data in the data set.\n",
    "* mean = the central tendency of the data.\n",
    "* std = standard deviation which is a measurement of the variance of each data point relative to the mean.\n",
    "* min = the smallest figure collected in each column of data.\n",
    "* 25% = the 25th percentile - meaning 25% of the total count of measurements collected fall below this measurement.\n",
    "* 50% = the 50th or median percentile meaning this is the central collected in each column, half of the data collected falls below this measurement and half is above this measurement.\n",
    "* 75% = the 75th percentile - meaning 75% of the total count of measurements collected fall below this measurement and 25% are above this measurement.\n",
    "* max = the largest measurement collected kin each column of data."
   ]
  },
  {
   "cell_type": "code",
   "execution_count": 34,
   "metadata": {},
   "outputs": [
    {
     "data": {
      "text/html": [
       "<div>\n",
       "<style scoped>\n",
       "    .dataframe tbody tr th:only-of-type {\n",
       "        vertical-align: middle;\n",
       "    }\n",
       "\n",
       "    .dataframe tbody tr th {\n",
       "        vertical-align: top;\n",
       "    }\n",
       "\n",
       "    .dataframe thead th {\n",
       "        text-align: right;\n",
       "    }\n",
       "</style>\n",
       "<table border=\"1\" class=\"dataframe\">\n",
       "  <thead>\n",
       "    <tr style=\"text-align: right;\">\n",
       "      <th></th>\n",
       "      <th>sepal_length</th>\n",
       "      <th>sepal_width</th>\n",
       "      <th>petal_length</th>\n",
       "      <th>petal_width</th>\n",
       "    </tr>\n",
       "  </thead>\n",
       "  <tbody>\n",
       "    <tr>\n",
       "      <th>count</th>\n",
       "      <td>150.000000</td>\n",
       "      <td>150.000000</td>\n",
       "      <td>150.000000</td>\n",
       "      <td>150.000000</td>\n",
       "    </tr>\n",
       "    <tr>\n",
       "      <th>mean</th>\n",
       "      <td>5.843333</td>\n",
       "      <td>3.054000</td>\n",
       "      <td>3.758667</td>\n",
       "      <td>1.198667</td>\n",
       "    </tr>\n",
       "    <tr>\n",
       "      <th>std</th>\n",
       "      <td>0.828066</td>\n",
       "      <td>0.433594</td>\n",
       "      <td>1.764420</td>\n",
       "      <td>0.763161</td>\n",
       "    </tr>\n",
       "    <tr>\n",
       "      <th>min</th>\n",
       "      <td>4.300000</td>\n",
       "      <td>2.000000</td>\n",
       "      <td>1.000000</td>\n",
       "      <td>0.100000</td>\n",
       "    </tr>\n",
       "    <tr>\n",
       "      <th>25%</th>\n",
       "      <td>5.100000</td>\n",
       "      <td>2.800000</td>\n",
       "      <td>1.600000</td>\n",
       "      <td>0.300000</td>\n",
       "    </tr>\n",
       "    <tr>\n",
       "      <th>50%</th>\n",
       "      <td>5.800000</td>\n",
       "      <td>3.000000</td>\n",
       "      <td>4.350000</td>\n",
       "      <td>1.300000</td>\n",
       "    </tr>\n",
       "    <tr>\n",
       "      <th>75%</th>\n",
       "      <td>6.400000</td>\n",
       "      <td>3.300000</td>\n",
       "      <td>5.100000</td>\n",
       "      <td>1.800000</td>\n",
       "    </tr>\n",
       "    <tr>\n",
       "      <th>max</th>\n",
       "      <td>7.900000</td>\n",
       "      <td>4.400000</td>\n",
       "      <td>6.900000</td>\n",
       "      <td>2.500000</td>\n",
       "    </tr>\n",
       "  </tbody>\n",
       "</table>\n",
       "</div>"
      ],
      "text/plain": [
       "       sepal_length  sepal_width  petal_length  petal_width\n",
       "count    150.000000   150.000000    150.000000   150.000000\n",
       "mean       5.843333     3.054000      3.758667     1.198667\n",
       "std        0.828066     0.433594      1.764420     0.763161\n",
       "min        4.300000     2.000000      1.000000     0.100000\n",
       "25%        5.100000     2.800000      1.600000     0.300000\n",
       "50%        5.800000     3.000000      4.350000     1.300000\n",
       "75%        6.400000     3.300000      5.100000     1.800000\n",
       "max        7.900000     4.400000      6.900000     2.500000"
      ]
     },
     "execution_count": 34,
     "metadata": {},
     "output_type": "execute_result"
    }
   ],
   "source": [
    "iris_df.describe()"
   ]
  },
  {
   "cell_type": "markdown",
   "metadata": {},
   "source": [
    "Now that I know a little about the data contained in the Iris data set I can move on to looking at scikit-learn and k-means."
   ]
  },
  {
   "cell_type": "markdown",
   "metadata": {},
   "source": [
    "### 4.3 Use scikit-learn to apply k-means clustering to the Iris data set\n",
    "\n"
   ]
  },
  {
   "cell_type": "markdown",
   "metadata": {},
   "source": [
    "### Task 4 Conclusion & Learnings "
   ]
  },
  {
   "cell_type": "markdown",
   "metadata": {},
   "source": [
    "### Task 4 References \n",
    "\n",
    "[1] Academia; Report on Edgar Anderson's iris data set; https://www.academia.edu/13069408/Report_on_Edgar_Anderson_s_Iris_Data_Analysis\n",
    "\n",
    "[2] UCI Machine Learning Repository; Iris data set; http://archive.ics.uci.edu/ml/datasets/iris\n",
    "\n",
    "[3] pandas, pandas.read_csv; https://pandas.pydata.org/pandas-docs/stable/reference/api/pandas.read_csv.html\n",
    "\n",
    "[4] pandas; pandas.Dataframe.shape; https://pandas.pydata.org/pandas-docs/stable/reference/api/pandas.DataFrame.shape.html\n",
    "\n",
    "[5] pandas; pandas.Dataframe.describe; https://pandas.pydata.org/pandas-docs/stable/reference/api/pandas.DataFrame.describe.html"
   ]
  },
  {
   "cell_type": "markdown",
   "metadata": {},
   "source": [
    "### End \n",
    "********"
   ]
  }
 ],
 "metadata": {
  "kernelspec": {
   "display_name": "Python 3",
   "language": "python",
   "name": "python3"
  },
  "language_info": {
   "codemirror_mode": {
    "name": "ipython",
    "version": 3
   },
   "file_extension": ".py",
   "mimetype": "text/x-python",
   "name": "python",
   "nbconvert_exporter": "python",
   "pygments_lexer": "ipython3",
   "version": "3.8.3"
  }
 },
 "nbformat": 4,
 "nbformat_minor": 4
}
