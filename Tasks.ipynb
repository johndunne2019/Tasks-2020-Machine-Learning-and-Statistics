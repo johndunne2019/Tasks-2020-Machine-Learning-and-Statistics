{
 "cells": [
  {
   "cell_type": "markdown",
   "metadata": {},
   "source": [
    "# Tasks\n",
    "\n",
    "**These are my solutions to the Tasks assessment in the Machine Learning and Statistics module at GMIT 2020.\n",
    "The author is John Dunne G00273895 (G00273895@gmit.ie).**\n",
    "\n",
    "***"
   ]
  },
  {
   "cell_type": "markdown",
   "metadata": {},
   "source": [
    "## Task 1 - Calculate the square root of 2 \n",
    "\n",
    "1. October 5th, 2020: Write a Python function called sqrt2 that calculates and\n",
    "prints to the screen the square root of 2 to 100 decimal places.Your code should\n",
    "not depend on any module from the standard library or otherwise. You should\n",
    "research the task first and include references and a description of your algorithm.\n",
    "\n",
    "******"
   ]
  },
  {
   "cell_type": "markdown",
   "metadata": {},
   "source": [
    "### My plan to complete this task\n",
    "\n",
    "I will break the task into smaller tasks:\n",
    "\n",
    "1. Research how the square root is calculated without the use of any imported modules.\n",
    "2. Implement a function that calculates the square root of 2 in this jupyter notebook.\n",
    "3. Carry out testing to check the implemented function returns the correct result.\n",
    "4. Have the result outputted in the format requested - 100 decimal places.\n",
    "5. Compile a list of references used to complete the task.\n",
    "\n",
    "**In order to do this I have broken task 1 into 5 sections**\n",
    "\n",
    "* 1.1 - My Research. \n",
    "* 1.2 - Write a function that calculates the square root of 2.\n",
    "* 1.3 - Test the function.\n",
    "* 1.4 - Output to the requested format - 100 decimal places. \n",
    "* 1.5 - List the references."
   ]
  },
  {
   "cell_type": "markdown",
   "metadata": {},
   "source": [
    "### 1.1 My Research\n",
    "\n",
    "*In this section I will outline the research I conducted into how to calculate the square root of 2 without using any modules from the Python standard library*"
   ]
  },
  {
   "cell_type": "markdown",
   "metadata": {},
   "source": [
    "Every number has two square roots, a negative and non-negative square root. The principal (non-negative) square root of most numbers is an irrational number. As a result of this, the decimal expansion of a square root can only be calculated to a precision [1]. In this task, I have been asked to calculate the square root of 2 to 100 decimal places so I think this point is noteworthy.\n",
    "\n",
    "In the lecture video on the square root of 2 [2], this was discussed where I learnt that the square root of 2 is an irrational number, meaning it cannot be expressed as an integer divided by another integer. Rational numbers are numbers than can be stored as one integer over another integer.\n",
    "\n",
    "An iterative approach to finding the square root of a number involves finding a suitable starting value followed by refinement until a termination criteria is met [1]. In plainer terms, to find the square root of a number 2, I would need to start with a suitable starting value and refine until we come to the closest approximation for the square root. The closer the starting value is to the square root, the less iterations will be required to come to the result. This starting value also known as the seed value should be a positive number between 1 and the value that we are trying to calculate the square root of. In my case, this would be a value between 1 and 2 as I am tasked with finding the square root of 2. The reason we have to start with a value in this range is that the square root of any number must fall into this range between 1 and that number.\n",
    "\n",
    "\n",
    "\n",
    "After some research I have found out that Newton's method is a suitable method that is commonly used to calculate the square root of a number."
   ]
  },
  {
   "cell_type": "markdown",
   "metadata": {},
   "source": [
    "#### Newtown-Raphson method to calculate square root"
   ]
  },
  {
   "cell_type": "markdown",
   "metadata": {},
   "source": [
    "The Newton-Raphson method or Newton's method is a root finding algorithm that uses an iterative approach to finding the square root of a number, producing better approximations for the square root at each iteration [3].\n",
    "\n",
    "A set of steps is is repeated over until we are satisified with the result or the method fails [6].\n",
    "\n",
    "Newton's method is a root finding method that uses linear approximation [4]. The algortihms starts with a guess and computes a sequence of improved guesses [7]. The algorithm is quite old dating back to Babylonian times. \n",
    "\n",
    "**Starting guess/ Seed**\n",
    "\n",
    "As I mentioned in the previous section, most iterative approaches to calculating the square root of a number require a starting value or seed and this is requred when using Newton's method.\n",
    "\n",
    "I found a  blog post [3] that outlines the steps involved when Newton's method is employed to calculate square root:\n",
    "\n",
    "* A starting value is assigned, which is a reasonable guess for the square root of the number.\n",
    "* This reasonable guess is added to the number we are looking to find the square root of, divided by the reasonable guess and divided by 2.\n",
    "\n",
    "This is displayed as a function on the blog post below where Xi is the reasonable guess:\n",
    "\n",
    "$$ x_i = (x_i + n/x_i) /2 $$\n",
    "\n",
    "I have included a real example here where we are trying to calculate the square root of 2 and 1 is the reasonable guess or starting value:\n",
    "\n",
    "$$ 1 = (1 + 2/1) /2 $$\n",
    "\n",
    "* Step 2 is continued until the most precise approximation of the square root is reached.\n",
    "* We are left with the closest approximation for the square root.\n",
    "\n",
    "With Newton's method a starting value slightly larger than the root will converge faster than a starting value slightly smaller than the root [1].\n",
    "\n",
    "**Example convergence**\n",
    "\n",
    "I found a paper that explains nicely the way Newton's method computes the square root of 2 [7]. In this case the starting guess is 1. The number of accurate digits at each iteration is highlighted in bold below:\n",
    "\n",
    "* **1**\n",
    "* **1**.5\n",
    "* **1.41**66666666666666666666666666666666666666666666666666666666675\n",
    "* **1.41421**56862745098039215686274509803921568627450980392156862745\n",
    "* **1.41421356237**46899106262955788901349101165596221157440445849057\n",
    "* **1.41421356237309504880168**96235025302436149819257761974284982890\n",
    "* **1.41421356237309504880168872420969807856967187537**72340015610125\n",
    "* **1.4142135623730950488016887242096980785696718753769480731766796**\n",
    "\n",
    "The number of accurate digits approximately doubles on each iteration [7]. \n"
   ]
  },
  {
   "cell_type": "markdown",
   "metadata": {},
   "source": [
    "### 1.2 Write a function that calculates the square root of 2 \n",
    "\n",
    "*In this section I will write a Python function called sqrt2 that calculates and prints to the screen the square root of 2 to 100 decimal places. The code should not depend on any module from the standard library or otherwise.*"
   ]
  },
  {
   "cell_type": "markdown",
   "metadata": {},
   "source": [
    "The below code example is included in the blog post on Newton's method [3]."
   ]
  },
  {
   "cell_type": "code",
   "execution_count": 1,
   "metadata": {},
   "outputs": [],
   "source": [
    "def mySqrt(x):\n",
    "\n",
    "    r = x\n",
    "    precision = 10 ** (-10)\n",
    "    \n",
    "    while abs(x - r * r) > precision:\n",
    "        r = (r + x / r) / 2\n",
    "        \n",
    "    return r"
   ]
  },
  {
   "cell_type": "markdown",
   "metadata": {},
   "source": [
    "I have spent some time examining the above code and I have included below my understanding of how the code works.\n",
    "\n",
    "My understanding of the above code is a while loop is used to iterate until we find the most precise match for the square root of x. The variable r is introduced and set to equal to x at the start of the function and taken as the starting value or guess of starting square root. I am thinking this is one thing I could change when I write the code myself as I have already learnt a good starting value is between 1 and the number we want to calculate the square root of. Therefore, setting the starting value to be equal to the value x here might not be the best starting value to use.\n",
    "\n",
    "The precision has been set and the loop will continue until this precision is met. The abs statment returns the absolute value of the calculation and checks if it is greater than the precision value. Whilst this condition is true the loop continues to run the function that I already highlighted in the previous section:\n",
    "\n",
    "$$ x_i = (x_i + n/x_i) /2 $$\n",
    "\n",
    "In this case:\n",
    "\n",
    "$$ r = (r + x / r) / 2 $$\n",
    "\n",
    "When the precision condition is met the loop terminates and the closest approximation to the square root is output.\n",
    "\n",
    "I will now try to implement this solution by writing a square root function myself."
   ]
  },
  {
   "cell_type": "markdown",
   "metadata": {},
   "source": [
    "#### My function to calculate square root of 2\n",
    "\n",
    "I did some testing to find a good seed value and eventually decided to hard code a seed value in my function. I added a counter to the function to count how many iterations of the while loop would execute before we arrived to the closest approximation for the square root of 2. I found that there wasnt a huge difference in the number of iterations required. I have recorded below a sample set of results that I noted:\n",
    "\n",
    "* Seed value 1 - 4 iterations\n",
    "* Seed value 2 - 4 iterations\n",
    "* Seed value 1.9 - 4 iterations\n",
    "* Seed value 1.45 - 3 iterations\n",
    "* Seed value 1.35 - 3 iterations \n",
    "\n",
    "In general, I draw the conclusion here that the closer the starting value is to the actual square root the faster the function executed. This is expected from the research that I conducted. I have commented out the print statments that I used for testing purposes in my function below.\n",
    "\n",
    "During testing, I added a print statement to the function for testing purposes to see the new value of s calculated at each iteration. I wanted to see the function working towards finding the closest approximation for the square root of 2 at each iteration. I have included the example print outs for a seed value of 1.35 below:\n",
    "\n",
    "* At iteration 1 the value of s was 1.4157407407407407\n",
    "* At iteration 2 the value of s was 1.414214386066904\n",
    "* At iteration 3 the value of s was 1.414213562373335\n",
    "* Square root calculated: 1.414213562373335\n",
    "\n",
    "You can remove the # in the function below when running if you would like the above statements to be printed out when running the function."
   ]
  },
  {
   "cell_type": "code",
   "execution_count": 2,
   "metadata": {},
   "outputs": [],
   "source": [
    "# Code originally adapted from [3] with my own changes made and comments added\n",
    "\n",
    "def sqrt2(x=2):\n",
    "    \"\"\"\n",
    "    A function to calculate the square root of 2. Function named as per assessment specification.\n",
    "    I have set the default value of the function to be 2 as I am only tasked in finding the square root of 2. \n",
    "    \n",
    "    I want the starting value/seed to somewhere between 1 and 2. I tested different starting values.\n",
    "    This should be a better starting value than in the code example in the blog post above.\n",
    "    \"\"\"\n",
    "    s = 1.35   \n",
    "    # starting value/seed set here, I ran tests on different seed values and decided to hard code this one\n",
    "    precision = 10 ** (-10)\n",
    "    # precision is defined here, same as in the code example in blog post\n",
    "    count = 0\n",
    "    # I have added a counter to see how many iterations it takes to get the result, printed out for testing\n",
    "    while abs(x - s * s) > precision:\n",
    "        s = (s + x / s) / 2\n",
    "        # while the absolute value of 2 minus the seed squared is greater than the precision required the loop continues\n",
    "        # the calculation I explained in the previous section is repeated at each iteration\n",
    "        count += 1\n",
    "        # counter incremented at each iteration\n",
    "        # commented out my print statements for testing below\n",
    "        #print(f\"At iteration {count} the value of s was {s}\")\n",
    "        # print out to see function working towards solution at each iteration\n",
    "        \n",
    "    #print(f\"Square root calculated in {count} iterations\")\n",
    "    # I added a print statement to print out how many iterations we needed, commented out\n",
    "    return s\n",
    "    #print(format(s, '.100f')) \n",
    "    # the value for the closest approximation of square root will be returned to the caller\n",
    "    "
   ]
  },
  {
   "cell_type": "markdown",
   "metadata": {},
   "source": [
    "#### Calling the function"
   ]
  },
  {
   "cell_type": "code",
   "execution_count": 3,
   "metadata": {},
   "outputs": [
    {
     "name": "stdout",
     "output_type": "stream",
     "text": [
      "The square root of 2 to 100 decimal places is calculated as:\n",
      "1.4142135623733349536479408925515599548816680908203125000000000000000000000000000000000000000000000000\n"
     ]
    }
   ],
   "source": [
    "result = sqrt2() # variable result set equal to the function sqrt2 called \n",
    "print(\"The square root of 2 to 100 decimal places is calculated as:\")\n",
    "print(format(result, '.100f')) #modified to print to 100 decimal places after research\n",
    "# format(result, '.100f')   #print out for testing\n",
    "#print('%.100f' % result)  #another way to display to 100 decimal places"
   ]
  },
  {
   "cell_type": "markdown",
   "metadata": {},
   "source": [
    "### 1.3 Test the function\n",
    "\n",
    "*In this section I should test is the function implemented above accurate.*"
   ]
  },
  {
   "cell_type": "markdown",
   "metadata": {},
   "source": [
    "#### Testing Accuracy\n",
    "I can test how accurate the square root returned by the function is with the below calculation:"
   ]
  },
  {
   "cell_type": "code",
   "execution_count": 4,
   "metadata": {},
   "outputs": [
    {
     "data": {
      "text/plain": [
       "2.0000000000006786"
      ]
     },
     "execution_count": 4,
     "metadata": {},
     "output_type": "execute_result"
    }
   ],
   "source": [
    "result * result\n",
    "# the result of the sqrt2 function is captured in a variable result\n",
    "# multiplying result by result to see how accurate the answer is"
   ]
  },
  {
   "cell_type": "markdown",
   "metadata": {},
   "source": [
    "The result shows the square root returned by the function is reasonably accurate. I remind myself here that my initial research told me the decimal expansion of a square root can only be calculated to a precision. I am satisifed this function works well and I just now need to figure out how to have the output formatted to 100 decimal places."
   ]
  },
  {
   "cell_type": "markdown",
   "metadata": {},
   "source": [
    "#### Compare result to result calculated by Python math module\n",
    "\n",
    "*In this section I import the math module from Python to test if the result of calculating the square root of 2 is the same as my algorithm.*\n",
    "\n",
    "There is a sqrt function within the math module that can be used to calculate the square root of a given number [8]."
   ]
  },
  {
   "cell_type": "code",
   "execution_count": 5,
   "metadata": {},
   "outputs": [
    {
     "name": "stdout",
     "output_type": "stream",
     "text": [
      "The square root of 2 according to the math module is: 1.4142135623730951\n",
      "And rounded to 100 decimal places:\n"
     ]
    },
    {
     "data": {
      "text/plain": [
       "'1.4142135623730951454746218587388284504413604736328125000000000000000000000000000000000000000000000000'"
      ]
     },
     "execution_count": 5,
     "metadata": {},
     "output_type": "execute_result"
    }
   ],
   "source": [
    "import math                     #math module imported\n",
    "sqr = math.sqrt(2)                # 2 passed in to sqrt function\n",
    "print(\"The square root of 2 according to the math module is:\" ,sqr)   \n",
    "print(\"And rounded to 100 decimal places:\")                                                         \n",
    "format(sqr,'.100f' )             #formt the answer to 100 decimal places"
   ]
  },
  {
   "cell_type": "code",
   "execution_count": 6,
   "metadata": {},
   "outputs": [
    {
     "data": {
      "text/plain": [
       "2.0000000000000004"
      ]
     },
     "execution_count": 6,
     "metadata": {},
     "output_type": "execute_result"
    }
   ],
   "source": [
    "math.sqrt(2) * math.sqrt(2)        #test the accuracy of square root\n",
    "\n",
    "# Example given in Ian Mcloughlin lecture video \"Tasks - getting started\""
   ]
  },
  {
   "cell_type": "markdown",
   "metadata": {},
   "source": [
    "**Testing Conclusion**\n",
    "\n",
    "I conclude here that the math module produces a very similiar result to the function I have implemented to calculate the square root of 2. I refer back to my research on the topic of calculating the square root of 2 that suggests it is not possible to calculate exactly the square root of 2 and that we can only produce an approximation. I conclude that the function I implemented was successful in producing a relatively accurate approximation of the square root of 2."
   ]
  },
  {
   "cell_type": "markdown",
   "metadata": {},
   "source": [
    "### 1.4 Output to requested format - 100 decimal places\n",
    "\n",
    "*In this section I need to figure out how to have the output of the function displayed to 100 decimal places.*"
   ]
  },
  {
   "cell_type": "markdown",
   "metadata": {},
   "source": [
    "I conducted some research and found a tutorial that explains how to format the number of decimal places displayed in a floating point number in Python [11]. There is a format function in Python that takes in a floating ppint number and displays it in output as a string to a given number of decimal places. I have returned to where I called my sqrt2 function above and added the format function to my print statement which successfully displayed the output to 100 decimal places.\n",
    "\n",
    "I noticed that when this is done that there are a sequence of zero's at the end of the number printed to 100 decimal places.\n",
    "\n",
    "**Why is that??**\n",
    "\n",
    "I conducted some research and found that floating point numbers are represented in computer hardware as base 2 or binary fractions. I found a detailed explanation of this in the Python documentations pages [12]. According to the Python documentation, most decimal fractions cannot be represented exactly as binary fractions. As a consequence the decimal floating point numbers we enter are only approximated by the binary floating point numbers actually stored on the computer. \n",
    "\n",
    "**Accuracy to 53 bits**\n",
    "\n",
    "Acccording to the documentation most machines today approximate floats to 53 bits using a binary fraction. Many users are unaware of this becaue of the way values are displayed. Python only prints an approximation of the true decimal value of the binary approximation stored by the machine [12]. I was unaware of this and this is a learning for me from completing this assignment.\n"
   ]
  },
  {
   "cell_type": "markdown",
   "metadata": {},
   "source": [
    "#### Increasing the accuracy of decimal representation in Python"
   ]
  },
  {
   "cell_type": "markdown",
   "metadata": {},
   "source": [
    "While researching having the output of my function printed to 100 decimal places I found a StackOverFlow post [9] that shows to use the Decimal module within Python to increase the accuracy of the decimal representation. I am not permitted to import any modules or libraries in order to fulfill this task but I thought it would be worthy of a mention as I found it interesting. I have included the code below:"
   ]
  },
  {
   "cell_type": "code",
   "execution_count": 7,
   "metadata": {},
   "outputs": [
    {
     "name": "stdout",
     "output_type": "stream",
     "text": [
      "The square root of 2 made accurate to 100 decimal places using the imported Decimal library is:\n"
     ]
    },
    {
     "data": {
      "text/plain": [
       "Decimal('1.414213562373095048801688724209698078569671875376948073176679737990732478462107038850387534327641573')"
      ]
     },
     "execution_count": 7,
     "metadata": {},
     "output_type": "execute_result"
    }
   ],
   "source": [
    "# code from stackoverflow post on increasing the accuracy of decimal numbers in Python [8]\n",
    "from decimal import *\n",
    "getcontext().prec = 100\n",
    "print(\"The square root of 2 made accurate to 100 decimal places using the imported Decimal library is:\")\n",
    "Decimal(2).sqrt()"
   ]
  },
  {
   "cell_type": "markdown",
   "metadata": {},
   "source": [
    "Further information on the Decimal module can be found at the Python Standard Library documentation [10]."
   ]
  },
  {
   "cell_type": "markdown",
   "metadata": {},
   "source": [
    "### Task 1 - Conclusion & Learnings \n",
    "\n",
    "*I have listed below some of the concluding points and some of the learnings I have taken from this task.*"
   ]
  },
  {
   "cell_type": "markdown",
   "metadata": {},
   "source": [
    "* The square root of 2 is irrational. The decimal expansion of the square root of 2 cannot be calculated to a precision. \n",
    "* Newton's method can be used to calculate an approximation for the square root of 2.\n",
    "* Newton's method works by starting at an assigned starting value (seed) and iterating over a set of steps until the closest approximation is reached.\n",
    "* I implemented Newton's method in this notebook to calculate the square root of 2. \n",
    "* I tested the accuracy of the result by comparing to the result returned by the sqrt function in the Python math module. \n",
    "* I researched how to have the the output displayed to 100 decimal places.\n",
    "* After displaying the output to 100 decimal places I noticed all the zero's at the end and did some further investigation.\n",
    "* I learnt that floating point numbers are represented in computer hardware as base 2 or binary fractions. Python approximates decimal expansion to 53 bits as a result of this.\n",
    "* Through my research I learnt the Decimal module in Python is one way that the accuracy of decimal representation can be increased. I included a section on this in the notebook."
   ]
  },
  {
   "cell_type": "markdown",
   "metadata": {},
   "source": [
    "### 1.5 - Task 1 - References"
   ]
  },
  {
   "cell_type": "markdown",
   "metadata": {},
   "source": [
    "[1] Wikipedia; Methods of Computing square roots; https://en.wikipedia.org/wiki/Methods_of_computing_square_roots\n",
    "\n",
    "[2] Learonline@GMIT; The square root of 2; https://learnonline.gmit.ie/mod/url/view.php?id=92021\n",
    "\n",
    "[3] Medium.com; How to Calculate the Square Root of a Number? — Newton-Raphson Method; https://medium.com/@surajregmi/how-to-calculate-the-square-root-of-a-number-newton-raphson-method-f8007714f64\n",
    "\n",
    "[4] Mathematical Python; Newton's Method; https://www.math.ubc.ca/~pwalls/math-python/roots-optimization/newton/\n",
    "\n",
    "[5] Wikipedia; Newton's method; https://en.wikipedia.org/wiki/Newton%27s_method\n",
    "\n",
    "[6] Computing Skillset; Newton's method explained; https://computingskillset.com/solving-equations/the-newton-raphson-method-explained-details-pictures-python-code/\n",
    "\n",
    "[7] math.mit; Square roots via Newton's Method; https://math.mit.edu/~stevenj/18.335/newton-sqrt.pdf\n",
    "\n",
    "[8]Python math documentation: https://docs.python.org/3/library/math.html\n",
    "\n",
    "[9]Stackoverflow; How can I show an irrational number to 100 decimal places in Python?; https://stackoverflow.com/questions/4733173/how-can-i-show-an-irrational-number-to-100-decimal-places-in-python?noredirect=1&lq=1\n",
    "\n",
    "[10] Python Decimal Library; Python - How to increase the accuracy of decimals; https://docs.python.org/3/library/decimal.html\n",
    "\n",
    "[11] Hands on Python Tutorial; 1.14 Decimals, Floats and floating point arithmetic; http://anh.cs.luc.edu/python/hands-on/3.1/handsonHtml/float.html\n",
    "\n",
    "[12] Python documentation; 15. Floating point artithmetic: Issues and limitations; https://docs.python.org/3/tutorial/floatingpoint.html\n",
    "\n",
    "**mathjax and markdown references:**\n",
    "\n",
    "* mathjax; documentation pages; http://docs.mathjax.org/en/latest/\n",
    "\n",
    "* Github; Mastering Markdown; https://guides.github.com/features/mastering-markdown/"
   ]
  },
  {
   "cell_type": "markdown",
   "metadata": {},
   "source": [
    "***"
   ]
  },
  {
   "cell_type": "markdown",
   "metadata": {},
   "source": [
    "## Task 2"
   ]
  },
  {
   "cell_type": "markdown",
   "metadata": {},
   "source": [
    "2. November 2nd, 2020: The Chi-squared test for independence is a statistical\n",
    "hypothesis test like a t-test. It is used to analyse whether two categorical variables\n",
    "are independent. The Wikipedia article gives the table below as an example [4],\n",
    "stating the Chi-squared value based on it is approximately 24.6. Use scipy.stats\n",
    "to verify this value and calculate the associated p value. You should include a short\n",
    "note with references justifying your analysis in a markdown cell."
   ]
  },
  {
   "cell_type": "markdown",
   "metadata": {},
   "source": [
    "### 2.1 Introduction\n",
    "\n",
    "The task has been assigned and I have been given a link to the Wikipedia page on Chi-squared tests [1] as a starting point. The result of an analysis of the table has been given to me  with a Chi-squared value of 24.6.\n",
    "\n",
    "**Plan to complete task**\n",
    "\n",
    "* Provide some background information on this contigency table of data\n",
    "* Research how a Chi-squared test is done using scipy.stats \n",
    "* Conduct a Chi-squared test on this table of data using scipy.stats in this notebook\n",
    "* Verify the Chi-squared value provided of 24.6 is the same result that I get\n",
    "* Calculate the p value \n",
    "* Analyse the result \n",
    "* Compile a list of references \n",
    "\n",
    "I have inserted an image of the table below from the Wikipedia page [1] using the IPython.display image class that I read about in a blog post [2]."
   ]
  },
  {
   "cell_type": "code",
   "execution_count": 8,
   "metadata": {},
   "outputs": [
    {
     "data": {
      "image/png": "[encoded data removed]",
      "text/plain": [
       "<IPython.core.display.Image object>"
      ]
     },
     "execution_count": 8,
     "metadata": {
      "image/png": {
       "height": 300,
       "width": 600
      }
     },
     "output_type": "execute_result"
    }
   ],
   "source": [
    "# Import the Ipython.display image class as per blog post [2]\n",
    "from IPython.display import Image\n",
    "\n",
    "# Image loaded from img folder in this repository\n",
    "Image(filename = \"img/Chi-squared.PNG\", width = 600, height = 300)"
   ]
  },
  {
   "cell_type": "markdown",
   "metadata": {},
   "source": [
    "#### Contingency table explained\n",
    "\n",
    "In the case of this task I have been provided a contingency table of data. A contingency table is a type of table in a matrix that displays the frequency distribution of variables. They provide a picture of the interrelation between two variables [5].\n",
    "\n",
    "In the example contingeny table shown above [1] that I will work with in this task there are four neighbourhoods - A, B, C and D in a city with a population of 1,000,000 people. A random sample of 650 residents is taken and their occupation has been recorded into 3 categories - white collar, blue collar and no collar.\n",
    "\n",
    "There are 2 categorical variables in this data set:\n",
    "\n",
    "* neighbourhood\n",
    "* occupation\n",
    "\n",
    "The null hypothesis is that each person's neighbourhood is independent of their occupation.\n",
    "\n",
    "**Null hypothesis**\n",
    "\n",
    "In inferential statistics the null hypothesis is a general statement or default position that there is no difference between two measured phenomena or that two samples derive from the same general population [3]. In the case of the contingency table of data in this task the null hypothesis is that categorical variables neighbourhood and occupation are independent of each other.\n",
    "\n",
    "I have been tasked with verifying using Scipy.stats that the Chi-squared value of this contingency table of data is approximately 24.6 and also to calculate the associated p-value.\n",
    "\n",
    "### What is a Chi-squared test?\n",
    "\n",
    "A Chi-squared test is a statistical hypothesis that is valid to perform when the test statistic is chi-squared distributed under the null hypothesis [1].\n",
    "\n",
    "Pearson's chi-squared test is used to determine whether there is a statistically signifigant difference between the expected frequencies and the observed frequencies in one or more categories of a contingency table [1]. In the case of this task, is there a difference between the frequency of occupations recorded per neighbourhood in the contingency table of data compared to what you would expect to see based on the null hypothesis that each person's neighbourhood is indepedent of their occupation.\n",
    "\n",
    "The Pearson's chi-squared statistical hypothesis is an example of a test for independence between categorical variables [6].\n",
    "\n",
    "**Chi-Squared test in summary**\n",
    "\n",
    "* Categorical variables can be summarised using a contingency table. \n",
    "* The chi-squared test is a test of independence between categorical variables in a contingency table.\n",
    "* The variables are considered independent if the observed and expected frequencies are similiar.\n",
    "* A chi-squared test can be used in this case to determine whether or not there is a relationship between the neighbourhood a person lives in and their occupation, or in other words do we accept or reject the null hypothesis.\n",
    "\n",
    "As part of this task I have to research how a Chi-squared test is conducted in Python using scipy.stats and verify that the Chi-squared value for the contingency table in this task is approximately 24.6 as well as calculating the p-value."
   ]
  },
  {
   "cell_type": "markdown",
   "metadata": {},
   "source": [
    "### 2.2 Chi-squared test in Python\n",
    "\n",
    "Scipy.stats is a Python module that contains a function called chi2_contigency [7] that can be used to conduct a chi-squared test for indpendence in Python.\n",
    "\n",
    "This function computes the chi-square statistic and p-value for the hypothesis test of independence of the observed frequencies in the contingency table observed [7].\n",
    "\n",
    "The function takes an array as input representing the contingency table for the two categorical variables. It returns the calculated statistic and p-value for interpretation as well as the calculated degrees of freedom and table of expected frequencies [6].\n",
    "\n",
    "According to the scipy.stats.chi2_contigency documentation [7] the following are return values from a Chi-square test in scipy.stats:\n",
    "\n",
    "**chi2 : float**\n",
    "\n",
    "The Chi-squared value represented as a floating point number.\n",
    "\n",
    "**p : float**\n",
    "\n",
    "The p-value represented as a floating point number.\n",
    "\n",
    "**dof : int**\n",
    "\n",
    "Degrees of freedom represented as an integer. \n",
    "\n",
    "**expected : ndarray (same shape as observed)**\n",
    "\n",
    "An array containing the expected frequencies based on the marginal sums of the table.\n",
    "\n",
    "I will try to conduct a Chi-squared test using scipy.stats first and then later examine the results."
   ]
  },
  {
   "cell_type": "markdown",
   "metadata": {},
   "source": [
    "#### scipy.stats.chi2_contingency test on the contingency table in this task\n",
    "\n",
    "I read various references when researching how to conduct the Chi-squared test, in the end I used a combination of the example shown in the scipy.stats documentation page [7] and an example on the GeeksforGeeks website [10] to produce the below code.\n",
    "\n",
    "* I imported numpy and created a 3 x 4 array containing the data in the contingency table. \n",
    "* Each sub array represents white collar, blue collar and no collar and each sub arrays has 4 values for the number of persons from each neighbourhood in each occupation category.\n",
    "* I imported the chi2_contingency function from scipy.stats in order to run the function on the numpy array that I created.\n",
    "* I printed out the return values from the chi2_contingency function in a nice format."
   ]
  },
  {
   "cell_type": "code",
   "execution_count": 16,
   "metadata": {},
   "outputs": [
    {
     "name": "stdout",
     "output_type": "stream",
     "text": [
      "Exact Chi-square value: 24.5712028585826\n",
      "\n",
      "Chi-squared value rounded to 1 decimal place: 24.6\n",
      "\n",
      "p-value: 0.0004098425861096696\n",
      "\n",
      "Degrees of freedom: 6\n",
      "\n",
      "The expected frequencies based on marginal sums of the table:\n",
      " \n",
      "[[ 80.53846154  80.53846154 107.38461538  80.53846154]\n",
      " [ 34.84615385  34.84615385  46.46153846  34.84615385]\n",
      " [ 34.61538462  34.61538462  46.15384615  34.61538462]]\n"
     ]
    }
   ],
   "source": [
    "# Adapted from examples in [7] and [10]\n",
    "# import numpy in order to create a numpy array of the data in my contingency table \n",
    "import numpy as np\n",
    "# import the chi2_contingency function from scipy stats\n",
    "from scipy.stats import chi2_contingency  \n",
    "# create a 3 x 4 numpy array, the 4 neighourhood values are contained inside 3 arrays for collar type\n",
    "data = np.array([[90, 60, 104, 95], [30, 50, 51, 20], [30, 40, 45, 35]])\n",
    "# call the chi2_contingency function on the array of data\n",
    "stat, p, dof, expected = chi2_contingency(data) \n",
    "# print the return values \n",
    "print(f\"Exact Chi-square value: {stat}\\n\")\n",
    "print(f\"Chi-squared value rounded to 1 decimal place: {stat:.1f}\\n\")\n",
    "print(f\"p-value: {p}\\n\")\n",
    "print(f\"Degrees of freedom: {dof}\\n\")\n",
    "\n",
    "print(\"The expected frequencies based on marginal sums of the table:\\n \")\n",
    "print(expected)"
   ]
  },
  {
   "cell_type": "markdown",
   "metadata": {},
   "source": [
    "#### Chi-squared value\n",
    "\n",
    "The Chi-squared value returned is 24.6 so I have successfully verified the value provided in the task specification. Next I have to look in more detail at the p-value."
   ]
  },
  {
   "cell_type": "markdown",
   "metadata": {},
   "source": [
    "### 2.3 P-Value\n",
    "\n",
    "It is common, if not standard, to interpret the results of statistical hypothesis tests using a p-value. Not all implementations of statistical tests return p-values. In some cases, you must use alternatives, such as critical values. In addition, critical values are used when estimating the expected intervals for observations from a population, such as in tolerance intervals[9]."
   ]
  },
  {
   "cell_type": "markdown",
   "metadata": {},
   "source": [
    "### Task 2 - References \n",
    "\n",
    "[1] Wikipedia; Chi-Squared test; https://en.wikipedia.org/w/index.php?title=Chi-squared_test&oldid=983024096\n",
    "\n",
    "[2] Towards data science; Inserting and Resizing Images in IPython Notebook (Python and R) — One Zero Blog; https://towardsdatascience.com/adding-image-files-inside-an-ipython-notebook-python-and-r-2ba089a658b8\n",
    "\n",
    "[3] Wikipedia; Null hypothesis; https://en.wikipedia.org/wiki/Null_hypothesis\n",
    "\n",
    "[4] Wikipedia; Chi-squared distribution; https://en.wikipedia.org/wiki/Chi-squared_distribution\n",
    "\n",
    "[5] Wikipedia; Contingency tables; https://en.wikipedia.org/wiki/Contingency_table\n",
    "\n",
    "[6] Machine learning mastery; A gentle introduction to the chi-squared test for machine learning; https://machinelearningmastery.com/chi-squared-test-for-machine-learning/\n",
    "\n",
    "[7] Scipy.org; scipy.stats.chi2_contingency; https://docs.scipy.org/doc/scipy/reference/generated/scipy.stats.chi2_contingency.html\n",
    "\n",
    "[8] Medium; Handling The Chi Square in Statistics with Python; https://medium.com/@nhan.tran/the-chi-square-statistic-p3-programming-with-python-87eb079f36af\n",
    "\n",
    "[9] Medium; How to Calculate Critical Values for Statistical Hypothesis Testing with Python; https://machinelearningmastery.com/critical-values-for-statistical-hypothesis-testing/\n",
    "\n",
    "[10] GeeksforGeeks; Python – Pearson’s Chi-Square Test; https://www.geeksforgeeks.org/python-pearsons-chi-square-test/"
   ]
  },
  {
   "cell_type": "code",
   "execution_count": null,
   "metadata": {},
   "outputs": [],
   "source": []
  }
 ],
 "metadata": {
  "kernelspec": {
   "display_name": "Python 3",
   "language": "python",
   "name": "python3"
  },
  "language_info": {
   "codemirror_mode": {
    "name": "ipython",
    "version": 3
   },
   "file_extension": ".py",
   "mimetype": "text/x-python",
   "name": "python",
   "nbconvert_exporter": "python",
   "pygments_lexer": "ipython3",
   "version": "3.8.3"
  }
 },
 "nbformat": 4,
 "nbformat_minor": 4
}
